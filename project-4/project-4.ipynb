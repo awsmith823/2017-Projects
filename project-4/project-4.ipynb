{
 "cells": [
  {
   "cell_type": "markdown",
   "metadata": {},
   "source": [
    "<img src=\"http://imgur.com/1ZcRyrc.png\" style=\"float: left; margin: 15px; height: 80px\">\n",
    "\n",
    "# Project 4: Classification with Yelp, SGD, OOP"
   ]
  },
  {
   "cell_type": "markdown",
   "metadata": {},
   "source": [
    "## Yelp\n",
    "\n",
    "---\n",
    "\n",
    "In this project you will be investigating a small version of the [Yelp challenge dataset](https://www.yelp.com/dataset_challenge). You'll practice using classification algorithms, cross-validation, gridsearching – all that good stuff.\n",
    "\n",
    "---\n",
    "\n",
    "### The data\n",
    "\n",
    "There are 5 individual .csv files that have the information, zipped into .7z format like with the SF data last project. The dataset is located in your datasets folder:\n",
    "\n",
    "    DSI-SF-2/datasets/yelp_arizona_data.7z\n",
    "\n",
    "The columns in each are:\n",
    "\n",
    "    businesses_small_parsed.csv\n",
    "        business_id: unique business identifier\n",
    "        name: name of the business\n",
    "        review_count: number of reviews per business\n",
    "        city: city business resides in\n",
    "        stars: average rating\n",
    "        categories: categories the business falls into (can be one or multiple)\n",
    "        latitude\n",
    "        longitude\n",
    "        neighborhoods: neighborhoods business belongs to\n",
    "        variable: \"property\" of the business (a tag)\n",
    "        value: True/False for the property\n",
    "        \n",
    "    reviews_small_nlp_parsed.csv\n",
    "        user_id: unique user identifier\n",
    "        review_id: unique review identifier\n",
    "        votes.cool: how many thought the review was \"cool\"\n",
    "        business_id: unique business id the review is for\n",
    "        votes.funny: how many thought the review was funny\n",
    "        stars: rating given\n",
    "        date: date of review\n",
    "        votes.useful: how many thought the review was useful\n",
    "        ... 100 columns of counts of most common 2 word phrases that appear in reviews in this review\n",
    "        \n",
    "    users_small_parsed.csv\n",
    "        yelping_since: signup date\n",
    "        compliments.plain: # of compliments \"plain\"\n",
    "        review_count: # of reviews:\n",
    "        compliments.cute: total # of compliments \"cute\"\n",
    "        compliments.writer: # of compliments \"writer\"\n",
    "        compliments.note: # of compliments \"note\" (not sure what this is)\n",
    "        compliments.hot: # of compliments \"hot\" (?)\n",
    "        compliments.cool: # of compliments \"cool\"\n",
    "        compliments.profile: # of compliments \"profile\"\n",
    "        average_stars: average rating\n",
    "        compliments.more: # of compliments \"more\"\n",
    "        elite: years considered \"elite\"\n",
    "        name: user's name\n",
    "        user_id: unique user id\n",
    "        votes.cool: # of votes \"cool\"\n",
    "        compliments.list: # of compliments \"list\"\n",
    "        votes.funny: # of compliments \"funny\"\n",
    "        compliments.photos: # of compliments \"photos\"\n",
    "        compliments.funny: # of compliments \"funny\"\n",
    "        votes.useful: # of votes \"useful\"\n",
    "       \n",
    "    checkins_small_parsed.csv\n",
    "        business_id: unique business identifier\n",
    "        variable: day-time identifier of checkins (0-0 is Sunday 0:00 - 1:00am,  for example)\n",
    "        value: # of checkins at that time\n",
    "    \n",
    "    tips_small_nlp_parsed.csv\n",
    "        user_id: unique user identifier\n",
    "        business_id: unique business identifier\n",
    "        likes: likes that the tip has\n",
    "        date: date of tip\n",
    "        ... 100 columns of counts of most common 2 word phrases that appear in tips in this tip\n",
    "\n",
    "The reviews and tips datasets in particular have parsed \"NLP\" columns with counts of 2-word phrases in that review or tip (a \"tip\", it seems, is some kind of smaller review).\n",
    "\n",
    "The user dataset has a lot of columns of counts of different compliments and votes. I'm not sure whether the compliments or votes are _by_ the user or _for_ the user.\n",
    "\n",
    "---\n",
    "\n",
    "If you look at the website, or the full data, you'll see I have removed pieces of the data and cut it down quite a bit. This is to simplify it for this project. Specifically, business are limited to be in these cities:\n",
    "\n",
    "    Phoenix\n",
    "    Surprise\n",
    "    Las Vegas\n",
    "    Waterloo\n",
    "\n",
    "Apparently there is a city called \"Surprise\" in Arizona. \n",
    "\n",
    "Businesses are also restricted to at least be in one of the following categories, because I thought the mix of them was funny:\n",
    "\n",
    "    Airports\n",
    "    Breakfast & Brunch\n",
    "    Bubble Tea\n",
    "    Burgers\n",
    "    Bars\n",
    "    Bakeries\n",
    "    Breweries\n",
    "    Cafes\n",
    "    Candy Stores\n",
    "    Comedy Clubs\n",
    "    Courthouses\n",
    "    Dance Clubs\n",
    "    Fast Food\n",
    "    Museums\n",
    "    Tattoo\n",
    "    Vape Shops\n",
    "    Yoga\n",
    "    \n",
    "---\n",
    "\n",
    "### Project requirements\n",
    "\n",
    "**You will be performing 4 different sections of analysis, like in the last project.**\n",
    "\n",
    "Remember that classification targets are categorical and regression targets are continuous variables."
   ]
  },
  {
   "cell_type": "code",
   "execution_count": 240,
   "metadata": {
    "collapsed": false
   },
   "outputs": [],
   "source": [
    "import matplotlib.pyplot as plt\n",
    "import numpy as np\n",
    "import pandas as pd\n",
    "import seaborn as sns\n",
    "import scipy.stats as stats\n",
    "\n",
    "plt.style.use('fivethirtyeight')\n",
    "\n",
    "from sklearn.linear_model import LogisticRegression\n",
    "from sklearn.neighbors import KNeighborsClassifier\n",
    "from sklearn.cross_validation import cross_val_score, StratifiedKFold\n",
    "from sklearn.grid_search import GridSearchCV\n",
    "from sklearn.preprocessing import StandardScaler\n",
    "from sklearn.metrics import accuracy_score, recall_score, classification_report, roc_curve, auc\n",
    "\n",
    "from sklearn.model_selection import learning_curve\n",
    "\n",
    "from sklearn.linear_model import LinearRegression, Ridge, Lasso, RidgeCV, LassoCV, ElasticNet,ElasticNetCV\n",
    "from sklearn.cross_validation import cross_val_score, KFold, train_test_split\n",
    "\n",
    "from sklearn.tree import DecisionTreeClassifier\n",
    "from sklearn.ensemble import RandomForestClassifier, ExtraTreesClassifier, BaggingClassifier\n",
    "\n",
    "from sklearn.svm import SVC\n",
    "\n",
    "from ipywidgets import *\n",
    "from IPython.display import display\n",
    "\n",
    "%matplotlib inline\n",
    "%config InlineBackend.figure_format = 'retina'"
   ]
  },
  {
   "cell_type": "markdown",
   "metadata": {},
   "source": [
    "<img src=\"http://imgur.com/l5NasQj.png\" style=\"float: left; margin: 25px 15px 0px 0px; height: 25px\">\n",
    "\n",
    "## 1. Constructing a \"profile\" for Las Vegas\n",
    "\n",
    "---\n",
    "\n",
    "Yelp is interested in building out what they are calling \"profiles\" for cities. They want you to start with just Las Vegas to see what a prototype of this would look like. Essentially, they want to know what makes Las Vegas distinct from the other four.\n",
    "\n",
    "Use the data you have to predict Las Vegas from the other variables you have. You should not be predicting the city from any kind of location data or other data perfectly associated with that city (or another city).\n",
    "\n",
    "You may use any classification algorithm you deem appropriate, or even multiple models. You should:\n",
    "\n",
    "1. Build at least one model predicting Las Vegas vs. the other cities.\n",
    "- Validate your model(s).\n",
    "- Interpret and visualize, in some way, the results.\n",
    "- Write up a \"profile\" for Las Vegas. This should be a writeup converting your findings from the model(s) into a human-readable description of the city."
   ]
  },
  {
   "cell_type": "code",
   "execution_count": 2,
   "metadata": {
    "collapsed": false
   },
   "outputs": [],
   "source": [
    "# Importing Data as pandas DataFrames\n",
    "business = pd.read_csv('~/Desktop/DSI-SF-5/datasets/yelp_arizona_data/businesses_small_parsed.csv')\n",
    "checkins = pd.read_csv('~/Desktop/DSI-SF-5/datasets/yelp_arizona_data/checkins_small_parsed.csv')\n",
    "reviews = pd.read_csv('~/Desktop/DSI-SF-5/datasets/yelp_arizona_data/reviews_small_nlp_parsed.csv')\n",
    "tips = pd.read_csv('~/Desktop/DSI-SF-5/datasets/yelp_arizona_data/tips_small_nlp_parsed.csv')\n",
    "users = pd.read_csv('~/Desktop/DSI-SF-5/datasets/yelp_arizona_data/users_small_parsed.csv')"
   ]
  },
  {
   "cell_type": "code",
   "execution_count": 4,
   "metadata": {
    "collapsed": false
   },
   "outputs": [
    {
     "name": "stdout",
     "output_type": "stream",
     "text": [
      "businss DF shape:\n",
      "(152832, 11)\n",
      "\n",
      "business DF columns:\n",
      "Index([u'business_id', u'name', u'review_count', u'city', u'stars',\n",
      "       u'categories', u'latitude', u'longitude', u'neighborhoods', u'variable',\n",
      "       u'value'],\n",
      "      dtype='object')\n"
     ]
    },
    {
     "data": {
      "text/html": [
       "<div>\n",
       "<table border=\"1\" class=\"dataframe\">\n",
       "  <thead>\n",
       "    <tr style=\"text-align: right;\">\n",
       "      <th></th>\n",
       "      <th>0</th>\n",
       "      <th>1</th>\n",
       "      <th>2</th>\n",
       "    </tr>\n",
       "  </thead>\n",
       "  <tbody>\n",
       "    <tr>\n",
       "      <th>business_id</th>\n",
       "      <td>EmzaQR5hQlF0WIl24NxAZA</td>\n",
       "      <td>SiwN7f0N4bs4ZtPc4yPgiA</td>\n",
       "      <td>e5kc0CQ4R-PCCDgb274gSg</td>\n",
       "    </tr>\n",
       "    <tr>\n",
       "      <th>name</th>\n",
       "      <td>Sky Lounge</td>\n",
       "      <td>Palazzo</td>\n",
       "      <td>Canyon Cafe</td>\n",
       "    </tr>\n",
       "    <tr>\n",
       "      <th>review_count</th>\n",
       "      <td>25</td>\n",
       "      <td>19</td>\n",
       "      <td>238</td>\n",
       "    </tr>\n",
       "    <tr>\n",
       "      <th>city</th>\n",
       "      <td>Phoenix</td>\n",
       "      <td>Phoenix</td>\n",
       "      <td>Phoenix</td>\n",
       "    </tr>\n",
       "    <tr>\n",
       "      <th>stars</th>\n",
       "      <td>2.5</td>\n",
       "      <td>3</td>\n",
       "      <td>3.5</td>\n",
       "    </tr>\n",
       "    <tr>\n",
       "      <th>categories</th>\n",
       "      <td>['American (New)', 'Nightlife', 'Dance Clubs',...</td>\n",
       "      <td>['Bars', 'Nightlife', 'Dance Clubs']</td>\n",
       "      <td>['Cafes', 'Mexican', 'Tex-Mex', 'Restaurants']</td>\n",
       "    </tr>\n",
       "    <tr>\n",
       "      <th>latitude</th>\n",
       "      <td>33.4484</td>\n",
       "      <td>33.4559</td>\n",
       "      <td>33.4522</td>\n",
       "    </tr>\n",
       "    <tr>\n",
       "      <th>longitude</th>\n",
       "      <td>-112.072</td>\n",
       "      <td>-112.074</td>\n",
       "      <td>-112.069</td>\n",
       "    </tr>\n",
       "    <tr>\n",
       "      <th>neighborhoods</th>\n",
       "      <td>[]</td>\n",
       "      <td>[]</td>\n",
       "      <td>[]</td>\n",
       "    </tr>\n",
       "    <tr>\n",
       "      <th>variable</th>\n",
       "      <td>attributes.Ambience.divey</td>\n",
       "      <td>attributes.Ambience.divey</td>\n",
       "      <td>attributes.Ambience.divey</td>\n",
       "    </tr>\n",
       "    <tr>\n",
       "      <th>value</th>\n",
       "      <td>False</td>\n",
       "      <td>False</td>\n",
       "      <td>False</td>\n",
       "    </tr>\n",
       "  </tbody>\n",
       "</table>\n",
       "</div>"
      ],
      "text/plain": [
       "                                                               0  \\\n",
       "business_id                               EmzaQR5hQlF0WIl24NxAZA   \n",
       "name                                                  Sky Lounge   \n",
       "review_count                                                  25   \n",
       "city                                                     Phoenix   \n",
       "stars                                                        2.5   \n",
       "categories     ['American (New)', 'Nightlife', 'Dance Clubs',...   \n",
       "latitude                                                 33.4484   \n",
       "longitude                                               -112.072   \n",
       "neighborhoods                                                 []   \n",
       "variable                               attributes.Ambience.divey   \n",
       "value                                                      False   \n",
       "\n",
       "                                                  1  \\\n",
       "business_id                  SiwN7f0N4bs4ZtPc4yPgiA   \n",
       "name                                        Palazzo   \n",
       "review_count                                     19   \n",
       "city                                        Phoenix   \n",
       "stars                                             3   \n",
       "categories     ['Bars', 'Nightlife', 'Dance Clubs']   \n",
       "latitude                                    33.4559   \n",
       "longitude                                  -112.074   \n",
       "neighborhoods                                    []   \n",
       "variable                  attributes.Ambience.divey   \n",
       "value                                         False   \n",
       "\n",
       "                                                            2  \n",
       "business_id                            e5kc0CQ4R-PCCDgb274gSg  \n",
       "name                                              Canyon Cafe  \n",
       "review_count                                              238  \n",
       "city                                                  Phoenix  \n",
       "stars                                                     3.5  \n",
       "categories     ['Cafes', 'Mexican', 'Tex-Mex', 'Restaurants']  \n",
       "latitude                                              33.4522  \n",
       "longitude                                            -112.069  \n",
       "neighborhoods                                              []  \n",
       "variable                            attributes.Ambience.divey  \n",
       "value                                                   False  "
      ]
     },
     "execution_count": 4,
     "metadata": {},
     "output_type": "execute_result"
    }
   ],
   "source": [
    "print 'businss DF shape:\\n', business.shape\n",
    "print\n",
    "print 'business DF columns:\\n', business.columns\n",
    "\n",
    "business.head(3).T"
   ]
  },
  {
   "cell_type": "code",
   "execution_count": 5,
   "metadata": {
    "collapsed": false
   },
   "outputs": [],
   "source": [
    "categories = business.categories.apply(eval)\n",
    "business_copy = business.copy()\n",
    "business_copy['categories'] = categories\n",
    "#unique_categories = set(list(itertools.chain(*categories.tolist())))"
   ]
  },
  {
   "cell_type": "code",
   "execution_count": 6,
   "metadata": {
    "collapsed": false
   },
   "outputs": [
    {
     "data": {
      "text/html": [
       "<div>\n",
       "<table border=\"1\" class=\"dataframe\">\n",
       "  <thead>\n",
       "    <tr style=\"text-align: right;\">\n",
       "      <th></th>\n",
       "      <th>0</th>\n",
       "      <th>1</th>\n",
       "      <th>2</th>\n",
       "    </tr>\n",
       "  </thead>\n",
       "  <tbody>\n",
       "    <tr>\n",
       "      <th>business_id</th>\n",
       "      <td>EmzaQR5hQlF0WIl24NxAZA</td>\n",
       "      <td>SiwN7f0N4bs4ZtPc4yPgiA</td>\n",
       "      <td>e5kc0CQ4R-PCCDgb274gSg</td>\n",
       "    </tr>\n",
       "    <tr>\n",
       "      <th>name</th>\n",
       "      <td>Sky Lounge</td>\n",
       "      <td>Palazzo</td>\n",
       "      <td>Canyon Cafe</td>\n",
       "    </tr>\n",
       "    <tr>\n",
       "      <th>review_count</th>\n",
       "      <td>25</td>\n",
       "      <td>19</td>\n",
       "      <td>238</td>\n",
       "    </tr>\n",
       "    <tr>\n",
       "      <th>city</th>\n",
       "      <td>Phoenix</td>\n",
       "      <td>Phoenix</td>\n",
       "      <td>Phoenix</td>\n",
       "    </tr>\n",
       "    <tr>\n",
       "      <th>stars</th>\n",
       "      <td>2.5</td>\n",
       "      <td>3</td>\n",
       "      <td>3.5</td>\n",
       "    </tr>\n",
       "    <tr>\n",
       "      <th>categories</th>\n",
       "      <td>[American (New), Nightlife, Dance Clubs, Resta...</td>\n",
       "      <td>[Bars, Nightlife, Dance Clubs]</td>\n",
       "      <td>[Cafes, Mexican, Tex-Mex, Restaurants]</td>\n",
       "    </tr>\n",
       "    <tr>\n",
       "      <th>latitude</th>\n",
       "      <td>33.4484</td>\n",
       "      <td>33.4559</td>\n",
       "      <td>33.4522</td>\n",
       "    </tr>\n",
       "    <tr>\n",
       "      <th>longitude</th>\n",
       "      <td>-112.072</td>\n",
       "      <td>-112.074</td>\n",
       "      <td>-112.069</td>\n",
       "    </tr>\n",
       "    <tr>\n",
       "      <th>neighborhoods</th>\n",
       "      <td>[]</td>\n",
       "      <td>[]</td>\n",
       "      <td>[]</td>\n",
       "    </tr>\n",
       "    <tr>\n",
       "      <th>variable</th>\n",
       "      <td>attributes.Ambience.divey</td>\n",
       "      <td>attributes.Ambience.divey</td>\n",
       "      <td>attributes.Ambience.divey</td>\n",
       "    </tr>\n",
       "    <tr>\n",
       "      <th>value</th>\n",
       "      <td>False</td>\n",
       "      <td>False</td>\n",
       "      <td>False</td>\n",
       "    </tr>\n",
       "  </tbody>\n",
       "</table>\n",
       "</div>"
      ],
      "text/plain": [
       "                                                               0  \\\n",
       "business_id                               EmzaQR5hQlF0WIl24NxAZA   \n",
       "name                                                  Sky Lounge   \n",
       "review_count                                                  25   \n",
       "city                                                     Phoenix   \n",
       "stars                                                        2.5   \n",
       "categories     [American (New), Nightlife, Dance Clubs, Resta...   \n",
       "latitude                                                 33.4484   \n",
       "longitude                                               -112.072   \n",
       "neighborhoods                                                 []   \n",
       "variable                               attributes.Ambience.divey   \n",
       "value                                                      False   \n",
       "\n",
       "                                            1  \\\n",
       "business_id            SiwN7f0N4bs4ZtPc4yPgiA   \n",
       "name                                  Palazzo   \n",
       "review_count                               19   \n",
       "city                                  Phoenix   \n",
       "stars                                       3   \n",
       "categories     [Bars, Nightlife, Dance Clubs]   \n",
       "latitude                              33.4559   \n",
       "longitude                            -112.074   \n",
       "neighborhoods                              []   \n",
       "variable            attributes.Ambience.divey   \n",
       "value                                   False   \n",
       "\n",
       "                                                    2  \n",
       "business_id                    e5kc0CQ4R-PCCDgb274gSg  \n",
       "name                                      Canyon Cafe  \n",
       "review_count                                      238  \n",
       "city                                          Phoenix  \n",
       "stars                                             3.5  \n",
       "categories     [Cafes, Mexican, Tex-Mex, Restaurants]  \n",
       "latitude                                      33.4522  \n",
       "longitude                                    -112.069  \n",
       "neighborhoods                                      []  \n",
       "variable                    attributes.Ambience.divey  \n",
       "value                                           False  "
      ]
     },
     "execution_count": 6,
     "metadata": {},
     "output_type": "execute_result"
    }
   ],
   "source": [
    "business_copy.head(3).T"
   ]
  },
  {
   "cell_type": "code",
   "execution_count": 7,
   "metadata": {
    "collapsed": false
   },
   "outputs": [],
   "source": [
    "# PivotTable: Converting long format to wide\n",
    "business_data = pd.pivot_table(business_copy, values='value', index=['business_id'], \n",
    "                               columns=['variable'], aggfunc=np.sum).reset_index()"
   ]
  },
  {
   "cell_type": "code",
   "execution_count": 8,
   "metadata": {
    "collapsed": false
   },
   "outputs": [
    {
     "data": {
      "text/html": [
       "<div>\n",
       "<table border=\"1\" class=\"dataframe\">\n",
       "  <thead>\n",
       "    <tr style=\"text-align: right;\">\n",
       "      <th>variable</th>\n",
       "      <th>business_id</th>\n",
       "      <th>attributes.Accepts Credit Cards</th>\n",
       "      <th>attributes.Accepts Insurance</th>\n",
       "      <th>attributes.Ages Allowed</th>\n",
       "      <th>attributes.Alcohol</th>\n",
       "      <th>attributes.Ambience.casual</th>\n",
       "      <th>attributes.Ambience.classy</th>\n",
       "      <th>attributes.Ambience.divey</th>\n",
       "      <th>attributes.Ambience.hipster</th>\n",
       "      <th>attributes.Ambience.intimate</th>\n",
       "      <th>...</th>\n",
       "      <th>hours.Saturday.open</th>\n",
       "      <th>hours.Sunday.close</th>\n",
       "      <th>hours.Sunday.open</th>\n",
       "      <th>hours.Thursday.close</th>\n",
       "      <th>hours.Thursday.open</th>\n",
       "      <th>hours.Tuesday.close</th>\n",
       "      <th>hours.Tuesday.open</th>\n",
       "      <th>hours.Wednesday.close</th>\n",
       "      <th>hours.Wednesday.open</th>\n",
       "      <th>open</th>\n",
       "    </tr>\n",
       "  </thead>\n",
       "  <tbody>\n",
       "    <tr>\n",
       "      <th>0</th>\n",
       "      <td>--jFTZmywe7StuZ2hEjxyA</td>\n",
       "      <td>True</td>\n",
       "      <td>None</td>\n",
       "      <td>None</td>\n",
       "      <td>none</td>\n",
       "      <td>None</td>\n",
       "      <td>None</td>\n",
       "      <td>None</td>\n",
       "      <td>None</td>\n",
       "      <td>None</td>\n",
       "      <td>...</td>\n",
       "      <td>None</td>\n",
       "      <td>None</td>\n",
       "      <td>None</td>\n",
       "      <td>None</td>\n",
       "      <td>None</td>\n",
       "      <td>None</td>\n",
       "      <td>None</td>\n",
       "      <td>None</td>\n",
       "      <td>None</td>\n",
       "      <td>True</td>\n",
       "    </tr>\n",
       "    <tr>\n",
       "      <th>1</th>\n",
       "      <td>-0HGqwlfw3I8nkJyMHxAsQ</td>\n",
       "      <td>True</td>\n",
       "      <td>None</td>\n",
       "      <td>None</td>\n",
       "      <td>none</td>\n",
       "      <td>None</td>\n",
       "      <td>None</td>\n",
       "      <td>None</td>\n",
       "      <td>None</td>\n",
       "      <td>None</td>\n",
       "      <td>...</td>\n",
       "      <td>None</td>\n",
       "      <td>None</td>\n",
       "      <td>None</td>\n",
       "      <td>None</td>\n",
       "      <td>None</td>\n",
       "      <td>None</td>\n",
       "      <td>None</td>\n",
       "      <td>None</td>\n",
       "      <td>None</td>\n",
       "      <td>True</td>\n",
       "    </tr>\n",
       "    <tr>\n",
       "      <th>2</th>\n",
       "      <td>-0VK5Z1BfUHUYq4PoBYNLw</td>\n",
       "      <td>True</td>\n",
       "      <td>None</td>\n",
       "      <td>None</td>\n",
       "      <td>full_bar</td>\n",
       "      <td>True</td>\n",
       "      <td>False</td>\n",
       "      <td>False</td>\n",
       "      <td>False</td>\n",
       "      <td>False</td>\n",
       "      <td>...</td>\n",
       "      <td>None</td>\n",
       "      <td>None</td>\n",
       "      <td>None</td>\n",
       "      <td>None</td>\n",
       "      <td>None</td>\n",
       "      <td>None</td>\n",
       "      <td>None</td>\n",
       "      <td>None</td>\n",
       "      <td>None</td>\n",
       "      <td>True</td>\n",
       "    </tr>\n",
       "    <tr>\n",
       "      <th>3</th>\n",
       "      <td>-0bUDim5OGuv8R0Qqq6J4A</td>\n",
       "      <td>True</td>\n",
       "      <td>None</td>\n",
       "      <td>None</td>\n",
       "      <td>None</td>\n",
       "      <td>None</td>\n",
       "      <td>None</td>\n",
       "      <td>None</td>\n",
       "      <td>None</td>\n",
       "      <td>None</td>\n",
       "      <td>...</td>\n",
       "      <td>None</td>\n",
       "      <td>None</td>\n",
       "      <td>None</td>\n",
       "      <td>None</td>\n",
       "      <td>None</td>\n",
       "      <td>None</td>\n",
       "      <td>None</td>\n",
       "      <td>None</td>\n",
       "      <td>None</td>\n",
       "      <td>False</td>\n",
       "    </tr>\n",
       "    <tr>\n",
       "      <th>4</th>\n",
       "      <td>-1bOb2izeJBZjHC7NWxiPA</td>\n",
       "      <td>True</td>\n",
       "      <td>None</td>\n",
       "      <td>None</td>\n",
       "      <td>none</td>\n",
       "      <td>True</td>\n",
       "      <td>False</td>\n",
       "      <td>False</td>\n",
       "      <td>False</td>\n",
       "      <td>False</td>\n",
       "      <td>...</td>\n",
       "      <td>06:30</td>\n",
       "      <td>14:30</td>\n",
       "      <td>06:30</td>\n",
       "      <td>14:30</td>\n",
       "      <td>06:30</td>\n",
       "      <td>14:30</td>\n",
       "      <td>06:30</td>\n",
       "      <td>14:30</td>\n",
       "      <td>06:30</td>\n",
       "      <td>True</td>\n",
       "    </tr>\n",
       "  </tbody>\n",
       "</table>\n",
       "<p>5 rows × 79 columns</p>\n",
       "</div>"
      ],
      "text/plain": [
       "variable             business_id attributes.Accepts Credit Cards  \\\n",
       "0         --jFTZmywe7StuZ2hEjxyA                            True   \n",
       "1         -0HGqwlfw3I8nkJyMHxAsQ                            True   \n",
       "2         -0VK5Z1BfUHUYq4PoBYNLw                            True   \n",
       "3         -0bUDim5OGuv8R0Qqq6J4A                            True   \n",
       "4         -1bOb2izeJBZjHC7NWxiPA                            True   \n",
       "\n",
       "variable attributes.Accepts Insurance attributes.Ages Allowed  \\\n",
       "0                                None                    None   \n",
       "1                                None                    None   \n",
       "2                                None                    None   \n",
       "3                                None                    None   \n",
       "4                                None                    None   \n",
       "\n",
       "variable attributes.Alcohol attributes.Ambience.casual  \\\n",
       "0                      none                       None   \n",
       "1                      none                       None   \n",
       "2                  full_bar                       True   \n",
       "3                      None                       None   \n",
       "4                      none                       True   \n",
       "\n",
       "variable attributes.Ambience.classy attributes.Ambience.divey  \\\n",
       "0                              None                      None   \n",
       "1                              None                      None   \n",
       "2                             False                     False   \n",
       "3                              None                      None   \n",
       "4                             False                     False   \n",
       "\n",
       "variable attributes.Ambience.hipster attributes.Ambience.intimate  ...    \\\n",
       "0                               None                         None  ...     \n",
       "1                               None                         None  ...     \n",
       "2                              False                        False  ...     \n",
       "3                               None                         None  ...     \n",
       "4                              False                        False  ...     \n",
       "\n",
       "variable hours.Saturday.open hours.Sunday.close hours.Sunday.open  \\\n",
       "0                       None               None              None   \n",
       "1                       None               None              None   \n",
       "2                       None               None              None   \n",
       "3                       None               None              None   \n",
       "4                      06:30              14:30             06:30   \n",
       "\n",
       "variable hours.Thursday.close hours.Thursday.open hours.Tuesday.close  \\\n",
       "0                        None                None                None   \n",
       "1                        None                None                None   \n",
       "2                        None                None                None   \n",
       "3                        None                None                None   \n",
       "4                       14:30               06:30               14:30   \n",
       "\n",
       "variable hours.Tuesday.open hours.Wednesday.close hours.Wednesday.open   open  \n",
       "0                      None                  None                 None   True  \n",
       "1                      None                  None                 None   True  \n",
       "2                      None                  None                 None   True  \n",
       "3                      None                  None                 None  False  \n",
       "4                     06:30                 14:30                06:30   True  \n",
       "\n",
       "[5 rows x 79 columns]"
      ]
     },
     "execution_count": 8,
     "metadata": {},
     "output_type": "execute_result"
    }
   ],
   "source": [
    "business_data.head()"
   ]
  },
  {
   "cell_type": "code",
   "execution_count": 20,
   "metadata": {
    "collapsed": false
   },
   "outputs": [],
   "source": [
    "# Filling None values with False\n",
    "business_data.fillna(False, inplace = True)"
   ]
  },
  {
   "cell_type": "code",
   "execution_count": 21,
   "metadata": {
    "collapsed": false
   },
   "outputs": [
    {
     "data": {
      "text/plain": [
       "(4132, 79)"
      ]
     },
     "execution_count": 21,
     "metadata": {},
     "output_type": "execute_result"
    }
   ],
   "source": [
    "# Shape of DataFrame\n",
    "business_data.shape"
   ]
  },
  {
   "cell_type": "code",
   "execution_count": 22,
   "metadata": {
    "collapsed": false
   },
   "outputs": [],
   "source": [
    "chars = [' ', '/', '.', '-']\n",
    "\n",
    "for char in chars:\n",
    "    business_data.columns = [x.strip().lower().replace(char, '_') for x in business_data.columns]"
   ]
  },
  {
   "cell_type": "code",
   "execution_count": 23,
   "metadata": {
    "collapsed": false
   },
   "outputs": [],
   "source": [
    "# function to calculate hours of operation\n",
    "def hours_operation(argument):\n",
    "    if not argument[0]:\n",
    "        return False\n",
    "    else:\n",
    "        store_open = int(argument[0][:2])\n",
    "        store_close = int(argument[1][:2])\n",
    "        if store_close < store_open:\n",
    "            store_close += 24\n",
    "        return store_close - store_open # if negative put 24\n",
    "\n",
    "    \n",
    "# Zip hours of operation for a given day\n",
    "pref = 'hours_'\n",
    "sufx_o = '_open'\n",
    "sufx_c = '_close'\n",
    "days = ['monday', 'tuesday', 'wednesday', 'thursday', 'friday', 'saturday', 'sunday']\n",
    "\n",
    "\n",
    "for d in days:\n",
    "    # Zip close and open hours to one column\n",
    "    business_data[pref+d] = zip(business_data[pref+d+sufx_o] , business_data[pref+d+sufx_c])\n",
    "    # Take difference of hours\n",
    "    business_data[pref+d] = business_data[pref+d].apply(hours_operation) \n",
    "    # Replace False to zeros\n",
    "    business_data[pref+d] = business_data[pref+d].replace(False, 0)\n",
    "    # Drop hour open and hour close column\n",
    "    business_data.drop(pref+d+sufx_o, axis=1, inplace=True)\n",
    "    business_data.drop(pref+d+sufx_c, axis=1, inplace=True)"
   ]
  },
  {
   "cell_type": "code",
   "execution_count": 24,
   "metadata": {
    "collapsed": false
   },
   "outputs": [],
   "source": [
    "# Cleaning True False columns\n",
    "business_data[business_data.columns[1:-7]] = business_data[business_data.columns[1:-7]].replace(['True', 'yes', 'False', 'no'], [True, True, False, False])\n",
    "\n",
    "# Cleaning wifi col\n",
    "business_data['attributes_wi_fi'].replace([False, 'paid', 'free'], [0, 1, 2], inplace=True)\n",
    "\n",
    "# Cleaning Smoking col\n",
    "business_data.attributes_smoking.replace(['outdoor'], [True], inplace=True)\n",
    "\n",
    "# Cleaning Price Range col\n",
    "business_data.attributes_price_range = business_data.attributes_price_range.astype(float)\n",
    "\n",
    "# Clean noise level col\n",
    "business_data.attributes_noise_level.replace([False, 'quiet', 'average', 'loud', 'very_loud'], [0, 0, 1, 2, 3], inplace=True)"
   ]
  },
  {
   "cell_type": "code",
   "execution_count": 25,
   "metadata": {
    "collapsed": false
   },
   "outputs": [
    {
     "data": {
      "text/plain": [
       "(4132, 72)"
      ]
     },
     "execution_count": 25,
     "metadata": {},
     "output_type": "execute_result"
    }
   ],
   "source": [
    "business_data.shape"
   ]
  },
  {
   "cell_type": "code",
   "execution_count": 26,
   "metadata": {
    "collapsed": false
   },
   "outputs": [
    {
     "name": "stdout",
     "output_type": "stream",
     "text": [
      "<class 'pandas.core.frame.DataFrame'>\n",
      "RangeIndex: 4132 entries, 0 to 4131\n",
      "Data columns (total 72 columns):\n",
      "business_id                                    4132 non-null object\n",
      "attributes_accepts_credit_cards                4132 non-null bool\n",
      "attributes_accepts_insurance                   4132 non-null bool\n",
      "attributes_ages_allowed                        4132 non-null object\n",
      "attributes_alcohol                             4132 non-null object\n",
      "attributes_ambience_casual                     4132 non-null bool\n",
      "attributes_ambience_classy                     4132 non-null bool\n",
      "attributes_ambience_divey                      4132 non-null bool\n",
      "attributes_ambience_hipster                    4132 non-null bool\n",
      "attributes_ambience_intimate                   4132 non-null bool\n",
      "attributes_ambience_romantic                   4132 non-null bool\n",
      "attributes_ambience_touristy                   4132 non-null bool\n",
      "attributes_ambience_trendy                     4132 non-null bool\n",
      "attributes_ambience_upscale                    4132 non-null bool\n",
      "attributes_attire                              4132 non-null object\n",
      "attributes_byob                                4132 non-null bool\n",
      "attributes_byob_corkage                        4132 non-null object\n",
      "attributes_by_appointment_only                 4132 non-null bool\n",
      "attributes_caters                              4132 non-null bool\n",
      "attributes_coat_check                          4132 non-null bool\n",
      "attributes_corkage                             4132 non-null bool\n",
      "attributes_delivery                            4132 non-null bool\n",
      "attributes_dietary_restrictions_dairy_free     4132 non-null bool\n",
      "attributes_dietary_restrictions_gluten_free    4132 non-null bool\n",
      "attributes_dietary_restrictions_halal          4132 non-null bool\n",
      "attributes_dietary_restrictions_kosher         4132 non-null bool\n",
      "attributes_dietary_restrictions_soy_free       4132 non-null bool\n",
      "attributes_dietary_restrictions_vegan          4132 non-null bool\n",
      "attributes_dietary_restrictions_vegetarian     4132 non-null bool\n",
      "attributes_dogs_allowed                        4132 non-null bool\n",
      "attributes_drive_thru                          4132 non-null bool\n",
      "attributes_good_for_dancing                    4132 non-null bool\n",
      "attributes_good_for_groups                     4132 non-null bool\n",
      "attributes_good_for_breakfast                  4132 non-null bool\n",
      "attributes_good_for_brunch                     4132 non-null bool\n",
      "attributes_good_for_dessert                    4132 non-null bool\n",
      "attributes_good_for_dinner                     4132 non-null bool\n",
      "attributes_good_for_latenight                  4132 non-null bool\n",
      "attributes_good_for_lunch                      4132 non-null bool\n",
      "attributes_good_for_kids                       4132 non-null bool\n",
      "attributes_happy_hour                          4132 non-null bool\n",
      "attributes_has_tv                              4132 non-null bool\n",
      "attributes_music_background_music              4132 non-null bool\n",
      "attributes_music_dj                            4132 non-null bool\n",
      "attributes_music_jukebox                       4132 non-null bool\n",
      "attributes_music_karaoke                       4132 non-null bool\n",
      "attributes_music_live                          4132 non-null bool\n",
      "attributes_music_video                         4132 non-null bool\n",
      "attributes_noise_level                         4132 non-null int64\n",
      "attributes_open_24_hours                       4132 non-null bool\n",
      "attributes_order_at_counter                    4132 non-null bool\n",
      "attributes_outdoor_seating                     4132 non-null bool\n",
      "attributes_parking_garage                      4132 non-null bool\n",
      "attributes_parking_lot                         4132 non-null bool\n",
      "attributes_parking_street                      4132 non-null bool\n",
      "attributes_parking_valet                       4132 non-null bool\n",
      "attributes_parking_validated                   4132 non-null bool\n",
      "attributes_price_range                         4132 non-null float64\n",
      "attributes_smoking                             4132 non-null bool\n",
      "attributes_take_out                            4132 non-null bool\n",
      "attributes_takes_reservations                  4132 non-null bool\n",
      "attributes_waiter_service                      4132 non-null bool\n",
      "attributes_wheelchair_accessible               4132 non-null bool\n",
      "attributes_wi_fi                               4132 non-null int64\n",
      "open                                           4132 non-null bool\n",
      "hours_monday                                   4132 non-null int64\n",
      "hours_tuesday                                  4132 non-null int64\n",
      "hours_wednesday                                4132 non-null int64\n",
      "hours_thursday                                 4132 non-null int64\n",
      "hours_friday                                   4132 non-null int64\n",
      "hours_saturday                                 4132 non-null int64\n",
      "hours_sunday                                   4132 non-null int64\n",
      "dtypes: bool(57), float64(1), int64(9), object(5)\n",
      "memory usage: 714.3+ KB\n"
     ]
    }
   ],
   "source": [
    "business_data.info()"
   ]
  },
  {
   "cell_type": "code",
   "execution_count": 27,
   "metadata": {
    "collapsed": false
   },
   "outputs": [
    {
     "data": {
      "text/html": [
       "<div>\n",
       "<table border=\"1\" class=\"dataframe\">\n",
       "  <thead>\n",
       "    <tr style=\"text-align: right;\">\n",
       "      <th></th>\n",
       "      <th>business_id</th>\n",
       "      <th>attributes_accepts_credit_cards</th>\n",
       "      <th>attributes_accepts_insurance</th>\n",
       "      <th>attributes_ages_allowed</th>\n",
       "      <th>attributes_alcohol</th>\n",
       "      <th>attributes_ambience_casual</th>\n",
       "      <th>attributes_ambience_classy</th>\n",
       "      <th>attributes_ambience_divey</th>\n",
       "      <th>attributes_ambience_hipster</th>\n",
       "      <th>attributes_ambience_intimate</th>\n",
       "      <th>...</th>\n",
       "      <th>attributes_wheelchair_accessible</th>\n",
       "      <th>attributes_wi_fi</th>\n",
       "      <th>open</th>\n",
       "      <th>hours_monday</th>\n",
       "      <th>hours_tuesday</th>\n",
       "      <th>hours_wednesday</th>\n",
       "      <th>hours_thursday</th>\n",
       "      <th>hours_friday</th>\n",
       "      <th>hours_saturday</th>\n",
       "      <th>hours_sunday</th>\n",
       "    </tr>\n",
       "  </thead>\n",
       "  <tbody>\n",
       "    <tr>\n",
       "      <th>0</th>\n",
       "      <td>--jFTZmywe7StuZ2hEjxyA</td>\n",
       "      <td>True</td>\n",
       "      <td>False</td>\n",
       "      <td>False</td>\n",
       "      <td>none</td>\n",
       "      <td>False</td>\n",
       "      <td>False</td>\n",
       "      <td>False</td>\n",
       "      <td>False</td>\n",
       "      <td>False</td>\n",
       "      <td>...</td>\n",
       "      <td>False</td>\n",
       "      <td>0</td>\n",
       "      <td>True</td>\n",
       "      <td>0</td>\n",
       "      <td>0</td>\n",
       "      <td>0</td>\n",
       "      <td>0</td>\n",
       "      <td>0</td>\n",
       "      <td>0</td>\n",
       "      <td>0</td>\n",
       "    </tr>\n",
       "    <tr>\n",
       "      <th>1</th>\n",
       "      <td>-0HGqwlfw3I8nkJyMHxAsQ</td>\n",
       "      <td>True</td>\n",
       "      <td>False</td>\n",
       "      <td>False</td>\n",
       "      <td>none</td>\n",
       "      <td>False</td>\n",
       "      <td>False</td>\n",
       "      <td>False</td>\n",
       "      <td>False</td>\n",
       "      <td>False</td>\n",
       "      <td>...</td>\n",
       "      <td>False</td>\n",
       "      <td>2</td>\n",
       "      <td>True</td>\n",
       "      <td>0</td>\n",
       "      <td>0</td>\n",
       "      <td>0</td>\n",
       "      <td>0</td>\n",
       "      <td>0</td>\n",
       "      <td>0</td>\n",
       "      <td>0</td>\n",
       "    </tr>\n",
       "    <tr>\n",
       "      <th>2</th>\n",
       "      <td>-0VK5Z1BfUHUYq4PoBYNLw</td>\n",
       "      <td>True</td>\n",
       "      <td>False</td>\n",
       "      <td>False</td>\n",
       "      <td>full_bar</td>\n",
       "      <td>True</td>\n",
       "      <td>False</td>\n",
       "      <td>False</td>\n",
       "      <td>False</td>\n",
       "      <td>False</td>\n",
       "      <td>...</td>\n",
       "      <td>False</td>\n",
       "      <td>0</td>\n",
       "      <td>True</td>\n",
       "      <td>0</td>\n",
       "      <td>0</td>\n",
       "      <td>0</td>\n",
       "      <td>0</td>\n",
       "      <td>0</td>\n",
       "      <td>0</td>\n",
       "      <td>0</td>\n",
       "    </tr>\n",
       "    <tr>\n",
       "      <th>3</th>\n",
       "      <td>-0bUDim5OGuv8R0Qqq6J4A</td>\n",
       "      <td>True</td>\n",
       "      <td>False</td>\n",
       "      <td>False</td>\n",
       "      <td>False</td>\n",
       "      <td>False</td>\n",
       "      <td>False</td>\n",
       "      <td>False</td>\n",
       "      <td>False</td>\n",
       "      <td>False</td>\n",
       "      <td>...</td>\n",
       "      <td>True</td>\n",
       "      <td>0</td>\n",
       "      <td>False</td>\n",
       "      <td>0</td>\n",
       "      <td>0</td>\n",
       "      <td>0</td>\n",
       "      <td>0</td>\n",
       "      <td>0</td>\n",
       "      <td>0</td>\n",
       "      <td>0</td>\n",
       "    </tr>\n",
       "    <tr>\n",
       "      <th>4</th>\n",
       "      <td>-1bOb2izeJBZjHC7NWxiPA</td>\n",
       "      <td>True</td>\n",
       "      <td>False</td>\n",
       "      <td>False</td>\n",
       "      <td>none</td>\n",
       "      <td>True</td>\n",
       "      <td>False</td>\n",
       "      <td>False</td>\n",
       "      <td>False</td>\n",
       "      <td>False</td>\n",
       "      <td>...</td>\n",
       "      <td>True</td>\n",
       "      <td>2</td>\n",
       "      <td>True</td>\n",
       "      <td>8</td>\n",
       "      <td>8</td>\n",
       "      <td>8</td>\n",
       "      <td>8</td>\n",
       "      <td>8</td>\n",
       "      <td>8</td>\n",
       "      <td>8</td>\n",
       "    </tr>\n",
       "  </tbody>\n",
       "</table>\n",
       "<p>5 rows × 72 columns</p>\n",
       "</div>"
      ],
      "text/plain": [
       "              business_id attributes_accepts_credit_cards  \\\n",
       "0  --jFTZmywe7StuZ2hEjxyA                            True   \n",
       "1  -0HGqwlfw3I8nkJyMHxAsQ                            True   \n",
       "2  -0VK5Z1BfUHUYq4PoBYNLw                            True   \n",
       "3  -0bUDim5OGuv8R0Qqq6J4A                            True   \n",
       "4  -1bOb2izeJBZjHC7NWxiPA                            True   \n",
       "\n",
       "  attributes_accepts_insurance attributes_ages_allowed attributes_alcohol  \\\n",
       "0                        False                   False               none   \n",
       "1                        False                   False               none   \n",
       "2                        False                   False           full_bar   \n",
       "3                        False                   False              False   \n",
       "4                        False                   False               none   \n",
       "\n",
       "  attributes_ambience_casual attributes_ambience_classy  \\\n",
       "0                      False                      False   \n",
       "1                      False                      False   \n",
       "2                       True                      False   \n",
       "3                      False                      False   \n",
       "4                       True                      False   \n",
       "\n",
       "  attributes_ambience_divey attributes_ambience_hipster  \\\n",
       "0                     False                       False   \n",
       "1                     False                       False   \n",
       "2                     False                       False   \n",
       "3                     False                       False   \n",
       "4                     False                       False   \n",
       "\n",
       "  attributes_ambience_intimate     ...      attributes_wheelchair_accessible  \\\n",
       "0                        False     ...                                 False   \n",
       "1                        False     ...                                 False   \n",
       "2                        False     ...                                 False   \n",
       "3                        False     ...                                  True   \n",
       "4                        False     ...                                  True   \n",
       "\n",
       "  attributes_wi_fi   open hours_monday hours_tuesday hours_wednesday  \\\n",
       "0                0   True            0             0               0   \n",
       "1                2   True            0             0               0   \n",
       "2                0   True            0             0               0   \n",
       "3                0  False            0             0               0   \n",
       "4                2   True            8             8               8   \n",
       "\n",
       "  hours_thursday hours_friday hours_saturday hours_sunday  \n",
       "0              0            0              0            0  \n",
       "1              0            0              0            0  \n",
       "2              0            0              0            0  \n",
       "3              0            0              0            0  \n",
       "4              8            8              8            8  \n",
       "\n",
       "[5 rows x 72 columns]"
      ]
     },
     "execution_count": 27,
     "metadata": {},
     "output_type": "execute_result"
    }
   ],
   "source": [
    "business_data.head()"
   ]
  },
  {
   "cell_type": "code",
   "execution_count": 28,
   "metadata": {
    "collapsed": false
   },
   "outputs": [
    {
     "data": {
      "text/plain": [
       "(4132, 72)"
      ]
     },
     "execution_count": 28,
     "metadata": {},
     "output_type": "execute_result"
    }
   ],
   "source": [
    "business_data.shape"
   ]
  },
  {
   "cell_type": "code",
   "execution_count": 29,
   "metadata": {
    "collapsed": false
   },
   "outputs": [
    {
     "data": {
      "text/plain": [
       "(152832, 11)"
      ]
     },
     "execution_count": 29,
     "metadata": {},
     "output_type": "execute_result"
    }
   ],
   "source": [
    "business_copy.shape"
   ]
  },
  {
   "cell_type": "code",
   "execution_count": 30,
   "metadata": {
    "collapsed": false
   },
   "outputs": [],
   "source": [
    "#simplified list of categories\n",
    "given_cats = ['Airports', 'Breakfast & Brunch', 'Bubble Tea', 'Burgers', 'Bars', 'Bakeries', 'Breweries',\n",
    "             'Cafes', 'Candy Stores', 'Comedy Clubs', 'Courthouses', 'Dance Clubs', 'Fast Food', \n",
    "             'Museums', 'Tattoo', 'Vape Shops', 'Yoga']\n",
    "\n",
    "    \n",
    "for cat in given_cats:\n",
    "    business_copy[cat] = business_copy['categories'].apply(lambda x: cat in x)\n",
    "    \n",
    "# Drop Categories column after extracting values\n",
    "business_copy.drop('categories', axis=1, inplace=True)\n",
    "\n",
    "business_copy.columns = [x.lower().replace(' ', '_') for x in business_copy.columns]"
   ]
  },
  {
   "cell_type": "code",
   "execution_count": 31,
   "metadata": {
    "collapsed": false
   },
   "outputs": [
    {
     "data": {
      "text/html": [
       "<div>\n",
       "<table border=\"1\" class=\"dataframe\">\n",
       "  <thead>\n",
       "    <tr style=\"text-align: right;\">\n",
       "      <th></th>\n",
       "      <th>0</th>\n",
       "      <th>1</th>\n",
       "      <th>2</th>\n",
       "    </tr>\n",
       "  </thead>\n",
       "  <tbody>\n",
       "    <tr>\n",
       "      <th>business_id</th>\n",
       "      <td>EmzaQR5hQlF0WIl24NxAZA</td>\n",
       "      <td>SiwN7f0N4bs4ZtPc4yPgiA</td>\n",
       "      <td>e5kc0CQ4R-PCCDgb274gSg</td>\n",
       "    </tr>\n",
       "    <tr>\n",
       "      <th>name</th>\n",
       "      <td>Sky Lounge</td>\n",
       "      <td>Palazzo</td>\n",
       "      <td>Canyon Cafe</td>\n",
       "    </tr>\n",
       "    <tr>\n",
       "      <th>review_count</th>\n",
       "      <td>25</td>\n",
       "      <td>19</td>\n",
       "      <td>238</td>\n",
       "    </tr>\n",
       "    <tr>\n",
       "      <th>city</th>\n",
       "      <td>Phoenix</td>\n",
       "      <td>Phoenix</td>\n",
       "      <td>Phoenix</td>\n",
       "    </tr>\n",
       "    <tr>\n",
       "      <th>stars</th>\n",
       "      <td>2.5</td>\n",
       "      <td>3</td>\n",
       "      <td>3.5</td>\n",
       "    </tr>\n",
       "    <tr>\n",
       "      <th>latitude</th>\n",
       "      <td>33.4484</td>\n",
       "      <td>33.4559</td>\n",
       "      <td>33.4522</td>\n",
       "    </tr>\n",
       "    <tr>\n",
       "      <th>longitude</th>\n",
       "      <td>-112.072</td>\n",
       "      <td>-112.074</td>\n",
       "      <td>-112.069</td>\n",
       "    </tr>\n",
       "    <tr>\n",
       "      <th>neighborhoods</th>\n",
       "      <td>[]</td>\n",
       "      <td>[]</td>\n",
       "      <td>[]</td>\n",
       "    </tr>\n",
       "    <tr>\n",
       "      <th>variable</th>\n",
       "      <td>attributes.Ambience.divey</td>\n",
       "      <td>attributes.Ambience.divey</td>\n",
       "      <td>attributes.Ambience.divey</td>\n",
       "    </tr>\n",
       "    <tr>\n",
       "      <th>value</th>\n",
       "      <td>False</td>\n",
       "      <td>False</td>\n",
       "      <td>False</td>\n",
       "    </tr>\n",
       "    <tr>\n",
       "      <th>airports</th>\n",
       "      <td>False</td>\n",
       "      <td>False</td>\n",
       "      <td>False</td>\n",
       "    </tr>\n",
       "    <tr>\n",
       "      <th>breakfast_&amp;_brunch</th>\n",
       "      <td>False</td>\n",
       "      <td>False</td>\n",
       "      <td>False</td>\n",
       "    </tr>\n",
       "    <tr>\n",
       "      <th>bubble_tea</th>\n",
       "      <td>False</td>\n",
       "      <td>False</td>\n",
       "      <td>False</td>\n",
       "    </tr>\n",
       "    <tr>\n",
       "      <th>burgers</th>\n",
       "      <td>False</td>\n",
       "      <td>False</td>\n",
       "      <td>False</td>\n",
       "    </tr>\n",
       "    <tr>\n",
       "      <th>bars</th>\n",
       "      <td>False</td>\n",
       "      <td>True</td>\n",
       "      <td>False</td>\n",
       "    </tr>\n",
       "    <tr>\n",
       "      <th>bakeries</th>\n",
       "      <td>False</td>\n",
       "      <td>False</td>\n",
       "      <td>False</td>\n",
       "    </tr>\n",
       "    <tr>\n",
       "      <th>breweries</th>\n",
       "      <td>False</td>\n",
       "      <td>False</td>\n",
       "      <td>False</td>\n",
       "    </tr>\n",
       "    <tr>\n",
       "      <th>cafes</th>\n",
       "      <td>False</td>\n",
       "      <td>False</td>\n",
       "      <td>True</td>\n",
       "    </tr>\n",
       "    <tr>\n",
       "      <th>candy_stores</th>\n",
       "      <td>False</td>\n",
       "      <td>False</td>\n",
       "      <td>False</td>\n",
       "    </tr>\n",
       "    <tr>\n",
       "      <th>comedy_clubs</th>\n",
       "      <td>False</td>\n",
       "      <td>False</td>\n",
       "      <td>False</td>\n",
       "    </tr>\n",
       "    <tr>\n",
       "      <th>courthouses</th>\n",
       "      <td>False</td>\n",
       "      <td>False</td>\n",
       "      <td>False</td>\n",
       "    </tr>\n",
       "    <tr>\n",
       "      <th>dance_clubs</th>\n",
       "      <td>True</td>\n",
       "      <td>True</td>\n",
       "      <td>False</td>\n",
       "    </tr>\n",
       "    <tr>\n",
       "      <th>fast_food</th>\n",
       "      <td>False</td>\n",
       "      <td>False</td>\n",
       "      <td>False</td>\n",
       "    </tr>\n",
       "    <tr>\n",
       "      <th>museums</th>\n",
       "      <td>False</td>\n",
       "      <td>False</td>\n",
       "      <td>False</td>\n",
       "    </tr>\n",
       "    <tr>\n",
       "      <th>tattoo</th>\n",
       "      <td>False</td>\n",
       "      <td>False</td>\n",
       "      <td>False</td>\n",
       "    </tr>\n",
       "    <tr>\n",
       "      <th>vape_shops</th>\n",
       "      <td>False</td>\n",
       "      <td>False</td>\n",
       "      <td>False</td>\n",
       "    </tr>\n",
       "    <tr>\n",
       "      <th>yoga</th>\n",
       "      <td>False</td>\n",
       "      <td>False</td>\n",
       "      <td>False</td>\n",
       "    </tr>\n",
       "  </tbody>\n",
       "</table>\n",
       "</div>"
      ],
      "text/plain": [
       "                                            0                          1  \\\n",
       "business_id            EmzaQR5hQlF0WIl24NxAZA     SiwN7f0N4bs4ZtPc4yPgiA   \n",
       "name                               Sky Lounge                    Palazzo   \n",
       "review_count                               25                         19   \n",
       "city                                  Phoenix                    Phoenix   \n",
       "stars                                     2.5                          3   \n",
       "latitude                              33.4484                    33.4559   \n",
       "longitude                            -112.072                   -112.074   \n",
       "neighborhoods                              []                         []   \n",
       "variable            attributes.Ambience.divey  attributes.Ambience.divey   \n",
       "value                                   False                      False   \n",
       "airports                                False                      False   \n",
       "breakfast_&_brunch                      False                      False   \n",
       "bubble_tea                              False                      False   \n",
       "burgers                                 False                      False   \n",
       "bars                                    False                       True   \n",
       "bakeries                                False                      False   \n",
       "breweries                               False                      False   \n",
       "cafes                                   False                      False   \n",
       "candy_stores                            False                      False   \n",
       "comedy_clubs                            False                      False   \n",
       "courthouses                             False                      False   \n",
       "dance_clubs                              True                       True   \n",
       "fast_food                               False                      False   \n",
       "museums                                 False                      False   \n",
       "tattoo                                  False                      False   \n",
       "vape_shops                              False                      False   \n",
       "yoga                                    False                      False   \n",
       "\n",
       "                                            2  \n",
       "business_id            e5kc0CQ4R-PCCDgb274gSg  \n",
       "name                              Canyon Cafe  \n",
       "review_count                              238  \n",
       "city                                  Phoenix  \n",
       "stars                                     3.5  \n",
       "latitude                              33.4522  \n",
       "longitude                            -112.069  \n",
       "neighborhoods                              []  \n",
       "variable            attributes.Ambience.divey  \n",
       "value                                   False  \n",
       "airports                                False  \n",
       "breakfast_&_brunch                      False  \n",
       "bubble_tea                              False  \n",
       "burgers                                 False  \n",
       "bars                                    False  \n",
       "bakeries                                False  \n",
       "breweries                               False  \n",
       "cafes                                    True  \n",
       "candy_stores                            False  \n",
       "comedy_clubs                            False  \n",
       "courthouses                             False  \n",
       "dance_clubs                             False  \n",
       "fast_food                               False  \n",
       "museums                                 False  \n",
       "tattoo                                  False  \n",
       "vape_shops                              False  \n",
       "yoga                                    False  "
      ]
     },
     "execution_count": 31,
     "metadata": {},
     "output_type": "execute_result"
    }
   ],
   "source": [
    "business_copy.head(3).T"
   ]
  },
  {
   "cell_type": "code",
   "execution_count": 32,
   "metadata": {
    "collapsed": false
   },
   "outputs": [],
   "source": [
    "# Merge business info\n",
    "temp = business_copy[[u'business_id', u'name', u'city', u'review_count', u'airports', u'breakfast_&_brunch', u'bubble_tea', u'burgers', u'bars',\n",
    "       u'bakeries', u'breweries', u'cafes', u'candy_stores', u'comedy_clubs',\n",
    "       u'courthouses', u'dance_clubs', u'fast_food', u'museums', u'tattoo',\n",
    "       u'vape_shops', u'yoga']].drop_duplicates(subset='business_id')\n",
    "\n",
    "business_data = pd.merge(business_data, temp.drop_duplicates(subset='business_id'), \n",
    "          left_on='business_id', right_on='business_id')"
   ]
  },
  {
   "cell_type": "code",
   "execution_count": 33,
   "metadata": {
    "collapsed": false
   },
   "outputs": [
    {
     "data": {
      "text/html": [
       "<div>\n",
       "<table border=\"1\" class=\"dataframe\">\n",
       "  <thead>\n",
       "    <tr style=\"text-align: right;\">\n",
       "      <th></th>\n",
       "      <th>business_id</th>\n",
       "      <th>attributes_accepts_credit_cards</th>\n",
       "      <th>attributes_accepts_insurance</th>\n",
       "      <th>attributes_ages_allowed</th>\n",
       "      <th>attributes_alcohol</th>\n",
       "      <th>attributes_ambience_casual</th>\n",
       "      <th>attributes_ambience_classy</th>\n",
       "      <th>attributes_ambience_divey</th>\n",
       "      <th>attributes_ambience_hipster</th>\n",
       "      <th>attributes_ambience_intimate</th>\n",
       "      <th>...</th>\n",
       "      <th>cafes</th>\n",
       "      <th>candy_stores</th>\n",
       "      <th>comedy_clubs</th>\n",
       "      <th>courthouses</th>\n",
       "      <th>dance_clubs</th>\n",
       "      <th>fast_food</th>\n",
       "      <th>museums</th>\n",
       "      <th>tattoo</th>\n",
       "      <th>vape_shops</th>\n",
       "      <th>yoga</th>\n",
       "    </tr>\n",
       "  </thead>\n",
       "  <tbody>\n",
       "    <tr>\n",
       "      <th>0</th>\n",
       "      <td>--jFTZmywe7StuZ2hEjxyA</td>\n",
       "      <td>True</td>\n",
       "      <td>False</td>\n",
       "      <td>False</td>\n",
       "      <td>none</td>\n",
       "      <td>False</td>\n",
       "      <td>False</td>\n",
       "      <td>False</td>\n",
       "      <td>False</td>\n",
       "      <td>False</td>\n",
       "      <td>...</td>\n",
       "      <td>False</td>\n",
       "      <td>False</td>\n",
       "      <td>False</td>\n",
       "      <td>False</td>\n",
       "      <td>False</td>\n",
       "      <td>True</td>\n",
       "      <td>False</td>\n",
       "      <td>False</td>\n",
       "      <td>False</td>\n",
       "      <td>False</td>\n",
       "    </tr>\n",
       "    <tr>\n",
       "      <th>1</th>\n",
       "      <td>-0HGqwlfw3I8nkJyMHxAsQ</td>\n",
       "      <td>True</td>\n",
       "      <td>False</td>\n",
       "      <td>False</td>\n",
       "      <td>none</td>\n",
       "      <td>False</td>\n",
       "      <td>False</td>\n",
       "      <td>False</td>\n",
       "      <td>False</td>\n",
       "      <td>False</td>\n",
       "      <td>...</td>\n",
       "      <td>False</td>\n",
       "      <td>False</td>\n",
       "      <td>False</td>\n",
       "      <td>False</td>\n",
       "      <td>False</td>\n",
       "      <td>True</td>\n",
       "      <td>False</td>\n",
       "      <td>False</td>\n",
       "      <td>False</td>\n",
       "      <td>False</td>\n",
       "    </tr>\n",
       "    <tr>\n",
       "      <th>2</th>\n",
       "      <td>-0VK5Z1BfUHUYq4PoBYNLw</td>\n",
       "      <td>True</td>\n",
       "      <td>False</td>\n",
       "      <td>False</td>\n",
       "      <td>full_bar</td>\n",
       "      <td>True</td>\n",
       "      <td>False</td>\n",
       "      <td>False</td>\n",
       "      <td>False</td>\n",
       "      <td>False</td>\n",
       "      <td>...</td>\n",
       "      <td>False</td>\n",
       "      <td>False</td>\n",
       "      <td>False</td>\n",
       "      <td>False</td>\n",
       "      <td>False</td>\n",
       "      <td>False</td>\n",
       "      <td>False</td>\n",
       "      <td>False</td>\n",
       "      <td>False</td>\n",
       "      <td>False</td>\n",
       "    </tr>\n",
       "    <tr>\n",
       "      <th>3</th>\n",
       "      <td>-0bUDim5OGuv8R0Qqq6J4A</td>\n",
       "      <td>True</td>\n",
       "      <td>False</td>\n",
       "      <td>False</td>\n",
       "      <td>False</td>\n",
       "      <td>False</td>\n",
       "      <td>False</td>\n",
       "      <td>False</td>\n",
       "      <td>False</td>\n",
       "      <td>False</td>\n",
       "      <td>...</td>\n",
       "      <td>False</td>\n",
       "      <td>False</td>\n",
       "      <td>False</td>\n",
       "      <td>False</td>\n",
       "      <td>False</td>\n",
       "      <td>False</td>\n",
       "      <td>False</td>\n",
       "      <td>False</td>\n",
       "      <td>False</td>\n",
       "      <td>False</td>\n",
       "    </tr>\n",
       "    <tr>\n",
       "      <th>4</th>\n",
       "      <td>-1bOb2izeJBZjHC7NWxiPA</td>\n",
       "      <td>True</td>\n",
       "      <td>False</td>\n",
       "      <td>False</td>\n",
       "      <td>none</td>\n",
       "      <td>True</td>\n",
       "      <td>False</td>\n",
       "      <td>False</td>\n",
       "      <td>False</td>\n",
       "      <td>False</td>\n",
       "      <td>...</td>\n",
       "      <td>True</td>\n",
       "      <td>False</td>\n",
       "      <td>False</td>\n",
       "      <td>False</td>\n",
       "      <td>False</td>\n",
       "      <td>False</td>\n",
       "      <td>False</td>\n",
       "      <td>False</td>\n",
       "      <td>False</td>\n",
       "      <td>False</td>\n",
       "    </tr>\n",
       "  </tbody>\n",
       "</table>\n",
       "<p>5 rows × 92 columns</p>\n",
       "</div>"
      ],
      "text/plain": [
       "              business_id attributes_accepts_credit_cards  \\\n",
       "0  --jFTZmywe7StuZ2hEjxyA                            True   \n",
       "1  -0HGqwlfw3I8nkJyMHxAsQ                            True   \n",
       "2  -0VK5Z1BfUHUYq4PoBYNLw                            True   \n",
       "3  -0bUDim5OGuv8R0Qqq6J4A                            True   \n",
       "4  -1bOb2izeJBZjHC7NWxiPA                            True   \n",
       "\n",
       "  attributes_accepts_insurance attributes_ages_allowed attributes_alcohol  \\\n",
       "0                        False                   False               none   \n",
       "1                        False                   False               none   \n",
       "2                        False                   False           full_bar   \n",
       "3                        False                   False              False   \n",
       "4                        False                   False               none   \n",
       "\n",
       "  attributes_ambience_casual attributes_ambience_classy  \\\n",
       "0                      False                      False   \n",
       "1                      False                      False   \n",
       "2                       True                      False   \n",
       "3                      False                      False   \n",
       "4                       True                      False   \n",
       "\n",
       "  attributes_ambience_divey attributes_ambience_hipster  \\\n",
       "0                     False                       False   \n",
       "1                     False                       False   \n",
       "2                     False                       False   \n",
       "3                     False                       False   \n",
       "4                     False                       False   \n",
       "\n",
       "  attributes_ambience_intimate  ...    cafes candy_stores comedy_clubs  \\\n",
       "0                        False  ...    False        False        False   \n",
       "1                        False  ...    False        False        False   \n",
       "2                        False  ...    False        False        False   \n",
       "3                        False  ...    False        False        False   \n",
       "4                        False  ...     True        False        False   \n",
       "\n",
       "  courthouses dance_clubs fast_food museums tattoo vape_shops   yoga  \n",
       "0       False       False      True   False  False      False  False  \n",
       "1       False       False      True   False  False      False  False  \n",
       "2       False       False     False   False  False      False  False  \n",
       "3       False       False     False   False  False      False  False  \n",
       "4       False       False     False   False  False      False  False  \n",
       "\n",
       "[5 rows x 92 columns]"
      ]
     },
     "execution_count": 33,
     "metadata": {},
     "output_type": "execute_result"
    }
   ],
   "source": [
    "business_data.head()"
   ]
  },
  {
   "cell_type": "code",
   "execution_count": 34,
   "metadata": {
    "collapsed": false
   },
   "outputs": [
    {
     "data": {
      "text/plain": [
       "(4132, 92)"
      ]
     },
     "execution_count": 34,
     "metadata": {},
     "output_type": "execute_result"
    }
   ],
   "source": [
    "business_data.shape"
   ]
  },
  {
   "cell_type": "markdown",
   "metadata": {},
   "source": [
    "** TIPS **"
   ]
  },
  {
   "cell_type": "code",
   "execution_count": 35,
   "metadata": {
    "collapsed": false
   },
   "outputs": [
    {
     "name": "stdout",
     "output_type": "stream",
     "text": [
      "(101991, 104) Index([u'user_id', u'business_id', u'likes', u'date', u'24_hours',\n",
      "       u'amazing_food', u'animal_style', u'awesome_food', u'awesome_place',\n",
      "       u'awesome_service',\n",
      "       ...\n",
      "       u'service_good', u'service_great', u'slow_service', u'staff_friendly',\n",
      "       u'staff_great', u'steak_eggs', u'super_friendly', u'sweet_potato',\n",
      "       u'velvet_pancakes', u'worth_wait'],\n",
      "      dtype='object', length=104)\n"
     ]
    },
    {
     "data": {
      "text/html": [
       "<div>\n",
       "<table border=\"1\" class=\"dataframe\">\n",
       "  <thead>\n",
       "    <tr style=\"text-align: right;\">\n",
       "      <th></th>\n",
       "      <th>likes</th>\n",
       "      <th>24_hours</th>\n",
       "      <th>amazing_food</th>\n",
       "      <th>animal_style</th>\n",
       "      <th>awesome_food</th>\n",
       "      <th>awesome_place</th>\n",
       "      <th>awesome_service</th>\n",
       "      <th>beef_hash</th>\n",
       "      <th>beer_selection</th>\n",
       "      <th>best_breakfast</th>\n",
       "      <th>...</th>\n",
       "      <th>service_good</th>\n",
       "      <th>service_great</th>\n",
       "      <th>slow_service</th>\n",
       "      <th>staff_friendly</th>\n",
       "      <th>staff_great</th>\n",
       "      <th>steak_eggs</th>\n",
       "      <th>super_friendly</th>\n",
       "      <th>sweet_potato</th>\n",
       "      <th>velvet_pancakes</th>\n",
       "      <th>worth_wait</th>\n",
       "    </tr>\n",
       "  </thead>\n",
       "  <tbody>\n",
       "    <tr>\n",
       "      <th>count</th>\n",
       "      <td>101991.000000</td>\n",
       "      <td>101991.000000</td>\n",
       "      <td>101991.000000</td>\n",
       "      <td>101991.000000</td>\n",
       "      <td>101991.000000</td>\n",
       "      <td>101991.000000</td>\n",
       "      <td>101991.000000</td>\n",
       "      <td>101991.000000</td>\n",
       "      <td>101991.000000</td>\n",
       "      <td>101991.000000</td>\n",
       "      <td>...</td>\n",
       "      <td>101991.000000</td>\n",
       "      <td>101991.000000</td>\n",
       "      <td>101991.000000</td>\n",
       "      <td>101991.000000</td>\n",
       "      <td>101991.000000</td>\n",
       "      <td>101991.000000</td>\n",
       "      <td>101991.000000</td>\n",
       "      <td>101991.000000</td>\n",
       "      <td>101991.000000</td>\n",
       "      <td>101991.000000</td>\n",
       "    </tr>\n",
       "    <tr>\n",
       "      <th>mean</th>\n",
       "      <td>0.015403</td>\n",
       "      <td>0.001481</td>\n",
       "      <td>0.002432</td>\n",
       "      <td>0.002128</td>\n",
       "      <td>0.002226</td>\n",
       "      <td>0.001304</td>\n",
       "      <td>0.001245</td>\n",
       "      <td>0.001245</td>\n",
       "      <td>0.002216</td>\n",
       "      <td>0.002275</td>\n",
       "      <td>...</td>\n",
       "      <td>0.002373</td>\n",
       "      <td>0.004167</td>\n",
       "      <td>0.001883</td>\n",
       "      <td>0.001549</td>\n",
       "      <td>0.001441</td>\n",
       "      <td>0.001500</td>\n",
       "      <td>0.001471</td>\n",
       "      <td>0.002549</td>\n",
       "      <td>0.002039</td>\n",
       "      <td>0.001784</td>\n",
       "    </tr>\n",
       "    <tr>\n",
       "      <th>std</th>\n",
       "      <td>0.137377</td>\n",
       "      <td>0.038449</td>\n",
       "      <td>0.049251</td>\n",
       "      <td>0.047544</td>\n",
       "      <td>0.047332</td>\n",
       "      <td>0.036088</td>\n",
       "      <td>0.035266</td>\n",
       "      <td>0.035543</td>\n",
       "      <td>0.047229</td>\n",
       "      <td>0.047640</td>\n",
       "      <td>...</td>\n",
       "      <td>0.048854</td>\n",
       "      <td>0.064570</td>\n",
       "      <td>0.043347</td>\n",
       "      <td>0.039329</td>\n",
       "      <td>0.037937</td>\n",
       "      <td>0.039206</td>\n",
       "      <td>0.038322</td>\n",
       "      <td>0.050620</td>\n",
       "      <td>0.045114</td>\n",
       "      <td>0.042206</td>\n",
       "    </tr>\n",
       "    <tr>\n",
       "      <th>min</th>\n",
       "      <td>0.000000</td>\n",
       "      <td>0.000000</td>\n",
       "      <td>0.000000</td>\n",
       "      <td>0.000000</td>\n",
       "      <td>0.000000</td>\n",
       "      <td>0.000000</td>\n",
       "      <td>0.000000</td>\n",
       "      <td>0.000000</td>\n",
       "      <td>0.000000</td>\n",
       "      <td>0.000000</td>\n",
       "      <td>...</td>\n",
       "      <td>0.000000</td>\n",
       "      <td>0.000000</td>\n",
       "      <td>0.000000</td>\n",
       "      <td>0.000000</td>\n",
       "      <td>0.000000</td>\n",
       "      <td>0.000000</td>\n",
       "      <td>0.000000</td>\n",
       "      <td>0.000000</td>\n",
       "      <td>0.000000</td>\n",
       "      <td>0.000000</td>\n",
       "    </tr>\n",
       "    <tr>\n",
       "      <th>25%</th>\n",
       "      <td>0.000000</td>\n",
       "      <td>0.000000</td>\n",
       "      <td>0.000000</td>\n",
       "      <td>0.000000</td>\n",
       "      <td>0.000000</td>\n",
       "      <td>0.000000</td>\n",
       "      <td>0.000000</td>\n",
       "      <td>0.000000</td>\n",
       "      <td>0.000000</td>\n",
       "      <td>0.000000</td>\n",
       "      <td>...</td>\n",
       "      <td>0.000000</td>\n",
       "      <td>0.000000</td>\n",
       "      <td>0.000000</td>\n",
       "      <td>0.000000</td>\n",
       "      <td>0.000000</td>\n",
       "      <td>0.000000</td>\n",
       "      <td>0.000000</td>\n",
       "      <td>0.000000</td>\n",
       "      <td>0.000000</td>\n",
       "      <td>0.000000</td>\n",
       "    </tr>\n",
       "    <tr>\n",
       "      <th>50%</th>\n",
       "      <td>0.000000</td>\n",
       "      <td>0.000000</td>\n",
       "      <td>0.000000</td>\n",
       "      <td>0.000000</td>\n",
       "      <td>0.000000</td>\n",
       "      <td>0.000000</td>\n",
       "      <td>0.000000</td>\n",
       "      <td>0.000000</td>\n",
       "      <td>0.000000</td>\n",
       "      <td>0.000000</td>\n",
       "      <td>...</td>\n",
       "      <td>0.000000</td>\n",
       "      <td>0.000000</td>\n",
       "      <td>0.000000</td>\n",
       "      <td>0.000000</td>\n",
       "      <td>0.000000</td>\n",
       "      <td>0.000000</td>\n",
       "      <td>0.000000</td>\n",
       "      <td>0.000000</td>\n",
       "      <td>0.000000</td>\n",
       "      <td>0.000000</td>\n",
       "    </tr>\n",
       "    <tr>\n",
       "      <th>75%</th>\n",
       "      <td>0.000000</td>\n",
       "      <td>0.000000</td>\n",
       "      <td>0.000000</td>\n",
       "      <td>0.000000</td>\n",
       "      <td>0.000000</td>\n",
       "      <td>0.000000</td>\n",
       "      <td>0.000000</td>\n",
       "      <td>0.000000</td>\n",
       "      <td>0.000000</td>\n",
       "      <td>0.000000</td>\n",
       "      <td>...</td>\n",
       "      <td>0.000000</td>\n",
       "      <td>0.000000</td>\n",
       "      <td>0.000000</td>\n",
       "      <td>0.000000</td>\n",
       "      <td>0.000000</td>\n",
       "      <td>0.000000</td>\n",
       "      <td>0.000000</td>\n",
       "      <td>0.000000</td>\n",
       "      <td>0.000000</td>\n",
       "      <td>0.000000</td>\n",
       "    </tr>\n",
       "    <tr>\n",
       "      <th>max</th>\n",
       "      <td>9.000000</td>\n",
       "      <td>1.000000</td>\n",
       "      <td>1.000000</td>\n",
       "      <td>2.000000</td>\n",
       "      <td>2.000000</td>\n",
       "      <td>1.000000</td>\n",
       "      <td>1.000000</td>\n",
       "      <td>2.000000</td>\n",
       "      <td>2.000000</td>\n",
       "      <td>1.000000</td>\n",
       "      <td>...</td>\n",
       "      <td>2.000000</td>\n",
       "      <td>2.000000</td>\n",
       "      <td>1.000000</td>\n",
       "      <td>1.000000</td>\n",
       "      <td>1.000000</td>\n",
       "      <td>2.000000</td>\n",
       "      <td>1.000000</td>\n",
       "      <td>2.000000</td>\n",
       "      <td>1.000000</td>\n",
       "      <td>1.000000</td>\n",
       "    </tr>\n",
       "  </tbody>\n",
       "</table>\n",
       "<p>8 rows × 101 columns</p>\n",
       "</div>"
      ],
      "text/plain": [
       "               likes       24_hours   amazing_food   animal_style  \\\n",
       "count  101991.000000  101991.000000  101991.000000  101991.000000   \n",
       "mean        0.015403       0.001481       0.002432       0.002128   \n",
       "std         0.137377       0.038449       0.049251       0.047544   \n",
       "min         0.000000       0.000000       0.000000       0.000000   \n",
       "25%         0.000000       0.000000       0.000000       0.000000   \n",
       "50%         0.000000       0.000000       0.000000       0.000000   \n",
       "75%         0.000000       0.000000       0.000000       0.000000   \n",
       "max         9.000000       1.000000       1.000000       2.000000   \n",
       "\n",
       "        awesome_food  awesome_place  awesome_service      beef_hash  \\\n",
       "count  101991.000000  101991.000000    101991.000000  101991.000000   \n",
       "mean        0.002226       0.001304         0.001245       0.001245   \n",
       "std         0.047332       0.036088         0.035266       0.035543   \n",
       "min         0.000000       0.000000         0.000000       0.000000   \n",
       "25%         0.000000       0.000000         0.000000       0.000000   \n",
       "50%         0.000000       0.000000         0.000000       0.000000   \n",
       "75%         0.000000       0.000000         0.000000       0.000000   \n",
       "max         2.000000       1.000000         1.000000       2.000000   \n",
       "\n",
       "       beer_selection  best_breakfast      ...         service_good  \\\n",
       "count   101991.000000   101991.000000      ...        101991.000000   \n",
       "mean         0.002216        0.002275      ...             0.002373   \n",
       "std          0.047229        0.047640      ...             0.048854   \n",
       "min          0.000000        0.000000      ...             0.000000   \n",
       "25%          0.000000        0.000000      ...             0.000000   \n",
       "50%          0.000000        0.000000      ...             0.000000   \n",
       "75%          0.000000        0.000000      ...             0.000000   \n",
       "max          2.000000        1.000000      ...             2.000000   \n",
       "\n",
       "       service_great   slow_service  staff_friendly    staff_great  \\\n",
       "count  101991.000000  101991.000000   101991.000000  101991.000000   \n",
       "mean        0.004167       0.001883        0.001549       0.001441   \n",
       "std         0.064570       0.043347        0.039329       0.037937   \n",
       "min         0.000000       0.000000        0.000000       0.000000   \n",
       "25%         0.000000       0.000000        0.000000       0.000000   \n",
       "50%         0.000000       0.000000        0.000000       0.000000   \n",
       "75%         0.000000       0.000000        0.000000       0.000000   \n",
       "max         2.000000       1.000000        1.000000       1.000000   \n",
       "\n",
       "          steak_eggs  super_friendly   sweet_potato  velvet_pancakes  \\\n",
       "count  101991.000000   101991.000000  101991.000000    101991.000000   \n",
       "mean        0.001500        0.001471       0.002549         0.002039   \n",
       "std         0.039206        0.038322       0.050620         0.045114   \n",
       "min         0.000000        0.000000       0.000000         0.000000   \n",
       "25%         0.000000        0.000000       0.000000         0.000000   \n",
       "50%         0.000000        0.000000       0.000000         0.000000   \n",
       "75%         0.000000        0.000000       0.000000         0.000000   \n",
       "max         2.000000        1.000000       2.000000         1.000000   \n",
       "\n",
       "          worth_wait  \n",
       "count  101991.000000  \n",
       "mean        0.001784  \n",
       "std         0.042206  \n",
       "min         0.000000  \n",
       "25%         0.000000  \n",
       "50%         0.000000  \n",
       "75%         0.000000  \n",
       "max         1.000000  \n",
       "\n",
       "[8 rows x 101 columns]"
      ]
     },
     "execution_count": 35,
     "metadata": {},
     "output_type": "execute_result"
    }
   ],
   "source": [
    "tips.columns = [x.strip().lower().replace(' ', '_') for x in tips.columns]\n",
    "print tips.shape, tips.columns\n",
    "tips.describe()"
   ]
  },
  {
   "cell_type": "code",
   "execution_count": 36,
   "metadata": {
    "collapsed": false
   },
   "outputs": [
    {
     "data": {
      "text/html": [
       "<div>\n",
       "<table border=\"1\" class=\"dataframe\">\n",
       "  <thead>\n",
       "    <tr style=\"text-align: right;\">\n",
       "      <th></th>\n",
       "      <th>user_id</th>\n",
       "      <th>business_id</th>\n",
       "      <th>likes</th>\n",
       "      <th>date</th>\n",
       "      <th>24_hours</th>\n",
       "      <th>amazing_food</th>\n",
       "      <th>animal_style</th>\n",
       "      <th>awesome_food</th>\n",
       "      <th>awesome_place</th>\n",
       "      <th>awesome_service</th>\n",
       "      <th>...</th>\n",
       "      <th>service_good</th>\n",
       "      <th>service_great</th>\n",
       "      <th>slow_service</th>\n",
       "      <th>staff_friendly</th>\n",
       "      <th>staff_great</th>\n",
       "      <th>steak_eggs</th>\n",
       "      <th>super_friendly</th>\n",
       "      <th>sweet_potato</th>\n",
       "      <th>velvet_pancakes</th>\n",
       "      <th>worth_wait</th>\n",
       "    </tr>\n",
       "  </thead>\n",
       "  <tbody>\n",
       "    <tr>\n",
       "      <th>0</th>\n",
       "      <td>trdsekNRD-gIs50EBrScwA</td>\n",
       "      <td>EmzaQR5hQlF0WIl24NxAZA</td>\n",
       "      <td>0</td>\n",
       "      <td>2012-02-27</td>\n",
       "      <td>0</td>\n",
       "      <td>0</td>\n",
       "      <td>0</td>\n",
       "      <td>0</td>\n",
       "      <td>0</td>\n",
       "      <td>0</td>\n",
       "      <td>...</td>\n",
       "      <td>0</td>\n",
       "      <td>0</td>\n",
       "      <td>0</td>\n",
       "      <td>0</td>\n",
       "      <td>0</td>\n",
       "      <td>0</td>\n",
       "      <td>0</td>\n",
       "      <td>0</td>\n",
       "      <td>0</td>\n",
       "      <td>0</td>\n",
       "    </tr>\n",
       "    <tr>\n",
       "      <th>1</th>\n",
       "      <td>liIQCDzDTnvXc7X8twBIjg</td>\n",
       "      <td>EmzaQR5hQlF0WIl24NxAZA</td>\n",
       "      <td>0</td>\n",
       "      <td>2013-04-01</td>\n",
       "      <td>0</td>\n",
       "      <td>0</td>\n",
       "      <td>0</td>\n",
       "      <td>0</td>\n",
       "      <td>0</td>\n",
       "      <td>0</td>\n",
       "      <td>...</td>\n",
       "      <td>0</td>\n",
       "      <td>0</td>\n",
       "      <td>0</td>\n",
       "      <td>0</td>\n",
       "      <td>0</td>\n",
       "      <td>0</td>\n",
       "      <td>0</td>\n",
       "      <td>0</td>\n",
       "      <td>0</td>\n",
       "      <td>0</td>\n",
       "    </tr>\n",
       "    <tr>\n",
       "      <th>2</th>\n",
       "      <td>iW1ltQqq4GWAErobLiOv9w</td>\n",
       "      <td>EmzaQR5hQlF0WIl24NxAZA</td>\n",
       "      <td>0</td>\n",
       "      <td>2013-08-18</td>\n",
       "      <td>0</td>\n",
       "      <td>0</td>\n",
       "      <td>0</td>\n",
       "      <td>0</td>\n",
       "      <td>0</td>\n",
       "      <td>0</td>\n",
       "      <td>...</td>\n",
       "      <td>0</td>\n",
       "      <td>0</td>\n",
       "      <td>0</td>\n",
       "      <td>0</td>\n",
       "      <td>0</td>\n",
       "      <td>0</td>\n",
       "      <td>0</td>\n",
       "      <td>0</td>\n",
       "      <td>0</td>\n",
       "      <td>0</td>\n",
       "    </tr>\n",
       "  </tbody>\n",
       "</table>\n",
       "<p>3 rows × 104 columns</p>\n",
       "</div>"
      ],
      "text/plain": [
       "                  user_id             business_id  likes        date  \\\n",
       "0  trdsekNRD-gIs50EBrScwA  EmzaQR5hQlF0WIl24NxAZA      0  2012-02-27   \n",
       "1  liIQCDzDTnvXc7X8twBIjg  EmzaQR5hQlF0WIl24NxAZA      0  2013-04-01   \n",
       "2  iW1ltQqq4GWAErobLiOv9w  EmzaQR5hQlF0WIl24NxAZA      0  2013-08-18   \n",
       "\n",
       "   24_hours  amazing_food  animal_style  awesome_food  awesome_place  \\\n",
       "0         0             0             0             0              0   \n",
       "1         0             0             0             0              0   \n",
       "2         0             0             0             0              0   \n",
       "\n",
       "   awesome_service     ...      service_good  service_great  slow_service  \\\n",
       "0                0     ...                 0              0             0   \n",
       "1                0     ...                 0              0             0   \n",
       "2                0     ...                 0              0             0   \n",
       "\n",
       "   staff_friendly  staff_great  steak_eggs  super_friendly  sweet_potato  \\\n",
       "0               0            0           0               0             0   \n",
       "1               0            0           0               0             0   \n",
       "2               0            0           0               0             0   \n",
       "\n",
       "   velvet_pancakes  worth_wait  \n",
       "0                0           0  \n",
       "1                0           0  \n",
       "2                0           0  \n",
       "\n",
       "[3 rows x 104 columns]"
      ]
     },
     "execution_count": 36,
     "metadata": {},
     "output_type": "execute_result"
    }
   ],
   "source": [
    "tips.head(3)"
   ]
  },
  {
   "cell_type": "code",
   "execution_count": 37,
   "metadata": {
    "collapsed": false
   },
   "outputs": [],
   "source": [
    "# Dropping Date column, don't need for now\n",
    "tips.drop('date', axis=1, inplace=True)"
   ]
  },
  {
   "cell_type": "code",
   "execution_count": 38,
   "metadata": {
    "collapsed": false
   },
   "outputs": [],
   "source": [
    "#Aggregating business_id by sum of tips\n",
    "business_tips = tips.groupby(by='business_id', axis=0)['likes'].sum().reset_index()"
   ]
  },
  {
   "cell_type": "code",
   "execution_count": 39,
   "metadata": {
    "collapsed": false
   },
   "outputs": [
    {
     "data": {
      "text/html": [
       "<div>\n",
       "<table border=\"1\" class=\"dataframe\">\n",
       "  <thead>\n",
       "    <tr style=\"text-align: right;\">\n",
       "      <th></th>\n",
       "      <th>business_id</th>\n",
       "      <th>likes</th>\n",
       "    </tr>\n",
       "  </thead>\n",
       "  <tbody>\n",
       "    <tr>\n",
       "      <th>0</th>\n",
       "      <td>--jFTZmywe7StuZ2hEjxyA</td>\n",
       "      <td>0</td>\n",
       "    </tr>\n",
       "    <tr>\n",
       "      <th>1</th>\n",
       "      <td>-0HGqwlfw3I8nkJyMHxAsQ</td>\n",
       "      <td>0</td>\n",
       "    </tr>\n",
       "    <tr>\n",
       "      <th>2</th>\n",
       "      <td>-0VK5Z1BfUHUYq4PoBYNLw</td>\n",
       "      <td>0</td>\n",
       "    </tr>\n",
       "    <tr>\n",
       "      <th>3</th>\n",
       "      <td>-0bUDim5OGuv8R0Qqq6J4A</td>\n",
       "      <td>0</td>\n",
       "    </tr>\n",
       "    <tr>\n",
       "      <th>4</th>\n",
       "      <td>-1bOb2izeJBZjHC7NWxiPA</td>\n",
       "      <td>0</td>\n",
       "    </tr>\n",
       "  </tbody>\n",
       "</table>\n",
       "</div>"
      ],
      "text/plain": [
       "              business_id  likes\n",
       "0  --jFTZmywe7StuZ2hEjxyA      0\n",
       "1  -0HGqwlfw3I8nkJyMHxAsQ      0\n",
       "2  -0VK5Z1BfUHUYq4PoBYNLw      0\n",
       "3  -0bUDim5OGuv8R0Qqq6J4A      0\n",
       "4  -1bOb2izeJBZjHC7NWxiPA      0"
      ]
     },
     "execution_count": 39,
     "metadata": {},
     "output_type": "execute_result"
    }
   ],
   "source": [
    "business_tips.head()"
   ]
  },
  {
   "cell_type": "code",
   "execution_count": 40,
   "metadata": {
    "collapsed": false
   },
   "outputs": [
    {
     "data": {
      "text/plain": [
       "(3752, 2)"
      ]
     },
     "execution_count": 40,
     "metadata": {},
     "output_type": "execute_result"
    }
   ],
   "source": [
    "business_tips.shape"
   ]
  },
  {
   "cell_type": "markdown",
   "metadata": {},
   "source": [
    "** REVIEWS **"
   ]
  },
  {
   "cell_type": "code",
   "execution_count": 41,
   "metadata": {
    "collapsed": false
   },
   "outputs": [
    {
     "name": "stdout",
     "output_type": "stream",
     "text": [
      "Index([u'user_id', u'review_id', u'votes_cool', u'business_id', u'votes_funny',\n",
      "       u'stars', u'date', u'votes_useful', u'10_minutes', u'15_minutes',\n",
      "       ...\n",
      "       u'service_great', u'staff_friendly', u'super_friendly', u'sweet_potato',\n",
      "       u'tasted_like', u'time_vegas', u'try_place', u've_seen', u've_tried',\n",
      "       u'wait_staff'],\n",
      "      dtype='object', length=108) (322398, 108)\n"
     ]
    },
    {
     "data": {
      "text/html": [
       "<div>\n",
       "<table border=\"1\" class=\"dataframe\">\n",
       "  <thead>\n",
       "    <tr style=\"text-align: right;\">\n",
       "      <th></th>\n",
       "      <th>user_id</th>\n",
       "      <th>review_id</th>\n",
       "      <th>votes_cool</th>\n",
       "      <th>business_id</th>\n",
       "      <th>votes_funny</th>\n",
       "      <th>stars</th>\n",
       "      <th>date</th>\n",
       "      <th>votes_useful</th>\n",
       "      <th>10_minutes</th>\n",
       "      <th>15_minutes</th>\n",
       "      <th>...</th>\n",
       "      <th>service_great</th>\n",
       "      <th>staff_friendly</th>\n",
       "      <th>super_friendly</th>\n",
       "      <th>sweet_potato</th>\n",
       "      <th>tasted_like</th>\n",
       "      <th>time_vegas</th>\n",
       "      <th>try_place</th>\n",
       "      <th>ve_seen</th>\n",
       "      <th>ve_tried</th>\n",
       "      <th>wait_staff</th>\n",
       "    </tr>\n",
       "  </thead>\n",
       "  <tbody>\n",
       "    <tr>\n",
       "      <th>0</th>\n",
       "      <td>o_LCYay4uo5N4eq3U5pbrQ</td>\n",
       "      <td>biEOCicjWlibF26pNLvhcw</td>\n",
       "      <td>0</td>\n",
       "      <td>EmzaQR5hQlF0WIl24NxAZA</td>\n",
       "      <td>0</td>\n",
       "      <td>3</td>\n",
       "      <td>2007-09-14</td>\n",
       "      <td>1</td>\n",
       "      <td>0</td>\n",
       "      <td>0</td>\n",
       "      <td>...</td>\n",
       "      <td>0</td>\n",
       "      <td>0</td>\n",
       "      <td>0</td>\n",
       "      <td>0</td>\n",
       "      <td>0</td>\n",
       "      <td>0</td>\n",
       "      <td>0</td>\n",
       "      <td>0</td>\n",
       "      <td>0</td>\n",
       "      <td>0</td>\n",
       "    </tr>\n",
       "    <tr>\n",
       "      <th>1</th>\n",
       "      <td>sEWeeq41k4ohBz4jS_iGRw</td>\n",
       "      <td>tOhOHUAS7XJch7a_HW5Csw</td>\n",
       "      <td>3</td>\n",
       "      <td>EmzaQR5hQlF0WIl24NxAZA</td>\n",
       "      <td>12</td>\n",
       "      <td>2</td>\n",
       "      <td>2008-04-21</td>\n",
       "      <td>3</td>\n",
       "      <td>0</td>\n",
       "      <td>0</td>\n",
       "      <td>...</td>\n",
       "      <td>0</td>\n",
       "      <td>0</td>\n",
       "      <td>0</td>\n",
       "      <td>0</td>\n",
       "      <td>0</td>\n",
       "      <td>0</td>\n",
       "      <td>0</td>\n",
       "      <td>0</td>\n",
       "      <td>0</td>\n",
       "      <td>0</td>\n",
       "    </tr>\n",
       "    <tr>\n",
       "      <th>2</th>\n",
       "      <td>1AqEqmmVHgYCuzcMrF4h2g</td>\n",
       "      <td>2aGafu-x7onydGoDgDfeQQ</td>\n",
       "      <td>0</td>\n",
       "      <td>EmzaQR5hQlF0WIl24NxAZA</td>\n",
       "      <td>2</td>\n",
       "      <td>2</td>\n",
       "      <td>2009-11-16</td>\n",
       "      <td>0</td>\n",
       "      <td>0</td>\n",
       "      <td>0</td>\n",
       "      <td>...</td>\n",
       "      <td>0</td>\n",
       "      <td>0</td>\n",
       "      <td>0</td>\n",
       "      <td>0</td>\n",
       "      <td>0</td>\n",
       "      <td>0</td>\n",
       "      <td>0</td>\n",
       "      <td>0</td>\n",
       "      <td>0</td>\n",
       "      <td>0</td>\n",
       "    </tr>\n",
       "    <tr>\n",
       "      <th>3</th>\n",
       "      <td>pv82zTlB5Txsu2Pusu__FA</td>\n",
       "      <td>CY4SWiYcUZTWS_T_cGaGPA</td>\n",
       "      <td>4</td>\n",
       "      <td>EmzaQR5hQlF0WIl24NxAZA</td>\n",
       "      <td>9</td>\n",
       "      <td>2</td>\n",
       "      <td>2010-08-16</td>\n",
       "      <td>6</td>\n",
       "      <td>0</td>\n",
       "      <td>0</td>\n",
       "      <td>...</td>\n",
       "      <td>0</td>\n",
       "      <td>0</td>\n",
       "      <td>0</td>\n",
       "      <td>0</td>\n",
       "      <td>0</td>\n",
       "      <td>0</td>\n",
       "      <td>0</td>\n",
       "      <td>0</td>\n",
       "      <td>0</td>\n",
       "      <td>0</td>\n",
       "    </tr>\n",
       "    <tr>\n",
       "      <th>4</th>\n",
       "      <td>jlr3OBS1_Y3Lqa-H3-FR1g</td>\n",
       "      <td>VCKytaG-_YkxmQosH4E0jw</td>\n",
       "      <td>0</td>\n",
       "      <td>EmzaQR5hQlF0WIl24NxAZA</td>\n",
       "      <td>1</td>\n",
       "      <td>4</td>\n",
       "      <td>2010-12-04</td>\n",
       "      <td>0</td>\n",
       "      <td>0</td>\n",
       "      <td>0</td>\n",
       "      <td>...</td>\n",
       "      <td>0</td>\n",
       "      <td>0</td>\n",
       "      <td>0</td>\n",
       "      <td>0</td>\n",
       "      <td>0</td>\n",
       "      <td>0</td>\n",
       "      <td>0</td>\n",
       "      <td>0</td>\n",
       "      <td>0</td>\n",
       "      <td>0</td>\n",
       "    </tr>\n",
       "  </tbody>\n",
       "</table>\n",
       "<p>5 rows × 108 columns</p>\n",
       "</div>"
      ],
      "text/plain": [
       "                  user_id               review_id  votes_cool  \\\n",
       "0  o_LCYay4uo5N4eq3U5pbrQ  biEOCicjWlibF26pNLvhcw           0   \n",
       "1  sEWeeq41k4ohBz4jS_iGRw  tOhOHUAS7XJch7a_HW5Csw           3   \n",
       "2  1AqEqmmVHgYCuzcMrF4h2g  2aGafu-x7onydGoDgDfeQQ           0   \n",
       "3  pv82zTlB5Txsu2Pusu__FA  CY4SWiYcUZTWS_T_cGaGPA           4   \n",
       "4  jlr3OBS1_Y3Lqa-H3-FR1g  VCKytaG-_YkxmQosH4E0jw           0   \n",
       "\n",
       "              business_id  votes_funny  stars        date  votes_useful  \\\n",
       "0  EmzaQR5hQlF0WIl24NxAZA            0      3  2007-09-14             1   \n",
       "1  EmzaQR5hQlF0WIl24NxAZA           12      2  2008-04-21             3   \n",
       "2  EmzaQR5hQlF0WIl24NxAZA            2      2  2009-11-16             0   \n",
       "3  EmzaQR5hQlF0WIl24NxAZA            9      2  2010-08-16             6   \n",
       "4  EmzaQR5hQlF0WIl24NxAZA            1      4  2010-12-04             0   \n",
       "\n",
       "   10_minutes  15_minutes     ...      service_great  staff_friendly  \\\n",
       "0           0           0     ...                  0               0   \n",
       "1           0           0     ...                  0               0   \n",
       "2           0           0     ...                  0               0   \n",
       "3           0           0     ...                  0               0   \n",
       "4           0           0     ...                  0               0   \n",
       "\n",
       "   super_friendly  sweet_potato  tasted_like  time_vegas  try_place  ve_seen  \\\n",
       "0               0             0            0           0          0        0   \n",
       "1               0             0            0           0          0        0   \n",
       "2               0             0            0           0          0        0   \n",
       "3               0             0            0           0          0        0   \n",
       "4               0             0            0           0          0        0   \n",
       "\n",
       "   ve_tried  wait_staff  \n",
       "0         0           0  \n",
       "1         0           0  \n",
       "2         0           0  \n",
       "3         0           0  \n",
       "4         0           0  \n",
       "\n",
       "[5 rows x 108 columns]"
      ]
     },
     "execution_count": 41,
     "metadata": {},
     "output_type": "execute_result"
    }
   ],
   "source": [
    "reviews.columns = [x.strip().lower().replace('.', '_') for x in reviews.columns]\n",
    "reviews.columns = [x.replace(' ', '_') for x in reviews.columns]\n",
    "print reviews.columns, reviews.shape\n",
    "reviews.head()"
   ]
  },
  {
   "cell_type": "code",
   "execution_count": 42,
   "metadata": {
    "collapsed": false
   },
   "outputs": [
    {
     "data": {
      "text/html": [
       "<div>\n",
       "<table border=\"1\" class=\"dataframe\">\n",
       "  <thead>\n",
       "    <tr style=\"text-align: right;\">\n",
       "      <th></th>\n",
       "      <th>business_id</th>\n",
       "      <th>stars</th>\n",
       "    </tr>\n",
       "  </thead>\n",
       "  <tbody>\n",
       "    <tr>\n",
       "      <th>0</th>\n",
       "      <td>--jFTZmywe7StuZ2hEjxyA</td>\n",
       "      <td>3.5</td>\n",
       "    </tr>\n",
       "    <tr>\n",
       "      <th>1</th>\n",
       "      <td>-0HGqwlfw3I8nkJyMHxAsQ</td>\n",
       "      <td>3.0</td>\n",
       "    </tr>\n",
       "    <tr>\n",
       "      <th>2</th>\n",
       "      <td>-0VK5Z1BfUHUYq4PoBYNLw</td>\n",
       "      <td>4.0</td>\n",
       "    </tr>\n",
       "    <tr>\n",
       "      <th>3</th>\n",
       "      <td>-0bUDim5OGuv8R0Qqq6J4A</td>\n",
       "      <td>2.0</td>\n",
       "    </tr>\n",
       "    <tr>\n",
       "      <th>4</th>\n",
       "      <td>-1bOb2izeJBZjHC7NWxiPA</td>\n",
       "      <td>4.0</td>\n",
       "    </tr>\n",
       "  </tbody>\n",
       "</table>\n",
       "</div>"
      ],
      "text/plain": [
       "              business_id  stars\n",
       "0  --jFTZmywe7StuZ2hEjxyA    3.5\n",
       "1  -0HGqwlfw3I8nkJyMHxAsQ    3.0\n",
       "2  -0VK5Z1BfUHUYq4PoBYNLw    4.0\n",
       "3  -0bUDim5OGuv8R0Qqq6J4A    2.0\n",
       "4  -1bOb2izeJBZjHC7NWxiPA    4.0"
      ]
     },
     "execution_count": 42,
     "metadata": {},
     "output_type": "execute_result"
    }
   ],
   "source": [
    "# Business Review Stars\n",
    "review_stars = reviews.groupby(by='business_id')['stars'].mean().reset_index()\n",
    "\n",
    "# Round Avg rating to nearest half\n",
    "review_stars.stars = review_stars.stars.apply(lambda x: round(x * 2) / 2)\n",
    "\n",
    "review_stars.head()"
   ]
  },
  {
   "cell_type": "code",
   "execution_count": 43,
   "metadata": {
    "collapsed": false
   },
   "outputs": [],
   "source": [
    "# Different Groupbys\n",
    "grouped_1 = reviews.groupby(by='business_id')[['votes_cool', 'votes_funny']].sum().reset_index()\n",
    "grouped_2 = reviews.groupby(by='business_id')[reviews.columns[7:]].sum().reset_index()  \n",
    "\n",
    "# Merge review stars with grouped_1\n",
    "merge_1 = pd.merge(review_stars, grouped_1, left_on='business_id', right_on='business_id')\n",
    "\n",
    "# Final business_review aggregate df\n",
    "business_reviews = pd.merge(merge_1, grouped_2, left_on='business_id', right_on='business_id')"
   ]
  },
  {
   "cell_type": "code",
   "execution_count": 44,
   "metadata": {
    "collapsed": false
   },
   "outputs": [
    {
     "data": {
      "text/html": [
       "<div>\n",
       "<table border=\"1\" class=\"dataframe\">\n",
       "  <thead>\n",
       "    <tr style=\"text-align: right;\">\n",
       "      <th></th>\n",
       "      <th>business_id</th>\n",
       "      <th>stars</th>\n",
       "      <th>votes_cool</th>\n",
       "      <th>votes_funny</th>\n",
       "      <th>votes_useful</th>\n",
       "      <th>10_minutes</th>\n",
       "      <th>15_minutes</th>\n",
       "      <th>20_minutes</th>\n",
       "      <th>30_minutes</th>\n",
       "      <th>bar_food</th>\n",
       "      <th>...</th>\n",
       "      <th>service_great</th>\n",
       "      <th>staff_friendly</th>\n",
       "      <th>super_friendly</th>\n",
       "      <th>sweet_potato</th>\n",
       "      <th>tasted_like</th>\n",
       "      <th>time_vegas</th>\n",
       "      <th>try_place</th>\n",
       "      <th>ve_seen</th>\n",
       "      <th>ve_tried</th>\n",
       "      <th>wait_staff</th>\n",
       "    </tr>\n",
       "  </thead>\n",
       "  <tbody>\n",
       "    <tr>\n",
       "      <th>0</th>\n",
       "      <td>--jFTZmywe7StuZ2hEjxyA</td>\n",
       "      <td>3.5</td>\n",
       "      <td>11</td>\n",
       "      <td>7</td>\n",
       "      <td>13</td>\n",
       "      <td>0</td>\n",
       "      <td>0</td>\n",
       "      <td>0</td>\n",
       "      <td>0</td>\n",
       "      <td>0</td>\n",
       "      <td>...</td>\n",
       "      <td>0</td>\n",
       "      <td>0</td>\n",
       "      <td>0</td>\n",
       "      <td>0</td>\n",
       "      <td>0</td>\n",
       "      <td>0</td>\n",
       "      <td>0</td>\n",
       "      <td>0</td>\n",
       "      <td>0</td>\n",
       "      <td>0</td>\n",
       "    </tr>\n",
       "    <tr>\n",
       "      <th>1</th>\n",
       "      <td>-0HGqwlfw3I8nkJyMHxAsQ</td>\n",
       "      <td>3.0</td>\n",
       "      <td>0</td>\n",
       "      <td>3</td>\n",
       "      <td>1</td>\n",
       "      <td>0</td>\n",
       "      <td>0</td>\n",
       "      <td>0</td>\n",
       "      <td>0</td>\n",
       "      <td>0</td>\n",
       "      <td>...</td>\n",
       "      <td>0</td>\n",
       "      <td>1</td>\n",
       "      <td>0</td>\n",
       "      <td>0</td>\n",
       "      <td>0</td>\n",
       "      <td>0</td>\n",
       "      <td>0</td>\n",
       "      <td>0</td>\n",
       "      <td>0</td>\n",
       "      <td>1</td>\n",
       "    </tr>\n",
       "    <tr>\n",
       "      <th>2</th>\n",
       "      <td>-0VK5Z1BfUHUYq4PoBYNLw</td>\n",
       "      <td>4.0</td>\n",
       "      <td>2</td>\n",
       "      <td>2</td>\n",
       "      <td>1</td>\n",
       "      <td>0</td>\n",
       "      <td>0</td>\n",
       "      <td>0</td>\n",
       "      <td>0</td>\n",
       "      <td>0</td>\n",
       "      <td>...</td>\n",
       "      <td>0</td>\n",
       "      <td>0</td>\n",
       "      <td>0</td>\n",
       "      <td>0</td>\n",
       "      <td>0</td>\n",
       "      <td>0</td>\n",
       "      <td>0</td>\n",
       "      <td>0</td>\n",
       "      <td>0</td>\n",
       "      <td>0</td>\n",
       "    </tr>\n",
       "    <tr>\n",
       "      <th>3</th>\n",
       "      <td>-0bUDim5OGuv8R0Qqq6J4A</td>\n",
       "      <td>2.0</td>\n",
       "      <td>1</td>\n",
       "      <td>2</td>\n",
       "      <td>2</td>\n",
       "      <td>0</td>\n",
       "      <td>0</td>\n",
       "      <td>0</td>\n",
       "      <td>0</td>\n",
       "      <td>0</td>\n",
       "      <td>...</td>\n",
       "      <td>0</td>\n",
       "      <td>0</td>\n",
       "      <td>0</td>\n",
       "      <td>0</td>\n",
       "      <td>0</td>\n",
       "      <td>0</td>\n",
       "      <td>0</td>\n",
       "      <td>0</td>\n",
       "      <td>0</td>\n",
       "      <td>0</td>\n",
       "    </tr>\n",
       "    <tr>\n",
       "      <th>4</th>\n",
       "      <td>-1bOb2izeJBZjHC7NWxiPA</td>\n",
       "      <td>4.0</td>\n",
       "      <td>57</td>\n",
       "      <td>39</td>\n",
       "      <td>80</td>\n",
       "      <td>0</td>\n",
       "      <td>1</td>\n",
       "      <td>0</td>\n",
       "      <td>2</td>\n",
       "      <td>0</td>\n",
       "      <td>...</td>\n",
       "      <td>3</td>\n",
       "      <td>4</td>\n",
       "      <td>3</td>\n",
       "      <td>0</td>\n",
       "      <td>2</td>\n",
       "      <td>0</td>\n",
       "      <td>0</td>\n",
       "      <td>2</td>\n",
       "      <td>0</td>\n",
       "      <td>1</td>\n",
       "    </tr>\n",
       "  </tbody>\n",
       "</table>\n",
       "<p>5 rows × 105 columns</p>\n",
       "</div>"
      ],
      "text/plain": [
       "              business_id  stars  votes_cool  votes_funny  votes_useful  \\\n",
       "0  --jFTZmywe7StuZ2hEjxyA    3.5          11            7            13   \n",
       "1  -0HGqwlfw3I8nkJyMHxAsQ    3.0           0            3             1   \n",
       "2  -0VK5Z1BfUHUYq4PoBYNLw    4.0           2            2             1   \n",
       "3  -0bUDim5OGuv8R0Qqq6J4A    2.0           1            2             2   \n",
       "4  -1bOb2izeJBZjHC7NWxiPA    4.0          57           39            80   \n",
       "\n",
       "   10_minutes  15_minutes  20_minutes  30_minutes  bar_food     ...      \\\n",
       "0           0           0           0           0         0     ...       \n",
       "1           0           0           0           0         0     ...       \n",
       "2           0           0           0           0         0     ...       \n",
       "3           0           0           0           0         0     ...       \n",
       "4           0           1           0           2         0     ...       \n",
       "\n",
       "   service_great  staff_friendly  super_friendly  sweet_potato  tasted_like  \\\n",
       "0              0               0               0             0            0   \n",
       "1              0               1               0             0            0   \n",
       "2              0               0               0             0            0   \n",
       "3              0               0               0             0            0   \n",
       "4              3               4               3             0            2   \n",
       "\n",
       "   time_vegas  try_place  ve_seen  ve_tried  wait_staff  \n",
       "0           0          0        0         0           0  \n",
       "1           0          0        0         0           1  \n",
       "2           0          0        0         0           0  \n",
       "3           0          0        0         0           0  \n",
       "4           0          0        2         0           1  \n",
       "\n",
       "[5 rows x 105 columns]"
      ]
     },
     "execution_count": 44,
     "metadata": {},
     "output_type": "execute_result"
    }
   ],
   "source": [
    "business_reviews.head()"
   ]
  },
  {
   "cell_type": "code",
   "execution_count": 45,
   "metadata": {
    "collapsed": false
   },
   "outputs": [
    {
     "data": {
      "text/plain": [
       "(4132, 105)"
      ]
     },
     "execution_count": 45,
     "metadata": {},
     "output_type": "execute_result"
    }
   ],
   "source": [
    "business_reviews.shape"
   ]
  },
  {
   "cell_type": "markdown",
   "metadata": {},
   "source": [
    "**CHECKINS**"
   ]
  },
  {
   "cell_type": "code",
   "execution_count": 116,
   "metadata": {
    "collapsed": false
   },
   "outputs": [
    {
     "data": {
      "text/html": [
       "<div>\n",
       "<table border=\"1\" class=\"dataframe\">\n",
       "  <thead>\n",
       "    <tr style=\"text-align: right;\">\n",
       "      <th></th>\n",
       "      <th>business_id</th>\n",
       "      <th>variable</th>\n",
       "      <th>value</th>\n",
       "    </tr>\n",
       "  </thead>\n",
       "  <tbody>\n",
       "    <tr>\n",
       "      <th>0</th>\n",
       "      <td>SG_gEmEXL4ID6RAEinC5Bg</td>\n",
       "      <td>checkin_info.9-0</td>\n",
       "      <td>1.0</td>\n",
       "    </tr>\n",
       "    <tr>\n",
       "      <th>1</th>\n",
       "      <td>45puCRQ6Vh_IIAy7kkfFDQ</td>\n",
       "      <td>checkin_info.9-0</td>\n",
       "      <td>1.0</td>\n",
       "    </tr>\n",
       "    <tr>\n",
       "      <th>2</th>\n",
       "      <td>P7wKlbSRsoRrfH3DFOY08A</td>\n",
       "      <td>checkin_info.9-0</td>\n",
       "      <td>1.0</td>\n",
       "    </tr>\n",
       "    <tr>\n",
       "      <th>3</th>\n",
       "      <td>qsWxbgQwuomXvMseg23DGg</td>\n",
       "      <td>checkin_info.9-0</td>\n",
       "      <td>1.0</td>\n",
       "    </tr>\n",
       "    <tr>\n",
       "      <th>4</th>\n",
       "      <td>VCQ3VvnVRhibTT8J61xWkw</td>\n",
       "      <td>checkin_info.9-0</td>\n",
       "      <td>1.0</td>\n",
       "    </tr>\n",
       "  </tbody>\n",
       "</table>\n",
       "</div>"
      ],
      "text/plain": [
       "              business_id          variable  value\n",
       "0  SG_gEmEXL4ID6RAEinC5Bg  checkin_info.9-0    1.0\n",
       "1  45puCRQ6Vh_IIAy7kkfFDQ  checkin_info.9-0    1.0\n",
       "2  P7wKlbSRsoRrfH3DFOY08A  checkin_info.9-0    1.0\n",
       "3  qsWxbgQwuomXvMseg23DGg  checkin_info.9-0    1.0\n",
       "4  VCQ3VvnVRhibTT8J61xWkw  checkin_info.9-0    1.0"
      ]
     },
     "execution_count": 116,
     "metadata": {},
     "output_type": "execute_result"
    }
   ],
   "source": [
    "checkins.head()"
   ]
  },
  {
   "cell_type": "code",
   "execution_count": 200,
   "metadata": {
    "collapsed": false
   },
   "outputs": [
    {
     "data": {
      "text/plain": [
       "(214299, 3)"
      ]
     },
     "execution_count": 200,
     "metadata": {},
     "output_type": "execute_result"
    }
   ],
   "source": [
    "checkins.shape"
   ]
  },
  {
   "cell_type": "code",
   "execution_count": 115,
   "metadata": {
    "collapsed": true
   },
   "outputs": [],
   "source": [
    "checkins_copy = checkins.pivot(index='business_id', columns='variable', values='value').reset_index()"
   ]
  },
  {
   "cell_type": "code",
   "execution_count": 201,
   "metadata": {
    "collapsed": false
   },
   "outputs": [
    {
     "data": {
      "text/plain": [
       "(3846, 173)"
      ]
     },
     "execution_count": 201,
     "metadata": {},
     "output_type": "execute_result"
    }
   ],
   "source": [
    "checkins_copy.shape"
   ]
  },
  {
   "cell_type": "code",
   "execution_count": 117,
   "metadata": {
    "collapsed": false
   },
   "outputs": [
    {
     "data": {
      "text/html": [
       "<div>\n",
       "<table border=\"1\" class=\"dataframe\">\n",
       "  <thead>\n",
       "    <tr style=\"text-align: right;\">\n",
       "      <th>variable</th>\n",
       "      <th>business_id</th>\n",
       "      <th>checkin_info.0-0</th>\n",
       "      <th>checkin_info.0-1</th>\n",
       "      <th>checkin_info.0-2</th>\n",
       "      <th>checkin_info.0-3</th>\n",
       "      <th>checkin_info.0-4</th>\n",
       "      <th>checkin_info.0-5</th>\n",
       "      <th>checkin_info.0-6</th>\n",
       "      <th>checkin_info.1-0</th>\n",
       "      <th>checkin_info.1-1</th>\n",
       "      <th>...</th>\n",
       "      <th>checkin_info.8-4</th>\n",
       "      <th>checkin_info.8-5</th>\n",
       "      <th>checkin_info.8-6</th>\n",
       "      <th>checkin_info.9-0</th>\n",
       "      <th>checkin_info.9-1</th>\n",
       "      <th>checkin_info.9-2</th>\n",
       "      <th>checkin_info.9-3</th>\n",
       "      <th>checkin_info.9-4</th>\n",
       "      <th>checkin_info.9-5</th>\n",
       "      <th>checkin_info.9-6</th>\n",
       "    </tr>\n",
       "  </thead>\n",
       "  <tbody>\n",
       "    <tr>\n",
       "      <th>0</th>\n",
       "      <td>--jFTZmywe7StuZ2hEjxyA</td>\n",
       "      <td>1.0</td>\n",
       "      <td>NaN</td>\n",
       "      <td>1.0</td>\n",
       "      <td>NaN</td>\n",
       "      <td>NaN</td>\n",
       "      <td>NaN</td>\n",
       "      <td>NaN</td>\n",
       "      <td>NaN</td>\n",
       "      <td>NaN</td>\n",
       "      <td>...</td>\n",
       "      <td>3.0</td>\n",
       "      <td>2.0</td>\n",
       "      <td>NaN</td>\n",
       "      <td>1.0</td>\n",
       "      <td>NaN</td>\n",
       "      <td>NaN</td>\n",
       "      <td>NaN</td>\n",
       "      <td>NaN</td>\n",
       "      <td>1.0</td>\n",
       "      <td>NaN</td>\n",
       "    </tr>\n",
       "    <tr>\n",
       "      <th>1</th>\n",
       "      <td>-0HGqwlfw3I8nkJyMHxAsQ</td>\n",
       "      <td>NaN</td>\n",
       "      <td>NaN</td>\n",
       "      <td>NaN</td>\n",
       "      <td>NaN</td>\n",
       "      <td>NaN</td>\n",
       "      <td>NaN</td>\n",
       "      <td>NaN</td>\n",
       "      <td>NaN</td>\n",
       "      <td>NaN</td>\n",
       "      <td>...</td>\n",
       "      <td>NaN</td>\n",
       "      <td>2.0</td>\n",
       "      <td>NaN</td>\n",
       "      <td>NaN</td>\n",
       "      <td>NaN</td>\n",
       "      <td>NaN</td>\n",
       "      <td>1.0</td>\n",
       "      <td>NaN</td>\n",
       "      <td>1.0</td>\n",
       "      <td>NaN</td>\n",
       "    </tr>\n",
       "    <tr>\n",
       "      <th>2</th>\n",
       "      <td>-0VK5Z1BfUHUYq4PoBYNLw</td>\n",
       "      <td>NaN</td>\n",
       "      <td>NaN</td>\n",
       "      <td>1.0</td>\n",
       "      <td>NaN</td>\n",
       "      <td>NaN</td>\n",
       "      <td>NaN</td>\n",
       "      <td>1.0</td>\n",
       "      <td>NaN</td>\n",
       "      <td>NaN</td>\n",
       "      <td>...</td>\n",
       "      <td>NaN</td>\n",
       "      <td>NaN</td>\n",
       "      <td>NaN</td>\n",
       "      <td>NaN</td>\n",
       "      <td>NaN</td>\n",
       "      <td>NaN</td>\n",
       "      <td>NaN</td>\n",
       "      <td>NaN</td>\n",
       "      <td>NaN</td>\n",
       "      <td>NaN</td>\n",
       "    </tr>\n",
       "    <tr>\n",
       "      <th>3</th>\n",
       "      <td>-0bUDim5OGuv8R0Qqq6J4A</td>\n",
       "      <td>3.0</td>\n",
       "      <td>NaN</td>\n",
       "      <td>NaN</td>\n",
       "      <td>NaN</td>\n",
       "      <td>NaN</td>\n",
       "      <td>NaN</td>\n",
       "      <td>NaN</td>\n",
       "      <td>NaN</td>\n",
       "      <td>NaN</td>\n",
       "      <td>...</td>\n",
       "      <td>NaN</td>\n",
       "      <td>NaN</td>\n",
       "      <td>1.0</td>\n",
       "      <td>NaN</td>\n",
       "      <td>NaN</td>\n",
       "      <td>1.0</td>\n",
       "      <td>NaN</td>\n",
       "      <td>NaN</td>\n",
       "      <td>1.0</td>\n",
       "      <td>NaN</td>\n",
       "    </tr>\n",
       "    <tr>\n",
       "      <th>4</th>\n",
       "      <td>-1bOb2izeJBZjHC7NWxiPA</td>\n",
       "      <td>NaN</td>\n",
       "      <td>NaN</td>\n",
       "      <td>NaN</td>\n",
       "      <td>NaN</td>\n",
       "      <td>NaN</td>\n",
       "      <td>NaN</td>\n",
       "      <td>NaN</td>\n",
       "      <td>NaN</td>\n",
       "      <td>NaN</td>\n",
       "      <td>...</td>\n",
       "      <td>8.0</td>\n",
       "      <td>19.0</td>\n",
       "      <td>38.0</td>\n",
       "      <td>6.0</td>\n",
       "      <td>14.0</td>\n",
       "      <td>7.0</td>\n",
       "      <td>8.0</td>\n",
       "      <td>13.0</td>\n",
       "      <td>18.0</td>\n",
       "      <td>60.0</td>\n",
       "    </tr>\n",
       "  </tbody>\n",
       "</table>\n",
       "<p>5 rows × 169 columns</p>\n",
       "</div>"
      ],
      "text/plain": [
       "variable             business_id  checkin_info.0-0  checkin_info.0-1  \\\n",
       "0         --jFTZmywe7StuZ2hEjxyA               1.0               NaN   \n",
       "1         -0HGqwlfw3I8nkJyMHxAsQ               NaN               NaN   \n",
       "2         -0VK5Z1BfUHUYq4PoBYNLw               NaN               NaN   \n",
       "3         -0bUDim5OGuv8R0Qqq6J4A               3.0               NaN   \n",
       "4         -1bOb2izeJBZjHC7NWxiPA               NaN               NaN   \n",
       "\n",
       "variable  checkin_info.0-2  checkin_info.0-3  checkin_info.0-4  \\\n",
       "0                      1.0               NaN               NaN   \n",
       "1                      NaN               NaN               NaN   \n",
       "2                      1.0               NaN               NaN   \n",
       "3                      NaN               NaN               NaN   \n",
       "4                      NaN               NaN               NaN   \n",
       "\n",
       "variable  checkin_info.0-5  checkin_info.0-6  checkin_info.1-0  \\\n",
       "0                      NaN               NaN               NaN   \n",
       "1                      NaN               NaN               NaN   \n",
       "2                      NaN               1.0               NaN   \n",
       "3                      NaN               NaN               NaN   \n",
       "4                      NaN               NaN               NaN   \n",
       "\n",
       "variable  checkin_info.1-1        ...         checkin_info.8-4  \\\n",
       "0                      NaN        ...                      3.0   \n",
       "1                      NaN        ...                      NaN   \n",
       "2                      NaN        ...                      NaN   \n",
       "3                      NaN        ...                      NaN   \n",
       "4                      NaN        ...                      8.0   \n",
       "\n",
       "variable  checkin_info.8-5  checkin_info.8-6  checkin_info.9-0  \\\n",
       "0                      2.0               NaN               1.0   \n",
       "1                      2.0               NaN               NaN   \n",
       "2                      NaN               NaN               NaN   \n",
       "3                      NaN               1.0               NaN   \n",
       "4                     19.0              38.0               6.0   \n",
       "\n",
       "variable  checkin_info.9-1  checkin_info.9-2  checkin_info.9-3  \\\n",
       "0                      NaN               NaN               NaN   \n",
       "1                      NaN               NaN               1.0   \n",
       "2                      NaN               NaN               NaN   \n",
       "3                      NaN               1.0               NaN   \n",
       "4                     14.0               7.0               8.0   \n",
       "\n",
       "variable  checkin_info.9-4  checkin_info.9-5  checkin_info.9-6  \n",
       "0                      NaN               1.0               NaN  \n",
       "1                      NaN               1.0               NaN  \n",
       "2                      NaN               NaN               NaN  \n",
       "3                      NaN               1.0               NaN  \n",
       "4                     13.0              18.0              60.0  \n",
       "\n",
       "[5 rows x 169 columns]"
      ]
     },
     "execution_count": 117,
     "metadata": {},
     "output_type": "execute_result"
    }
   ],
   "source": [
    "checkins_copy.head()"
   ]
  },
  {
   "cell_type": "code",
   "execution_count": 120,
   "metadata": {
    "collapsed": false
   },
   "outputs": [],
   "source": [
    "checkins_copy.fillna(0, inplace=True)"
   ]
  },
  {
   "cell_type": "code",
   "execution_count": 186,
   "metadata": {
    "collapsed": false
   },
   "outputs": [
    {
     "data": {
      "text/html": [
       "<div>\n",
       "<table border=\"1\" class=\"dataframe\">\n",
       "  <thead>\n",
       "    <tr style=\"text-align: right;\">\n",
       "      <th>variable</th>\n",
       "      <th>business_id</th>\n",
       "      <th>checkin_info.0-0</th>\n",
       "      <th>checkin_info.0-1</th>\n",
       "      <th>checkin_info.0-2</th>\n",
       "      <th>checkin_info.0-3</th>\n",
       "      <th>checkin_info.0-4</th>\n",
       "      <th>checkin_info.0-5</th>\n",
       "      <th>checkin_info.0-6</th>\n",
       "      <th>checkin_info.1-0</th>\n",
       "      <th>checkin_info.1-1</th>\n",
       "      <th>...</th>\n",
       "      <th>checkin_info.8-4</th>\n",
       "      <th>checkin_info.8-5</th>\n",
       "      <th>checkin_info.8-6</th>\n",
       "      <th>checkin_info.9-0</th>\n",
       "      <th>checkin_info.9-1</th>\n",
       "      <th>checkin_info.9-2</th>\n",
       "      <th>checkin_info.9-3</th>\n",
       "      <th>checkin_info.9-4</th>\n",
       "      <th>checkin_info.9-5</th>\n",
       "      <th>checkin_info.9-6</th>\n",
       "    </tr>\n",
       "  </thead>\n",
       "  <tbody>\n",
       "    <tr>\n",
       "      <th>0</th>\n",
       "      <td>--jFTZmywe7StuZ2hEjxyA</td>\n",
       "      <td>1.0</td>\n",
       "      <td>0.0</td>\n",
       "      <td>1.0</td>\n",
       "      <td>0.0</td>\n",
       "      <td>0.0</td>\n",
       "      <td>0.0</td>\n",
       "      <td>0.0</td>\n",
       "      <td>0.0</td>\n",
       "      <td>0.0</td>\n",
       "      <td>...</td>\n",
       "      <td>3.0</td>\n",
       "      <td>2.0</td>\n",
       "      <td>0.0</td>\n",
       "      <td>1.0</td>\n",
       "      <td>0.0</td>\n",
       "      <td>0.0</td>\n",
       "      <td>0.0</td>\n",
       "      <td>0.0</td>\n",
       "      <td>1.0</td>\n",
       "      <td>0.0</td>\n",
       "    </tr>\n",
       "    <tr>\n",
       "      <th>1</th>\n",
       "      <td>-0HGqwlfw3I8nkJyMHxAsQ</td>\n",
       "      <td>0.0</td>\n",
       "      <td>0.0</td>\n",
       "      <td>0.0</td>\n",
       "      <td>0.0</td>\n",
       "      <td>0.0</td>\n",
       "      <td>0.0</td>\n",
       "      <td>0.0</td>\n",
       "      <td>0.0</td>\n",
       "      <td>0.0</td>\n",
       "      <td>...</td>\n",
       "      <td>0.0</td>\n",
       "      <td>2.0</td>\n",
       "      <td>0.0</td>\n",
       "      <td>0.0</td>\n",
       "      <td>0.0</td>\n",
       "      <td>0.0</td>\n",
       "      <td>1.0</td>\n",
       "      <td>0.0</td>\n",
       "      <td>1.0</td>\n",
       "      <td>0.0</td>\n",
       "    </tr>\n",
       "    <tr>\n",
       "      <th>2</th>\n",
       "      <td>-0VK5Z1BfUHUYq4PoBYNLw</td>\n",
       "      <td>0.0</td>\n",
       "      <td>0.0</td>\n",
       "      <td>1.0</td>\n",
       "      <td>0.0</td>\n",
       "      <td>0.0</td>\n",
       "      <td>0.0</td>\n",
       "      <td>1.0</td>\n",
       "      <td>0.0</td>\n",
       "      <td>0.0</td>\n",
       "      <td>...</td>\n",
       "      <td>0.0</td>\n",
       "      <td>0.0</td>\n",
       "      <td>0.0</td>\n",
       "      <td>0.0</td>\n",
       "      <td>0.0</td>\n",
       "      <td>0.0</td>\n",
       "      <td>0.0</td>\n",
       "      <td>0.0</td>\n",
       "      <td>0.0</td>\n",
       "      <td>0.0</td>\n",
       "    </tr>\n",
       "    <tr>\n",
       "      <th>3</th>\n",
       "      <td>-0bUDim5OGuv8R0Qqq6J4A</td>\n",
       "      <td>3.0</td>\n",
       "      <td>0.0</td>\n",
       "      <td>0.0</td>\n",
       "      <td>0.0</td>\n",
       "      <td>0.0</td>\n",
       "      <td>0.0</td>\n",
       "      <td>0.0</td>\n",
       "      <td>0.0</td>\n",
       "      <td>0.0</td>\n",
       "      <td>...</td>\n",
       "      <td>0.0</td>\n",
       "      <td>0.0</td>\n",
       "      <td>1.0</td>\n",
       "      <td>0.0</td>\n",
       "      <td>0.0</td>\n",
       "      <td>1.0</td>\n",
       "      <td>0.0</td>\n",
       "      <td>0.0</td>\n",
       "      <td>1.0</td>\n",
       "      <td>0.0</td>\n",
       "    </tr>\n",
       "    <tr>\n",
       "      <th>4</th>\n",
       "      <td>-1bOb2izeJBZjHC7NWxiPA</td>\n",
       "      <td>0.0</td>\n",
       "      <td>0.0</td>\n",
       "      <td>0.0</td>\n",
       "      <td>0.0</td>\n",
       "      <td>0.0</td>\n",
       "      <td>0.0</td>\n",
       "      <td>0.0</td>\n",
       "      <td>0.0</td>\n",
       "      <td>0.0</td>\n",
       "      <td>...</td>\n",
       "      <td>8.0</td>\n",
       "      <td>19.0</td>\n",
       "      <td>38.0</td>\n",
       "      <td>6.0</td>\n",
       "      <td>14.0</td>\n",
       "      <td>7.0</td>\n",
       "      <td>8.0</td>\n",
       "      <td>13.0</td>\n",
       "      <td>18.0</td>\n",
       "      <td>60.0</td>\n",
       "    </tr>\n",
       "  </tbody>\n",
       "</table>\n",
       "<p>5 rows × 169 columns</p>\n",
       "</div>"
      ],
      "text/plain": [
       "variable             business_id  checkin_info.0-0  checkin_info.0-1  \\\n",
       "0         --jFTZmywe7StuZ2hEjxyA               1.0               0.0   \n",
       "1         -0HGqwlfw3I8nkJyMHxAsQ               0.0               0.0   \n",
       "2         -0VK5Z1BfUHUYq4PoBYNLw               0.0               0.0   \n",
       "3         -0bUDim5OGuv8R0Qqq6J4A               3.0               0.0   \n",
       "4         -1bOb2izeJBZjHC7NWxiPA               0.0               0.0   \n",
       "\n",
       "variable  checkin_info.0-2  checkin_info.0-3  checkin_info.0-4  \\\n",
       "0                      1.0               0.0               0.0   \n",
       "1                      0.0               0.0               0.0   \n",
       "2                      1.0               0.0               0.0   \n",
       "3                      0.0               0.0               0.0   \n",
       "4                      0.0               0.0               0.0   \n",
       "\n",
       "variable  checkin_info.0-5  checkin_info.0-6  checkin_info.1-0  \\\n",
       "0                      0.0               0.0               0.0   \n",
       "1                      0.0               0.0               0.0   \n",
       "2                      0.0               1.0               0.0   \n",
       "3                      0.0               0.0               0.0   \n",
       "4                      0.0               0.0               0.0   \n",
       "\n",
       "variable  checkin_info.1-1        ...         checkin_info.8-4  \\\n",
       "0                      0.0        ...                      3.0   \n",
       "1                      0.0        ...                      0.0   \n",
       "2                      0.0        ...                      0.0   \n",
       "3                      0.0        ...                      0.0   \n",
       "4                      0.0        ...                      8.0   \n",
       "\n",
       "variable  checkin_info.8-5  checkin_info.8-6  checkin_info.9-0  \\\n",
       "0                      2.0               0.0               1.0   \n",
       "1                      2.0               0.0               0.0   \n",
       "2                      0.0               0.0               0.0   \n",
       "3                      0.0               1.0               0.0   \n",
       "4                     19.0              38.0               6.0   \n",
       "\n",
       "variable  checkin_info.9-1  checkin_info.9-2  checkin_info.9-3  \\\n",
       "0                      0.0               0.0               0.0   \n",
       "1                      0.0               0.0               1.0   \n",
       "2                      0.0               0.0               0.0   \n",
       "3                      0.0               1.0               0.0   \n",
       "4                     14.0               7.0               8.0   \n",
       "\n",
       "variable  checkin_info.9-4  checkin_info.9-5  checkin_info.9-6  \n",
       "0                      0.0               1.0               0.0  \n",
       "1                      0.0               1.0               0.0  \n",
       "2                      0.0               0.0               0.0  \n",
       "3                      0.0               1.0               0.0  \n",
       "4                     13.0              18.0              60.0  \n",
       "\n",
       "[5 rows x 169 columns]"
      ]
     },
     "execution_count": 186,
     "metadata": {},
     "output_type": "execute_result"
    }
   ],
   "source": [
    "checkins_copy.head()"
   ]
  },
  {
   "cell_type": "code",
   "execution_count": 129,
   "metadata": {
    "collapsed": false
   },
   "outputs": [
    {
     "data": {
      "text/plain": [
       "(3846, 169)"
      ]
     },
     "execution_count": 129,
     "metadata": {},
     "output_type": "execute_result"
    }
   ],
   "source": [
    "checkins_copy.shape"
   ]
  },
  {
   "cell_type": "code",
   "execution_count": 128,
   "metadata": {
    "collapsed": false
   },
   "outputs": [
    {
     "name": "stdout",
     "output_type": "stream",
     "text": [
      "<class 'pandas.core.frame.DataFrame'>\n",
      "RangeIndex: 3846 entries, 0 to 3845\n",
      "Columns: 169 entries, business_id to checkin_info.9-6\n",
      "dtypes: float64(168), object(1)\n",
      "memory usage: 5.0+ MB\n"
     ]
    }
   ],
   "source": [
    "checkins_copy.info()"
   ]
  },
  {
   "cell_type": "code",
   "execution_count": 188,
   "metadata": {
    "collapsed": false
   },
   "outputs": [
    {
     "name": "stdout",
     "output_type": "stream",
     "text": [
      "morning:\n",
      "[ 17.  16.   0. ...,   5.  23.  27.] 3846\n",
      "afternoon:\n",
      "[ 50.  17.   0. ...,   1.  13.  91.] 3846\n",
      "evening:\n",
      "[  13.    5.   12. ...,    0.    1.  106.] 3846\n",
      "night:\n",
      "[  4.   0.  15. ...,   0.   0.   4.] 3846\n"
     ]
    }
   ],
   "source": [
    "# Time intervals that define time of day\n",
    "morning_t = (4, 11)\n",
    "afternoon_t = (12, 16)\n",
    "evening_t = (17, 21)\n",
    "night_t = (22, 0) # Not used in for-loop\n",
    "\n",
    "# checkin_info columns not including business_id\n",
    "time_cols = checkins_copy.columns[1:]\n",
    "\n",
    "# Creating zero column vectors for each\n",
    "# time of day\n",
    "morning = np.zeros(checkins_copy.shape[0])\n",
    "afternoon = np.zeros(checkins_copy.shape[0])\n",
    "evening = np.zeros(checkins_copy.shape[0])\n",
    "night = np.zeros(checkins_copy.shape[0])\n",
    "\n",
    "# Looping through the dataframe to sum up\n",
    "# check-ins at specific time intervals\n",
    "for col in time_cols:\n",
    "    time_str = col.replace('-', '.').split('.')[1] # Checkin time (str)\n",
    "    time_int = int(time_str) # Checkin time (int)\n",
    "    if (time_int >= morning_t[0]) & (time_int <= morning_t[1]):\n",
    "        morning += checkins_copy[col] \n",
    "    elif (time_int >= afternoon_t[0]) & (time_int <= afternoon_t[1]):\n",
    "        afternoon += checkins_copy[col]\n",
    "    elif (time_int >= evening_t[0]) & (time_int <= evening_t[1]):\n",
    "        evening += checkins_copy[col]\n",
    "    else:\n",
    "        night += checkins_copy[col]\n",
    "        \n",
    "# Printing vectors to check for consitency\n",
    "# Haven't assigned to df yet\n",
    "print 'morning:\\n', morning, len(morning)\n",
    "print 'afternoon:\\n', afternoon, len(afternoon)\n",
    "print 'evening:\\n', evening, len(evening)\n",
    "print 'night:\\n', night, len(night)"
   ]
  },
  {
   "cell_type": "code",
   "execution_count": 190,
   "metadata": {
    "collapsed": false
   },
   "outputs": [],
   "source": [
    "# Assigning columns to df\n",
    "checkins_copy['morning_checkins'] = morning\n",
    "checkins_copy['afternoon_checkins'] = afternoon\n",
    "checkins_copy['evening_checkins'] = evening\n",
    "checkins_copy['night_checkins'] = night"
   ]
  },
  {
   "cell_type": "code",
   "execution_count": 196,
   "metadata": {
    "collapsed": false
   },
   "outputs": [],
   "source": [
    "checkins_tod = pd.concat([checkins_copy.business_id, checkins_copy[checkins_copy.columns[-4:]]], axis=1)"
   ]
  },
  {
   "cell_type": "code",
   "execution_count": 197,
   "metadata": {
    "collapsed": false
   },
   "outputs": [
    {
     "data": {
      "text/html": [
       "<div>\n",
       "<table border=\"1\" class=\"dataframe\">\n",
       "  <thead>\n",
       "    <tr style=\"text-align: right;\">\n",
       "      <th></th>\n",
       "      <th>business_id</th>\n",
       "      <th>morning_checkins</th>\n",
       "      <th>afternoon_checkins</th>\n",
       "      <th>evening_checkins</th>\n",
       "      <th>night_checkins</th>\n",
       "    </tr>\n",
       "  </thead>\n",
       "  <tbody>\n",
       "    <tr>\n",
       "      <th>0</th>\n",
       "      <td>--jFTZmywe7StuZ2hEjxyA</td>\n",
       "      <td>17.0</td>\n",
       "      <td>50.0</td>\n",
       "      <td>13.0</td>\n",
       "      <td>4.0</td>\n",
       "    </tr>\n",
       "    <tr>\n",
       "      <th>1</th>\n",
       "      <td>-0HGqwlfw3I8nkJyMHxAsQ</td>\n",
       "      <td>16.0</td>\n",
       "      <td>17.0</td>\n",
       "      <td>5.0</td>\n",
       "      <td>0.0</td>\n",
       "    </tr>\n",
       "    <tr>\n",
       "      <th>2</th>\n",
       "      <td>-0VK5Z1BfUHUYq4PoBYNLw</td>\n",
       "      <td>0.0</td>\n",
       "      <td>0.0</td>\n",
       "      <td>12.0</td>\n",
       "      <td>15.0</td>\n",
       "    </tr>\n",
       "    <tr>\n",
       "      <th>3</th>\n",
       "      <td>-0bUDim5OGuv8R0Qqq6J4A</td>\n",
       "      <td>15.0</td>\n",
       "      <td>5.0</td>\n",
       "      <td>2.0</td>\n",
       "      <td>6.0</td>\n",
       "    </tr>\n",
       "    <tr>\n",
       "      <th>4</th>\n",
       "      <td>-1bOb2izeJBZjHC7NWxiPA</td>\n",
       "      <td>476.0</td>\n",
       "      <td>117.0</td>\n",
       "      <td>2.0</td>\n",
       "      <td>1.0</td>\n",
       "    </tr>\n",
       "    <tr>\n",
       "      <th>5</th>\n",
       "      <td>-2_O3_WKgO5In5XO5extNQ</td>\n",
       "      <td>49.0</td>\n",
       "      <td>13.0</td>\n",
       "      <td>1.0</td>\n",
       "      <td>1.0</td>\n",
       "    </tr>\n",
       "    <tr>\n",
       "      <th>6</th>\n",
       "      <td>-3xbryp44xhpN4BohxXDdQ</td>\n",
       "      <td>15.0</td>\n",
       "      <td>97.0</td>\n",
       "      <td>465.0</td>\n",
       "      <td>15.0</td>\n",
       "    </tr>\n",
       "    <tr>\n",
       "      <th>7</th>\n",
       "      <td>-4mNZfAXMd2mxEsD2YRcaQ</td>\n",
       "      <td>31.0</td>\n",
       "      <td>18.0</td>\n",
       "      <td>25.0</td>\n",
       "      <td>37.0</td>\n",
       "    </tr>\n",
       "    <tr>\n",
       "      <th>8</th>\n",
       "      <td>-584fn2GxYe9sLsgN2WeQA</td>\n",
       "      <td>68.0</td>\n",
       "      <td>342.0</td>\n",
       "      <td>287.0</td>\n",
       "      <td>6.0</td>\n",
       "    </tr>\n",
       "    <tr>\n",
       "      <th>9</th>\n",
       "      <td>-5RN56jH78MV2oquLV_G8g</td>\n",
       "      <td>31.0</td>\n",
       "      <td>42.0</td>\n",
       "      <td>575.0</td>\n",
       "      <td>86.0</td>\n",
       "    </tr>\n",
       "  </tbody>\n",
       "</table>\n",
       "</div>"
      ],
      "text/plain": [
       "              business_id  morning_checkins  afternoon_checkins  \\\n",
       "0  --jFTZmywe7StuZ2hEjxyA              17.0                50.0   \n",
       "1  -0HGqwlfw3I8nkJyMHxAsQ              16.0                17.0   \n",
       "2  -0VK5Z1BfUHUYq4PoBYNLw               0.0                 0.0   \n",
       "3  -0bUDim5OGuv8R0Qqq6J4A              15.0                 5.0   \n",
       "4  -1bOb2izeJBZjHC7NWxiPA             476.0               117.0   \n",
       "5  -2_O3_WKgO5In5XO5extNQ              49.0                13.0   \n",
       "6  -3xbryp44xhpN4BohxXDdQ              15.0                97.0   \n",
       "7  -4mNZfAXMd2mxEsD2YRcaQ              31.0                18.0   \n",
       "8  -584fn2GxYe9sLsgN2WeQA              68.0               342.0   \n",
       "9  -5RN56jH78MV2oquLV_G8g              31.0                42.0   \n",
       "\n",
       "   evening_checkins  night_checkins  \n",
       "0              13.0             4.0  \n",
       "1               5.0             0.0  \n",
       "2              12.0            15.0  \n",
       "3               2.0             6.0  \n",
       "4               2.0             1.0  \n",
       "5               1.0             1.0  \n",
       "6             465.0            15.0  \n",
       "7              25.0            37.0  \n",
       "8             287.0             6.0  \n",
       "9             575.0            86.0  "
      ]
     },
     "execution_count": 197,
     "metadata": {},
     "output_type": "execute_result"
    }
   ],
   "source": [
    "checkins_tod.head(10)"
   ]
  },
  {
   "cell_type": "markdown",
   "metadata": {},
   "source": [
    "** USERS **"
   ]
  },
  {
   "cell_type": "code",
   "execution_count": 46,
   "metadata": {
    "collapsed": false
   },
   "outputs": [
    {
     "data": {
      "text/plain": [
       "(144206, 21)"
      ]
     },
     "execution_count": 46,
     "metadata": {},
     "output_type": "execute_result"
    }
   ],
   "source": [
    "users.shape"
   ]
  },
  {
   "cell_type": "code",
   "execution_count": 47,
   "metadata": {
    "collapsed": false
   },
   "outputs": [],
   "source": [
    "users.columns = [x.strip().lower().replace('.', '_') for x in users.columns]"
   ]
  },
  {
   "cell_type": "code",
   "execution_count": 48,
   "metadata": {
    "collapsed": false
   },
   "outputs": [],
   "source": [
    "# Extract years from column\n",
    "users.yelping_since = users.yelping_since.apply(lambda x: int(x[:4]))"
   ]
  },
  {
   "cell_type": "code",
   "execution_count": 49,
   "metadata": {
    "collapsed": false
   },
   "outputs": [
    {
     "data": {
      "text/html": [
       "<div>\n",
       "<table border=\"1\" class=\"dataframe\">\n",
       "  <thead>\n",
       "    <tr style=\"text-align: right;\">\n",
       "      <th></th>\n",
       "      <th>0</th>\n",
       "      <th>1</th>\n",
       "      <th>2</th>\n",
       "    </tr>\n",
       "  </thead>\n",
       "  <tbody>\n",
       "    <tr>\n",
       "      <th>yelping_since</th>\n",
       "      <td>2004</td>\n",
       "      <td>2004</td>\n",
       "      <td>2004</td>\n",
       "    </tr>\n",
       "    <tr>\n",
       "      <th>compliments_plain</th>\n",
       "      <td>959</td>\n",
       "      <td>89</td>\n",
       "      <td>2</td>\n",
       "    </tr>\n",
       "    <tr>\n",
       "      <th>review_count</th>\n",
       "      <td>1274</td>\n",
       "      <td>442</td>\n",
       "      <td>66</td>\n",
       "    </tr>\n",
       "    <tr>\n",
       "      <th>compliments_cute</th>\n",
       "      <td>206</td>\n",
       "      <td>23</td>\n",
       "      <td>2</td>\n",
       "    </tr>\n",
       "    <tr>\n",
       "      <th>compliments_writer</th>\n",
       "      <td>327</td>\n",
       "      <td>24</td>\n",
       "      <td>2</td>\n",
       "    </tr>\n",
       "    <tr>\n",
       "      <th>fans</th>\n",
       "      <td>1179</td>\n",
       "      <td>100</td>\n",
       "      <td>4</td>\n",
       "    </tr>\n",
       "    <tr>\n",
       "      <th>compliments_note</th>\n",
       "      <td>611</td>\n",
       "      <td>83</td>\n",
       "      <td>1</td>\n",
       "    </tr>\n",
       "    <tr>\n",
       "      <th>compliments_hot</th>\n",
       "      <td>1094</td>\n",
       "      <td>101</td>\n",
       "      <td>1</td>\n",
       "    </tr>\n",
       "    <tr>\n",
       "      <th>compliments_cool</th>\n",
       "      <td>1642</td>\n",
       "      <td>145</td>\n",
       "      <td>1</td>\n",
       "    </tr>\n",
       "    <tr>\n",
       "      <th>compliments_profile</th>\n",
       "      <td>116</td>\n",
       "      <td>9</td>\n",
       "      <td>NaN</td>\n",
       "    </tr>\n",
       "    <tr>\n",
       "      <th>average_stars</th>\n",
       "      <td>3.66</td>\n",
       "      <td>3.6</td>\n",
       "      <td>3.8</td>\n",
       "    </tr>\n",
       "    <tr>\n",
       "      <th>compliments_more</th>\n",
       "      <td>134</td>\n",
       "      <td>19</td>\n",
       "      <td>1</td>\n",
       "    </tr>\n",
       "    <tr>\n",
       "      <th>elite</th>\n",
       "      <td>[2005, 2006, 2007, 2008, 2009, 2010, 2011, 201...</td>\n",
       "      <td>[2005, 2006, 2007, 2008, 2009, 2010, 2011, 201...</td>\n",
       "      <td>[2005]</td>\n",
       "    </tr>\n",
       "    <tr>\n",
       "      <th>name</th>\n",
       "      <td>Jeremy</td>\n",
       "      <td>Michael</td>\n",
       "      <td>Katherine</td>\n",
       "    </tr>\n",
       "    <tr>\n",
       "      <th>user_id</th>\n",
       "      <td>rpOyqD_893cqmDAtJLbdog</td>\n",
       "      <td>4U9kSBLuBDU391x6bxU-YA</td>\n",
       "      <td>SIBCL7HBkrP4llolm4SC2A</td>\n",
       "    </tr>\n",
       "    <tr>\n",
       "      <th>votes_cool</th>\n",
       "      <td>11093</td>\n",
       "      <td>732</td>\n",
       "      <td>13</td>\n",
       "    </tr>\n",
       "    <tr>\n",
       "      <th>compliments_list</th>\n",
       "      <td>38</td>\n",
       "      <td>4</td>\n",
       "      <td>NaN</td>\n",
       "    </tr>\n",
       "    <tr>\n",
       "      <th>votes_funny</th>\n",
       "      <td>7681</td>\n",
       "      <td>908</td>\n",
       "      <td>11</td>\n",
       "    </tr>\n",
       "    <tr>\n",
       "      <th>compliments_photos</th>\n",
       "      <td>330</td>\n",
       "      <td>24</td>\n",
       "      <td>NaN</td>\n",
       "    </tr>\n",
       "    <tr>\n",
       "      <th>compliments_funny</th>\n",
       "      <td>580</td>\n",
       "      <td>120</td>\n",
       "      <td>NaN</td>\n",
       "    </tr>\n",
       "    <tr>\n",
       "      <th>votes_useful</th>\n",
       "      <td>14199</td>\n",
       "      <td>1483</td>\n",
       "      <td>34</td>\n",
       "    </tr>\n",
       "  </tbody>\n",
       "</table>\n",
       "</div>"
      ],
      "text/plain": [
       "                                                                     0  \\\n",
       "yelping_since                                                     2004   \n",
       "compliments_plain                                                  959   \n",
       "review_count                                                      1274   \n",
       "compliments_cute                                                   206   \n",
       "compliments_writer                                                 327   \n",
       "fans                                                              1179   \n",
       "compliments_note                                                   611   \n",
       "compliments_hot                                                   1094   \n",
       "compliments_cool                                                  1642   \n",
       "compliments_profile                                                116   \n",
       "average_stars                                                     3.66   \n",
       "compliments_more                                                   134   \n",
       "elite                [2005, 2006, 2007, 2008, 2009, 2010, 2011, 201...   \n",
       "name                                                            Jeremy   \n",
       "user_id                                         rpOyqD_893cqmDAtJLbdog   \n",
       "votes_cool                                                       11093   \n",
       "compliments_list                                                    38   \n",
       "votes_funny                                                       7681   \n",
       "compliments_photos                                                 330   \n",
       "compliments_funny                                                  580   \n",
       "votes_useful                                                     14199   \n",
       "\n",
       "                                                                     1  \\\n",
       "yelping_since                                                     2004   \n",
       "compliments_plain                                                   89   \n",
       "review_count                                                       442   \n",
       "compliments_cute                                                    23   \n",
       "compliments_writer                                                  24   \n",
       "fans                                                               100   \n",
       "compliments_note                                                    83   \n",
       "compliments_hot                                                    101   \n",
       "compliments_cool                                                   145   \n",
       "compliments_profile                                                  9   \n",
       "average_stars                                                      3.6   \n",
       "compliments_more                                                    19   \n",
       "elite                [2005, 2006, 2007, 2008, 2009, 2010, 2011, 201...   \n",
       "name                                                           Michael   \n",
       "user_id                                         4U9kSBLuBDU391x6bxU-YA   \n",
       "votes_cool                                                         732   \n",
       "compliments_list                                                     4   \n",
       "votes_funny                                                        908   \n",
       "compliments_photos                                                  24   \n",
       "compliments_funny                                                  120   \n",
       "votes_useful                                                      1483   \n",
       "\n",
       "                                          2  \n",
       "yelping_since                          2004  \n",
       "compliments_plain                         2  \n",
       "review_count                             66  \n",
       "compliments_cute                          2  \n",
       "compliments_writer                        2  \n",
       "fans                                      4  \n",
       "compliments_note                          1  \n",
       "compliments_hot                           1  \n",
       "compliments_cool                          1  \n",
       "compliments_profile                     NaN  \n",
       "average_stars                           3.8  \n",
       "compliments_more                          1  \n",
       "elite                                [2005]  \n",
       "name                              Katherine  \n",
       "user_id              SIBCL7HBkrP4llolm4SC2A  \n",
       "votes_cool                               13  \n",
       "compliments_list                        NaN  \n",
       "votes_funny                              11  \n",
       "compliments_photos                      NaN  \n",
       "compliments_funny                       NaN  \n",
       "votes_useful                             34  "
      ]
     },
     "execution_count": 49,
     "metadata": {},
     "output_type": "execute_result"
    }
   ],
   "source": [
    "users.head(3).T"
   ]
  },
  {
   "cell_type": "code",
   "execution_count": 50,
   "metadata": {
    "collapsed": false
   },
   "outputs": [
    {
     "name": "stdout",
     "output_type": "stream",
     "text": [
      "<class 'pandas.core.frame.DataFrame'>\n",
      "RangeIndex: 144206 entries, 0 to 144205\n",
      "Data columns (total 21 columns):\n",
      "yelping_since          144206 non-null int64\n",
      "compliments_plain      47034 non-null float64\n",
      "review_count           144206 non-null int64\n",
      "compliments_cute       13133 non-null float64\n",
      "compliments_writer     33222 non-null float64\n",
      "fans                   144206 non-null int64\n",
      "compliments_note       39872 non-null float64\n",
      "compliments_hot        31748 non-null float64\n",
      "compliments_cool       41069 non-null float64\n",
      "compliments_profile    12368 non-null float64\n",
      "average_stars          144206 non-null float64\n",
      "compliments_more       25066 non-null float64\n",
      "elite                  144206 non-null object\n",
      "name                   144206 non-null object\n",
      "user_id                144206 non-null object\n",
      "votes_cool             144206 non-null int64\n",
      "compliments_list       7180 non-null float64\n",
      "votes_funny            144206 non-null int64\n",
      "compliments_photos     18759 non-null float64\n",
      "compliments_funny      30612 non-null float64\n",
      "votes_useful           144206 non-null int64\n",
      "dtypes: float64(12), int64(6), object(3)\n",
      "memory usage: 23.1+ MB\n"
     ]
    }
   ],
   "source": [
    "users.info()"
   ]
  },
  {
   "cell_type": "code",
   "execution_count": 51,
   "metadata": {
    "collapsed": false
   },
   "outputs": [
    {
     "data": {
      "text/plain": [
       "yelping_since               0\n",
       "compliments_plain       97172\n",
       "review_count                0\n",
       "compliments_cute       131073\n",
       "compliments_writer     110984\n",
       "fans                        0\n",
       "compliments_note       104334\n",
       "compliments_hot        112458\n",
       "compliments_cool       103137\n",
       "compliments_profile    131838\n",
       "average_stars               0\n",
       "compliments_more       119140\n",
       "elite                       0\n",
       "name                        0\n",
       "user_id                     0\n",
       "votes_cool                  0\n",
       "compliments_list       137026\n",
       "votes_funny                 0\n",
       "compliments_photos     125447\n",
       "compliments_funny      113594\n",
       "votes_useful                0\n",
       "dtype: int64"
      ]
     },
     "execution_count": 51,
     "metadata": {},
     "output_type": "execute_result"
    }
   ],
   "source": [
    "users.isnull().sum()"
   ]
  },
  {
   "cell_type": "code",
   "execution_count": 52,
   "metadata": {
    "collapsed": false
   },
   "outputs": [
    {
     "data": {
      "text/plain": [
       "(144206, 21)"
      ]
     },
     "execution_count": 52,
     "metadata": {},
     "output_type": "execute_result"
    }
   ],
   "source": [
    "users.shape"
   ]
  },
  {
   "cell_type": "markdown",
   "metadata": {},
   "source": [
    "**Analysis: Predict Las Vegas**"
   ]
  },
  {
   "cell_type": "code",
   "execution_count": 53,
   "metadata": {
    "collapsed": false
   },
   "outputs": [],
   "source": [
    "# Creating X, y for model\n",
    "\n",
    "data = business_data\n",
    "\n",
    "# Dropping a few string columns\n",
    "data.drop('attributes_ages_allowed', axis=1 , inplace=True)\n",
    "data.drop('attributes_alcohol', axis=1, inplace=True)\n",
    "data.drop('attributes_attire', axis=1, inplace=True)\n",
    "data.drop('attributes_byob_corkage', axis=1, inplace=True)\n",
    "data.drop('name', axis=1, inplace=True)\n",
    "\n",
    "\n",
    "target_city = 'Las Vegas'\n",
    "\n",
    "data['las_vegas'] = np.array(data.city == target_city)"
   ]
  },
  {
   "cell_type": "code",
   "execution_count": 54,
   "metadata": {
    "collapsed": false
   },
   "outputs": [],
   "source": [
    "# Design Matrix and Target Variable\n",
    "X_cols = data.ix[:, 1:-1].drop('city', axis=1)\n",
    "y_col = data.ix[:, -1]\n",
    "\n",
    "# Convert design matrix to array\n",
    "X = X_cols.values\n",
    "y = y_col.values "
   ]
  },
  {
   "cell_type": "code",
   "execution_count": 55,
   "metadata": {
    "collapsed": false
   },
   "outputs": [
    {
     "name": "stdout",
     "output_type": "stream",
     "text": [
      "Baseline Accuracy: 0.621974830591\n"
     ]
    }
   ],
   "source": [
    "# Baseline accuracy for predicting Las Vegas\n",
    "print 'Baseline Accuracy:', np.mean(y)"
   ]
  },
  {
   "cell_type": "markdown",
   "metadata": {},
   "source": [
    "Model"
   ]
  },
  {
   "cell_type": "markdown",
   "metadata": {},
   "source": [
    "Attempted a KNN model, but accuracy only hovered around 0.63"
   ]
  },
  {
   "cell_type": "code",
   "execution_count": 46,
   "metadata": {
    "collapsed": true
   },
   "outputs": [],
   "source": [
    "def accuracy_crossvalidator(X, y, knn):\n",
    "    '''Inputs: X - Design Matrix\n",
    "               y - labels\n",
    "               knn - Classifier\n",
    "       Outputs: Accuracy Scores List'''\n",
    "    scores = []\n",
    "    cv_indices = StratifiedKFold(y, n_folds=5)\n",
    "    for train_idx, test_idx in cv_indices:\n",
    " \n",
    "        X_train = X[train_idx, :]\n",
    "        X_test = X[test_idx, :]\n",
    "\n",
    "        y_train = y[train_idx]\n",
    "        y_test = y[test_idx]\n",
    "        \n",
    "        knn.fit(X_train, y_train)\n",
    "        \n",
    "        acc = knn.score(X_test, y_test)\n",
    "        scores.append(acc)\n",
    "        \n",
    "    return scores, np.mean(scores)\n",
    "\n",
    "def get_accuracy_for_multiple_k(X, y, k_range):\n",
    "    '''Function trains, tests, and scores knn for a range of k values\n",
    "    Input: X - Design Matrix\n",
    "           y - Labels\n",
    "    Output: list of mean accuracy for each k'''\n",
    "    \n",
    "    accuracy_list = []\n",
    "    for k in k_range:\n",
    "        knn = KNeighborsClassifier(n_neighbors=k, weights='uniform')\n",
    "        _, mean_acc = accuracy_crossvalidator(X, y, knn)\n",
    "        accuracy_list.append(mean_acc)\n",
    "\n",
    "    return accuracy_list"
   ]
  },
  {
   "cell_type": "code",
   "execution_count": 47,
   "metadata": {
    "collapsed": false
   },
   "outputs": [],
   "source": [
    "accuracy_list = get_accuracy_for_multiple_k(X, y, range(1,101))"
   ]
  },
  {
   "cell_type": "code",
   "execution_count": 49,
   "metadata": {
    "collapsed": false
   },
   "outputs": [
    {
     "data": {
      "image/png": "[encoded data removed]",
      "text/plain": [
       "<matplotlib.figure.Figure at 0x11ae93e90>"
      ]
     },
     "metadata": {
      "image/png": {
       "height": 478,
       "width": 704
      }
     },
     "output_type": "display_data"
    }
   ],
   "source": [
    "sns.set_style(\"darkgrid\")\n",
    "plt.figure(figsize=(7,5))\n",
    "plt.title(\"Accuracy vs. K\")\n",
    "plt.plot(accuracy_list, linewidth=2.0)\n",
    "plt.xlabel('K', fontsize=16)\n",
    "plt.ylabel('Accuracy', fontsize=16)\n",
    "plt.show()"
   ]
  },
  {
   "cell_type": "code",
   "execution_count": 50,
   "metadata": {
    "collapsed": false
   },
   "outputs": [
    {
     "name": "stdout",
     "output_type": "stream",
     "text": [
      "KNN Model Accuracy: 0.63\n"
     ]
    }
   ],
   "source": [
    "print 'KNN Model Accuracy:', round(np.max(accuracy_list), 2)"
   ]
  },
  {
   "cell_type": "code",
   "execution_count": 56,
   "metadata": {
    "collapsed": false
   },
   "outputs": [
    {
     "name": "stderr",
     "output_type": "stream",
     "text": [
      "/Users/Smitty/anaconda/envs/dsi/lib/python2.7/site-packages/sklearn/utils/validation.py:429: DataConversionWarning: Data with input dtype object was converted to float64 by StandardScaler.\n",
      "  warnings.warn(msg, _DataConversionWarning)\n"
     ]
    }
   ],
   "source": [
    "# Logistic Regression\n",
    "ss = StandardScaler()\n",
    "\n",
    "Xn = ss.fit_transform(X)"
   ]
  },
  {
   "cell_type": "code",
   "execution_count": 57,
   "metadata": {
    "collapsed": false
   },
   "outputs": [
    {
     "name": "stdout",
     "output_type": "stream",
     "text": [
      "Fitting 5 folds for each of 100 candidates, totalling 500 fits\n"
     ]
    },
    {
     "name": "stderr",
     "output_type": "stream",
     "text": [
      "[Parallel(n_jobs=2)]: Done  76 tasks      | elapsed:   11.7s\n",
      "[Parallel(n_jobs=2)]: Done 226 tasks      | elapsed:   43.5s\n",
      "[Parallel(n_jobs=2)]: Done 476 tasks      | elapsed:  1.5min\n",
      "[Parallel(n_jobs=2)]: Done 500 out of 500 | elapsed:  1.6min finished\n"
     ]
    },
    {
     "name": "stdout",
     "output_type": "stream",
     "text": [
      "{'penalty': 'l1', 'C': 20.408261224489795, 'solver': 'liblinear'}\n"
     ]
    }
   ],
   "source": [
    "lr_params = {\n",
    "    'penalty':['l1','l2'],\n",
    "    'solver':['liblinear'],\n",
    "    'C':np.linspace(0.0001, 1000, 50)\n",
    "}\n",
    "\n",
    "lr_gs = GridSearchCV(LogisticRegression(), lr_params, cv=5, verbose=1, n_jobs=2)\n",
    "\n",
    "lr_gs.fit(Xn, y)\n",
    "print lr_gs.best_params_\n",
    "best_lr = lr_gs.best_estimator_"
   ]
  },
  {
   "cell_type": "code",
   "execution_count": 58,
   "metadata": {
    "collapsed": false
   },
   "outputs": [
    {
     "name": "stdout",
     "output_type": "stream",
     "text": [
      "Logistic Regression:\n",
      "[0.66021765417170497, 0.67351874244256349, 0.68280871670702181, 0.67312348668280875, 0.67554479418886193]\n",
      "0.673042678839\n",
      "Baseline accuracy: 0.621974830591\n"
     ]
    }
   ],
   "source": [
    "cv_indices = StratifiedKFold(y, n_folds=5)\n",
    "\n",
    "lr_scores = []\n",
    "\n",
    "for train_idx, test_idx in cv_indices:\n",
    "    \n",
    "    X_train, y_train = Xn[train_idx, :], y[train_idx]\n",
    "    X_test, y_test = Xn[test_idx, :], y[test_idx]\n",
    "    \n",
    "    best_lr.fit(X_train, y_train)\n",
    "    lr_scores.append(best_lr.score(X_test, y_test))\n",
    "\n",
    "print 'Logistic Regression:'\n",
    "print lr_scores\n",
    "print np.mean(lr_scores)\n",
    "\n",
    "print 'Baseline accuracy:', np.mean(y)"
   ]
  },
  {
   "cell_type": "code",
   "execution_count": 59,
   "metadata": {
    "collapsed": false
   },
   "outputs": [],
   "source": [
    "predicted = best_lr.predict(Xn)"
   ]
  },
  {
   "cell_type": "code",
   "execution_count": 68,
   "metadata": {
    "collapsed": false
   },
   "outputs": [
    {
     "name": "stdout",
     "output_type": "stream",
     "text": [
      "True Positive: 2144\n",
      "True Negative: 711\n",
      "False Positive: 851\n",
      "False Negative: 426\n",
      "\n",
      "Total: 4132\n"
     ]
    }
   ],
   "source": [
    "tp = np.sum((y == 1) & (predicted == 1))\n",
    "fp = np.sum((y == 0) & (predicted == 1))\n",
    "tn = np.sum((y == 0) & (predicted == 0))\n",
    "fn = np.sum((y == 1) & (predicted == 0))\n",
    "\n",
    "print 'True Positive:', tp\n",
    "print 'True Negative:', tn\n",
    "print 'False Positive:', fp\n",
    "print 'False Negative:', fn\n",
    "print \n",
    "print 'Total:', len(y)"
   ]
  },
  {
   "cell_type": "code",
   "execution_count": 69,
   "metadata": {
    "collapsed": false
   },
   "outputs": [
    {
     "name": "stdout",
     "output_type": "stream",
     "text": [
      "Accuracy: 0.690948693127\n",
      "Recall: 0.834241245136\n"
     ]
    }
   ],
   "source": [
    "print 'Accuracy:', accuracy_score(y, predicted)\n",
    "print 'Recall:', recall_score(y, predicted)"
   ]
  },
  {
   "cell_type": "code",
   "execution_count": 70,
   "metadata": {
    "collapsed": false
   },
   "outputs": [
    {
     "name": "stdout",
     "output_type": "stream",
     "text": [
      "             precision    recall  f1-score   support\n",
      "\n",
      "      False       0.63      0.46      0.53      1562\n",
      "       True       0.72      0.83      0.77      2570\n",
      "\n",
      "avg / total       0.68      0.69      0.68      4132\n",
      "\n"
     ]
    }
   ],
   "source": [
    "print classification_report(y, predicted)"
   ]
  },
  {
   "cell_type": "code",
   "execution_count": 71,
   "metadata": {
    "collapsed": false
   },
   "outputs": [
    {
     "data": {
      "image/png": "[encoded data removed]",
      "text/plain": [
       "<matplotlib.figure.Figure at 0x1145f6c90>"
      ]
     },
     "metadata": {
      "image/png": {
       "height": 472,
       "width": 513
      }
     },
     "output_type": "display_data"
    }
   ],
   "source": [
    "# Get out the predicted probabilities for the X observation matrix\n",
    "y_pp = best_lr.predict_proba(Xn)\n",
    "\n",
    "# roc_curve returns the false positive rate and true positive rates as the threshold changes\n",
    "# takes in the y and the predicted probabilities of the positive class from your model.\n",
    "fpr, tpr, _ = roc_curve(y, y_pp[:, 1])\n",
    "roc_auc = auc(fpr, tpr)\n",
    "\n",
    "plt.figure(figsize=[5, 5])\n",
    "plt.plot(fpr, tpr, label='ROC curve (area = %0.2f)' % roc_auc, linewidth=3)\n",
    "plt.plot([0, 1], [0, 1], 'k--', linewidth=3)\n",
    "plt.xlim([0.0, 1.0])\n",
    "plt.ylim([0.0, 1.05])\n",
    "plt.xlabel('False Positive Rate', fontsize=10)\n",
    "plt.ylabel('True Positive Rate', fontsize=10)\n",
    "plt.title('Receiver operating characteristic curve', fontsize=15)\n",
    "plt.legend(loc=\"lower right\")\n",
    "plt.show()"
   ]
  },
  {
   "cell_type": "markdown",
   "metadata": {},
   "source": [
    "\n",
    "\n",
    "<img src=\"http://imgur.com/l5NasQj.png\" style=\"float: left; margin: 25px 15px 0px 0px; height: 25px\">\n",
    "\n",
    "## 2. Different categories of ratings\n",
    "\n",
    "---\n",
    "\n",
    "Yelp is finally ready to admit that their rating system sucks. No one cares about the ratings, they just use the site to find out what's nearby. The ratings are simply too unreliable for people. \n",
    "\n",
    "Yelp hypothesizes that this is, in fact, because different people tend to give their ratings based on different things. They believe that perhaps some people always base their ratings on quality of food, others on service, and perhaps other categories as well. \n",
    "\n",
    "1. Do some users tend to talk about service more than others in reviews/tips? Divide up the tips/reviews into more \"service-focused\" ones and those less concerned with service.\n",
    "2. Create two new ratings for businesses: ratings from just the service-focused reviews and ratings from the non-service reviews.\n",
    "3. Construct a regression model for each of the two ratings. They should use the same predictor variables (of your choice). \n",
    "4. Validate the performance of the models.\n",
    "5. Do the models coefficients differ at all? What does this tell you about the hypothesis that there are in fact two different kinds of ratings?"
   ]
  },
  {
   "cell_type": "code",
   "execution_count": 72,
   "metadata": {
    "collapsed": false
   },
   "outputs": [
    {
     "data": {
      "text/html": [
       "<div>\n",
       "<table border=\"1\" class=\"dataframe\">\n",
       "  <thead>\n",
       "    <tr style=\"text-align: right;\">\n",
       "      <th></th>\n",
       "      <th>business_id</th>\n",
       "      <th>stars</th>\n",
       "      <th>votes_cool</th>\n",
       "      <th>votes_funny</th>\n",
       "      <th>votes_useful</th>\n",
       "      <th>10_minutes</th>\n",
       "      <th>15_minutes</th>\n",
       "      <th>20_minutes</th>\n",
       "      <th>30_minutes</th>\n",
       "      <th>bar_food</th>\n",
       "      <th>...</th>\n",
       "      <th>service_great</th>\n",
       "      <th>staff_friendly</th>\n",
       "      <th>super_friendly</th>\n",
       "      <th>sweet_potato</th>\n",
       "      <th>tasted_like</th>\n",
       "      <th>time_vegas</th>\n",
       "      <th>try_place</th>\n",
       "      <th>ve_seen</th>\n",
       "      <th>ve_tried</th>\n",
       "      <th>wait_staff</th>\n",
       "    </tr>\n",
       "  </thead>\n",
       "  <tbody>\n",
       "    <tr>\n",
       "      <th>0</th>\n",
       "      <td>--jFTZmywe7StuZ2hEjxyA</td>\n",
       "      <td>3.5</td>\n",
       "      <td>11</td>\n",
       "      <td>7</td>\n",
       "      <td>13</td>\n",
       "      <td>0</td>\n",
       "      <td>0</td>\n",
       "      <td>0</td>\n",
       "      <td>0</td>\n",
       "      <td>0</td>\n",
       "      <td>...</td>\n",
       "      <td>0</td>\n",
       "      <td>0</td>\n",
       "      <td>0</td>\n",
       "      <td>0</td>\n",
       "      <td>0</td>\n",
       "      <td>0</td>\n",
       "      <td>0</td>\n",
       "      <td>0</td>\n",
       "      <td>0</td>\n",
       "      <td>0</td>\n",
       "    </tr>\n",
       "    <tr>\n",
       "      <th>1</th>\n",
       "      <td>-0HGqwlfw3I8nkJyMHxAsQ</td>\n",
       "      <td>3.0</td>\n",
       "      <td>0</td>\n",
       "      <td>3</td>\n",
       "      <td>1</td>\n",
       "      <td>0</td>\n",
       "      <td>0</td>\n",
       "      <td>0</td>\n",
       "      <td>0</td>\n",
       "      <td>0</td>\n",
       "      <td>...</td>\n",
       "      <td>0</td>\n",
       "      <td>1</td>\n",
       "      <td>0</td>\n",
       "      <td>0</td>\n",
       "      <td>0</td>\n",
       "      <td>0</td>\n",
       "      <td>0</td>\n",
       "      <td>0</td>\n",
       "      <td>0</td>\n",
       "      <td>1</td>\n",
       "    </tr>\n",
       "    <tr>\n",
       "      <th>2</th>\n",
       "      <td>-0VK5Z1BfUHUYq4PoBYNLw</td>\n",
       "      <td>4.0</td>\n",
       "      <td>2</td>\n",
       "      <td>2</td>\n",
       "      <td>1</td>\n",
       "      <td>0</td>\n",
       "      <td>0</td>\n",
       "      <td>0</td>\n",
       "      <td>0</td>\n",
       "      <td>0</td>\n",
       "      <td>...</td>\n",
       "      <td>0</td>\n",
       "      <td>0</td>\n",
       "      <td>0</td>\n",
       "      <td>0</td>\n",
       "      <td>0</td>\n",
       "      <td>0</td>\n",
       "      <td>0</td>\n",
       "      <td>0</td>\n",
       "      <td>0</td>\n",
       "      <td>0</td>\n",
       "    </tr>\n",
       "    <tr>\n",
       "      <th>3</th>\n",
       "      <td>-0bUDim5OGuv8R0Qqq6J4A</td>\n",
       "      <td>2.0</td>\n",
       "      <td>1</td>\n",
       "      <td>2</td>\n",
       "      <td>2</td>\n",
       "      <td>0</td>\n",
       "      <td>0</td>\n",
       "      <td>0</td>\n",
       "      <td>0</td>\n",
       "      <td>0</td>\n",
       "      <td>...</td>\n",
       "      <td>0</td>\n",
       "      <td>0</td>\n",
       "      <td>0</td>\n",
       "      <td>0</td>\n",
       "      <td>0</td>\n",
       "      <td>0</td>\n",
       "      <td>0</td>\n",
       "      <td>0</td>\n",
       "      <td>0</td>\n",
       "      <td>0</td>\n",
       "    </tr>\n",
       "    <tr>\n",
       "      <th>4</th>\n",
       "      <td>-1bOb2izeJBZjHC7NWxiPA</td>\n",
       "      <td>4.0</td>\n",
       "      <td>57</td>\n",
       "      <td>39</td>\n",
       "      <td>80</td>\n",
       "      <td>0</td>\n",
       "      <td>1</td>\n",
       "      <td>0</td>\n",
       "      <td>2</td>\n",
       "      <td>0</td>\n",
       "      <td>...</td>\n",
       "      <td>3</td>\n",
       "      <td>4</td>\n",
       "      <td>3</td>\n",
       "      <td>0</td>\n",
       "      <td>2</td>\n",
       "      <td>0</td>\n",
       "      <td>0</td>\n",
       "      <td>2</td>\n",
       "      <td>0</td>\n",
       "      <td>1</td>\n",
       "    </tr>\n",
       "  </tbody>\n",
       "</table>\n",
       "<p>5 rows × 105 columns</p>\n",
       "</div>"
      ],
      "text/plain": [
       "              business_id  stars  votes_cool  votes_funny  votes_useful  \\\n",
       "0  --jFTZmywe7StuZ2hEjxyA    3.5          11            7            13   \n",
       "1  -0HGqwlfw3I8nkJyMHxAsQ    3.0           0            3             1   \n",
       "2  -0VK5Z1BfUHUYq4PoBYNLw    4.0           2            2             1   \n",
       "3  -0bUDim5OGuv8R0Qqq6J4A    2.0           1            2             2   \n",
       "4  -1bOb2izeJBZjHC7NWxiPA    4.0          57           39            80   \n",
       "\n",
       "   10_minutes  15_minutes  20_minutes  30_minutes  bar_food     ...      \\\n",
       "0           0           0           0           0         0     ...       \n",
       "1           0           0           0           0         0     ...       \n",
       "2           0           0           0           0         0     ...       \n",
       "3           0           0           0           0         0     ...       \n",
       "4           0           1           0           2         0     ...       \n",
       "\n",
       "   service_great  staff_friendly  super_friendly  sweet_potato  tasted_like  \\\n",
       "0              0               0               0             0            0   \n",
       "1              0               1               0             0            0   \n",
       "2              0               0               0             0            0   \n",
       "3              0               0               0             0            0   \n",
       "4              3               4               3             0            2   \n",
       "\n",
       "   time_vegas  try_place  ve_seen  ve_tried  wait_staff  \n",
       "0           0          0        0         0           0  \n",
       "1           0          0        0         0           1  \n",
       "2           0          0        0         0           0  \n",
       "3           0          0        0         0           0  \n",
       "4           0          0        2         0           1  \n",
       "\n",
       "[5 rows x 105 columns]"
      ]
     },
     "execution_count": 72,
     "metadata": {},
     "output_type": "execute_result"
    }
   ],
   "source": [
    "business_reviews.head()"
   ]
  },
  {
   "cell_type": "code",
   "execution_count": 73,
   "metadata": {
    "collapsed": true
   },
   "outputs": [],
   "source": [
    "# Feature selection for service df\n",
    "service_cols = [u'business_id', u'stars', u'votes_cool', u'votes_funny', u'votes_useful', u'10_minutes', \n",
    "                u'15_minutes', u'20_minutes', u'30_minutes', \n",
    "                u'bottle_service', u'customer_service',  u'definitely_come', u'definitely_recommend', \n",
    "                u'food_service', u'friendly_staff', u'good_service', u'great_service', u'great_experience',\n",
    "                u'highly_recommend',\n",
    "                u'place_good', u'place_great', u'place_just', u'really_enjoyed', u'really_good', \n",
    "                u'really_like', u'really_nice', u'recommend_place', u'service_excellent', u'service_food', \n",
    "                u'service_friendly', u'service_good', u'service_great', u'staff_friendly', u'super_friendly',\n",
    "                u'wait_staff']\n",
    "\n",
    "\n",
    "rev_other_cols = [u'business_id', u'stars', u'votes_cool', u'votes_funny', u'votes_useful', u'bar_food', \n",
    "                 u'beer_selection', u'best_ve', u'bloody_mary', u'chicken_waffles', u'dance_floor', \n",
    "                 u'decided_try', u'definitely_come', u'definitely_recommend', u'didn_want', u'don_know', \n",
    "                 u'don_like', u'don_think', u'don_want', u'eggs_benedict', u'fast_food', u'feel_like',\n",
    "                 u'felt_like', u'fish_chips', u'food_amazing', u'food_came', u'food_delicious', u'food_good', \n",
    "                 u'food_great', u'food_just', u'french_fries', u'french_toast', u'friday_night', u'fried_chicken', \n",
    "                 u'good_food', u'good_place', u'good_thing', u'good_time', u'great_atmosphere', \n",
    "                 u'great_food', u'great_place', u'great_time', u'happy_hour', u'hash_browns', u'highly_recommend', \n",
    "                 u'hip_hop', u'ice_cream', u'just_like', u'just_ok', u'just_right', u'late_night', u'like_place', \n",
    "                 u'little_bit', u'long_time', u'looked_like', u'looks_like', u'love_place', u'mac_cheese', \n",
    "                 u'make_sure', u'mashed_potatoes', u'medium_rare', u'minutes_later', u'onion_rings', \n",
    "                 u'place_good', u'place_great', u'place_just', u'potato_fries', u'pretty_good', u'quality_food', \n",
    "                 u'really_enjoyed', u'really_good', u'really_like', \n",
    "                 u'really_nice', u'recommend_place', u'red_velvet', u'right_away', u'saturday_night', \n",
    "                 u'second_time', u'sweet_potato', u'tasted_like', u'try_place', u've_seen', u've_tried']"
   ]
  },
  {
   "cell_type": "code",
   "execution_count": 74,
   "metadata": {
    "collapsed": false
   },
   "outputs": [
    {
     "data": {
      "text/plain": [
       "(4132, 107)"
      ]
     },
     "execution_count": 74,
     "metadata": {},
     "output_type": "execute_result"
    }
   ],
   "source": [
    "# Creating 2 dfs...one for service related cols\n",
    "service_reviews = business_reviews[service_cols]\n",
    "reviews_other = business_reviews[rev_other_cols]\n",
    "\n",
    "# TENTATIVE New Rating: log(Non-Zero Mean)\n",
    "service_score = np.log(service_reviews.iloc[:, 1:].sum(axis=1) / np.sum(service_reviews.iloc[:, 1:] != 0, axis=1))\n",
    "other_score = np.log(reviews_other.iloc[:, 1:].sum(axis=1) / np.sum(reviews_other.iloc[:, 1:] != 0, axis=1))\n",
    "\n",
    "# Creating New Scores Columns\n",
    "business_reviews['service_score'] = service_score\n",
    "business_reviews['other_score'] = other_score\n",
    "\n",
    "business_reviews.shape"
   ]
  },
  {
   "cell_type": "code",
   "execution_count": 75,
   "metadata": {
    "collapsed": false
   },
   "outputs": [
    {
     "data": {
      "image/png": "[encoded data removed]",
      "text/plain": [
       "<matplotlib.figure.Figure at 0x114a97d90>"
      ]
     },
     "metadata": {
      "image/png": {
       "height": 379,
       "width": 598
      }
     },
     "output_type": "display_data"
    }
   ],
   "source": [
    "# Plotting distribution of scores\n",
    "\n",
    "f, ax = plt.subplots(1, 2, sharey=True)\n",
    "ax[0].hist(service_score, bins=50, color='b', label='Service')\n",
    "ax[0].set_xlabel('Score', fontsize=10)\n",
    "ax[0].set_ylabel('frequency', fontsize=10)\n",
    "ax[0].legend()\n",
    "\n",
    "ax[1].hist(other_score, bins=50, color='r', label='Other')\n",
    "ax[1].set_xlabel('Score', fontsize=10)\n",
    "ax[1].legend()\n",
    "\n",
    "plt.show()"
   ]
  },
  {
   "cell_type": "code",
   "execution_count": 76,
   "metadata": {
    "collapsed": false
   },
   "outputs": [],
   "source": [
    "# Design Matrix\n",
    "X_cols = business_reviews[business_reviews.columns[1:-2]]\n",
    "\n",
    "# Target: Service Score\n",
    "yserv_col = business_reviews[business_reviews.columns[-2:-1]]\n",
    "\n",
    "# Target: Other Score\n",
    "yoth_col = business_reviews[business_reviews.columns[-1:]]"
   ]
  },
  {
   "cell_type": "code",
   "execution_count": 77,
   "metadata": {
    "collapsed": false
   },
   "outputs": [],
   "source": [
    "# Converting to numpy arrays\n",
    "X = X_cols.values\n",
    "y_serv = yserv_col.values.reshape(yserv_col.shape[0])\n",
    "y_oth = yoth_col.values.reshape(yoth_col.shape[0])"
   ]
  },
  {
   "cell_type": "markdown",
   "metadata": {},
   "source": [
    "Regression Model: Service Score"
   ]
  },
  {
   "cell_type": "code",
   "execution_count": 78,
   "metadata": {
    "collapsed": true
   },
   "outputs": [],
   "source": [
    "ss = StandardScaler()\n",
    "Xn = ss.fit_transform(X)"
   ]
  },
  {
   "cell_type": "code",
   "execution_count": 79,
   "metadata": {
    "collapsed": false
   },
   "outputs": [
    {
     "data": {
      "text/plain": [
       "0.40983586566622465"
      ]
     },
     "execution_count": 79,
     "metadata": {},
     "output_type": "execute_result"
    }
   ],
   "source": [
    "linreg = LinearRegression()\n",
    "\n",
    "X_train, X_test, Y_train, Y_test = train_test_split(Xn, y_serv, test_size=0.33, random_state=4)\n",
    "\n",
    "linreg.fit(X_train, Y_train)\n",
    "linreg.score(X_test, Y_test)"
   ]
  },
  {
   "cell_type": "code",
   "execution_count": 80,
   "metadata": {
    "collapsed": false
   },
   "outputs": [
    {
     "data": {
      "image/png": "[encoded data removed]",
      "text/plain": [
       "<matplotlib.figure.Figure at 0x114a80610>"
      ]
     },
     "metadata": {
      "image/png": {
       "height": 396,
       "width": 593
      }
     },
     "output_type": "display_data"
    }
   ],
   "source": [
    "yhat_serv = linreg.predict(X_test)\n",
    "\n",
    "plt.scatter(Y_test, yhat_serv)\n",
    "plt.plot(Y_test, Y_test, linewidth=2.0)\n",
    "plt.title('Linear Regression Evaluation: Service Score')\n",
    "plt.xlabel('y_true')\n",
    "plt.ylabel('y_predicted')\n",
    "plt.xlim(0,6)\n",
    "plt.ylim(0)\n",
    "plt.show()"
   ]
  },
  {
   "cell_type": "code",
   "execution_count": 82,
   "metadata": {
    "collapsed": false
   },
   "outputs": [
    {
     "data": {
      "image/png": "[encoded data removed]",
      "text/plain": [
       "<matplotlib.figure.Figure at 0x114951490>"
      ]
     },
     "metadata": {
      "image/png": {
       "height": 396,
       "width": 589
      }
     },
     "output_type": "display_data"
    }
   ],
   "source": [
    "train_size, train_errors, test_errors = \\\n",
    "learning_curve(linreg,Xn, y_serv, train_sizes=np.arange(0.1, 1.1, 0.1),\n",
    "               scoring = 'neg_mean_squared_error',cv=10, n_jobs=3)\n",
    "\n",
    "train_e = -1*np.sum(train_errors, axis = 0)\n",
    "test_e = -1*np.sum(test_errors, axis = 0)\n",
    "\n",
    "plt.plot(train_size, train_e, 'b', label = 'train', linewidth=2.0);\n",
    "plt.plot(train_size, test_e, 'r', label = 'test', linewidth=2.0);\n",
    "plt.title('Learning Curve')\n",
    "plt.xlabel('Sample Size')\n",
    "plt.ylabel('Error')\n",
    "plt.xlim(300, 3750)\n",
    "\n",
    "plt.legend();"
   ]
  },
  {
   "cell_type": "markdown",
   "metadata": {},
   "source": [
    "Regression Model: 'Other' Score"
   ]
  },
  {
   "cell_type": "code",
   "execution_count": 83,
   "metadata": {
    "collapsed": false
   },
   "outputs": [
    {
     "data": {
      "text/plain": [
       "0.47790362229609018"
      ]
     },
     "execution_count": 83,
     "metadata": {},
     "output_type": "execute_result"
    }
   ],
   "source": [
    "lr = LinearRegression()\n",
    "\n",
    "X_train, X_test, Y_train, Y_test = train_test_split(Xn, y_oth, test_size=0.33, random_state=4)\n",
    "\n",
    "lr.fit(X_train, Y_train)\n",
    "lr.score(X_test, Y_test)"
   ]
  },
  {
   "cell_type": "code",
   "execution_count": 84,
   "metadata": {
    "collapsed": false
   },
   "outputs": [
    {
     "data": {
      "image/png": "[encoded data removed]",
      "text/plain": [
       "<matplotlib.figure.Figure at 0x1149c3fd0>"
      ]
     },
     "metadata": {
      "image/png": {
       "height": 396,
       "width": 589
      }
     },
     "output_type": "display_data"
    }
   ],
   "source": [
    "yhat_oth = lr.predict(X_test)\n",
    "\n",
    "plt.scatter(Y_test, yhat_oth, color='darkred', alpha=0.7)\n",
    "plt.plot(Y_test, Y_test, color='black', linewidth=2.0)\n",
    "plt.title('Linear Regression Evaluation: Other Score')\n",
    "plt.xlabel('y_true')\n",
    "plt.ylabel('y_predicted')\n",
    "plt.xlim(0,5.5)\n",
    "plt.ylim(0)\n",
    "plt.show()"
   ]
  },
  {
   "cell_type": "code",
   "execution_count": 85,
   "metadata": {
    "collapsed": false
   },
   "outputs": [
    {
     "data": {
      "image/png": "[encoded data removed]",
      "text/plain": [
       "<matplotlib.figure.Figure at 0x11c16cb50>"
      ]
     },
     "metadata": {
      "image/png": {
       "height": 396,
       "width": 604
      }
     },
     "output_type": "display_data"
    }
   ],
   "source": [
    "train_size, train_errors, test_errors = \\\n",
    "learning_curve(lr, Xn, y_oth, train_sizes=np.arange(0.1, 1.1, 0.1),\n",
    "               scoring = 'neg_mean_squared_error',cv=10, n_jobs=3)\n",
    "\n",
    "train_e = -1*np.sum(train_errors, axis = 0)\n",
    "test_e = -1*np.sum(test_errors, axis = 0)\n",
    "\n",
    "plt.plot(train_size, train_e, 'b', label = 'train', linewidth=2.0);\n",
    "plt.plot(train_size, test_e, 'r', label = 'test', linewidth=2.0);\n",
    "plt.title('Learning Curve')\n",
    "plt.xlabel('Sample Size')\n",
    "plt.ylabel('Error')\n",
    "plt.xlim(300)\n",
    "\n",
    "plt.legend();"
   ]
  },
  {
   "cell_type": "markdown",
   "metadata": {},
   "source": [
    "Model Coefficients"
   ]
  },
  {
   "cell_type": "code",
   "execution_count": 86,
   "metadata": {
    "collapsed": false
   },
   "outputs": [
    {
     "data": {
      "image/png": "[encoded data removed]",
      "text/plain": [
       "<matplotlib.figure.Figure at 0x114a0c810>"
      ]
     },
     "metadata": {
      "image/png": {
       "height": 393,
       "width": 580
      }
     },
     "output_type": "display_data"
    }
   ],
   "source": [
    "# Difference of model Coefs\n",
    "plt.hist(linreg.coef_ - lr.coef_, bins=20)\n",
    "plt.title('Model Coef Difference')\n",
    "plt.xlabel('Beta_i - Beta_j', fontsize=10)\n",
    "plt.show()"
   ]
  },
  {
   "cell_type": "code",
   "execution_count": null,
   "metadata": {
    "collapsed": true
   },
   "outputs": [],
   "source": [
    "# Instruction said create 2 new ratings\n",
    "# I did this, however it meant model the ratings for service and non service\n",
    "# predicting the existing ratings in 'stars'"
   ]
  },
  {
   "cell_type": "markdown",
   "metadata": {},
   "source": [
    "<img src=\"http://imgur.com/l5NasQj.png\" style=\"float: left; margin: 25px 15px 0px 0px; height: 25px\">\n",
    "\n",
    "## 3. Identifying \"elite\" users\n",
    "\n",
    "---\n",
    "\n",
    "Yelp, though having their own formula for determining whether a user is elite or not, is interested in delving deeper into what differentiates an elite user from a normal user at a broader level.\n",
    "\n",
    "Use a classification model to predict whether a user is elite or not. Note that users can be elite in some years and not in others.\n",
    "\n",
    "1. What things predict well whether a user is elite or not?\n",
    "- Validate the model.\n",
    "- If you were to remove the \"counts\" metrics for users (reviews, votes, compliments), what distinguishes an elite user, if anything? Validate the model and compare it to the one with the count variables.\n",
    "- Think of a way to visually represent your results in a compelling way.\n",
    "- Give a brief write-up of your findings.\n"
   ]
  },
  {
   "cell_type": "code",
   "execution_count": 87,
   "metadata": {
    "collapsed": false
   },
   "outputs": [
    {
     "name": "stdout",
     "output_type": "stream",
     "text": [
      "users df shape: (144206, 21)\n",
      "reviews df shape: (322398, 108)\n",
      "business_review df shape: (4132, 107)\n"
     ]
    }
   ],
   "source": [
    "print 'users df shape:', users.shape\n",
    "print 'reviews df shape:', reviews.shape\n",
    "print 'business_review df shape:', business_reviews.shape"
   ]
  },
  {
   "cell_type": "code",
   "execution_count": 88,
   "metadata": {
    "collapsed": false
   },
   "outputs": [
    {
     "data": {
      "image/png": "[encoded data removed]",
      "text/plain": [
       "<matplotlib.figure.Figure at 0x1104dc7d0>"
      ]
     },
     "metadata": {
      "image/png": {
       "height": 396,
       "width": 627
      }
     },
     "output_type": "display_data"
    }
   ],
   "source": [
    "plt.hist(users.yelping_since, bins=50)\n",
    "\n",
    "plt.title('Yelping Since')\n",
    "plt.xlabel('Year')\n",
    "plt.ylabel('frequency')\n",
    "plt.show()"
   ]
  },
  {
   "cell_type": "code",
   "execution_count": 89,
   "metadata": {
    "collapsed": false
   },
   "outputs": [
    {
     "data": {
      "text/html": [
       "<div>\n",
       "<table border=\"1\" class=\"dataframe\">\n",
       "  <thead>\n",
       "    <tr style=\"text-align: right;\">\n",
       "      <th></th>\n",
       "      <th>0</th>\n",
       "      <th>1</th>\n",
       "      <th>2</th>\n",
       "    </tr>\n",
       "  </thead>\n",
       "  <tbody>\n",
       "    <tr>\n",
       "      <th>yelping_since</th>\n",
       "      <td>2004</td>\n",
       "      <td>2004</td>\n",
       "      <td>2004</td>\n",
       "    </tr>\n",
       "    <tr>\n",
       "      <th>compliments_plain</th>\n",
       "      <td>959</td>\n",
       "      <td>89</td>\n",
       "      <td>2</td>\n",
       "    </tr>\n",
       "    <tr>\n",
       "      <th>review_count</th>\n",
       "      <td>1274</td>\n",
       "      <td>442</td>\n",
       "      <td>66</td>\n",
       "    </tr>\n",
       "    <tr>\n",
       "      <th>compliments_cute</th>\n",
       "      <td>206</td>\n",
       "      <td>23</td>\n",
       "      <td>2</td>\n",
       "    </tr>\n",
       "    <tr>\n",
       "      <th>compliments_writer</th>\n",
       "      <td>327</td>\n",
       "      <td>24</td>\n",
       "      <td>2</td>\n",
       "    </tr>\n",
       "    <tr>\n",
       "      <th>fans</th>\n",
       "      <td>1179</td>\n",
       "      <td>100</td>\n",
       "      <td>4</td>\n",
       "    </tr>\n",
       "    <tr>\n",
       "      <th>compliments_note</th>\n",
       "      <td>611</td>\n",
       "      <td>83</td>\n",
       "      <td>1</td>\n",
       "    </tr>\n",
       "    <tr>\n",
       "      <th>compliments_hot</th>\n",
       "      <td>1094</td>\n",
       "      <td>101</td>\n",
       "      <td>1</td>\n",
       "    </tr>\n",
       "    <tr>\n",
       "      <th>compliments_cool</th>\n",
       "      <td>1642</td>\n",
       "      <td>145</td>\n",
       "      <td>1</td>\n",
       "    </tr>\n",
       "    <tr>\n",
       "      <th>compliments_profile</th>\n",
       "      <td>116</td>\n",
       "      <td>9</td>\n",
       "      <td>NaN</td>\n",
       "    </tr>\n",
       "    <tr>\n",
       "      <th>average_stars</th>\n",
       "      <td>3.66</td>\n",
       "      <td>3.6</td>\n",
       "      <td>3.8</td>\n",
       "    </tr>\n",
       "    <tr>\n",
       "      <th>compliments_more</th>\n",
       "      <td>134</td>\n",
       "      <td>19</td>\n",
       "      <td>1</td>\n",
       "    </tr>\n",
       "    <tr>\n",
       "      <th>elite</th>\n",
       "      <td>[2005, 2006, 2007, 2008, 2009, 2010, 2011, 201...</td>\n",
       "      <td>[2005, 2006, 2007, 2008, 2009, 2010, 2011, 201...</td>\n",
       "      <td>[2005]</td>\n",
       "    </tr>\n",
       "    <tr>\n",
       "      <th>name</th>\n",
       "      <td>Jeremy</td>\n",
       "      <td>Michael</td>\n",
       "      <td>Katherine</td>\n",
       "    </tr>\n",
       "    <tr>\n",
       "      <th>user_id</th>\n",
       "      <td>rpOyqD_893cqmDAtJLbdog</td>\n",
       "      <td>4U9kSBLuBDU391x6bxU-YA</td>\n",
       "      <td>SIBCL7HBkrP4llolm4SC2A</td>\n",
       "    </tr>\n",
       "    <tr>\n",
       "      <th>votes_cool</th>\n",
       "      <td>11093</td>\n",
       "      <td>732</td>\n",
       "      <td>13</td>\n",
       "    </tr>\n",
       "    <tr>\n",
       "      <th>compliments_list</th>\n",
       "      <td>38</td>\n",
       "      <td>4</td>\n",
       "      <td>NaN</td>\n",
       "    </tr>\n",
       "    <tr>\n",
       "      <th>votes_funny</th>\n",
       "      <td>7681</td>\n",
       "      <td>908</td>\n",
       "      <td>11</td>\n",
       "    </tr>\n",
       "    <tr>\n",
       "      <th>compliments_photos</th>\n",
       "      <td>330</td>\n",
       "      <td>24</td>\n",
       "      <td>NaN</td>\n",
       "    </tr>\n",
       "    <tr>\n",
       "      <th>compliments_funny</th>\n",
       "      <td>580</td>\n",
       "      <td>120</td>\n",
       "      <td>NaN</td>\n",
       "    </tr>\n",
       "    <tr>\n",
       "      <th>votes_useful</th>\n",
       "      <td>14199</td>\n",
       "      <td>1483</td>\n",
       "      <td>34</td>\n",
       "    </tr>\n",
       "  </tbody>\n",
       "</table>\n",
       "</div>"
      ],
      "text/plain": [
       "                                                                     0  \\\n",
       "yelping_since                                                     2004   \n",
       "compliments_plain                                                  959   \n",
       "review_count                                                      1274   \n",
       "compliments_cute                                                   206   \n",
       "compliments_writer                                                 327   \n",
       "fans                                                              1179   \n",
       "compliments_note                                                   611   \n",
       "compliments_hot                                                   1094   \n",
       "compliments_cool                                                  1642   \n",
       "compliments_profile                                                116   \n",
       "average_stars                                                     3.66   \n",
       "compliments_more                                                   134   \n",
       "elite                [2005, 2006, 2007, 2008, 2009, 2010, 2011, 201...   \n",
       "name                                                            Jeremy   \n",
       "user_id                                         rpOyqD_893cqmDAtJLbdog   \n",
       "votes_cool                                                       11093   \n",
       "compliments_list                                                    38   \n",
       "votes_funny                                                       7681   \n",
       "compliments_photos                                                 330   \n",
       "compliments_funny                                                  580   \n",
       "votes_useful                                                     14199   \n",
       "\n",
       "                                                                     1  \\\n",
       "yelping_since                                                     2004   \n",
       "compliments_plain                                                   89   \n",
       "review_count                                                       442   \n",
       "compliments_cute                                                    23   \n",
       "compliments_writer                                                  24   \n",
       "fans                                                               100   \n",
       "compliments_note                                                    83   \n",
       "compliments_hot                                                    101   \n",
       "compliments_cool                                                   145   \n",
       "compliments_profile                                                  9   \n",
       "average_stars                                                      3.6   \n",
       "compliments_more                                                    19   \n",
       "elite                [2005, 2006, 2007, 2008, 2009, 2010, 2011, 201...   \n",
       "name                                                           Michael   \n",
       "user_id                                         4U9kSBLuBDU391x6bxU-YA   \n",
       "votes_cool                                                         732   \n",
       "compliments_list                                                     4   \n",
       "votes_funny                                                        908   \n",
       "compliments_photos                                                  24   \n",
       "compliments_funny                                                  120   \n",
       "votes_useful                                                      1483   \n",
       "\n",
       "                                          2  \n",
       "yelping_since                          2004  \n",
       "compliments_plain                         2  \n",
       "review_count                             66  \n",
       "compliments_cute                          2  \n",
       "compliments_writer                        2  \n",
       "fans                                      4  \n",
       "compliments_note                          1  \n",
       "compliments_hot                           1  \n",
       "compliments_cool                          1  \n",
       "compliments_profile                     NaN  \n",
       "average_stars                           3.8  \n",
       "compliments_more                          1  \n",
       "elite                                [2005]  \n",
       "name                              Katherine  \n",
       "user_id              SIBCL7HBkrP4llolm4SC2A  \n",
       "votes_cool                               13  \n",
       "compliments_list                        NaN  \n",
       "votes_funny                              11  \n",
       "compliments_photos                      NaN  \n",
       "compliments_funny                       NaN  \n",
       "votes_useful                             34  "
      ]
     },
     "execution_count": 89,
     "metadata": {},
     "output_type": "execute_result"
    }
   ],
   "source": [
    "users.head(3).T"
   ]
  },
  {
   "cell_type": "code",
   "execution_count": 90,
   "metadata": {
    "collapsed": true
   },
   "outputs": [],
   "source": [
    "users['years_yelping'] = 2015 - users.yelping_since"
   ]
  },
  {
   "cell_type": "code",
   "execution_count": 91,
   "metadata": {
    "collapsed": true
   },
   "outputs": [],
   "source": [
    "def last_elite(arg):\n",
    "    '''Function to find last time user was elite'''\n",
    "    return arg[1:-1].split(',')[-1].strip()\n",
    "\n",
    "users['last_elite'] = users.elite.apply(last_elite)"
   ]
  },
  {
   "cell_type": "code",
   "execution_count": 92,
   "metadata": {
    "collapsed": true
   },
   "outputs": [],
   "source": [
    "def times_elite(arg, current_yr = 2015):\n",
    "    '''Function determing number of years user was elite'''\n",
    "    yr = str(current_yr)\n",
    "    lst = arg[1:-1].split(', ')\n",
    "    if '' in lst:\n",
    "        return 0\n",
    "    elif yr in lst:\n",
    "        return len(lst) - 1\n",
    "    else:\n",
    "        return len(lst)\n",
    "    \n",
    "users['times_elite'] = users.elite.apply(times_elite)"
   ]
  },
  {
   "cell_type": "code",
   "execution_count": 93,
   "metadata": {
    "collapsed": false
   },
   "outputs": [],
   "source": [
    "# Bool column: User elite in 2014 or not\n",
    "users['elite_2014'] = users.last_elite == '2014'\n",
    "\n",
    "# Bool column: User elite in 2015 or not\n",
    "users['elite_2015'] = users.last_elite == '2015'"
   ]
  },
  {
   "cell_type": "code",
   "execution_count": 94,
   "metadata": {
    "collapsed": false
   },
   "outputs": [
    {
     "data": {
      "text/html": [
       "<div>\n",
       "<table border=\"1\" class=\"dataframe\">\n",
       "  <thead>\n",
       "    <tr style=\"text-align: right;\">\n",
       "      <th></th>\n",
       "      <th>0</th>\n",
       "      <th>1</th>\n",
       "    </tr>\n",
       "  </thead>\n",
       "  <tbody>\n",
       "    <tr>\n",
       "      <th>yelping_since</th>\n",
       "      <td>2004</td>\n",
       "      <td>2004</td>\n",
       "    </tr>\n",
       "    <tr>\n",
       "      <th>compliments_plain</th>\n",
       "      <td>959</td>\n",
       "      <td>89</td>\n",
       "    </tr>\n",
       "    <tr>\n",
       "      <th>review_count</th>\n",
       "      <td>1274</td>\n",
       "      <td>442</td>\n",
       "    </tr>\n",
       "    <tr>\n",
       "      <th>compliments_cute</th>\n",
       "      <td>206</td>\n",
       "      <td>23</td>\n",
       "    </tr>\n",
       "    <tr>\n",
       "      <th>compliments_writer</th>\n",
       "      <td>327</td>\n",
       "      <td>24</td>\n",
       "    </tr>\n",
       "    <tr>\n",
       "      <th>fans</th>\n",
       "      <td>1179</td>\n",
       "      <td>100</td>\n",
       "    </tr>\n",
       "    <tr>\n",
       "      <th>compliments_note</th>\n",
       "      <td>611</td>\n",
       "      <td>83</td>\n",
       "    </tr>\n",
       "    <tr>\n",
       "      <th>compliments_hot</th>\n",
       "      <td>1094</td>\n",
       "      <td>101</td>\n",
       "    </tr>\n",
       "    <tr>\n",
       "      <th>compliments_cool</th>\n",
       "      <td>1642</td>\n",
       "      <td>145</td>\n",
       "    </tr>\n",
       "    <tr>\n",
       "      <th>compliments_profile</th>\n",
       "      <td>116</td>\n",
       "      <td>9</td>\n",
       "    </tr>\n",
       "    <tr>\n",
       "      <th>average_stars</th>\n",
       "      <td>3.66</td>\n",
       "      <td>3.6</td>\n",
       "    </tr>\n",
       "    <tr>\n",
       "      <th>compliments_more</th>\n",
       "      <td>134</td>\n",
       "      <td>19</td>\n",
       "    </tr>\n",
       "    <tr>\n",
       "      <th>elite</th>\n",
       "      <td>[2005, 2006, 2007, 2008, 2009, 2010, 2011, 201...</td>\n",
       "      <td>[2005, 2006, 2007, 2008, 2009, 2010, 2011, 201...</td>\n",
       "    </tr>\n",
       "    <tr>\n",
       "      <th>name</th>\n",
       "      <td>Jeremy</td>\n",
       "      <td>Michael</td>\n",
       "    </tr>\n",
       "    <tr>\n",
       "      <th>user_id</th>\n",
       "      <td>rpOyqD_893cqmDAtJLbdog</td>\n",
       "      <td>4U9kSBLuBDU391x6bxU-YA</td>\n",
       "    </tr>\n",
       "    <tr>\n",
       "      <th>votes_cool</th>\n",
       "      <td>11093</td>\n",
       "      <td>732</td>\n",
       "    </tr>\n",
       "    <tr>\n",
       "      <th>compliments_list</th>\n",
       "      <td>38</td>\n",
       "      <td>4</td>\n",
       "    </tr>\n",
       "    <tr>\n",
       "      <th>votes_funny</th>\n",
       "      <td>7681</td>\n",
       "      <td>908</td>\n",
       "    </tr>\n",
       "    <tr>\n",
       "      <th>compliments_photos</th>\n",
       "      <td>330</td>\n",
       "      <td>24</td>\n",
       "    </tr>\n",
       "    <tr>\n",
       "      <th>compliments_funny</th>\n",
       "      <td>580</td>\n",
       "      <td>120</td>\n",
       "    </tr>\n",
       "    <tr>\n",
       "      <th>votes_useful</th>\n",
       "      <td>14199</td>\n",
       "      <td>1483</td>\n",
       "    </tr>\n",
       "    <tr>\n",
       "      <th>years_yelping</th>\n",
       "      <td>11</td>\n",
       "      <td>11</td>\n",
       "    </tr>\n",
       "    <tr>\n",
       "      <th>last_elite</th>\n",
       "      <td>2015</td>\n",
       "      <td>2015</td>\n",
       "    </tr>\n",
       "    <tr>\n",
       "      <th>times_elite</th>\n",
       "      <td>10</td>\n",
       "      <td>10</td>\n",
       "    </tr>\n",
       "    <tr>\n",
       "      <th>elite_2014</th>\n",
       "      <td>False</td>\n",
       "      <td>False</td>\n",
       "    </tr>\n",
       "    <tr>\n",
       "      <th>elite_2015</th>\n",
       "      <td>True</td>\n",
       "      <td>True</td>\n",
       "    </tr>\n",
       "  </tbody>\n",
       "</table>\n",
       "</div>"
      ],
      "text/plain": [
       "                                                                     0  \\\n",
       "yelping_since                                                     2004   \n",
       "compliments_plain                                                  959   \n",
       "review_count                                                      1274   \n",
       "compliments_cute                                                   206   \n",
       "compliments_writer                                                 327   \n",
       "fans                                                              1179   \n",
       "compliments_note                                                   611   \n",
       "compliments_hot                                                   1094   \n",
       "compliments_cool                                                  1642   \n",
       "compliments_profile                                                116   \n",
       "average_stars                                                     3.66   \n",
       "compliments_more                                                   134   \n",
       "elite                [2005, 2006, 2007, 2008, 2009, 2010, 2011, 201...   \n",
       "name                                                            Jeremy   \n",
       "user_id                                         rpOyqD_893cqmDAtJLbdog   \n",
       "votes_cool                                                       11093   \n",
       "compliments_list                                                    38   \n",
       "votes_funny                                                       7681   \n",
       "compliments_photos                                                 330   \n",
       "compliments_funny                                                  580   \n",
       "votes_useful                                                     14199   \n",
       "years_yelping                                                       11   \n",
       "last_elite                                                        2015   \n",
       "times_elite                                                         10   \n",
       "elite_2014                                                       False   \n",
       "elite_2015                                                        True   \n",
       "\n",
       "                                                                     1  \n",
       "yelping_since                                                     2004  \n",
       "compliments_plain                                                   89  \n",
       "review_count                                                       442  \n",
       "compliments_cute                                                    23  \n",
       "compliments_writer                                                  24  \n",
       "fans                                                               100  \n",
       "compliments_note                                                    83  \n",
       "compliments_hot                                                    101  \n",
       "compliments_cool                                                   145  \n",
       "compliments_profile                                                  9  \n",
       "average_stars                                                      3.6  \n",
       "compliments_more                                                    19  \n",
       "elite                [2005, 2006, 2007, 2008, 2009, 2010, 2011, 201...  \n",
       "name                                                           Michael  \n",
       "user_id                                         4U9kSBLuBDU391x6bxU-YA  \n",
       "votes_cool                                                         732  \n",
       "compliments_list                                                     4  \n",
       "votes_funny                                                        908  \n",
       "compliments_photos                                                  24  \n",
       "compliments_funny                                                  120  \n",
       "votes_useful                                                      1483  \n",
       "years_yelping                                                       11  \n",
       "last_elite                                                        2015  \n",
       "times_elite                                                         10  \n",
       "elite_2014                                                       False  \n",
       "elite_2015                                                        True  "
      ]
     },
     "execution_count": 94,
     "metadata": {},
     "output_type": "execute_result"
    }
   ],
   "source": [
    "users.head(2).T"
   ]
  },
  {
   "cell_type": "code",
   "execution_count": 95,
   "metadata": {
    "collapsed": false
   },
   "outputs": [],
   "source": [
    "test_cols = [u'user_id', u'name', u'compliments_plain', u'review_count',\n",
    "       u'compliments_cute', u'compliments_writer', u'fans',\n",
    "       u'compliments_note', u'compliments_hot', u'compliments_cool',\n",
    "       u'compliments_profile', u'average_stars', u'compliments_more',\n",
    "       u'votes_cool', u'compliments_list', u'votes_funny',\n",
    "       u'compliments_photos', u'compliments_funny', u'votes_useful',\n",
    "       u'years_yelping', u'times_elite', u'elite_2014', u'elite_2015']\n",
    "\n",
    "users = users[test_cols]"
   ]
  },
  {
   "cell_type": "code",
   "execution_count": 96,
   "metadata": {
    "collapsed": false
   },
   "outputs": [
    {
     "data": {
      "text/plain": [
       "(144206, 23)"
      ]
     },
     "execution_count": 96,
     "metadata": {},
     "output_type": "execute_result"
    }
   ],
   "source": [
    "users.shape"
   ]
  },
  {
   "cell_type": "code",
   "execution_count": 97,
   "metadata": {
    "collapsed": false
   },
   "outputs": [],
   "source": [
    "# Filling NaN values with 0\n",
    "users.fillna(value=0, inplace=True)"
   ]
  },
  {
   "cell_type": "code",
   "execution_count": 98,
   "metadata": {
    "collapsed": false
   },
   "outputs": [],
   "source": [
    "# Desgin Matrix and Target\n",
    "X_cols = users.columns[2:-1]\n",
    "y_col = users.columns[-1]\n",
    "\n",
    "# Numpy arrays\n",
    "X = users[X_cols].values\n",
    "y = users[y_col].values"
   ]
  },
  {
   "cell_type": "code",
   "execution_count": 99,
   "metadata": {
    "collapsed": false
   },
   "outputs": [
    {
     "name": "stdout",
     "output_type": "stream",
     "text": [
      "Baseline Accuracy: 0.0673758373438\n"
     ]
    }
   ],
   "source": [
    "print 'Baseline Accuracy:', np.mean(y)"
   ]
  },
  {
   "cell_type": "markdown",
   "metadata": {},
   "source": [
    "Classification Model for Elite Users"
   ]
  },
  {
   "cell_type": "code",
   "execution_count": 100,
   "metadata": {
    "collapsed": true
   },
   "outputs": [],
   "source": [
    "ss = StandardScaler()\n",
    "\n",
    "Xn = ss.fit_transform(X)"
   ]
  },
  {
   "cell_type": "code",
   "execution_count": 103,
   "metadata": {
    "collapsed": false
   },
   "outputs": [],
   "source": [
    "logreg = LogisticRegression()\n",
    "logreg_score = cross_val_score(logreg, Xn, y, cv=5, n_jobs=1)"
   ]
  },
  {
   "cell_type": "code",
   "execution_count": 104,
   "metadata": {
    "collapsed": false
   },
   "outputs": [
    {
     "data": {
      "text/plain": [
       "0.95678407595805726"
      ]
     },
     "execution_count": 104,
     "metadata": {},
     "output_type": "execute_result"
    }
   ],
   "source": [
    "logreg_score.mean()"
   ]
  },
  {
   "cell_type": "code",
   "execution_count": null,
   "metadata": {
    "collapsed": true
   },
   "outputs": [],
   "source": [
    "# Remove count metrics and see how model changes\n",
    "# If you were to remove the \"counts\" metrics for users (reviews, votes, compliments), \n",
    "# what distinguishes an elite user, \n",
    "# if anything? Validate the model and compare it to the one with the count variables."
   ]
  },
  {
   "cell_type": "markdown",
   "metadata": {},
   "source": [
    "<img src=\"http://imgur.com/GCAf1UX.png\" style=\"float: left; margin: 25px 15px 0px 0px; height: 25px\">\n",
    "\n",
    "## 4. Find something interesting on your own\n",
    "\n",
    "---\n",
    "\n",
    "You want to impress your superiors at Yelp by doing some investigation into the data on your own. You want to do classification, but you're not sure on what.\n",
    "\n",
    "1. Create a hypothesis or hypotheses about the data based on whatever you are interested in, as long as it is predicting a category of some kind (classification).\n",
    "2. Explore the data visually (ideally related to this hypothesis).\n",
    "3. Build one or more classification models to predict your target variable. **Your modeling should include gridsearching to find optimal model parameters.**\n",
    "4. Evaluate the performance of your model. Explain why your model may have chosen those specific parameters during the gridsearch process.\n",
    "5. Write up what the model tells you. Does it validate or invalidate your hypothesis? Write this up as if for a non-technical audience."
   ]
  },
  {
   "cell_type": "code",
   "execution_count": 198,
   "metadata": {
    "collapsed": false
   },
   "outputs": [
    {
     "data": {
      "text/html": [
       "<div>\n",
       "<table border=\"1\" class=\"dataframe\">\n",
       "  <thead>\n",
       "    <tr style=\"text-align: right;\">\n",
       "      <th></th>\n",
       "      <th>business_id</th>\n",
       "      <th>morning_checkins</th>\n",
       "      <th>afternoon_checkins</th>\n",
       "      <th>evening_checkins</th>\n",
       "      <th>night_checkins</th>\n",
       "    </tr>\n",
       "  </thead>\n",
       "  <tbody>\n",
       "    <tr>\n",
       "      <th>0</th>\n",
       "      <td>--jFTZmywe7StuZ2hEjxyA</td>\n",
       "      <td>17.0</td>\n",
       "      <td>50.0</td>\n",
       "      <td>13.0</td>\n",
       "      <td>4.0</td>\n",
       "    </tr>\n",
       "    <tr>\n",
       "      <th>1</th>\n",
       "      <td>-0HGqwlfw3I8nkJyMHxAsQ</td>\n",
       "      <td>16.0</td>\n",
       "      <td>17.0</td>\n",
       "      <td>5.0</td>\n",
       "      <td>0.0</td>\n",
       "    </tr>\n",
       "    <tr>\n",
       "      <th>2</th>\n",
       "      <td>-0VK5Z1BfUHUYq4PoBYNLw</td>\n",
       "      <td>0.0</td>\n",
       "      <td>0.0</td>\n",
       "      <td>12.0</td>\n",
       "      <td>15.0</td>\n",
       "    </tr>\n",
       "    <tr>\n",
       "      <th>3</th>\n",
       "      <td>-0bUDim5OGuv8R0Qqq6J4A</td>\n",
       "      <td>15.0</td>\n",
       "      <td>5.0</td>\n",
       "      <td>2.0</td>\n",
       "      <td>6.0</td>\n",
       "    </tr>\n",
       "    <tr>\n",
       "      <th>4</th>\n",
       "      <td>-1bOb2izeJBZjHC7NWxiPA</td>\n",
       "      <td>476.0</td>\n",
       "      <td>117.0</td>\n",
       "      <td>2.0</td>\n",
       "      <td>1.0</td>\n",
       "    </tr>\n",
       "  </tbody>\n",
       "</table>\n",
       "</div>"
      ],
      "text/plain": [
       "              business_id  morning_checkins  afternoon_checkins  \\\n",
       "0  --jFTZmywe7StuZ2hEjxyA              17.0                50.0   \n",
       "1  -0HGqwlfw3I8nkJyMHxAsQ              16.0                17.0   \n",
       "2  -0VK5Z1BfUHUYq4PoBYNLw               0.0                 0.0   \n",
       "3  -0bUDim5OGuv8R0Qqq6J4A              15.0                 5.0   \n",
       "4  -1bOb2izeJBZjHC7NWxiPA             476.0               117.0   \n",
       "\n",
       "   evening_checkins  night_checkins  \n",
       "0              13.0             4.0  \n",
       "1               5.0             0.0  \n",
       "2              12.0            15.0  \n",
       "3               2.0             6.0  \n",
       "4               2.0             1.0  "
      ]
     },
     "execution_count": 198,
     "metadata": {},
     "output_type": "execute_result"
    }
   ],
   "source": [
    "checkins_tod.head()"
   ]
  },
  {
   "cell_type": "code",
   "execution_count": 205,
   "metadata": {
    "collapsed": false
   },
   "outputs": [
    {
     "data": {
      "text/plain": [
       "(3846, 5)"
      ]
     },
     "execution_count": 205,
     "metadata": {},
     "output_type": "execute_result"
    }
   ],
   "source": [
    "checkins_tod.shape"
   ]
  },
  {
   "cell_type": "code",
   "execution_count": 216,
   "metadata": {
    "collapsed": false
   },
   "outputs": [],
   "source": [
    "checkins_stars = pd.merge(checkins_tod, business_reviews.iloc[:, :2], left_on='business_id', right_on='business_id')"
   ]
  },
  {
   "cell_type": "code",
   "execution_count": 226,
   "metadata": {
    "collapsed": false
   },
   "outputs": [],
   "source": [
    "checkins_stars['good_rtg'] = checkins_stars.stars.map(lambda x: 1 if x >= 3.5 else 0)"
   ]
  },
  {
   "cell_type": "code",
   "execution_count": 227,
   "metadata": {
    "collapsed": false
   },
   "outputs": [
    {
     "data": {
      "text/html": [
       "<div>\n",
       "<table border=\"1\" class=\"dataframe\">\n",
       "  <thead>\n",
       "    <tr style=\"text-align: right;\">\n",
       "      <th></th>\n",
       "      <th>business_id</th>\n",
       "      <th>morning_checkins</th>\n",
       "      <th>afternoon_checkins</th>\n",
       "      <th>evening_checkins</th>\n",
       "      <th>night_checkins</th>\n",
       "      <th>stars</th>\n",
       "      <th>good_rtg</th>\n",
       "    </tr>\n",
       "  </thead>\n",
       "  <tbody>\n",
       "    <tr>\n",
       "      <th>0</th>\n",
       "      <td>--jFTZmywe7StuZ2hEjxyA</td>\n",
       "      <td>17.0</td>\n",
       "      <td>50.0</td>\n",
       "      <td>13.0</td>\n",
       "      <td>4.0</td>\n",
       "      <td>3.5</td>\n",
       "      <td>1</td>\n",
       "    </tr>\n",
       "    <tr>\n",
       "      <th>1</th>\n",
       "      <td>-0HGqwlfw3I8nkJyMHxAsQ</td>\n",
       "      <td>16.0</td>\n",
       "      <td>17.0</td>\n",
       "      <td>5.0</td>\n",
       "      <td>0.0</td>\n",
       "      <td>3.0</td>\n",
       "      <td>0</td>\n",
       "    </tr>\n",
       "    <tr>\n",
       "      <th>2</th>\n",
       "      <td>-0VK5Z1BfUHUYq4PoBYNLw</td>\n",
       "      <td>0.0</td>\n",
       "      <td>0.0</td>\n",
       "      <td>12.0</td>\n",
       "      <td>15.0</td>\n",
       "      <td>4.0</td>\n",
       "      <td>1</td>\n",
       "    </tr>\n",
       "    <tr>\n",
       "      <th>3</th>\n",
       "      <td>-0bUDim5OGuv8R0Qqq6J4A</td>\n",
       "      <td>15.0</td>\n",
       "      <td>5.0</td>\n",
       "      <td>2.0</td>\n",
       "      <td>6.0</td>\n",
       "      <td>2.0</td>\n",
       "      <td>0</td>\n",
       "    </tr>\n",
       "    <tr>\n",
       "      <th>4</th>\n",
       "      <td>-1bOb2izeJBZjHC7NWxiPA</td>\n",
       "      <td>476.0</td>\n",
       "      <td>117.0</td>\n",
       "      <td>2.0</td>\n",
       "      <td>1.0</td>\n",
       "      <td>4.0</td>\n",
       "      <td>1</td>\n",
       "    </tr>\n",
       "  </tbody>\n",
       "</table>\n",
       "</div>"
      ],
      "text/plain": [
       "              business_id  morning_checkins  afternoon_checkins  \\\n",
       "0  --jFTZmywe7StuZ2hEjxyA              17.0                50.0   \n",
       "1  -0HGqwlfw3I8nkJyMHxAsQ              16.0                17.0   \n",
       "2  -0VK5Z1BfUHUYq4PoBYNLw               0.0                 0.0   \n",
       "3  -0bUDim5OGuv8R0Qqq6J4A              15.0                 5.0   \n",
       "4  -1bOb2izeJBZjHC7NWxiPA             476.0               117.0   \n",
       "\n",
       "   evening_checkins  night_checkins  stars  good_rtg  \n",
       "0              13.0             4.0    3.5         1  \n",
       "1               5.0             0.0    3.0         0  \n",
       "2              12.0            15.0    4.0         1  \n",
       "3               2.0             6.0    2.0         0  \n",
       "4               2.0             1.0    4.0         1  "
      ]
     },
     "execution_count": 227,
     "metadata": {},
     "output_type": "execute_result"
    }
   ],
   "source": [
    "checkins_stars.head()"
   ]
  },
  {
   "cell_type": "markdown",
   "metadata": {},
   "source": [
    "Will Explore if checkins during certain parts of the day impact stars rating."
   ]
  },
  {
   "cell_type": "code",
   "execution_count": 223,
   "metadata": {
    "collapsed": false
   },
   "outputs": [
    {
     "data": {
      "image/png": "[encoded data removed]",
      "text/plain": [
       "<matplotlib.figure.Figure at 0x1359eec50>"
      ]
     },
     "metadata": {
      "image/png": {
       "height": 381,
       "width": 592
      }
     },
     "output_type": "display_data"
    }
   ],
   "source": [
    "sns.distplot(checkins_stars.stars, kde=False);"
   ]
  },
  {
   "cell_type": "code",
   "execution_count": 234,
   "metadata": {
    "collapsed": false
   },
   "outputs": [
    {
     "name": "stdout",
     "output_type": "stream",
     "text": [
      "Baseline Accuracy: 0.638065522621\n"
     ]
    }
   ],
   "source": [
    "print 'Baseline Accuracy:', np.mean(checkins_stars.good_rtg)"
   ]
  },
  {
   "cell_type": "code",
   "execution_count": null,
   "metadata": {
    "collapsed": true
   },
   "outputs": [],
   "source": []
  },
  {
   "cell_type": "code",
   "execution_count": 230,
   "metadata": {
    "collapsed": false
   },
   "outputs": [],
   "source": [
    "X = checkins_stars.iloc[:, 2:-2].values\n",
    "y = checkins_stars.iloc[:, -1].values"
   ]
  },
  {
   "cell_type": "code",
   "execution_count": 231,
   "metadata": {
    "collapsed": true
   },
   "outputs": [],
   "source": [
    "ss = StandardScaler()\n",
    "Xn = ss.fit_transform(X)"
   ]
  },
  {
   "cell_type": "code",
   "execution_count": 232,
   "metadata": {
    "collapsed": false
   },
   "outputs": [
    {
     "name": "stdout",
     "output_type": "stream",
     "text": [
      "Fitting 5 folds for each of 100 candidates, totalling 500 fits\n",
      "{'penalty': 'l2', 'C': 0.0001, 'solver': 'liblinear'}\n"
     ]
    },
    {
     "name": "stderr",
     "output_type": "stream",
     "text": [
      "[Parallel(n_jobs=2)]: Done 500 out of 500 | elapsed:    1.7s finished\n"
     ]
    }
   ],
   "source": [
    "lr_params = {\n",
    "    'penalty':['l1','l2'],\n",
    "    'solver':['liblinear'],\n",
    "    'C':np.linspace(0.0001, 1000, 50)\n",
    "}\n",
    "\n",
    "lr_gs = GridSearchCV(LogisticRegression(), lr_params, cv=5, verbose=1, n_jobs=2)\n",
    "\n",
    "lr_gs.fit(Xn, y)\n",
    "print lr_gs.best_params_\n",
    "best_lr = lr_gs.best_estimator_"
   ]
  },
  {
   "cell_type": "code",
   "execution_count": 235,
   "metadata": {
    "collapsed": false
   },
   "outputs": [
    {
     "name": "stdout",
     "output_type": "stream",
     "text": [
      "Logistic Regression:\n",
      "[0.63766233766233771, 0.63766233766233771, 0.63849154746423931, 0.63849154746423931, 0.63802083333333337]\n",
      "0.638065720717\n",
      "Baseline accuracy: 0.638065522621\n"
     ]
    }
   ],
   "source": [
    "cv_indices = StratifiedKFold(y, n_folds=5)\n",
    "\n",
    "lr_scores = []\n",
    "\n",
    "for train_idx, test_idx in cv_indices:\n",
    "    \n",
    "    X_train, y_train = Xn[train_idx, :], y[train_idx]\n",
    "    X_test, y_test = Xn[test_idx, :], y[test_idx]\n",
    "    \n",
    "    best_lr.fit(X_train, y_train)\n",
    "    lr_scores.append(best_lr.score(X_test, y_test))\n",
    "\n",
    "print 'Logistic Regression:'\n",
    "print lr_scores\n",
    "print np.mean(lr_scores)\n",
    "\n",
    "print 'Baseline accuracy:', np.mean(y)"
   ]
  },
  {
   "cell_type": "code",
   "execution_count": 241,
   "metadata": {
    "collapsed": false
   },
   "outputs": [
    {
     "name": "stdout",
     "output_type": "stream",
     "text": [
      "Average score: 0.638 +/- 0.000372\n"
     ]
    }
   ],
   "source": [
    "lin_model = SVC(kernel='linear')\n",
    "\n",
    "scores = cross_val_score(lin_model, Xn, y, cv=5)\n",
    "sm = scores.mean()\n",
    "ss = scores.std()\n",
    "print \"Average score: {:0.3} +/- {:0.3}\".format(sm, ss)"
   ]
  },
  {
   "cell_type": "code",
   "execution_count": 269,
   "metadata": {
    "collapsed": false
   },
   "outputs": [
    {
     "name": "stdout",
     "output_type": "stream",
     "text": [
      "Average score: 0.638 +/- 0.000729\n"
     ]
    }
   ],
   "source": [
    "rbf_model = SVC(kernel='rbf')\n",
    "\n",
    "scores = cross_val_score(rbf_model, Xn, y, cv=5)\n",
    "sm = scores.mean()\n",
    "ss = scores.std()\n",
    "print \"Average score: {:0.3} +/- {:0.3}\".format(sm, ss)"
   ]
  },
  {
   "cell_type": "markdown",
   "metadata": {},
   "source": [
    "<img src=\"http://imgur.com/GCAf1UX.png\" style=\"float: left; margin: 25px 15px 0px 0px; height: 25px\">\n",
    "\n",
    "## 5. ROC and Precision-recall\n",
    "\n",
    "---\n",
    "\n",
    "Some categories have fewer overall businesses than others. Choose two categories of businesses to predict, one that makes your proportion of target classes as even as possible, and another that has very few businesses and thus makes the target varible imbalanced.\n",
    "\n",
    "1. Create two classification models predicting these categories. Optimize the models and choose variables as you see fit.\n",
    "- Make confusion matrices for your models. Describe the confusion matrices and explain what they tell you about your models' performance.\n",
    "- Make ROC curves for both models. What do the ROC curves describe and what do they tell you about your model?\n",
    "- Make Precision-Recall curves for the models. What do they describe? How do they compare to the ROC curves?\n",
    "- Explain when Precision-Recall may be preferable to ROC. Is that the case in either of your models?"
   ]
  },
  {
   "cell_type": "code",
   "execution_count": null,
   "metadata": {
    "collapsed": true
   },
   "outputs": [],
   "source": []
  },
  {
   "cell_type": "markdown",
   "metadata": {
    "collapsed": true
   },
   "source": [
    "## OOP, Stochastic Gradient Descent, and Linear Algebra\n",
    "\n",
    "---\n",
    "\n",
    "In this part of the project, you will implement machine learning algorithms we have covered in class from scratch. \n",
    "\n",
    "--- "
   ]
  },
  {
   "cell_type": "markdown",
   "metadata": {},
   "source": [
    "<img src=\"http://imgur.com/GCAf1UX.png\" style=\"float: left; margin: 25px 15px 0px 0px; height: 25px\">\n",
    "\n",
    "### 6. Implement the `LinearRegrssion` class using Stochastic Gradient Descent to include the following: \n",
    "\n",
    "- An option to regularize the model with Ridge Regression. The method should automatically calculate the best `alpha` for the user. The closed form solution for Ridge Regression may be helpful [Hint: Think of the `n_alphas` parameter in sklearn]\n",
    "\n",
    "\n",
    "Protip: Compare if your implemenation works by applying it on the Diabetes Dataset and seeing it how it compares to opensource implemenations in `sklearn` and `statsmodels`. \n",
    "\n",
    "http://statsmodels.sourceforge.net/devel/examples/#regression\n",
    "\n",
    "http://scikit-learn.org/stable/auto_examples/linear_model/plot_ols.html"
   ]
  },
  {
   "cell_type": "markdown",
   "metadata": {},
   "source": [
    "<img src=\"http://imgur.com/GCAf1UX.png\" style=\"float: left; margin: 25px 15px 0px 0px; height: 25px\">\n",
    "\n",
    "### 7. Extend the Binary `LogisticRegression` model to implement Multi-class classification that fits the model using Stochastic Gradient Descent. Include the following : \n",
    "\n",
    "- Use the program we coded in class that implemented Logistic regression for Binary classification and extend it to implement Multi-class classification \n",
    "  - [Binary Logistic regression program](https://github.com/ga-students/DSI-SF-5/blob/master/curriculum/week-04/logistic_regression/Logistic_regression.py)\n",
    "\n",
    "- An option to regularize the model with Ridge Regression. The method should automatically calculate the best `alpha` for the user. The closed form solution for Ridge Regression may be helpful [Hint: Think of the `n_alphas` parameter in sklear\n",
    "\n",
    "Check if the results of your `LogisticRegression` implementation matches with the Sklearn implementation: http://scikit-learn.org/stable/modules/generated/sklearn.linear_model.LogisticRegression.html"
   ]
  },
  {
   "cell_type": "markdown",
   "metadata": {},
   "source": [
    "<img src=\"http://imgur.com/GCAf1UX.png\" style=\"float: left; margin: 25px 15px 0px 0px; height: 25px\">\n",
    "### 8. Singular Value Decomposition \n",
    "\n",
    "- Read articles on image compression with SVD and use `numpy` apply it to images from the MNIST Datasets. To get the MNIST Datset, use the following comands. Note that the `mnist` data has shape `(70000, 784)`. You will need to convert it to 28x28 images [Hint: `np.reshape`]. \n",
    "       \n",
    "       from sklearn.datasets import fetch_mldata\n",
    "       mnist = fetch_mldata('MNIST original', data_home=custom_data_home)\n",
    "\n",
    "    https://inst.eecs.berkeley.edu/~ee127a/book/login/l_svd_apps_image.html\n",
    "\n",
    "    http://www.frankcleary.com/svdimage/\n",
    "    \n",
    "    \n",
    "- Apply Logistic Regression to classify MNIST Images. This may require having the images be `784` dimensions rather than `28x28`. Compare results of the classifier on a test set when you apply it on the raw dataset vs. the compressed version of dataset from SVD. "
   ]
  },
  {
   "cell_type": "markdown",
   "metadata": {},
   "source": [
    "## Optional: Interview Practice"
   ]
  },
  {
   "cell_type": "markdown",
   "metadata": {},
   "source": [
    "## Coding Questions \n",
    "- Implement Binary Search in Python and write down the algorithmic complexity of the Binary Search Algorithm.\n",
    "\n",
    "\n",
    "- Implement Merge Sort in Python [Hint: First implement the `merge` function that combines two sorted arrays into one sorted array linear time]. What is the time complexity of `mergesort` ?\n",
    "\n",
    "\n",
    "- Find the closest pair from two sorted arrays. Given two sorted arrays and a number x, find the pair whose sum is closest to x and the pair has an element from each array. We are given two arrays ar1[0…m-1] and ar2[0..n-1] and a number x, we need to find the pair ar1[i] + ar2[j] such that absolute value of (ar1[i] + ar2[j] – x) is minimum. What is the time complexity of this algorithm?"
   ]
  },
  {
   "cell_type": "markdown",
   "metadata": {},
   "source": [
    "## Probability  and Statistics Questions \n",
    "\n",
    "- In any 15-minute interval, there is a 20% probability that you will see at least one shooting star. What is the probability that you see at least one shooting star in the period of an hour?\n",
    "\n",
    "\n",
    "- A certain couple tells you that they have two children, at least one of which is a girl. What is the probability that they have two girls?\n"
   ]
  },
  {
   "cell_type": "markdown",
   "metadata": {},
   "source": [
    "## Interview Questions Related to Material\n",
    "\n",
    "- Explain what is bias-variance tradeoff to a non-technical person. Why is it a useful framework? How do you detect bias in your models? How about you variance? \n",
    "\n",
    "\n",
    "- Explain why cross-validation is important. \n",
    "\n",
    "\n",
    "- What is regularization? What are the advantages/disadvantages of different types of regularization schemes? \n",
    "\n",
    "\n",
    "- What are the loss functions associated with linear regression, logistic regression, and KNN? \n",
    "\n",
    "\n",
    "- Can you give examples of feature engineering on datasets you have worked with? "
   ]
  }
 ],
 "metadata": {
  "anaconda-cloud": {},
  "kernelspec": {
   "display_name": "Python [conda env:dsi]",
   "language": "python",
   "name": "conda-env-dsi-py"
  },
  "language_info": {
   "codemirror_mode": {
    "name": "ipython",
    "version": 2
   },
   "file_extension": ".py",
   "mimetype": "text/x-python",
   "name": "python",
   "nbconvert_exporter": "python",
   "pygments_lexer": "ipython2",
   "version": "2.7.12"
  }
 },
 "nbformat": 4,
 "nbformat_minor": 0
}
