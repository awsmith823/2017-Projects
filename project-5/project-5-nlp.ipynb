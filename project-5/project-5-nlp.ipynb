{
 "cells": [
  {
   "cell_type": "markdown",
   "metadata": {},
   "source": [
    "<img src=\"http://imgur.com/1ZcRyrc.png\" style=\"float: left; margin: 15px; height: 80px\">\n",
    "\n",
    "# Project 5\n",
    "\n",
    "\n",
    "## NLP and Machine Learning on [travel.statsexchange.com](http://travel.stackexchange.com/) data\n",
    "\n",
    "---\n",
    "\n",
    "In Project 7 you'll be doing NLP and machine learning on post data from stackexchange's travel subdomain. \n",
    "\n",
    "This project is setup like a mini Kaggle competition. You are given the training data and when projects are submitted your model will be tested on the held-out testing data. There will be prizes for the people who build models that perform best on the held out test set!\n",
    "\n",
    "---\n",
    "\n",
    "## Notes on the data\n",
    "\n",
    "The data is again compressed into the `.7z` file format to save space. There are 6 .csv files and one readme file that contains some information on the fields.\n",
    "\n",
    "    posts_train.csv\n",
    "    comments_train.csv\n",
    "    users.csv\n",
    "    badges.csv\n",
    "    votes_train.csv\n",
    "    tags.csv\n",
    "    readme.txt\n",
    "    \n",
    "The data is located in your datasets folder:\n",
    "\n",
    "    DSI-SF-2/datasets/stack_exchange_travel.7z\n",
    "    \n",
    "If you're interested in where this data came from and where to get more data from other stackexchange subdomains, see here:\n",
    "\n",
    "https://ia800500.us.archive.org/22/items/stackexchange/readme.txt\n",
    "\n",
    "\n",
    "### Recommended Utilities for .7z\n",
    "\n",
    "- For OSX [Keka](http://www.kekaosx.com/en/) or [The Unarchiver](http://wakaba.c3.cx/s/apps/unarchiver.html). \n",
    "- For Windows [7-zip](http://www.7-zip.org/) is the standard. \n",
    "- For Linux try the `p7zip` utility.  `sudo apt-get install p7zip`.\n",
    "\n"
   ]
  },
  {
   "cell_type": "markdown",
   "metadata": {},
   "source": [
    "**Importing Py packages and datasets**"
   ]
  },
  {
   "cell_type": "code",
   "execution_count": 3,
   "metadata": {
    "collapsed": false
   },
   "outputs": [],
   "source": [
    "from matplotlib import pyplot as plt\n",
    "import numpy as np\n",
    "import pandas as pd\n",
    "import re\n",
    "\n",
    "# sklearn\n",
    "from sklearn.decomposition import TruncatedSVD\n",
    "from sklearn.feature_extraction.text import TfidfVectorizer\n",
    "from sklearn.feature_extraction.text import CountVectorizer\n",
    "from sklearn.preprocessing import Normalizer, StandardScaler\n",
    "from sklearn import metrics\n",
    "from sklearn.cluster import KMeans, MiniBatchKMeans\n",
    "\n",
    "from sklearn.svm import SVC\n",
    "from sklearn.cross_validation import cross_val_score, train_test_split\n",
    "from sklearn.metrics import classification_report\n",
    "\n",
    "# NLP\n",
    "from collections import defaultdict\n",
    "from gensim import corpora, models, matutils\n",
    "\n",
    "%config InlineBackend.figure_format = 'retina'"
   ]
  },
  {
   "cell_type": "code",
   "execution_count": 4,
   "metadata": {
    "collapsed": true
   },
   "outputs": [],
   "source": [
    "posts_train = '~/Desktop/DSI-SF-5/datasets/stack_exchange_travel/posts_train.csv'\n",
    "comments_train = '~/Desktop/DSI-SF-5/datasets/stack_exchange_travel/comments_train.csv'\n",
    "users = '~/Desktop/DSI-SF-5/datasets/stack_exchange_travel/users.csv'\n",
    "badges = '~/Desktop/DSI-SF-5/datasets/stack_exchange_travel/badges.csv'\n",
    "votes_train = '~/Desktop/DSI-SF-5/datasets/stack_exchange_travel/votes_train.csv'\n",
    "tags = '~/Desktop/DSI-SF-5/datasets/stack_exchange_travel/tags.csv' \n",
    "\n",
    "posts_train = pd.read_csv(posts_train)\n",
    "comments_train = pd.read_csv(comments_train)\n",
    "users = pd.read_csv(users)\n",
    "badges = pd.read_csv(badges)\n",
    "votes_train = pd.read_csv(votes_train)\n",
    "tags = pd.read_csv(tags)"
   ]
  },
  {
   "cell_type": "markdown",
   "metadata": {},
   "source": [
    "** Exploring the datasets **"
   ]
  },
  {
   "cell_type": "code",
   "execution_count": 5,
   "metadata": {
    "collapsed": false
   },
   "outputs": [
    {
     "name": "stdout",
     "output_type": "stream",
     "text": [
      "posts_train: (41289, 21)\n",
      "comments_train: (81506, 7)\n",
      "users: (29283, 14)\n",
      "badges: (71246, 6)\n",
      "votes_train: (289553, 6)\n",
      "tags: (1606, 5)\n"
     ]
    }
   ],
   "source": [
    "print 'posts_train:', posts_train.shape\n",
    "print 'comments_train:', comments_train.shape\n",
    "print 'users:', users.shape\n",
    "print 'badges:', badges.shape\n",
    "print 'votes_train:', votes_train.shape\n",
    "print 'tags:', tags.shape"
   ]
  },
  {
   "cell_type": "code",
   "execution_count": 6,
   "metadata": {
    "collapsed": false,
    "scrolled": false
   },
   "outputs": [
    {
     "data": {
      "text/html": [
       "<div>\n",
       "<table border=\"1\" class=\"dataframe\">\n",
       "  <thead>\n",
       "    <tr style=\"text-align: right;\">\n",
       "      <th></th>\n",
       "      <th>0</th>\n",
       "      <th>1</th>\n",
       "      <th>2</th>\n",
       "    </tr>\n",
       "  </thead>\n",
       "  <tbody>\n",
       "    <tr>\n",
       "      <th>AcceptedAnswerId</th>\n",
       "      <td>393</td>\n",
       "      <td>NaN</td>\n",
       "      <td>770</td>\n",
       "    </tr>\n",
       "    <tr>\n",
       "      <th>AnswerCount</th>\n",
       "      <td>4</td>\n",
       "      <td>1</td>\n",
       "      <td>5</td>\n",
       "    </tr>\n",
       "    <tr>\n",
       "      <th>Body</th>\n",
       "      <td>&lt;p&gt;My fiancée and I are looking for a good Car...</td>\n",
       "      <td>&lt;p&gt;Singapore Airlines has an all-business clas...</td>\n",
       "      <td>&lt;p&gt;Another definition question that interested...</td>\n",
       "    </tr>\n",
       "    <tr>\n",
       "      <th>ClosedDate</th>\n",
       "      <td>2013-02-25T23:52:47.953</td>\n",
       "      <td>NaN</td>\n",
       "      <td>NaN</td>\n",
       "    </tr>\n",
       "    <tr>\n",
       "      <th>CommentCount</th>\n",
       "      <td>4</td>\n",
       "      <td>1</td>\n",
       "      <td>0</td>\n",
       "    </tr>\n",
       "    <tr>\n",
       "      <th>CommunityOwnedDate</th>\n",
       "      <td>NaN</td>\n",
       "      <td>NaN</td>\n",
       "      <td>NaN</td>\n",
       "    </tr>\n",
       "    <tr>\n",
       "      <th>CreationDate</th>\n",
       "      <td>2011-06-21T20:19:34.730</td>\n",
       "      <td>2011-06-21T20:24:57.160</td>\n",
       "      <td>2011-06-21T20:25:56.787</td>\n",
       "    </tr>\n",
       "    <tr>\n",
       "      <th>FavoriteCount</th>\n",
       "      <td>NaN</td>\n",
       "      <td>NaN</td>\n",
       "      <td>2</td>\n",
       "    </tr>\n",
       "    <tr>\n",
       "      <th>Id</th>\n",
       "      <td>1</td>\n",
       "      <td>4</td>\n",
       "      <td>5</td>\n",
       "    </tr>\n",
       "    <tr>\n",
       "      <th>LastActivityDate</th>\n",
       "      <td>2012-05-24T14:52:14.760</td>\n",
       "      <td>2013-01-09T09:55:22.743</td>\n",
       "      <td>2012-10-12T20:49:08.110</td>\n",
       "    </tr>\n",
       "    <tr>\n",
       "      <th>LastEditDate</th>\n",
       "      <td>2011-12-28T21:36:43.910</td>\n",
       "      <td>2013-01-09T09:55:22.743</td>\n",
       "      <td>2011-12-28T21:36:18.230</td>\n",
       "    </tr>\n",
       "    <tr>\n",
       "      <th>LastEditorDisplayName</th>\n",
       "      <td>NaN</td>\n",
       "      <td>NaN</td>\n",
       "      <td>NaN</td>\n",
       "    </tr>\n",
       "    <tr>\n",
       "      <th>LastEditorUserId</th>\n",
       "      <td>101</td>\n",
       "      <td>693</td>\n",
       "      <td>101</td>\n",
       "    </tr>\n",
       "    <tr>\n",
       "      <th>OwnerDisplayName</th>\n",
       "      <td>NaN</td>\n",
       "      <td>NaN</td>\n",
       "      <td>NaN</td>\n",
       "    </tr>\n",
       "    <tr>\n",
       "      <th>OwnerUserId</th>\n",
       "      <td>9</td>\n",
       "      <td>24</td>\n",
       "      <td>13</td>\n",
       "    </tr>\n",
       "    <tr>\n",
       "      <th>ParentId</th>\n",
       "      <td>NaN</td>\n",
       "      <td>NaN</td>\n",
       "      <td>NaN</td>\n",
       "    </tr>\n",
       "    <tr>\n",
       "      <th>PostTypeId</th>\n",
       "      <td>1</td>\n",
       "      <td>1</td>\n",
       "      <td>1</td>\n",
       "    </tr>\n",
       "    <tr>\n",
       "      <th>Score</th>\n",
       "      <td>8</td>\n",
       "      <td>8</td>\n",
       "      <td>11</td>\n",
       "    </tr>\n",
       "    <tr>\n",
       "      <th>Tags</th>\n",
       "      <td>&lt;caribbean&gt;&lt;cruising&gt;&lt;vacations&gt;</td>\n",
       "      <td>&lt;loyalty-programs&gt;&lt;routes&gt;&lt;ewr&gt;&lt;singapore-airl...</td>\n",
       "      <td>&lt;romania&gt;&lt;transportation&gt;</td>\n",
       "    </tr>\n",
       "    <tr>\n",
       "      <th>Title</th>\n",
       "      <td>What are some Caribbean cruises for October?</td>\n",
       "      <td>Does Singapore Airlines offer any reward seats...</td>\n",
       "      <td>What is the easiest transportation to use thro...</td>\n",
       "    </tr>\n",
       "    <tr>\n",
       "      <th>ViewCount</th>\n",
       "      <td>361</td>\n",
       "      <td>219</td>\n",
       "      <td>340</td>\n",
       "    </tr>\n",
       "  </tbody>\n",
       "</table>\n",
       "</div>"
      ],
      "text/plain": [
       "                                                                       0  \\\n",
       "AcceptedAnswerId                                                     393   \n",
       "AnswerCount                                                            4   \n",
       "Body                   <p>My fiancée and I are looking for a good Car...   \n",
       "ClosedDate                                       2013-02-25T23:52:47.953   \n",
       "CommentCount                                                           4   \n",
       "CommunityOwnedDate                                                   NaN   \n",
       "CreationDate                                     2011-06-21T20:19:34.730   \n",
       "FavoriteCount                                                        NaN   \n",
       "Id                                                                     1   \n",
       "LastActivityDate                                 2012-05-24T14:52:14.760   \n",
       "LastEditDate                                     2011-12-28T21:36:43.910   \n",
       "LastEditorDisplayName                                                NaN   \n",
       "LastEditorUserId                                                     101   \n",
       "OwnerDisplayName                                                     NaN   \n",
       "OwnerUserId                                                            9   \n",
       "ParentId                                                             NaN   \n",
       "PostTypeId                                                             1   \n",
       "Score                                                                  8   \n",
       "Tags                                    <caribbean><cruising><vacations>   \n",
       "Title                       What are some Caribbean cruises for October?   \n",
       "ViewCount                                                            361   \n",
       "\n",
       "                                                                       1  \\\n",
       "AcceptedAnswerId                                                     NaN   \n",
       "AnswerCount                                                            1   \n",
       "Body                   <p>Singapore Airlines has an all-business clas...   \n",
       "ClosedDate                                                           NaN   \n",
       "CommentCount                                                           1   \n",
       "CommunityOwnedDate                                                   NaN   \n",
       "CreationDate                                     2011-06-21T20:24:57.160   \n",
       "FavoriteCount                                                        NaN   \n",
       "Id                                                                     4   \n",
       "LastActivityDate                                 2013-01-09T09:55:22.743   \n",
       "LastEditDate                                     2013-01-09T09:55:22.743   \n",
       "LastEditorDisplayName                                                NaN   \n",
       "LastEditorUserId                                                     693   \n",
       "OwnerDisplayName                                                     NaN   \n",
       "OwnerUserId                                                           24   \n",
       "ParentId                                                             NaN   \n",
       "PostTypeId                                                             1   \n",
       "Score                                                                  8   \n",
       "Tags                   <loyalty-programs><routes><ewr><singapore-airl...   \n",
       "Title                  Does Singapore Airlines offer any reward seats...   \n",
       "ViewCount                                                            219   \n",
       "\n",
       "                                                                       2  \n",
       "AcceptedAnswerId                                                     770  \n",
       "AnswerCount                                                            5  \n",
       "Body                   <p>Another definition question that interested...  \n",
       "ClosedDate                                                           NaN  \n",
       "CommentCount                                                           0  \n",
       "CommunityOwnedDate                                                   NaN  \n",
       "CreationDate                                     2011-06-21T20:25:56.787  \n",
       "FavoriteCount                                                          2  \n",
       "Id                                                                     5  \n",
       "LastActivityDate                                 2012-10-12T20:49:08.110  \n",
       "LastEditDate                                     2011-12-28T21:36:18.230  \n",
       "LastEditorDisplayName                                                NaN  \n",
       "LastEditorUserId                                                     101  \n",
       "OwnerDisplayName                                                     NaN  \n",
       "OwnerUserId                                                           13  \n",
       "ParentId                                                             NaN  \n",
       "PostTypeId                                                             1  \n",
       "Score                                                                 11  \n",
       "Tags                                           <romania><transportation>  \n",
       "Title                  What is the easiest transportation to use thro...  \n",
       "ViewCount                                                            340  "
      ]
     },
     "execution_count": 6,
     "metadata": {},
     "output_type": "execute_result"
    }
   ],
   "source": [
    "posts_train.head(3).T"
   ]
  },
  {
   "cell_type": "code",
   "execution_count": 7,
   "metadata": {
    "collapsed": false
   },
   "outputs": [
    {
     "data": {
      "text/plain": [
       "2    23967\n",
       "1    13988\n",
       "5     1656\n",
       "4     1656\n",
       "6       18\n",
       "7        4\n",
       "Name: PostTypeId, dtype: int64"
      ]
     },
     "execution_count": 7,
     "metadata": {},
     "output_type": "execute_result"
    }
   ],
   "source": [
    "posts_train.PostTypeId.value_counts()"
   ]
  },
  {
   "cell_type": "code",
   "execution_count": 8,
   "metadata": {
    "collapsed": false
   },
   "outputs": [],
   "source": [
    "# POSTTYPE {1: QUESTION, 2: ANSWER}\n",
    "# USE PARENTID (Questions don't have this) & ID to remerge\n",
    "posts_questions = posts_train.loc[posts_train.PostTypeId == 1, :].reset_index(drop=True)\n",
    "posts_answer = posts_train.loc[posts_train.PostTypeId == 2, :].reset_index(drop=True)"
   ]
  },
  {
   "cell_type": "code",
   "execution_count": 9,
   "metadata": {
    "collapsed": false
   },
   "outputs": [
    {
     "name": "stdout",
     "output_type": "stream",
     "text": [
      "AcceptedAnswerId          7472\n",
      "AnswerCount                  0\n",
      "Body                         0\n",
      "ClosedDate               11361\n",
      "CommentCount                 0\n",
      "CommunityOwnedDate       13975\n",
      "CreationDate                 0\n",
      "FavoriteCount            10466\n",
      "Id                           0\n",
      "LastActivityDate             0\n",
      "LastEditDate              2911\n",
      "LastEditorDisplayName    13621\n",
      "LastEditorUserId          3231\n",
      "OwnerDisplayName         13613\n",
      "OwnerUserId                307\n",
      "ParentId                 13988\n",
      "PostTypeId                   0\n",
      "Score                        0\n",
      "Tags                         0\n",
      "Title                        0\n",
      "ViewCount                    0\n",
      "dtype: int64\n",
      "\n",
      "post questions: (13988, 21)\n"
     ]
    }
   ],
   "source": [
    "print posts_questions.isnull().sum()\n",
    "print\n",
    "print 'post questions:', posts_questions.shape"
   ]
  },
  {
   "cell_type": "code",
   "execution_count": 10,
   "metadata": {
    "collapsed": false
   },
   "outputs": [
    {
     "data": {
      "text/plain": [
       "'What are some Caribbean cruises for October?'"
      ]
     },
     "execution_count": 10,
     "metadata": {},
     "output_type": "execute_result"
    }
   ],
   "source": [
    "posts_questions.Title[0]"
   ]
  },
  {
   "cell_type": "code",
   "execution_count": 11,
   "metadata": {
    "collapsed": false
   },
   "outputs": [
    {
     "data": {
      "text/plain": [
       "\"<p>My fianc\\xc3\\xa9e and I are looking for a good Caribbean cruise in October and were wondering which islands are best to see and which Cruise line to take?</p>\\n\\n<p>It seems like a lot of the cruises don't run in this month due to Hurricane season so I'm looking for other good options.</p>\\n\\n<p><strong>EDIT</strong> We'll be travelling in 2012.</p>\\n\""
      ]
     },
     "execution_count": 11,
     "metadata": {},
     "output_type": "execute_result"
    }
   ],
   "source": [
    "posts_questions.Body[0]"
   ]
  },
  {
   "cell_type": "code",
   "execution_count": 12,
   "metadata": {
    "collapsed": false
   },
   "outputs": [
    {
     "name": "stdout",
     "output_type": "stream",
     "text": [
      "AcceptedAnswerId         23967\n",
      "AnswerCount              23967\n",
      "Body                         0\n",
      "ClosedDate               23967\n",
      "CommentCount                 0\n",
      "CommunityOwnedDate       23818\n",
      "CreationDate                 0\n",
      "FavoriteCount            23967\n",
      "Id                           0\n",
      "LastActivityDate             0\n",
      "LastEditDate             15015\n",
      "LastEditorDisplayName    23650\n",
      "LastEditorUserId         15089\n",
      "OwnerDisplayName         23262\n",
      "OwnerUserId                403\n",
      "ParentId                     0\n",
      "PostTypeId                   0\n",
      "Score                        0\n",
      "Tags                     23967\n",
      "Title                    23967\n",
      "ViewCount                23967\n",
      "dtype: int64\n",
      "\n",
      "post answers: (23967, 21)\n"
     ]
    }
   ],
   "source": [
    "print posts_answer.isnull().sum()\n",
    "print\n",
    "print 'post answers:', posts_answer.shape"
   ]
  },
  {
   "cell_type": "code",
   "execution_count": 13,
   "metadata": {
    "collapsed": false
   },
   "outputs": [
    {
     "data": {
      "text/plain": [
       "nan"
      ]
     },
     "execution_count": 13,
     "metadata": {},
     "output_type": "execute_result"
    }
   ],
   "source": [
    "posts_answer.Title[0]"
   ]
  },
  {
   "cell_type": "code",
   "execution_count": 14,
   "metadata": {
    "collapsed": false
   },
   "outputs": [
    {
     "data": {
      "text/plain": [
       "'<p><a href=\"http://www.eurail.com/home\" rel=\"nofollow\"><strong>EURail</strong></a> should be a good place to plan the trip.</p>\\n\\n<p>They do go as far east as Poland and Bulgaria, but no further than that.</p>\\n\\n<p><a href=\"http://www.eurostar.com/\" rel=\"nofollow\"><strong>EuroStar</strong></a> is another network that may be useful, but it stops short of EURail on the eastern side.</p>\\n'"
      ]
     },
     "execution_count": 14,
     "metadata": {},
     "output_type": "execute_result"
    }
   ],
   "source": [
    "posts_answer.Body[0]"
   ]
  },
  {
   "cell_type": "code",
   "execution_count": 15,
   "metadata": {
    "collapsed": false
   },
   "outputs": [
    {
     "data": {
      "text/html": [
       "<div>\n",
       "<table border=\"1\" class=\"dataframe\">\n",
       "  <thead>\n",
       "    <tr style=\"text-align: right;\">\n",
       "      <th></th>\n",
       "      <th>CreationDate</th>\n",
       "      <th>Id</th>\n",
       "      <th>PostId</th>\n",
       "      <th>Score</th>\n",
       "      <th>Text</th>\n",
       "      <th>UserDisplayName</th>\n",
       "      <th>UserId</th>\n",
       "    </tr>\n",
       "  </thead>\n",
       "  <tbody>\n",
       "    <tr>\n",
       "      <th>0</th>\n",
       "      <td>2011-06-21T20:25:14.257</td>\n",
       "      <td>1</td>\n",
       "      <td>1</td>\n",
       "      <td>0</td>\n",
       "      <td>To help with the cruise line question: Where a...</td>\n",
       "      <td>NaN</td>\n",
       "      <td>12.0</td>\n",
       "    </tr>\n",
       "    <tr>\n",
       "      <th>1</th>\n",
       "      <td>2011-06-21T20:27:35.300</td>\n",
       "      <td>2</td>\n",
       "      <td>1</td>\n",
       "      <td>0</td>\n",
       "      <td>Toronto, Ontario. We can fly out of anywhere t...</td>\n",
       "      <td>NaN</td>\n",
       "      <td>9.0</td>\n",
       "    </tr>\n",
       "    <tr>\n",
       "      <th>2</th>\n",
       "      <td>2011-06-21T20:32:23.687</td>\n",
       "      <td>3</td>\n",
       "      <td>1</td>\n",
       "      <td>3</td>\n",
       "      <td>\"Best\" for what?  Please read [this page](http...</td>\n",
       "      <td>NaN</td>\n",
       "      <td>20.0</td>\n",
       "    </tr>\n",
       "    <tr>\n",
       "      <th>3</th>\n",
       "      <td>2011-06-21T20:42:08.330</td>\n",
       "      <td>9</td>\n",
       "      <td>25</td>\n",
       "      <td>0</td>\n",
       "      <td>Are you in the UK? If so, would be helpful to ...</td>\n",
       "      <td>NaN</td>\n",
       "      <td>30.0</td>\n",
       "    </tr>\n",
       "    <tr>\n",
       "      <th>4</th>\n",
       "      <td>2011-06-21T20:44:09.990</td>\n",
       "      <td>12</td>\n",
       "      <td>26</td>\n",
       "      <td>3</td>\n",
       "      <td>Where are you starting from, and what sort of ...</td>\n",
       "      <td>NaN</td>\n",
       "      <td>26.0</td>\n",
       "    </tr>\n",
       "  </tbody>\n",
       "</table>\n",
       "</div>"
      ],
      "text/plain": [
       "              CreationDate  Id  PostId  Score  \\\n",
       "0  2011-06-21T20:25:14.257   1       1      0   \n",
       "1  2011-06-21T20:27:35.300   2       1      0   \n",
       "2  2011-06-21T20:32:23.687   3       1      3   \n",
       "3  2011-06-21T20:42:08.330   9      25      0   \n",
       "4  2011-06-21T20:44:09.990  12      26      3   \n",
       "\n",
       "                                                Text UserDisplayName  UserId  \n",
       "0  To help with the cruise line question: Where a...             NaN    12.0  \n",
       "1  Toronto, Ontario. We can fly out of anywhere t...             NaN     9.0  \n",
       "2  \"Best\" for what?  Please read [this page](http...             NaN    20.0  \n",
       "3  Are you in the UK? If so, would be helpful to ...             NaN    30.0  \n",
       "4  Where are you starting from, and what sort of ...             NaN    26.0  "
      ]
     },
     "execution_count": 15,
     "metadata": {},
     "output_type": "execute_result"
    }
   ],
   "source": [
    "comments_train.head()"
   ]
  },
  {
   "cell_type": "code",
   "execution_count": 16,
   "metadata": {
    "collapsed": false
   },
   "outputs": [
    {
     "data": {
      "text/plain": [
       "CreationDate           0\n",
       "Id                     0\n",
       "PostId                 0\n",
       "Score                  0\n",
       "Text                   0\n",
       "UserDisplayName    79705\n",
       "UserId              1081\n",
       "dtype: int64"
      ]
     },
     "execution_count": 16,
     "metadata": {},
     "output_type": "execute_result"
    }
   ],
   "source": [
    "comments_train.isnull().sum()"
   ]
  },
  {
   "cell_type": "code",
   "execution_count": 17,
   "metadata": {
    "collapsed": false
   },
   "outputs": [
    {
     "data": {
      "text/plain": [
       "\"To help with the cruise line question: Where are you located? My wife and I live in New Orleans, so we sail out of the port here. It limits us mainly to Carnival (though we are getting some more cruise lines in here), but saves us money on travel expenses getting *to* the port. If you're closer to a specific port, and like the cruises offered out of it, then it would make more sense to choose a cruise line from there.\""
      ]
     },
     "execution_count": 17,
     "metadata": {},
     "output_type": "execute_result"
    }
   ],
   "source": [
    "comments_train.Text[0]"
   ]
  },
  {
   "cell_type": "code",
   "execution_count": 18,
   "metadata": {
    "collapsed": false
   },
   "outputs": [],
   "source": [
    "def clean_text(text):\n",
    "    \"\"\" Clean the text of each email \"\"\"\n",
    "    text = text.replace('\\n',\" \") #remove line break\n",
    "    text = re.sub(r\"[\\w]+@[\\.\\w]+\", \"\", text) #remove email addresses\n",
    "    #removes web addresses\n",
    "    text = re.sub(r\"[a-zA-Z]*\\:[\\//\\]*[A-Za-z0-9\\-_]+\\.[A-Za-z0-9\\-_]+\\.[A-Za-z0-9\\.\\/%&=\\?\\-_]+\", \"\", text)\n",
    "    text = re.sub(r\"(http\\w+ )\", \"\", text)\n",
    "    \n",
    "    text = re.sub(r\"-\", \" \", text) #replace hypens with space\n",
    "    text = re.sub(r\"\\d+/\\d+/\\d+\", \"\", text) #remove date\n",
    "    text = re.sub(r\"[0-2]?[0-9]:[0-6][0-9]\", \"\", text) #remove times\n",
    "    text = re.sub(r'<\\w\\>' , '', text) #remove <p> from html text\n",
    "    text = re.sub(r'</\\w\\>' , '', text) #remove <\\p> from html text\n",
    "    clndoc = ''\n",
    "    for letter in text:\n",
    "        if letter.isalpha() or letter==' ':\n",
    "            clndoc+=letter\n",
    "    text = ' '.join(word for word in clndoc.split() if len(word)>1)\n",
    "    return text    "
   ]
  },
  {
   "cell_type": "code",
   "execution_count": 19,
   "metadata": {
    "collapsed": false
   },
   "outputs": [],
   "source": [
    "# CLEANING COMMENT TEXT\n",
    "comments_train.Text = comments_train.Text.apply(clean_text)\n",
    "\n",
    "# CLEANING POST QUESTIONS TITLE & BODY\n",
    "posts_questions.Title = posts_questions.Title.apply(clean_text)\n",
    "posts_questions.Body = posts_questions.Body.apply(clean_text)\n",
    "\n",
    "# CLEANING POST ANSWERS BODY\n",
    "posts_answer.Body = posts_answer.Body.apply(clean_text)"
   ]
  },
  {
   "cell_type": "code",
   "execution_count": 20,
   "metadata": {
    "collapsed": false
   },
   "outputs": [],
   "source": [
    "# GROUPING ALL COMMENTS BY POSTID...\n",
    "# WILL SHOW UP AS ONE LONG COMMENT FOR EACH POST\n",
    "comments_group = comments_train[['PostId', 'Text']].groupby(by='PostId')[['PostId', 'Text']].agg(lambda x: ' '.join(x)).reset_index()"
   ]
  },
  {
   "cell_type": "code",
   "execution_count": 21,
   "metadata": {
    "collapsed": false
   },
   "outputs": [
    {
     "data": {
      "text/html": [
       "<div>\n",
       "<table border=\"1\" class=\"dataframe\">\n",
       "  <thead>\n",
       "    <tr style=\"text-align: right;\">\n",
       "      <th></th>\n",
       "      <th>PostId</th>\n",
       "      <th>Text</th>\n",
       "    </tr>\n",
       "  </thead>\n",
       "  <tbody>\n",
       "    <tr>\n",
       "      <th>0</th>\n",
       "      <td>1</td>\n",
       "      <td>To help with the cruise line question Where ar...</td>\n",
       "    </tr>\n",
       "    <tr>\n",
       "      <th>1</th>\n",
       "      <td>4</td>\n",
       "      <td>This route as well as LAX SIN is being cancele...</td>\n",
       "    </tr>\n",
       "    <tr>\n",
       "      <th>2</th>\n",
       "      <td>8</td>\n",
       "      <td>To those voting down please explain why with c...</td>\n",
       "    </tr>\n",
       "    <tr>\n",
       "      <th>3</th>\n",
       "      <td>9</td>\n",
       "      <td>agree with user you need to specify what kind ...</td>\n",
       "    </tr>\n",
       "    <tr>\n",
       "      <th>4</th>\n",
       "      <td>11</td>\n",
       "      <td>If at all possible save yourself the hassle of...</td>\n",
       "    </tr>\n",
       "  </tbody>\n",
       "</table>\n",
       "</div>"
      ],
      "text/plain": [
       "   PostId                                               Text\n",
       "0       1  To help with the cruise line question Where ar...\n",
       "1       4  This route as well as LAX SIN is being cancele...\n",
       "2       8  To those voting down please explain why with c...\n",
       "3       9  agree with user you need to specify what kind ...\n",
       "4      11  If at all possible save yourself the hassle of..."
      ]
     },
     "execution_count": 21,
     "metadata": {},
     "output_type": "execute_result"
    }
   ],
   "source": [
    "comments_group.head()"
   ]
  },
  {
   "cell_type": "code",
   "execution_count": 22,
   "metadata": {
    "collapsed": false
   },
   "outputs": [
    {
     "data": {
      "text/plain": [
       "(23132, 2)"
      ]
     },
     "execution_count": 22,
     "metadata": {},
     "output_type": "execute_result"
    }
   ],
   "source": [
    "comments_group.shape"
   ]
  },
  {
   "cell_type": "markdown",
   "metadata": {},
   "source": [
    "---------\n",
    "** Tags **"
   ]
  },
  {
   "cell_type": "code",
   "execution_count": 23,
   "metadata": {
    "collapsed": false
   },
   "outputs": [
    {
     "data": {
      "text/html": [
       "<div>\n",
       "<table border=\"1\" class=\"dataframe\">\n",
       "  <thead>\n",
       "    <tr style=\"text-align: right;\">\n",
       "      <th></th>\n",
       "      <th>Count</th>\n",
       "      <th>ExcerptPostId</th>\n",
       "      <th>Id</th>\n",
       "      <th>TagName</th>\n",
       "      <th>WikiPostId</th>\n",
       "    </tr>\n",
       "  </thead>\n",
       "  <tbody>\n",
       "    <tr>\n",
       "      <th>0</th>\n",
       "      <td>75</td>\n",
       "      <td>2138.0</td>\n",
       "      <td>1</td>\n",
       "      <td>cruising</td>\n",
       "      <td>2137.0</td>\n",
       "    </tr>\n",
       "    <tr>\n",
       "      <th>1</th>\n",
       "      <td>39</td>\n",
       "      <td>357.0</td>\n",
       "      <td>2</td>\n",
       "      <td>caribbean</td>\n",
       "      <td>356.0</td>\n",
       "    </tr>\n",
       "    <tr>\n",
       "      <th>2</th>\n",
       "      <td>31</td>\n",
       "      <td>319.0</td>\n",
       "      <td>4</td>\n",
       "      <td>vacations</td>\n",
       "      <td>318.0</td>\n",
       "    </tr>\n",
       "    <tr>\n",
       "      <th>3</th>\n",
       "      <td>6</td>\n",
       "      <td>14548.0</td>\n",
       "      <td>6</td>\n",
       "      <td>amazon-river</td>\n",
       "      <td>14547.0</td>\n",
       "    </tr>\n",
       "    <tr>\n",
       "      <th>4</th>\n",
       "      <td>74</td>\n",
       "      <td>1792.0</td>\n",
       "      <td>8</td>\n",
       "      <td>romania</td>\n",
       "      <td>1791.0</td>\n",
       "    </tr>\n",
       "  </tbody>\n",
       "</table>\n",
       "</div>"
      ],
      "text/plain": [
       "   Count  ExcerptPostId  Id       TagName  WikiPostId\n",
       "0     75         2138.0   1      cruising      2137.0\n",
       "1     39          357.0   2     caribbean       356.0\n",
       "2     31          319.0   4     vacations       318.0\n",
       "3      6        14548.0   6  amazon-river     14547.0\n",
       "4     74         1792.0   8       romania      1791.0"
      ]
     },
     "execution_count": 23,
     "metadata": {},
     "output_type": "execute_result"
    }
   ],
   "source": [
    "tags.head()"
   ]
  },
  {
   "cell_type": "code",
   "execution_count": 24,
   "metadata": {
    "collapsed": false
   },
   "outputs": [
    {
     "data": {
      "text/plain": [
       "Count              0\n",
       "ExcerptPostId    216\n",
       "Id                 0\n",
       "TagName            0\n",
       "WikiPostId       216\n",
       "dtype: int64"
      ]
     },
     "execution_count": 24,
     "metadata": {},
     "output_type": "execute_result"
    }
   ],
   "source": [
    "tags.isnull().sum()"
   ]
  },
  {
   "cell_type": "markdown",
   "metadata": {},
   "source": [
    "--------\n",
    "** Users **"
   ]
  },
  {
   "cell_type": "code",
   "execution_count": 25,
   "metadata": {
    "collapsed": false
   },
   "outputs": [
    {
     "data": {
      "text/html": [
       "<div>\n",
       "<table border=\"1\" class=\"dataframe\">\n",
       "  <thead>\n",
       "    <tr style=\"text-align: right;\">\n",
       "      <th></th>\n",
       "      <th>0</th>\n",
       "      <th>1</th>\n",
       "    </tr>\n",
       "  </thead>\n",
       "  <tbody>\n",
       "    <tr>\n",
       "      <th>AboutMe</th>\n",
       "      <td>&lt;p&gt;Hi, I'm not really a person.&lt;/p&gt;\\n\\n&lt;p&gt;I'm ...</td>\n",
       "      <td>&lt;p&gt;Developer on the Stack Overflow team.  Find...</td>\n",
       "    </tr>\n",
       "    <tr>\n",
       "      <th>AccountId</th>\n",
       "      <td>-1</td>\n",
       "      <td>2</td>\n",
       "    </tr>\n",
       "    <tr>\n",
       "      <th>Age</th>\n",
       "      <td>NaN</td>\n",
       "      <td>39</td>\n",
       "    </tr>\n",
       "    <tr>\n",
       "      <th>CreationDate</th>\n",
       "      <td>2011-06-21T15:16:44.253</td>\n",
       "      <td>2011-06-21T20:10:03.720</td>\n",
       "    </tr>\n",
       "    <tr>\n",
       "      <th>DisplayName</th>\n",
       "      <td>Community</td>\n",
       "      <td>Geoff Dalgas</td>\n",
       "    </tr>\n",
       "    <tr>\n",
       "      <th>DownVotes</th>\n",
       "      <td>8492</td>\n",
       "      <td>0</td>\n",
       "    </tr>\n",
       "    <tr>\n",
       "      <th>Id</th>\n",
       "      <td>-1</td>\n",
       "      <td>2</td>\n",
       "    </tr>\n",
       "    <tr>\n",
       "      <th>LastAccessDate</th>\n",
       "      <td>2011-06-21T15:16:44.253</td>\n",
       "      <td>2016-05-29T01:18:20.767</td>\n",
       "    </tr>\n",
       "    <tr>\n",
       "      <th>Location</th>\n",
       "      <td>on the server farm</td>\n",
       "      <td>Corvallis, OR</td>\n",
       "    </tr>\n",
       "    <tr>\n",
       "      <th>ProfileImageUrl</th>\n",
       "      <td>NaN</td>\n",
       "      <td>NaN</td>\n",
       "    </tr>\n",
       "    <tr>\n",
       "      <th>Reputation</th>\n",
       "      <td>1</td>\n",
       "      <td>101</td>\n",
       "    </tr>\n",
       "    <tr>\n",
       "      <th>UpVotes</th>\n",
       "      <td>2463</td>\n",
       "      <td>1</td>\n",
       "    </tr>\n",
       "    <tr>\n",
       "      <th>Views</th>\n",
       "      <td>0</td>\n",
       "      <td>29</td>\n",
       "    </tr>\n",
       "    <tr>\n",
       "      <th>WebsiteUrl</th>\n",
       "      <td>http://meta.stackexchange.com/</td>\n",
       "      <td>http://stackoverflow.com</td>\n",
       "    </tr>\n",
       "  </tbody>\n",
       "</table>\n",
       "</div>"
      ],
      "text/plain": [
       "                                                                 0  \\\n",
       "AboutMe          <p>Hi, I'm not really a person.</p>\\n\\n<p>I'm ...   \n",
       "AccountId                                                       -1   \n",
       "Age                                                            NaN   \n",
       "CreationDate                               2011-06-21T15:16:44.253   \n",
       "DisplayName                                              Community   \n",
       "DownVotes                                                     8492   \n",
       "Id                                                              -1   \n",
       "LastAccessDate                             2011-06-21T15:16:44.253   \n",
       "Location                                        on the server farm   \n",
       "ProfileImageUrl                                                NaN   \n",
       "Reputation                                                       1   \n",
       "UpVotes                                                       2463   \n",
       "Views                                                            0   \n",
       "WebsiteUrl                          http://meta.stackexchange.com/   \n",
       "\n",
       "                                                                 1  \n",
       "AboutMe          <p>Developer on the Stack Overflow team.  Find...  \n",
       "AccountId                                                        2  \n",
       "Age                                                             39  \n",
       "CreationDate                               2011-06-21T20:10:03.720  \n",
       "DisplayName                                           Geoff Dalgas  \n",
       "DownVotes                                                        0  \n",
       "Id                                                               2  \n",
       "LastAccessDate                             2016-05-29T01:18:20.767  \n",
       "Location                                             Corvallis, OR  \n",
       "ProfileImageUrl                                                NaN  \n",
       "Reputation                                                     101  \n",
       "UpVotes                                                          1  \n",
       "Views                                                           29  \n",
       "WebsiteUrl                                http://stackoverflow.com  "
      ]
     },
     "execution_count": 25,
     "metadata": {},
     "output_type": "execute_result"
    }
   ],
   "source": [
    "users.head(2).T"
   ]
  },
  {
   "cell_type": "code",
   "execution_count": 26,
   "metadata": {
    "collapsed": false
   },
   "outputs": [
    {
     "data": {
      "text/plain": [
       "AboutMe            19068\n",
       "AccountId              0\n",
       "Age                20869\n",
       "CreationDate           0\n",
       "DisplayName            1\n",
       "DownVotes              0\n",
       "Id                     0\n",
       "LastAccessDate         0\n",
       "Location           17808\n",
       "ProfileImageUrl    12430\n",
       "Reputation             0\n",
       "UpVotes                0\n",
       "Views                  0\n",
       "WebsiteUrl         21383\n",
       "dtype: int64"
      ]
     },
     "execution_count": 26,
     "metadata": {},
     "output_type": "execute_result"
    }
   ],
   "source": [
    "users.isnull().sum()"
   ]
  },
  {
   "cell_type": "code",
   "execution_count": 27,
   "metadata": {
    "collapsed": false
   },
   "outputs": [
    {
     "data": {
      "text/plain": [
       "'<p>Hi, I\\'m not really a person.</p>\\n\\n<p>I\\'m a background process that helps keep this site clean!</p>\\n\\n<p>I do things like</p>\\n\\n<ul>\\n<li>Randomly poke old unanswered questions every hour so they get some attention</li>\\n<li>Own community questions and answers so nobody gets unnecessary reputation from them</li>\\n<li>Own downvotes on spam/evil posts that get permanently deleted</li>\\n<li>Own suggested edits from anonymous users</li>\\n<li><a href=\"http://meta.stackexchange.com/a/92006\">Remove abandoned questions</a></li>\\n</ul>\\n'"
      ]
     },
     "execution_count": 27,
     "metadata": {},
     "output_type": "execute_result"
    }
   ],
   "source": [
    "users.AboutMe[0]"
   ]
  },
  {
   "cell_type": "code",
   "execution_count": 28,
   "metadata": {
    "collapsed": true
   },
   "outputs": [],
   "source": [
    "# Imputing AboutMe column NAN values with stop word 'i'\n",
    "users.AboutMe.fillna(value='i', inplace=True)\n",
    "\n",
    "# CLEAN ABOUTME COLUMN\n",
    "users.AboutMe = users.AboutMe.apply(clean_text)"
   ]
  },
  {
   "cell_type": "code",
   "execution_count": 29,
   "metadata": {
    "collapsed": false
   },
   "outputs": [
    {
     "data": {
      "text/plain": [
       "'Hi Im not really person Im background process that helps keep this site clean do things like ul liRandomly poke old unanswered questions every hour so they get some attentionli liOwn community questions and answers so nobody gets unnecessary reputation from themli liOwn downvotes on spamevil posts that get permanently deletedli liOwn suggested edits from anonymous usersli lia hrefRemove abandoned questionsli ul'"
      ]
     },
     "execution_count": 29,
     "metadata": {},
     "output_type": "execute_result"
    }
   ],
   "source": [
    "users.AboutMe[0]"
   ]
  },
  {
   "cell_type": "markdown",
   "metadata": {},
   "source": [
    "-------------"
   ]
  },
  {
   "cell_type": "markdown",
   "metadata": {},
   "source": [
    "**_CREATING FINAL POSTS DF WHICH COMBINES ALL TEXT ASSOCIATED WITH A GIVEN POST_**"
   ]
  },
  {
   "cell_type": "code",
   "execution_count": 30,
   "metadata": {
    "collapsed": false
   },
   "outputs": [],
   "source": [
    "# JOINING ANSWERS FOR A GIVEN POST TOGETHER \n",
    "# AS ONE BLOB OF TEXT\n",
    "\n",
    "cols = ['ParentId', 'Body']\n",
    "\n",
    "posts_answer_grouped = posts_answer[cols].groupby(by='ParentId')[cols].agg(lambda x: ' '.join(x)).reset_index()\n",
    "\n",
    "posts_answer_grouped.ParentId = posts_answer_grouped.ParentId.astype(int)\n",
    "posts_answer_grouped.columns = ['ParentId', 'Body_Answer']"
   ]
  },
  {
   "cell_type": "code",
   "execution_count": 31,
   "metadata": {
    "collapsed": false
   },
   "outputs": [
    {
     "data": {
      "text/html": [
       "<div>\n",
       "<table border=\"1\" class=\"dataframe\">\n",
       "  <thead>\n",
       "    <tr style=\"text-align: right;\">\n",
       "      <th></th>\n",
       "      <th>ParentId</th>\n",
       "      <th>Body_Answer</th>\n",
       "    </tr>\n",
       "  </thead>\n",
       "  <tbody>\n",
       "    <tr>\n",
       "      <th>0</th>\n",
       "      <td>1</td>\n",
       "      <td>This is less than an answer but more than comm...</td>\n",
       "    </tr>\n",
       "    <tr>\n",
       "      <th>1</th>\n",
       "      <td>4</td>\n",
       "      <td>SQ often blocks partner awards for very exclus...</td>\n",
       "    </tr>\n",
       "    <tr>\n",
       "      <th>2</th>\n",
       "      <td>5</td>\n",
       "      <td>We have been in Romania in and we were using p...</td>\n",
       "    </tr>\n",
       "    <tr>\n",
       "      <th>3</th>\n",
       "      <td>8</td>\n",
       "      <td>usually plan my trips with Google Maps Put bot...</td>\n",
       "    </tr>\n",
       "    <tr>\n",
       "      <th>4</th>\n",
       "      <td>9</td>\n",
       "      <td>You dont mention what kind of trips you like b...</td>\n",
       "    </tr>\n",
       "  </tbody>\n",
       "</table>\n",
       "</div>"
      ],
      "text/plain": [
       "   ParentId                                        Body_Answer\n",
       "0         1  This is less than an answer but more than comm...\n",
       "1         4  SQ often blocks partner awards for very exclus...\n",
       "2         5  We have been in Romania in and we were using p...\n",
       "3         8  usually plan my trips with Google Maps Put bot...\n",
       "4         9  You dont mention what kind of trips you like b..."
      ]
     },
     "execution_count": 31,
     "metadata": {},
     "output_type": "execute_result"
    }
   ],
   "source": [
    "posts_answer_grouped.head()"
   ]
  },
  {
   "cell_type": "code",
   "execution_count": 32,
   "metadata": {
    "collapsed": false
   },
   "outputs": [],
   "source": [
    "cols = ['Id', 'Title', 'Body']\n",
    "posts_questions[cols].head()\n",
    "\n",
    "# MERGING IN POST ANSWERS\n",
    "posts = pd.merge(left=posts_questions[cols], right=posts_answer_grouped, \n",
    "         how='inner', left_on='Id', right_on='ParentId')\n",
    "\n",
    "# MERGING POST COMMENTS\n",
    "posts = pd.merge(left=posts, right=comments_group, how='inner',\n",
    "         left_on='Id', right_on='PostId')\n",
    "\n",
    "# MERGING IN TAGS\n",
    "posts = pd.merge(left=posts, right=posts_questions[['Id', 'Tags']], \n",
    "         how='inner', on='Id')"
   ]
  },
  {
   "cell_type": "code",
   "execution_count": 33,
   "metadata": {
    "collapsed": false
   },
   "outputs": [
    {
     "data": {
      "text/plain": [
       "(9401, 8)"
      ]
     },
     "execution_count": 33,
     "metadata": {},
     "output_type": "execute_result"
    }
   ],
   "source": [
    "posts.shape"
   ]
  },
  {
   "cell_type": "code",
   "execution_count": 34,
   "metadata": {
    "collapsed": false
   },
   "outputs": [
    {
     "data": {
      "text/html": [
       "<div>\n",
       "<table border=\"1\" class=\"dataframe\">\n",
       "  <thead>\n",
       "    <tr style=\"text-align: right;\">\n",
       "      <th></th>\n",
       "      <th>Id</th>\n",
       "      <th>Title</th>\n",
       "      <th>Body</th>\n",
       "      <th>ParentId</th>\n",
       "      <th>Body_Answer</th>\n",
       "      <th>PostId</th>\n",
       "      <th>Text</th>\n",
       "      <th>Tags</th>\n",
       "    </tr>\n",
       "  </thead>\n",
       "  <tbody>\n",
       "    <tr>\n",
       "      <th>0</th>\n",
       "      <td>1</td>\n",
       "      <td>What are some Caribbean cruises for October</td>\n",
       "      <td>My fiance and are looking for good Caribbean c...</td>\n",
       "      <td>1</td>\n",
       "      <td>This is less than an answer but more than comm...</td>\n",
       "      <td>1</td>\n",
       "      <td>To help with the cruise line question Where ar...</td>\n",
       "      <td>&lt;caribbean&gt;&lt;cruising&gt;&lt;vacations&gt;</td>\n",
       "    </tr>\n",
       "    <tr>\n",
       "      <th>1</th>\n",
       "      <td>4</td>\n",
       "      <td>Does Singapore Airlines offer any reward seats...</td>\n",
       "      <td>Singapore Airlines has an all business class f...</td>\n",
       "      <td>4</td>\n",
       "      <td>SQ often blocks partner awards for very exclus...</td>\n",
       "      <td>4</td>\n",
       "      <td>This route as well as LAX SIN is being cancele...</td>\n",
       "      <td>&lt;loyalty-programs&gt;&lt;routes&gt;&lt;ewr&gt;&lt;singapore-airl...</td>\n",
       "    </tr>\n",
       "    <tr>\n",
       "      <th>2</th>\n",
       "      <td>8</td>\n",
       "      <td>Best way to get from SeaTac airport to Redmond</td>\n",
       "      <td>Can anyone suggest the best way to get from Se...</td>\n",
       "      <td>8</td>\n",
       "      <td>usually plan my trips with Google Maps Put bot...</td>\n",
       "      <td>8</td>\n",
       "      <td>To those voting down please explain why with c...</td>\n",
       "      <td>&lt;usa&gt;&lt;airport-transfer&gt;&lt;taxis&gt;&lt;seattle&gt;</td>\n",
       "    </tr>\n",
       "    <tr>\n",
       "      <th>3</th>\n",
       "      <td>9</td>\n",
       "      <td>What are must visit destinations for the first...</td>\n",
       "      <td>We are considering visiting Argentina for up t...</td>\n",
       "      <td>9</td>\n",
       "      <td>You dont mention what kind of trips you like b...</td>\n",
       "      <td>9</td>\n",
       "      <td>agree with user you need to specify what kind ...</td>\n",
       "      <td>&lt;sightseeing&gt;&lt;public-transport&gt;&lt;transportation...</td>\n",
       "    </tr>\n",
       "    <tr>\n",
       "      <th>4</th>\n",
       "      <td>11</td>\n",
       "      <td>What is the best way to obtain visas for the T...</td>\n",
       "      <td>Im planning on taking the trans Siberian trans...</td>\n",
       "      <td>11</td>\n",
       "      <td>As know in Russia visas can be achived for two...</td>\n",
       "      <td>11</td>\n",
       "      <td>If at all possible save yourself the hassle of...</td>\n",
       "      <td>&lt;russia&gt;&lt;visas&gt;&lt;china&gt;&lt;mongolia&gt;&lt;trans-siberian&gt;</td>\n",
       "    </tr>\n",
       "  </tbody>\n",
       "</table>\n",
       "</div>"
      ],
      "text/plain": [
       "   Id                                              Title  \\\n",
       "0   1        What are some Caribbean cruises for October   \n",
       "1   4  Does Singapore Airlines offer any reward seats...   \n",
       "2   8     Best way to get from SeaTac airport to Redmond   \n",
       "3   9  What are must visit destinations for the first...   \n",
       "4  11  What is the best way to obtain visas for the T...   \n",
       "\n",
       "                                                Body  ParentId  \\\n",
       "0  My fiance and are looking for good Caribbean c...         1   \n",
       "1  Singapore Airlines has an all business class f...         4   \n",
       "2  Can anyone suggest the best way to get from Se...         8   \n",
       "3  We are considering visiting Argentina for up t...         9   \n",
       "4  Im planning on taking the trans Siberian trans...        11   \n",
       "\n",
       "                                         Body_Answer  PostId  \\\n",
       "0  This is less than an answer but more than comm...       1   \n",
       "1  SQ often blocks partner awards for very exclus...       4   \n",
       "2  usually plan my trips with Google Maps Put bot...       8   \n",
       "3  You dont mention what kind of trips you like b...       9   \n",
       "4  As know in Russia visas can be achived for two...      11   \n",
       "\n",
       "                                                Text  \\\n",
       "0  To help with the cruise line question Where ar...   \n",
       "1  This route as well as LAX SIN is being cancele...   \n",
       "2  To those voting down please explain why with c...   \n",
       "3  agree with user you need to specify what kind ...   \n",
       "4  If at all possible save yourself the hassle of...   \n",
       "\n",
       "                                                Tags  \n",
       "0                   <caribbean><cruising><vacations>  \n",
       "1  <loyalty-programs><routes><ewr><singapore-airl...  \n",
       "2            <usa><airport-transfer><taxis><seattle>  \n",
       "3  <sightseeing><public-transport><transportation...  \n",
       "4   <russia><visas><china><mongolia><trans-siberian>  "
      ]
     },
     "execution_count": 34,
     "metadata": {},
     "output_type": "execute_result"
    }
   ],
   "source": [
    "posts.head()"
   ]
  },
  {
   "cell_type": "code",
   "execution_count": 35,
   "metadata": {
    "collapsed": true
   },
   "outputs": [],
   "source": [
    "# JOINING ALL TEXT TOGETHER\n",
    "\n",
    "text_tuple = zip(posts.Title, posts.Body, posts.Body_Answer, posts.Text)\n",
    "txt = []\n",
    "for tup in text_tuple:\n",
    "    txt.append(' '.join(tup))"
   ]
  },
  {
   "cell_type": "code",
   "execution_count": 36,
   "metadata": {
    "collapsed": false
   },
   "outputs": [],
   "source": [
    "# ADDING IN THE COMBINED TEXT FOR\n",
    "# EACH POST AS A COLUMN\n",
    "posts['Full_Text'] = txt"
   ]
  },
  {
   "cell_type": "code",
   "execution_count": 37,
   "metadata": {
    "collapsed": false
   },
   "outputs": [],
   "source": [
    "# COLUMNS OF INTEREST IN FINAL DF\n",
    "cols = ['Id', 'Full_Text', 'Tags']\n",
    "\n",
    "posts_corpus = posts[cols]"
   ]
  },
  {
   "cell_type": "code",
   "execution_count": 38,
   "metadata": {
    "collapsed": false
   },
   "outputs": [
    {
     "data": {
      "text/html": [
       "<div>\n",
       "<table border=\"1\" class=\"dataframe\">\n",
       "  <thead>\n",
       "    <tr style=\"text-align: right;\">\n",
       "      <th></th>\n",
       "      <th>Id</th>\n",
       "      <th>Full_Text</th>\n",
       "      <th>Tags</th>\n",
       "    </tr>\n",
       "  </thead>\n",
       "  <tbody>\n",
       "    <tr>\n",
       "      <th>0</th>\n",
       "      <td>1</td>\n",
       "      <td>What are some Caribbean cruises for October My...</td>\n",
       "      <td>&lt;caribbean&gt;&lt;cruising&gt;&lt;vacations&gt;</td>\n",
       "    </tr>\n",
       "    <tr>\n",
       "      <th>1</th>\n",
       "      <td>4</td>\n",
       "      <td>Does Singapore Airlines offer any reward seats...</td>\n",
       "      <td>&lt;loyalty-programs&gt;&lt;routes&gt;&lt;ewr&gt;&lt;singapore-airl...</td>\n",
       "    </tr>\n",
       "    <tr>\n",
       "      <th>2</th>\n",
       "      <td>8</td>\n",
       "      <td>Best way to get from SeaTac airport to Redmond...</td>\n",
       "      <td>&lt;usa&gt;&lt;airport-transfer&gt;&lt;taxis&gt;&lt;seattle&gt;</td>\n",
       "    </tr>\n",
       "    <tr>\n",
       "      <th>3</th>\n",
       "      <td>9</td>\n",
       "      <td>What are must visit destinations for the first...</td>\n",
       "      <td>&lt;sightseeing&gt;&lt;public-transport&gt;&lt;transportation...</td>\n",
       "    </tr>\n",
       "    <tr>\n",
       "      <th>4</th>\n",
       "      <td>11</td>\n",
       "      <td>What is the best way to obtain visas for the T...</td>\n",
       "      <td>&lt;russia&gt;&lt;visas&gt;&lt;china&gt;&lt;mongolia&gt;&lt;trans-siberian&gt;</td>\n",
       "    </tr>\n",
       "  </tbody>\n",
       "</table>\n",
       "</div>"
      ],
      "text/plain": [
       "   Id                                          Full_Text  \\\n",
       "0   1  What are some Caribbean cruises for October My...   \n",
       "1   4  Does Singapore Airlines offer any reward seats...   \n",
       "2   8  Best way to get from SeaTac airport to Redmond...   \n",
       "3   9  What are must visit destinations for the first...   \n",
       "4  11  What is the best way to obtain visas for the T...   \n",
       "\n",
       "                                                Tags  \n",
       "0                   <caribbean><cruising><vacations>  \n",
       "1  <loyalty-programs><routes><ewr><singapore-airl...  \n",
       "2            <usa><airport-transfer><taxis><seattle>  \n",
       "3  <sightseeing><public-transport><transportation...  \n",
       "4   <russia><visas><china><mongolia><trans-siberian>  "
      ]
     },
     "execution_count": 38,
     "metadata": {},
     "output_type": "execute_result"
    }
   ],
   "source": [
    "# FINAL POST CORPOS & TAGS\n",
    "posts_corpus.head()"
   ]
  },
  {
   "cell_type": "code",
   "execution_count": 39,
   "metadata": {
    "collapsed": false
   },
   "outputs": [
    {
     "data": {
      "text/plain": [
       "(9401, 3)"
      ]
     },
     "execution_count": 39,
     "metadata": {},
     "output_type": "execute_result"
    }
   ],
   "source": [
    "posts_corpus.shape"
   ]
  },
  {
   "cell_type": "markdown",
   "metadata": {},
   "source": [
    "------------------"
   ]
  },
  {
   "cell_type": "markdown",
   "metadata": {},
   "source": [
    "<img src=\"http://imgur.com/l5NasQj.png\" style=\"float: left; margin: 25px 15px 0px 0px; height: 25px\">\n",
    "\n",
    "### 1. Use LDA to find what topics are discussed on travel.stackexchange.com.\n",
    "\n",
    "---\n",
    "\n",
    "Text can be found in the posts and the comments datasets. The `ParentId` column in the posts dataset indicates what the \"question\" post was for a given post. Comment text can be merged onto the post they are part of with the `PostId` field.\n",
    "\n",
    "The text may have some HTML tags. BeautifulSoup has convenient ways to get rid of markup or extract text if you need to. You can also parse the strings yourself if you like.\n",
    "\n",
    "The tags dataset has the \"tags\" that the users have officially given the post.\n",
    "\n",
    "**1.1 Implement LDA against the text features of the dataset(s).**\n",
    "\n",
    "- This can be posts or a combination of posts and comments if you want more power.\n",
    "- Find optimal **K/num_topics**.\n",
    "\n",
    "**1.2 Compare your topics to the tags. Do the LDA topics make sense? How do they compare to the tags?**\n"
   ]
  },
  {
   "cell_type": "markdown",
   "metadata": {},
   "source": [
    "-------------------"
   ]
  },
  {
   "cell_type": "markdown",
   "metadata": {},
   "source": [
    "_There are over 9000 posts in the DataFrame that can be analyzed. In this step I will use sample of the posts for \"prototyping\" the LDA model_"
   ]
  },
  {
   "cell_type": "code",
   "execution_count": 40,
   "metadata": {
    "collapsed": false
   },
   "outputs": [
    {
     "data": {
      "text/html": [
       "<div>\n",
       "<table border=\"1\" class=\"dataframe\">\n",
       "  <thead>\n",
       "    <tr style=\"text-align: right;\">\n",
       "      <th></th>\n",
       "      <th>Id</th>\n",
       "      <th>Full_Text</th>\n",
       "      <th>Tags</th>\n",
       "    </tr>\n",
       "  </thead>\n",
       "  <tbody>\n",
       "    <tr>\n",
       "      <th>1273</th>\n",
       "      <td>9608</td>\n",
       "      <td>Is there another destination like Thailand Las...</td>\n",
       "      <td>&lt;thailand&gt;&lt;where-on-earth&gt;&lt;southeast-asia&gt;</td>\n",
       "    </tr>\n",
       "    <tr>\n",
       "      <th>109</th>\n",
       "      <td>811</td>\n",
       "      <td>How should spend my time in Calgary in August ...</td>\n",
       "      <td>&lt;sightseeing&gt;&lt;canada&gt;&lt;toronto&gt;</td>\n",
       "    </tr>\n",
       "    <tr>\n",
       "      <th>9332</th>\n",
       "      <td>70742</td>\n",
       "      <td>What is the quickest way to get from Portugal ...</td>\n",
       "      <td>&lt;driving&gt;&lt;portugal&gt;&lt;finland&gt;</td>\n",
       "    </tr>\n",
       "    <tr>\n",
       "      <th>8050</th>\n",
       "      <td>60798</td>\n",
       "      <td>Why does it take much lesser Alaskan miles to ...</td>\n",
       "      <td>&lt;emirates&gt;&lt;alaska-airlines&gt;</td>\n",
       "    </tr>\n",
       "    <tr>\n",
       "      <th>5819</th>\n",
       "      <td>45700</td>\n",
       "      <td>Cheapest and fastest land ways to travel from ...</td>\n",
       "      <td>&lt;trains&gt;&lt;international-travel&gt;&lt;prague&gt;&lt;cologne&gt;</td>\n",
       "    </tr>\n",
       "    <tr>\n",
       "      <th>104</th>\n",
       "      <td>792</td>\n",
       "      <td>Elephant Trekking in northern Thailand would l...</td>\n",
       "      <td>&lt;thailand&gt;&lt;trekking&gt;&lt;animal-riding&gt;</td>\n",
       "    </tr>\n",
       "    <tr>\n",
       "      <th>3759</th>\n",
       "      <td>30188</td>\n",
       "      <td>Are there any restaurants serving real chinese...</td>\n",
       "      <td>&lt;food-and-drink&gt;&lt;netherlands&gt;&lt;belgium&gt;&lt;asia&gt;&lt;l...</td>\n",
       "    </tr>\n",
       "    <tr>\n",
       "      <th>6285</th>\n",
       "      <td>48544</td>\n",
       "      <td>Applying for US tourist visa from UK am an Ind...</td>\n",
       "      <td>&lt;visas&gt;&lt;usa&gt;&lt;uk&gt;&lt;indian-citizens&gt;&lt;tourist-visas&gt;</td>\n",
       "    </tr>\n",
       "    <tr>\n",
       "      <th>4000</th>\n",
       "      <td>31549</td>\n",
       "      <td>Am allowed to use my valid ESTA again for shor...</td>\n",
       "      <td>&lt;usa&gt;&lt;esta&gt;&lt;b1-b2-visas&gt;</td>\n",
       "    </tr>\n",
       "    <tr>\n",
       "      <th>3303</th>\n",
       "      <td>25388</td>\n",
       "      <td>How can make wire transfer from Japan Im here ...</td>\n",
       "      <td>&lt;japan&gt;&lt;money&gt;</td>\n",
       "    </tr>\n",
       "  </tbody>\n",
       "</table>\n",
       "</div>"
      ],
      "text/plain": [
       "         Id                                          Full_Text  \\\n",
       "1273   9608  Is there another destination like Thailand Las...   \n",
       "109     811  How should spend my time in Calgary in August ...   \n",
       "9332  70742  What is the quickest way to get from Portugal ...   \n",
       "8050  60798  Why does it take much lesser Alaskan miles to ...   \n",
       "5819  45700  Cheapest and fastest land ways to travel from ...   \n",
       "104     792  Elephant Trekking in northern Thailand would l...   \n",
       "3759  30188  Are there any restaurants serving real chinese...   \n",
       "6285  48544  Applying for US tourist visa from UK am an Ind...   \n",
       "4000  31549  Am allowed to use my valid ESTA again for shor...   \n",
       "3303  25388  How can make wire transfer from Japan Im here ...   \n",
       "\n",
       "                                                   Tags  \n",
       "1273         <thailand><where-on-earth><southeast-asia>  \n",
       "109                      <sightseeing><canada><toronto>  \n",
       "9332                       <driving><portugal><finland>  \n",
       "8050                        <emirates><alaska-airlines>  \n",
       "5819    <trains><international-travel><prague><cologne>  \n",
       "104                 <thailand><trekking><animal-riding>  \n",
       "3759  <food-and-drink><netherlands><belgium><asia><l...  \n",
       "6285   <visas><usa><uk><indian-citizens><tourist-visas>  \n",
       "4000                           <usa><esta><b1-b2-visas>  \n",
       "3303                                     <japan><money>  "
      ]
     },
     "execution_count": 40,
     "metadata": {},
     "output_type": "execute_result"
    }
   ],
   "source": [
    "posts_proto = posts_corpus.sample(frac=0.33)\n",
    "\n",
    "posts_proto.head(10)"
   ]
  },
  {
   "cell_type": "code",
   "execution_count": 41,
   "metadata": {
    "collapsed": false
   },
   "outputs": [],
   "source": [
    "from sklearn.feature_extraction.text import ENGLISH_STOP_WORDS\n",
    "\n",
    "custom_stop_words = list(ENGLISH_STOP_WORDS)\n",
    "custom_stop_words.append('the')\n",
    "custom_stop_words.append('youre')\n",
    "custom_stop_words.append('like')"
   ]
  },
  {
   "cell_type": "code",
   "execution_count": 42,
   "metadata": {
    "collapsed": true
   },
   "outputs": [],
   "source": [
    "# number of topics\n",
    "k  =  20\n",
    "\n",
    "# Vectorize\n",
    "vectorizer  =  CountVectorizer(stop_words='english', ngram_range=(1,1), max_df=0.95, min_df=1) # Default max/min_df\n",
    "X           =  vectorizer.fit_transform(posts_proto.Full_Text)"
   ]
  },
  {
   "cell_type": "code",
   "execution_count": 43,
   "metadata": {
    "collapsed": false
   },
   "outputs": [],
   "source": [
    "docs = pd.DataFrame(X.toarray(), columns=vectorizer.get_feature_names())\n",
    "# docs.sum()"
   ]
  },
  {
   "cell_type": "code",
   "execution_count": 44,
   "metadata": {
    "collapsed": false
   },
   "outputs": [],
   "source": [
    "bow = []\n",
    "\n",
    "for document in X.toarray():\n",
    "    \n",
    "    single_document = []\n",
    "    \n",
    "    for token_id, token_count in enumerate(document):\n",
    "\n",
    "        if token_count > 0:\n",
    "            single_document.append((token_id, token_count))\n",
    "\n",
    "    bow.append(single_document)\n",
    "    \n",
    "# bow"
   ]
  },
  {
   "cell_type": "code",
   "execution_count": 45,
   "metadata": {
    "collapsed": false
   },
   "outputs": [],
   "source": [
    "# remove words that appear only once\n",
    "frequency = defaultdict(int)\n",
    "\n",
    "for text in posts_proto.Full_Text:\n",
    "    for token in text.split():\n",
    "        frequency[token] += 1\n",
    "\n",
    "texts = [[token for token in text.split() if frequency[token] > 1 and token not in ENGLISH_STOP_WORDS]\n",
    "          for text in posts_proto.Full_Text]\n",
    "\n",
    "# Create gensim dictionary object\n",
    "dictionary = corpora.Dictionary(texts)\n",
    "\n",
    "# Create corpus matrix\n",
    "corpus = [dictionary.doc2bow(text) for text in texts]\n",
    "\n",
    "# corpus"
   ]
  },
  {
   "cell_type": "code",
   "execution_count": 48,
   "metadata": {
    "collapsed": false
   },
   "outputs": [],
   "source": [
    "# LDA MODEL\n",
    "\n",
    "lda = models.LdaModel(\n",
    "    corpus=corpus,\n",
    "    num_topics  =  k,\n",
    "    passes      =  10, \n",
    "    id2word     =  dictionary\n",
    ")"
   ]
  },
  {
   "cell_type": "code",
   "execution_count": 49,
   "metadata": {
    "collapsed": false
   },
   "outputs": [
    {
     "data": {
      "text/plain": [
       "[(0, u'0.032*\"tour\" + 0.013*\"tours\" + 0.012*\"tax\"'),\n",
       " (1, u'0.025*\"train\" + 0.019*\"href\" + 0.016*\"bus\"'),\n",
       " (2, u'0.008*\"The\" + 0.007*\"question\" + 0.007*\"href\"'),\n",
       " (3, u'0.014*\"people\" + 0.010*\"like\" + 0.009*\"food\"'),\n",
       " (4, u'0.046*\"visa\" + 0.015*\"US\" + 0.014*\"Schengen\"'),\n",
       " (5, u'0.011*\"href\" + 0.008*\"The\" + 0.007*\"like\"'),\n",
       " (6, u'0.045*\"passport\" + 0.009*\"ID\" + 0.009*\"US\"'),\n",
       " (7, u'0.016*\"weather\" + 0.014*\"camping\" + 0.010*\"Berlin\"'),\n",
       " (8, u'0.016*\"UK\" + 0.015*\"application\" + 0.009*\"letter\"'),\n",
       " (9, u'0.014*\"Israel\" + 0.012*\"maps\" + 0.012*\"border\"'),\n",
       " (10, u'0.012*\"country\" + 0.008*\"countries\" + 0.007*\"US\"'),\n",
       " (11, u'0.023*\"insurance\" + 0.015*\"tip\" + 0.011*\"travel\"'),\n",
       " (12, u'0.030*\"flight\" + 0.015*\"flights\" + 0.014*\"airline\"'),\n",
       " (13, u'0.015*\"train\" + 0.009*\"The\" + 0.007*\"Georgia\"'),\n",
       " (14, u'0.023*\"car\" + 0.015*\"driving\" + 0.014*\"drive\"'),\n",
       " (15, u'0.017*\"card\" + 0.012*\"href\" + 0.008*\"The\"'),\n",
       " (16, u'0.017*\"laptop\" + 0.015*\"duty\" + 0.013*\"battery\"'),\n",
       " (17, u'0.013*\"time\" + 0.009*\"airport\" + 0.008*\"train\"'),\n",
       " (18, u'0.013*\"luggage\" + 0.009*\"bag\" + 0.008*\"water\"'),\n",
       " (19, u'0.015*\"Hong\" + 0.015*\"Kong\" + 0.013*\"Taiwan\"')]"
      ]
     },
     "execution_count": 49,
     "metadata": {},
     "output_type": "execute_result"
    }
   ],
   "source": [
    "# (topicID, topic Probability)\n",
    "# num_words most probable words for topics number\n",
    "lda.print_topics(num_topics=k, num_words=3)"
   ]
  },
  {
   "cell_type": "code",
   "execution_count": 50,
   "metadata": {
    "collapsed": false
   },
   "outputs": [
    {
     "data": {
      "text/plain": [
       "array(['<thailand><where-on-earth><southeast-asia>',\n",
       "       '<sightseeing><canada><toronto>', '<driving><portugal><finland>',\n",
       "       '<emirates><alaska-airlines>',\n",
       "       '<trains><international-travel><prague><cologne>',\n",
       "       '<thailand><trekking><animal-riding>',\n",
       "       '<food-and-drink><netherlands><belgium><asia><luxembourg>',\n",
       "       '<visas><usa><uk><indian-citizens><tourist-visas>'], dtype=object)"
      ]
     },
     "execution_count": 50,
     "metadata": {},
     "output_type": "execute_result"
    }
   ],
   "source": [
    "# Comparing to Tags\n",
    "posts_proto.Tags[:8].values"
   ]
  },
  {
   "cell_type": "markdown",
   "metadata": {},
   "source": [
    "<img src=\"http://imgur.com/l5NasQj.png\" style=\"float: left; margin: 25px 15px 0px 0px; height: 25px\">\n",
    "\n",
    "### 2. What makes an answer likely to be \"accepted\"?\n",
    "\n",
    "---\n",
    "\n",
    "**2.1 Build a model to predict whether a post will be marked as the answer.**\n",
    "\n",
    "- This is a classification problem.\n",
    "- You're free to use any of the machine learning algorithms or techniques we have learned in class to build the best model you can.\n",
    "- NLP will be very useful here for pulling out useful and relevant features from the data. \n",
    "- Though not required, using bagging and boosting models like Random Forests and Gradient Boosted Trees will _probably_ get you the highest performance on the test data (but who knows!).\n",
    "\n",
    "\n",
    "**2.2 Evaluate the performance of your classifier with a confusion matrix and accuracy. Explain how your model is performing.**\n",
    "\n",
    "**2.3 Plot either a ROC curve or precision-recall curve (or both!) and explain what they tell you about your model.**\n",
    "\n",
    "NOTE: You should only be predicting this for `PostTypeID=2` posts, which are the \"answer\" posts. This doesn't mean, however, that you can't or shouldn't use the parent questions as predictors!\n"
   ]
  },
  {
   "cell_type": "code",
   "execution_count": 51,
   "metadata": {
    "collapsed": false
   },
   "outputs": [
    {
     "data": {
      "text/html": [
       "<div>\n",
       "<table border=\"1\" class=\"dataframe\">\n",
       "  <thead>\n",
       "    <tr style=\"text-align: right;\">\n",
       "      <th></th>\n",
       "      <th>Id</th>\n",
       "      <th>Body</th>\n",
       "      <th>CommentCount</th>\n",
       "      <th>Score</th>\n",
       "      <th>ViewCount</th>\n",
       "      <th>AnswerCount</th>\n",
       "      <th>AcceptedAnswerId</th>\n",
       "    </tr>\n",
       "  </thead>\n",
       "  <tbody>\n",
       "    <tr>\n",
       "      <th>0</th>\n",
       "      <td>19</td>\n",
       "      <td>href relnofollowstrongEURailstrong should be g...</td>\n",
       "      <td>3</td>\n",
       "      <td>10</td>\n",
       "      <td>NaN</td>\n",
       "      <td>NaN</td>\n",
       "      <td>NaN</td>\n",
       "    </tr>\n",
       "    <tr>\n",
       "      <th>1</th>\n",
       "      <td>20</td>\n",
       "      <td>Seat is the absolute definitive guide for inte...</td>\n",
       "      <td>3</td>\n",
       "      <td>51</td>\n",
       "      <td>4561.0</td>\n",
       "      <td>12.0</td>\n",
       "      <td>20.0</td>\n",
       "    </tr>\n",
       "    <tr>\n",
       "      <th>2</th>\n",
       "      <td>22</td>\n",
       "      <td>The site that stands out by mile is hrefseatco...</td>\n",
       "      <td>1</td>\n",
       "      <td>10</td>\n",
       "      <td>NaN</td>\n",
       "      <td>NaN</td>\n",
       "      <td>NaN</td>\n",
       "    </tr>\n",
       "    <tr>\n",
       "      <th>3</th>\n",
       "      <td>29</td>\n",
       "      <td>guess you might be in the UK based on the netw...</td>\n",
       "      <td>4</td>\n",
       "      <td>10</td>\n",
       "      <td>NaN</td>\n",
       "      <td>NaN</td>\n",
       "      <td>NaN</td>\n",
       "    </tr>\n",
       "    <tr>\n",
       "      <th>4</th>\n",
       "      <td>32</td>\n",
       "      <td>Round the world fares do exist Most airline al...</td>\n",
       "      <td>5</td>\n",
       "      <td>26</td>\n",
       "      <td>2362.0</td>\n",
       "      <td>4.0</td>\n",
       "      <td>32.0</td>\n",
       "    </tr>\n",
       "  </tbody>\n",
       "</table>\n",
       "</div>"
      ],
      "text/plain": [
       "   Id                                               Body  CommentCount  Score  \\\n",
       "0  19  href relnofollowstrongEURailstrong should be g...             3     10   \n",
       "1  20  Seat is the absolute definitive guide for inte...             3     51   \n",
       "2  22  The site that stands out by mile is hrefseatco...             1     10   \n",
       "3  29  guess you might be in the UK based on the netw...             4     10   \n",
       "4  32  Round the world fares do exist Most airline al...             5     26   \n",
       "\n",
       "   ViewCount  AnswerCount  AcceptedAnswerId  \n",
       "0        NaN          NaN               NaN  \n",
       "1     4561.0         12.0              20.0  \n",
       "2        NaN          NaN               NaN  \n",
       "3        NaN          NaN               NaN  \n",
       "4     2362.0          4.0              32.0  "
      ]
     },
     "execution_count": 51,
     "metadata": {},
     "output_type": "execute_result"
    }
   ],
   "source": [
    "# CREATE DF TO EVALUATE ACCEPTED ANSWERS\n",
    "\n",
    "cols_1 = ['Id', 'Body', 'CommentCount', 'Score']\n",
    "cols_2 = ['ViewCount', 'AnswerCount', 'AcceptedAnswerId']\n",
    "\n",
    "accepted_answer = pd.merge(left=posts_answer[cols_1], right=posts_questions[cols_2], \n",
    "                         how='left', left_on='Id', right_on='AcceptedAnswerId')\n",
    "\n",
    "accepted_answer.head()"
   ]
  },
  {
   "cell_type": "code",
   "execution_count": 52,
   "metadata": {
    "collapsed": false
   },
   "outputs": [
    {
     "data": {
      "text/plain": [
       "Id                      0\n",
       "Body                    0\n",
       "CommentCount            0\n",
       "Score                   0\n",
       "ViewCount           17451\n",
       "AnswerCount         17451\n",
       "AcceptedAnswerId    17451\n",
       "dtype: int64"
      ]
     },
     "execution_count": 52,
     "metadata": {},
     "output_type": "execute_result"
    }
   ],
   "source": [
    "accepted_answer.isnull().sum()"
   ]
  },
  {
   "cell_type": "markdown",
   "metadata": {},
   "source": [
    "_Before using the text column, I will first try a classification model with the other features to see what results they yield_"
   ]
  },
  {
   "cell_type": "code",
   "execution_count": 53,
   "metadata": {
    "collapsed": false
   },
   "outputs": [],
   "source": [
    "# 1 IF ACCEPTED ELSE 0\n",
    "accepted_answer.AcceptedAnswerId = accepted_answer.AcceptedAnswerId.isnull().map({True: 0, False: 1})\n",
    "\n",
    "# IMPUTE NULL VALUES WITH 0\n",
    "accepted_answer.AnswerCount.fillna(value=0, inplace=True)\n",
    "accepted_answer.ViewCount.fillna(value=0, inplace=True)\n",
    "\n",
    "# MODIFY COLUMN NAMES\n",
    "accepted_answer.columns = [u'Id', u'Body', u'CommentCount', u'Score', u'ViewCount', u'AnswerCount',\n",
    "       u'Accepted']"
   ]
  },
  {
   "cell_type": "code",
   "execution_count": 54,
   "metadata": {
    "collapsed": false
   },
   "outputs": [
    {
     "data": {
      "text/html": [
       "<div>\n",
       "<table border=\"1\" class=\"dataframe\">\n",
       "  <thead>\n",
       "    <tr style=\"text-align: right;\">\n",
       "      <th></th>\n",
       "      <th>Id</th>\n",
       "      <th>Body</th>\n",
       "      <th>CommentCount</th>\n",
       "      <th>Score</th>\n",
       "      <th>ViewCount</th>\n",
       "      <th>AnswerCount</th>\n",
       "      <th>Accepted</th>\n",
       "    </tr>\n",
       "  </thead>\n",
       "  <tbody>\n",
       "    <tr>\n",
       "      <th>0</th>\n",
       "      <td>19</td>\n",
       "      <td>href relnofollowstrongEURailstrong should be g...</td>\n",
       "      <td>3</td>\n",
       "      <td>10</td>\n",
       "      <td>0.0</td>\n",
       "      <td>0.0</td>\n",
       "      <td>0</td>\n",
       "    </tr>\n",
       "    <tr>\n",
       "      <th>1</th>\n",
       "      <td>20</td>\n",
       "      <td>Seat is the absolute definitive guide for inte...</td>\n",
       "      <td>3</td>\n",
       "      <td>51</td>\n",
       "      <td>4561.0</td>\n",
       "      <td>12.0</td>\n",
       "      <td>1</td>\n",
       "    </tr>\n",
       "    <tr>\n",
       "      <th>2</th>\n",
       "      <td>22</td>\n",
       "      <td>The site that stands out by mile is hrefseatco...</td>\n",
       "      <td>1</td>\n",
       "      <td>10</td>\n",
       "      <td>0.0</td>\n",
       "      <td>0.0</td>\n",
       "      <td>0</td>\n",
       "    </tr>\n",
       "    <tr>\n",
       "      <th>3</th>\n",
       "      <td>29</td>\n",
       "      <td>guess you might be in the UK based on the netw...</td>\n",
       "      <td>4</td>\n",
       "      <td>10</td>\n",
       "      <td>0.0</td>\n",
       "      <td>0.0</td>\n",
       "      <td>0</td>\n",
       "    </tr>\n",
       "    <tr>\n",
       "      <th>4</th>\n",
       "      <td>32</td>\n",
       "      <td>Round the world fares do exist Most airline al...</td>\n",
       "      <td>5</td>\n",
       "      <td>26</td>\n",
       "      <td>2362.0</td>\n",
       "      <td>4.0</td>\n",
       "      <td>1</td>\n",
       "    </tr>\n",
       "  </tbody>\n",
       "</table>\n",
       "</div>"
      ],
      "text/plain": [
       "   Id                                               Body  CommentCount  Score  \\\n",
       "0  19  href relnofollowstrongEURailstrong should be g...             3     10   \n",
       "1  20  Seat is the absolute definitive guide for inte...             3     51   \n",
       "2  22  The site that stands out by mile is hrefseatco...             1     10   \n",
       "3  29  guess you might be in the UK based on the netw...             4     10   \n",
       "4  32  Round the world fares do exist Most airline al...             5     26   \n",
       "\n",
       "   ViewCount  AnswerCount  Accepted  \n",
       "0        0.0          0.0         0  \n",
       "1     4561.0         12.0         1  \n",
       "2        0.0          0.0         0  \n",
       "3        0.0          0.0         0  \n",
       "4     2362.0          4.0         1  "
      ]
     },
     "execution_count": 54,
     "metadata": {},
     "output_type": "execute_result"
    }
   ],
   "source": [
    "accepted_answer.head()"
   ]
  },
  {
   "cell_type": "code",
   "execution_count": 55,
   "metadata": {
    "collapsed": false
   },
   "outputs": [
    {
     "data": {
      "text/plain": [
       "0    17451\n",
       "1     6516\n",
       "Name: Accepted, dtype: int64"
      ]
     },
     "execution_count": 55,
     "metadata": {},
     "output_type": "execute_result"
    }
   ],
   "source": [
    "accepted_answer.Accepted.value_counts()"
   ]
  },
  {
   "cell_type": "code",
   "execution_count": 56,
   "metadata": {
    "collapsed": false
   },
   "outputs": [],
   "source": [
    "# SVM"
   ]
  },
  {
   "cell_type": "code",
   "execution_count": 57,
   "metadata": {
    "collapsed": true
   },
   "outputs": [],
   "source": [
    "# DESIGN & TARGET\n",
    "X = accepted_answer.iloc[:, 2:-1]\n",
    "y = accepted_answer.iloc[:, -1]\n",
    "\n",
    "ss = StandardScaler()\n",
    "Xn = ss.fit_transform(X)"
   ]
  },
  {
   "cell_type": "code",
   "execution_count": 58,
   "metadata": {
    "collapsed": true
   },
   "outputs": [],
   "source": [
    "# FUNCTION TO PRINT CLASSIFICATION METRICS\n",
    "def print_cm_cr(y_true, y_pred):\n",
    "    \"\"\"prints the confusion matrix and the classification report\"\"\"\n",
    "    confusion = pd.crosstab(y_true, y_pred, rownames=['Actual'], colnames=['Predicted'], margins=True)\n",
    "    print confusion\n",
    "    print\n",
    "    print classification_report(y_true, y_pred)"
   ]
  },
  {
   "cell_type": "code",
   "execution_count": 59,
   "metadata": {
    "collapsed": false
   },
   "outputs": [
    {
     "name": "stdout",
     "output_type": "stream",
     "text": [
      "Predicted     0     1   All\n",
      "Actual                     \n",
      "0          5759     0  5759\n",
      "1             0  2151  2151\n",
      "All        5759  2151  7910\n",
      "\n",
      "             precision    recall  f1-score   support\n",
      "\n",
      "          0       1.00      1.00      1.00      5759\n",
      "          1       1.00      1.00      1.00      2151\n",
      "\n",
      "avg / total       1.00      1.00      1.00      7910\n",
      "\n"
     ]
    }
   ],
   "source": [
    "# TRAIN TEST SPLIT\n",
    "lin_model = SVC(kernel='linear')\n",
    "\n",
    "X_train, X_test, y_train, y_test = train_test_split(Xn, y, stratify=y, test_size=0.33)\n",
    "lin_model.fit(X_train, y_train)\n",
    "\n",
    "y_pred = lin_model.predict(X_test)\n",
    "print_cm_cr(y_test, y_pred)"
   ]
  },
  {
   "cell_type": "markdown",
   "metadata": {},
   "source": [
    "_The scores above are unrealistic and is a result of how the DataFrame was constructed. Extreme case of data leakage occuring here_"
   ]
  },
  {
   "cell_type": "code",
   "execution_count": 60,
   "metadata": {
    "collapsed": true
   },
   "outputs": [],
   "source": [
    "vectorizer = CountVectorizer(min_df = 1, stop_words = custom_stop_words)\n",
    "dtm = vectorizer.fit_transform(accepted_answer.Body)\n",
    "\n",
    "# FIT LSA MODEL\n",
    "lsa = TruncatedSVD(n_components=2, algorithm = 'arpack') # algorithm='randomized'\n",
    "dtm_lsa = lsa.fit_transform(dtm)\n",
    "dtm_lsa = Normalizer(copy=False).fit_transform(dtm_lsa)"
   ]
  },
  {
   "cell_type": "markdown",
   "metadata": {
    "collapsed": true
   },
   "source": [
    "<img src=\"http://imgur.com/l5NasQj.png\" style=\"float: left; margin: 25px 15px 0px 0px; height: 25px\">\n",
    "\n",
    "### 3. What is the score of a post?\n",
    "\n",
    "---\n",
    "\n",
    "**3.1 Build a model that predicts the score of a post.**\n",
    "\n",
    "- This is a regression problem now. \n",
    "- You can and should be predicting score for both \"question\" and \"answer\" posts, so keep them both in your dataset.\n",
    "- Again, use any techniques that you think will get you the best model.\n",
    "\n",
    "**3.2 Evaluate the performance of your model with cross-validation and report the results.**\n",
    "\n",
    "**3.3 What is important for determining the score of a post, if anything?**\n"
   ]
  },
  {
   "cell_type": "code",
   "execution_count": null,
   "metadata": {
    "collapsed": true
   },
   "outputs": [],
   "source": []
  },
  {
   "cell_type": "markdown",
   "metadata": {},
   "source": [
    "<img src=\"http://imgur.com/l5NasQj.png\" style=\"float: left; margin: 25px 15px 0px 0px; height: 25px\">\n",
    "\n",
    "### 4. How many views does a post have?\n",
    "\n",
    "---\n",
    "\n",
    "**4.1 Build a model that predicts the number of views a post has.**\n",
    "\n",
    "- This is another regression problem. \n",
    "- Predict the views for all posts, not just the \"answer\" posts.\n",
    "\n",
    "**4.2 Evaluate the performance of your model with cross-validation and report the results.**\n",
    "\n",
    "**4.3 What is important for the number of views a post has, if anything?**"
   ]
  },
  {
   "cell_type": "code",
   "execution_count": null,
   "metadata": {
    "collapsed": true
   },
   "outputs": [],
   "source": []
  },
  {
   "cell_type": "markdown",
   "metadata": {},
   "source": [
    "<img src=\"http://imgur.com/l5NasQj.png\" style=\"float: left; margin: 25px 15px 0px 0px; height: 25px\">\n",
    "\n",
    "### 5. Build a pipeline or other code to automate evaluation of your models on the test data.\n",
    "\n",
    "---\n",
    "\n",
    "Now that you've constructed your three predictive models, build a pipeline or code that can easily load up the raw testing data and evaluate your models on it.\n",
    "\n",
    "The testing data that is held out is in the same raw format as the training data you have. _Any cleaning and preprocessing that you did on the training data will need to be done on the testing data as well!_\n",
    "\n",
    "This is a good opportunity to practice building pipelines, but you're not required to. Custom functions and classes are fine as long as they are able to process and test the new data.\n"
   ]
  },
  {
   "cell_type": "code",
   "execution_count": null,
   "metadata": {
    "collapsed": true
   },
   "outputs": [],
   "source": []
  },
  {
   "cell_type": "markdown",
   "metadata": {},
   "source": [
    "<img src=\"http://imgur.com/xDpSobf.png\" style=\"float: left; margin: 25px 15px 0px 0px; height: 25px\">\n",
    "\n",
    "## 6. Lets Model - Tournament for stock market predictions\n",
    "\n",
    ">Start this section of the project by downloading the train and test datasets from the following site: https://numer.ai/rules\n",
    "\n",
    "> - The data set is clean, your goal is to develop a classification model(s) \n",
    "> - Report all the results including log loss, and other coefficients you consider iteresting"
   ]
  },
  {
   "cell_type": "code",
   "execution_count": null,
   "metadata": {
    "collapsed": true
   },
   "outputs": [],
   "source": []
  }
 ],
 "metadata": {
  "anaconda-cloud": {},
  "kernelspec": {
   "display_name": "Python [conda env:dsi]",
   "language": "python",
   "name": "conda-env-dsi-py"
  },
  "language_info": {
   "codemirror_mode": {
    "name": "ipython",
    "version": 2
   },
   "file_extension": ".py",
   "mimetype": "text/x-python",
   "name": "python",
   "nbconvert_exporter": "python",
   "pygments_lexer": "ipython2",
   "version": "2.7.12"
  }
 },
 "nbformat": 4,
 "nbformat_minor": 0
}
