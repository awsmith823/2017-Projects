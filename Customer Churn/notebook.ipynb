{
 "cells": [
  {
   "cell_type": "markdown",
   "metadata": {},
   "source": [
    "### Customer Churn Model\n",
    "\n",
    "Logistic regression used to model fictional telco company's customer churn based on a variety of possible factors. The churn column indicates whether or not the customer left within the last month. Other columns include gender, dependents, monthly charges, and many with information about the types of services each customer has. "
   ]
  },
  {
   "cell_type": "code",
   "execution_count": 1,
   "metadata": {},
   "outputs": [],
   "source": [
    "import pandas as pd\n",
    "import numpy as np\n",
    "\n",
    "from sklearn.model_selection import train_test_split\n",
    "from sklearn.preprocessing import StandardScaler\n",
    "from sklearn.linear_model import LogisticRegression\n",
    "from sklearn.metrics import classification_report\n",
    "from sklearn.pipeline import Pipeline\n",
    "\n",
    "import pickle\n",
    "import seaborn as sns\n",
    "import matplotlib.pyplot as plt\n",
    "%matplotlib inline\n",
    "%config InlineBackend.figure_format = 'retina'"
   ]
  },
  {
   "cell_type": "code",
   "execution_count": 2,
   "metadata": {},
   "outputs": [
    {
     "data": {
      "text/html": [
       "<div>\n",
       "<style scoped>\n",
       "    .dataframe tbody tr th:only-of-type {\n",
       "        vertical-align: middle;\n",
       "    }\n",
       "\n",
       "    .dataframe tbody tr th {\n",
       "        vertical-align: top;\n",
       "    }\n",
       "\n",
       "    .dataframe thead th {\n",
       "        text-align: right;\n",
       "    }\n",
       "</style>\n",
       "<table border=\"1\" class=\"dataframe\">\n",
       "  <thead>\n",
       "    <tr style=\"text-align: right;\">\n",
       "      <th></th>\n",
       "      <th>customerID</th>\n",
       "      <th>gender</th>\n",
       "      <th>SeniorCitizen</th>\n",
       "      <th>Partner</th>\n",
       "      <th>Dependents</th>\n",
       "      <th>...</th>\n",
       "      <th>PaperlessBilling</th>\n",
       "      <th>PaymentMethod</th>\n",
       "      <th>MonthlyCharges</th>\n",
       "      <th>TotalCharges</th>\n",
       "      <th>Churn</th>\n",
       "    </tr>\n",
       "  </thead>\n",
       "  <tbody>\n",
       "    <tr>\n",
       "      <td>0</td>\n",
       "      <td>7590-VHVEG</td>\n",
       "      <td>Female</td>\n",
       "      <td>0</td>\n",
       "      <td>Yes</td>\n",
       "      <td>No</td>\n",
       "      <td>...</td>\n",
       "      <td>Yes</td>\n",
       "      <td>Electronic check</td>\n",
       "      <td>29.85</td>\n",
       "      <td>29.85</td>\n",
       "      <td>No</td>\n",
       "    </tr>\n",
       "    <tr>\n",
       "      <td>1</td>\n",
       "      <td>5575-GNVDE</td>\n",
       "      <td>Male</td>\n",
       "      <td>0</td>\n",
       "      <td>No</td>\n",
       "      <td>No</td>\n",
       "      <td>...</td>\n",
       "      <td>No</td>\n",
       "      <td>Mailed check</td>\n",
       "      <td>56.95</td>\n",
       "      <td>1889.5</td>\n",
       "      <td>No</td>\n",
       "    </tr>\n",
       "    <tr>\n",
       "      <td>2</td>\n",
       "      <td>3668-QPYBK</td>\n",
       "      <td>Male</td>\n",
       "      <td>0</td>\n",
       "      <td>No</td>\n",
       "      <td>No</td>\n",
       "      <td>...</td>\n",
       "      <td>Yes</td>\n",
       "      <td>Mailed check</td>\n",
       "      <td>53.85</td>\n",
       "      <td>108.15</td>\n",
       "      <td>Yes</td>\n",
       "    </tr>\n",
       "    <tr>\n",
       "      <td>3</td>\n",
       "      <td>7795-CFOCW</td>\n",
       "      <td>Male</td>\n",
       "      <td>0</td>\n",
       "      <td>No</td>\n",
       "      <td>No</td>\n",
       "      <td>...</td>\n",
       "      <td>No</td>\n",
       "      <td>Bank transfer (automatic)</td>\n",
       "      <td>42.30</td>\n",
       "      <td>1840.75</td>\n",
       "      <td>No</td>\n",
       "    </tr>\n",
       "    <tr>\n",
       "      <td>4</td>\n",
       "      <td>9237-HQITU</td>\n",
       "      <td>Female</td>\n",
       "      <td>0</td>\n",
       "      <td>No</td>\n",
       "      <td>No</td>\n",
       "      <td>...</td>\n",
       "      <td>Yes</td>\n",
       "      <td>Electronic check</td>\n",
       "      <td>70.70</td>\n",
       "      <td>151.65</td>\n",
       "      <td>Yes</td>\n",
       "    </tr>\n",
       "  </tbody>\n",
       "</table>\n",
       "<p>5 rows × 21 columns</p>\n",
       "</div>"
      ],
      "text/plain": [
       "   customerID  gender  SeniorCitizen Partner Dependents  ...  \\\n",
       "0  7590-VHVEG  Female              0     Yes         No  ...   \n",
       "1  5575-GNVDE    Male              0      No         No  ...   \n",
       "2  3668-QPYBK    Male              0      No         No  ...   \n",
       "3  7795-CFOCW    Male              0      No         No  ...   \n",
       "4  9237-HQITU  Female              0      No         No  ...   \n",
       "\n",
       "   PaperlessBilling              PaymentMethod MonthlyCharges TotalCharges  \\\n",
       "0               Yes           Electronic check          29.85        29.85   \n",
       "1                No               Mailed check          56.95       1889.5   \n",
       "2               Yes               Mailed check          53.85       108.15   \n",
       "3                No  Bank transfer (automatic)          42.30      1840.75   \n",
       "4               Yes           Electronic check          70.70       151.65   \n",
       "\n",
       "  Churn  \n",
       "0    No  \n",
       "1    No  \n",
       "2   Yes  \n",
       "3    No  \n",
       "4   Yes  \n",
       "\n",
       "[5 rows x 21 columns]"
      ]
     },
     "execution_count": 2,
     "metadata": {},
     "output_type": "execute_result"
    }
   ],
   "source": [
    "FILE_NAME = 'Telco-Customer-Churn.csv'\n",
    "pd.options.display.max_columns = 10\n",
    "\n",
    "data = pd.read_csv(FILE_NAME)\n",
    "data.head()"
   ]
  },
  {
   "cell_type": "code",
   "execution_count": 3,
   "metadata": {},
   "outputs": [
    {
     "data": {
      "text/plain": [
       "(7043, 21)"
      ]
     },
     "execution_count": 3,
     "metadata": {},
     "output_type": "execute_result"
    }
   ],
   "source": [
    "data.shape"
   ]
  },
  {
   "cell_type": "markdown",
   "metadata": {},
   "source": [
    "Customers with 0 months tenure, have yet to accumulate TotalCharges. In this context they should not be part of training a model to predict churn so they will be omitted from the dataset"
   ]
  },
  {
   "cell_type": "code",
   "execution_count": 4,
   "metadata": {},
   "outputs": [
    {
     "data": {
      "text/plain": [
       "(7032, 21)"
      ]
     },
     "execution_count": 4,
     "metadata": {},
     "output_type": "execute_result"
    }
   ],
   "source": [
    "# Remove 0 tenure customers\n",
    "df = data[data['tenure'] > 0].reset_index(drop=True)\n",
    "df.shape"
   ]
  },
  {
   "cell_type": "markdown",
   "metadata": {},
   "source": [
    "### DATA CLEANING\n",
    "\n",
    "Most of the colomns can be transformed from Yes/No to 1/0. Other columns such as `StreamingMovies` have **No** and **No internet service** for the negative case and **Yes** for the positive case – we can still transform these types to 1/0"
   ]
  },
  {
   "cell_type": "code",
   "execution_count": 5,
   "metadata": {},
   "outputs": [],
   "source": [
    "# CLEAN DATA USING THE FOLLOWING LAMBDA FUNCTIONS\n",
    "inferred_yes_no_lambda = lambda x: 1 if x == 'Yes' else 0 if x == 'No' else 0 if 'No ' in x else None\n",
    "\n",
    "column_lambda_funcs = {\n",
    "    'customerID': lambda x: x, \n",
    "    'SeniorCitizen': lambda x: x,\n",
    "    'tenure': lambda x: int(x),\n",
    "    'MonthlyCharges': lambda x: float(x),\n",
    "    'TotalCharges': lambda x: float(x),\n",
    "\n",
    "    'Churn': inferred_yes_no_lambda,\n",
    "    'Dependents': inferred_yes_no_lambda,\n",
    "    'DeviceProtection': inferred_yes_no_lambda,\n",
    "    'MultipleLines': inferred_yes_no_lambda,\n",
    "    'OnlineSecurity': inferred_yes_no_lambda,\n",
    "    'OnlineBackup': inferred_yes_no_lambda,\n",
    "    'PaperlessBilling': inferred_yes_no_lambda,\n",
    "    'Partner': inferred_yes_no_lambda,\n",
    "    'PhoneService': inferred_yes_no_lambda,\n",
    "    'StreamingTV': inferred_yes_no_lambda,\n",
    "    'StreamingMovies': inferred_yes_no_lambda,\n",
    "    'TechSupport': inferred_yes_no_lambda,\n",
    "    \n",
    "    'Contract': \\\n",
    "        lambda x: {'One year': 1, 'Two year': 1, 'Month-to-month': 0}.get(x),    \n",
    "    'gender': \\\n",
    "        lambda x: {'Female': 1, 'Male': 0}.get(x),\n",
    "    'InternetService': \\\n",
    "        lambda x: {'DSL': 1, 'Fiber optic': 1, 'No': 0}.get(x),    \n",
    "    'PaymentMethod': \\\n",
    "        lambda x: {'Bank transfer (automatic)': 1, \n",
    "                   'Credit card (automatic)': 1, \n",
    "                   'Electronic check': 0,\n",
    "                   'Mailed check': 0,}.get(x), \n",
    "}\n",
    "\n",
    "for col in df.columns:\n",
    "    if col not in ['customerID', 'SeniorCitizen']:\n",
    "        df[col] = df[col].apply(column_lambda_funcs[col])\n",
    "\n",
    "# RENAME columns\n",
    "df.rename(\n",
    "    columns={'gender':'Female', \n",
    "             'tenure':'Tenure', \n",
    "             'customerID': 'CustomerID',\n",
    "             'PaymentMethod': 'AutoPayment'}, \n",
    "    inplace=True\n",
    ")"
   ]
  },
  {
   "cell_type": "markdown",
   "metadata": {},
   "source": [
    "### SPLIT DATA"
   ]
  },
  {
   "cell_type": "code",
   "execution_count": 6,
   "metadata": {},
   "outputs": [],
   "source": [
    "# Predictors - Target split\n",
    "X = df.drop(['CustomerID', 'Churn'], axis=1)\n",
    "y = df['Churn']\n",
    "\n",
    "# SPLIT DATA\n",
    "X_train, X_test, Y_train, Y_test = train_test_split(X, y, test_size = 0.20, random_state=8)"
   ]
  },
  {
   "cell_type": "code",
   "execution_count": 7,
   "metadata": {},
   "outputs": [
    {
     "name": "stdout",
     "output_type": "stream",
     "text": [
      "              precision    recall  f1-score   support\n",
      "\n",
      "           0       0.86      0.89      0.87      1054\n",
      "           1       0.63      0.56      0.59       353\n",
      "\n",
      "    accuracy                           0.81      1407\n",
      "   macro avg       0.74      0.72      0.73      1407\n",
      "weighted avg       0.80      0.81      0.80      1407\n",
      "\n"
     ]
    }
   ],
   "source": [
    "# Pipeline\n",
    "model = Pipeline(\n",
    "    steps=[\n",
    "        ('standardize', StandardScaler()),\n",
    "        ('logreg', LogisticRegression(penalty='l2', C=0.043, solver='liblinear')),\n",
    "    ]\n",
    ")\n",
    "\n",
    "# Fit\n",
    "model.fit(X_train, Y_train)\n",
    "\n",
    "# Predict\n",
    "y_hat = model.predict(X_test)\n",
    "\n",
    "# Classification Report\n",
    "print(classification_report(y_true=Y_test, y_pred=y_hat))"
   ]
  },
  {
   "cell_type": "code",
   "execution_count": 8,
   "metadata": {},
   "outputs": [],
   "source": [
    "# Dump Model\n",
    "pickle.dump(model, open('model.pkl', 'wb'))"
   ]
  },
  {
   "cell_type": "markdown",
   "metadata": {},
   "source": [
    "### Logistic Regression: Interpretation of Feature Weights\n",
    "\n",
    "Define the odds of Y = 1 as,\n",
    "$$odds = \\frac{P(Y = 1)}{1 - P(Y = 1)} = e^{\\beta_0 + \\beta_1 X_1 + \\cdots + \\beta_p X_p}$$\n",
    "\n",
    "Interpret the $\\beta's$ in multiplicative terms with respect to the odds.\n",
    "\n",
    "E.g., the interpretation of $\\beta_1$ is, holding all the other variables/features fixed, for every increase of 1 in $X_1$, the odds of $Y = 1$ increases by a factor of $e^{\\beta_1}$."
   ]
  },
  {
   "cell_type": "code",
   "execution_count": 9,
   "metadata": {},
   "outputs": [
    {
     "data": {
      "image/png": "[encoded data removed]",
      "text/plain": [
       "<Figure size 720x432 with 1 Axes>"
      ]
     },
     "metadata": {
      "image/png": {
       "height": 375,
       "width": 666
      },
      "needs_background": "light"
     },
     "output_type": "display_data"
    }
   ],
   "source": [
    "# Feature Weights\n",
    "lr_coefs = model.named_steps['logreg'].coef_[0]\n",
    "feature_weights = np.exp(lr_coefs)\n",
    "\n",
    "# Sorted Feature Weights\n",
    "sorted_features = feature_weights[np.argsort(feature_weights)]\n",
    "\n",
    "plt.figure(figsize = (10,6))\n",
    "plt.title('Churn Odds Ratio vs. Features', fontsize=16)\n",
    "sns.barplot(sorted_features[::-1], X_train.columns[np.argsort(feature_weights)][::-1], palette=\"RdBu\");"
   ]
  }
 ],
 "metadata": {
  "kernelspec": {
   "display_name": "Python 3",
   "language": "python",
   "name": "python3"
  },
  "language_info": {
   "codemirror_mode": {
    "name": "ipython",
    "version": 3
   },
   "file_extension": ".py",
   "mimetype": "text/x-python",
   "name": "python",
   "nbconvert_exporter": "python",
   "pygments_lexer": "ipython3",
   "version": "3.7.4"
  }
 },
 "nbformat": 4,
 "nbformat_minor": 2
}
