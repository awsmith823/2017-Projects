{
 "cells": [
  {
   "cell_type": "markdown",
   "metadata": {},
   "source": [
    "#  Web Scraping\n",
    "### Finding Underpriced RVs on Craigslist\n",
    "\n",
    "In this Notebook I will be practicing my web scraping skills from both Wikipedia and Craigslist\n",
    "\n",
    "![](https://snag.gy/WrdUMx.jpg)"
   ]
  },
  {
   "cell_type": "code",
   "execution_count": 1,
   "metadata": {
    "collapsed": true
   },
   "outputs": [],
   "source": [
    "# PREPARE REQUIRED LIBRARIES\n",
    "from scrapy.selector import Selector\n",
    "from scrapy.http import HtmlResponse\n",
    "from bs4 import BeautifulSoup\n",
    "import requests\n",
    "\n",
    "import pandas as pd\n",
    "import numpy as np\n",
    "import matplotlib.pyplot as plt\n",
    "%config InlineBackend.figure_format = 'retina'"
   ]
  },
  {
   "cell_type": "markdown",
   "metadata": {},
   "source": [
    "### Scrape Wikipedia for the largest US cities (non-exhaustive list)"
   ]
  },
  {
   "cell_type": "code",
   "execution_count": 2,
   "metadata": {
    "collapsed": true
   },
   "outputs": [],
   "source": [
    "# URL & REQUEST\n",
    "url = \"https://en.wikipedia.org/wiki/List_of_United_States_cities_by_population\"\n",
    "response = requests.get(url)\n",
    "\n",
    "# XPATH AND EXTRACT\n",
    "xpath_expression = \"//div[@class='gallerytext']/a[1]/@title\"\n",
    "cities = Selector(text=response.text).xpath(xpath_expression).extract()"
   ]
  },
  {
   "cell_type": "code",
   "execution_count": 3,
   "metadata": {
    "collapsed": false,
    "scrolled": true
   },
   "outputs": [
    {
     "name": "stdout",
     "output_type": "stream",
     "text": [
      "[u'New York City', u'Los Angeles', u'Chicago', u'Houston', u'Philadelphia', u'Phoenix, Arizona', u'San Antonio', u'San Diego', u'Dallas', u'San Jose, California']\n",
      "\n",
      "Number of Cities: 50\n"
     ]
    }
   ],
   "source": [
    "print cities[:10]\n",
    "print\n",
    "print 'Number of Cities:', len(cities)"
   ]
  },
  {
   "cell_type": "markdown",
   "metadata": {},
   "source": [
    "###  Writing a function to capture current pricing information via Craigslist in a city."
   ]
  },
  {
   "cell_type": "code",
   "execution_count": 4,
   "metadata": {
    "collapsed": true
   },
   "outputs": [],
   "source": [
    "def rv_prices(city=\"losangeles\", DataFrame=True):\n",
    "    \n",
    "    # URL & REQUEST\n",
    "    url = \"https://%s.craigslist.org/search/cta?query=rv\" % city\n",
    "    response = requests.get(url)\n",
    "    \n",
    "    # PRICES, TITLE xpath\n",
    "    xpath_price = \"//li[@class='result-row']/p[@class='result-info']/span[@class='result-meta']/span[@class='result-price']/text()\"\n",
    "    xpath_title = \"//li[@class='result-row']/p[@class='result-info']/a[@class='result-title hdrlnk']/text()\"\n",
    "\n",
    "    # EXTRACTING TEXT\n",
    "    titles = Selector(text=response.text).xpath(xpath_title).extract()\n",
    "    prices = Selector(text=response.text).xpath(xpath_price).extract()\n",
    "    \n",
    "    # DATAFRAME of title & prices\n",
    "    rv_prices = pd.DataFrame(zip(titles, prices), columns=['title', 'price_usd'])\n",
    "    \n",
    "    if DataFrame:\n",
    "        return rv_prices\n",
    "    else:\n",
    "        return rv_prices.price_usd.apply(lambda x: int(x.replace('$', '')))"
   ]
  },
  {
   "cell_type": "code",
   "execution_count": 5,
   "metadata": {
    "collapsed": false
   },
   "outputs": [
    {
     "data": {
      "text/html": [
       "<div>\n",
       "<table border=\"1\" class=\"dataframe\">\n",
       "  <thead>\n",
       "    <tr style=\"text-align: right;\">\n",
       "      <th></th>\n",
       "      <th>title</th>\n",
       "      <th>price_usd</th>\n",
       "    </tr>\n",
       "  </thead>\n",
       "  <tbody>\n",
       "    <tr>\n",
       "      <th>0</th>\n",
       "      <td>1977 rv van tradesman</td>\n",
       "      <td>$3500</td>\n",
       "    </tr>\n",
       "    <tr>\n",
       "      <th>1</th>\n",
       "      <td>You got RV or cash?</td>\n",
       "      <td>$2</td>\n",
       "    </tr>\n",
       "    <tr>\n",
       "      <th>2</th>\n",
       "      <td>1978 van tradesman rv</td>\n",
       "      <td>$3500</td>\n",
       "    </tr>\n",
       "    <tr>\n",
       "      <th>3</th>\n",
       "      <td>MERCEDES 3500 EXTended RV</td>\n",
       "      <td>$95000</td>\n",
       "    </tr>\n",
       "    <tr>\n",
       "      <th>4</th>\n",
       "      <td>1960 Chevy corvair  trade for RV VW bug bus baja</td>\n",
       "      <td>$1</td>\n",
       "    </tr>\n",
       "  </tbody>\n",
       "</table>\n",
       "</div>"
      ],
      "text/plain": [
       "                                              title price_usd\n",
       "0                             1977 rv van tradesman     $3500\n",
       "1                               You got RV or cash?        $2\n",
       "2                             1978 van tradesman rv     $3500\n",
       "3                         MERCEDES 3500 EXTended RV    $95000\n",
       "4  1960 Chevy corvair  trade for RV VW bug bus baja        $1"
      ]
     },
     "execution_count": 5,
     "metadata": {},
     "output_type": "execute_result"
    }
   ],
   "source": [
    "rv_prices().head()"
   ]
  },
  {
   "cell_type": "code",
   "execution_count": 6,
   "metadata": {
    "collapsed": false
   },
   "outputs": [
    {
     "data": {
      "text/plain": [
       "0     3500\n",
       "1        2\n",
       "2     3500\n",
       "3    95000\n",
       "4        1\n",
       "Name: price_usd, dtype: int64"
      ]
     },
     "execution_count": 6,
     "metadata": {},
     "output_type": "execute_result"
    }
   ],
   "source": [
    "rv_prices(DataFrame=False)[:5]"
   ]
  },
  {
   "cell_type": "markdown",
   "metadata": {},
   "source": [
    "### Mapping of cities to regional Craigslist URLs"
   ]
  },
  {
   "cell_type": "code",
   "execution_count": 7,
   "metadata": {
    "collapsed": false
   },
   "outputs": [
    {
     "data": {
      "text/plain": [
       "[u'New York City',\n",
       " u'Los Angeles',\n",
       " u'Chicago',\n",
       " u'Houston',\n",
       " u'Philadelphia',\n",
       " u'Phoenix, Arizona',\n",
       " u'San Antonio',\n",
       " u'San Diego',\n",
       " u'Dallas',\n",
       " u'San Jose, California']"
      ]
     },
     "execution_count": 7,
     "metadata": {},
     "output_type": "execute_result"
    }
   ],
   "source": [
    "cities[:10]"
   ]
  },
  {
   "cell_type": "code",
   "execution_count": 8,
   "metadata": {
    "collapsed": true
   },
   "outputs": [],
   "source": [
    "craig_city = ['newyork', 'losangeles', 'chicago', 'houston', 'philadelphia', \n",
    "              'phoenix', 'sanantonio', 'sandiego', 'dallas', 'sfbay']"
   ]
  },
  {
   "cell_type": "code",
   "execution_count": 9,
   "metadata": {
    "collapsed": false
   },
   "outputs": [],
   "source": [
    "def city_url_dict(city_li, url_li):  \n",
    "    pair = zip(city_li, url_li)\n",
    "    dct = {}  \n",
    "    for item in pair:  \n",
    "        dct[item[0]] = item[1]\n",
    "    return dct  "
   ]
  },
  {
   "cell_type": "code",
   "execution_count": 10,
   "metadata": {
    "collapsed": false
   },
   "outputs": [],
   "source": [
    "city_url_map = city_url_dict(cities[:10], craig_city)"
   ]
  },
  {
   "cell_type": "code",
   "execution_count": 11,
   "metadata": {
    "collapsed": false
   },
   "outputs": [
    {
     "data": {
      "text/plain": [
       "{u'Chicago': 'chicago',\n",
       " u'Dallas': 'dallas',\n",
       " u'Houston': 'houston',\n",
       " u'Los Angeles': 'losangeles',\n",
       " u'New York City': 'newyork',\n",
       " u'Philadelphia': 'philadelphia',\n",
       " u'Phoenix, Arizona': 'phoenix',\n",
       " u'San Antonio': 'sanantonio',\n",
       " u'San Diego': 'sandiego',\n",
       " u'San Jose, California': 'sfbay'}"
      ]
     },
     "execution_count": 11,
     "metadata": {},
     "output_type": "execute_result"
    }
   ],
   "source": [
    "city_url_map"
   ]
  },
  {
   "cell_type": "markdown",
   "metadata": {},
   "source": [
    "### Defining a function to caculate mean and median price per city."
   ]
  },
  {
   "cell_type": "code",
   "execution_count": 12,
   "metadata": {
    "collapsed": false
   },
   "outputs": [
    {
     "name": "stdout",
     "output_type": "stream",
     "text": [
      "Houston houston https://houston.craigslist.org/search/sss?query=rv\n",
      "Chicago chicago https://chicago.craigslist.org/search/sss?query=rv\n",
      "New York City newyork https://newyork.craigslist.org/search/sss?query=rv\n",
      "San Diego sandiego https://sandiego.craigslist.org/search/sss?query=rv\n",
      "Philadelphia philadelphia https://philadelphia.craigslist.org/search/sss?query=rv\n",
      "Phoenix, Arizona phoenix https://phoenix.craigslist.org/search/sss?query=rv\n",
      "Dallas dallas https://dallas.craigslist.org/search/sss?query=rv\n",
      "San Jose, California sfbay https://sfbay.craigslist.org/search/sss?query=rv\n",
      "Los Angeles losangeles https://losangeles.craigslist.org/search/sss?query=rv\n",
      "San Antonio sanantonio https://sanantonio.craigslist.org/search/sss?query=rv\n"
     ]
    }
   ],
   "source": [
    "for idx, val in city_url_map.items():\n",
    "    print idx, val, 'https://%s.craigslist.org/search/sss?query=rv' % val"
   ]
  },
  {
   "cell_type": "code",
   "execution_count": 13,
   "metadata": {
    "collapsed": true
   },
   "outputs": [],
   "source": [
    "def price_summary(prices):\n",
    "    mean = round(np.mean(prices), 2)\n",
    "    med = round(np.median(prices), 2)\n",
    "    return (mean, med)"
   ]
  },
  {
   "cell_type": "code",
   "execution_count": 14,
   "metadata": {
    "collapsed": true
   },
   "outputs": [],
   "source": [
    "def city_rv_prices(city_url_map=city_url_map):\n",
    "    \n",
    "    summary = [] # EMPTY LIST TO HOLD CITY PRICE DATA\n",
    "    \n",
    "    for idx, val in city_url_map.items():\n",
    "\n",
    "        prices = rv_prices(city=val, DataFrame=False) # GET RV PRICES\n",
    "        price_tup = price_summary(prices) # (MEAN, MEDIAN)\n",
    "\n",
    "        summary.append((idx, price_tup[0], price_tup[1])) # ADD PRICE DATA TO LIST\n",
    "        \n",
    "    return pd.DataFrame(summary, columns=['city', 'mean_price', 'med_price'])"
   ]
  },
  {
   "cell_type": "markdown",
   "metadata": {},
   "source": [
    "**Saving results to csv**"
   ]
  },
  {
   "cell_type": "code",
   "execution_count": 15,
   "metadata": {
    "collapsed": true
   },
   "outputs": [],
   "source": [
    "df = city_rv_prices(city_url_map)"
   ]
  },
  {
   "cell_type": "code",
   "execution_count": 16,
   "metadata": {
    "collapsed": false
   },
   "outputs": [
    {
     "data": {
      "text/html": [
       "<div>\n",
       "<table border=\"1\" class=\"dataframe\">\n",
       "  <thead>\n",
       "    <tr style=\"text-align: right;\">\n",
       "      <th></th>\n",
       "      <th>city</th>\n",
       "      <th>mean_price</th>\n",
       "      <th>med_price</th>\n",
       "    </tr>\n",
       "  </thead>\n",
       "  <tbody>\n",
       "    <tr>\n",
       "      <th>0</th>\n",
       "      <td>Houston</td>\n",
       "      <td>9317.65</td>\n",
       "      <td>5000.0</td>\n",
       "    </tr>\n",
       "    <tr>\n",
       "      <th>1</th>\n",
       "      <td>Chicago</td>\n",
       "      <td>11567.55</td>\n",
       "      <td>8900.0</td>\n",
       "    </tr>\n",
       "    <tr>\n",
       "      <th>2</th>\n",
       "      <td>New York City</td>\n",
       "      <td>10108.01</td>\n",
       "      <td>7250.0</td>\n",
       "    </tr>\n",
       "    <tr>\n",
       "      <th>3</th>\n",
       "      <td>San Diego</td>\n",
       "      <td>23306.85</td>\n",
       "      <td>7450.0</td>\n",
       "    </tr>\n",
       "    <tr>\n",
       "      <th>4</th>\n",
       "      <td>Philadelphia</td>\n",
       "      <td>15700.90</td>\n",
       "      <td>9700.0</td>\n",
       "    </tr>\n",
       "    <tr>\n",
       "      <th>5</th>\n",
       "      <td>Phoenix, Arizona</td>\n",
       "      <td>13526.24</td>\n",
       "      <td>7500.0</td>\n",
       "    </tr>\n",
       "    <tr>\n",
       "      <th>6</th>\n",
       "      <td>Dallas</td>\n",
       "      <td>18366.59</td>\n",
       "      <td>16000.0</td>\n",
       "    </tr>\n",
       "    <tr>\n",
       "      <th>7</th>\n",
       "      <td>San Jose, California</td>\n",
       "      <td>20771.05</td>\n",
       "      <td>11500.0</td>\n",
       "    </tr>\n",
       "    <tr>\n",
       "      <th>8</th>\n",
       "      <td>Los Angeles</td>\n",
       "      <td>18145.98</td>\n",
       "      <td>6499.0</td>\n",
       "    </tr>\n",
       "    <tr>\n",
       "      <th>9</th>\n",
       "      <td>San Antonio</td>\n",
       "      <td>16306.05</td>\n",
       "      <td>12488.0</td>\n",
       "    </tr>\n",
       "  </tbody>\n",
       "</table>\n",
       "</div>"
      ],
      "text/plain": [
       "                   city  mean_price  med_price\n",
       "0               Houston     9317.65     5000.0\n",
       "1               Chicago    11567.55     8900.0\n",
       "2         New York City    10108.01     7250.0\n",
       "3             San Diego    23306.85     7450.0\n",
       "4          Philadelphia    15700.90     9700.0\n",
       "5      Phoenix, Arizona    13526.24     7500.0\n",
       "6                Dallas    18366.59    16000.0\n",
       "7  San Jose, California    20771.05    11500.0\n",
       "8           Los Angeles    18145.98     6499.0\n",
       "9           San Antonio    16306.05    12488.0"
      ]
     },
     "execution_count": 16,
     "metadata": {},
     "output_type": "execute_result"
    }
   ],
   "source": [
    "df"
   ]
  },
  {
   "cell_type": "code",
   "execution_count": 17,
   "metadata": {
    "collapsed": false
   },
   "outputs": [],
   "source": [
    "df.to_csv('city_rvs') # SAVING FILE TO CSV"
   ]
  },
  {
   "cell_type": "code",
   "execution_count": 18,
   "metadata": {
    "collapsed": false
   },
   "outputs": [
    {
     "data": {
      "image/png": "[encoded data removed]",
      "text/plain": [
       "<matplotlib.figure.Figure at 0x10dbab690>"
      ]
     },
     "metadata": {
      "image/png": {
       "height": 390,
       "width": 478
      }
     },
     "output_type": "display_data"
    }
   ],
   "source": [
    "x = np.arange(df.shape[0])\n",
    "y = df.mean_price.values # mean_prices\n",
    "z = df.med_price.values # med_prices\n",
    "\n",
    "lbl = ['HOU', 'CHI', 'NYC', 'SD', 'PHI', 'PHX', 'DAL', 'SFB', 'LA', 'SA']\n",
    "\n",
    "fig = plt.figure(figsize=(5,4))\n",
    "ax = fig.gca()\n",
    "ax = plt.subplot(111)\n",
    "\n",
    "ax.bar(x-0.2, y,width=0.2,color='b',align='center', label='mean', tick_label=lbl)\n",
    "ax.bar(x, z,width=0.2,color='g',align='center', label='median')\n",
    "\n",
    "# ax.set_xticklabels(df.city, rotation=45, rotation_mode=\"anchor\")\n",
    "\n",
    "ax.set_xlabel('City')\n",
    "ax.set_ylabel('dollars ($)')\n",
    "ax.set_title('Price of RV per City')\n",
    "\n",
    "ax.set_xlim(-0.5, df.shape[0] - 0.5)\n",
    "\n",
    "ax.axhline(np.mean(df.mean_price), lw=2, ls='dashed', color='blue')\n",
    "ax.axhline(np.mean(df.med_price), lw=2, ls='dashed', color='green')\n",
    "\n",
    "handles, labels = ax.get_legend_handles_labels()\n",
    "ax.legend(handles, labels, fontsize=9)\n",
    "\n",
    "plt.show()"
   ]
  },
  {
   "cell_type": "markdown",
   "metadata": {
    "collapsed": true
   },
   "source": [
    "### Does it makes sense to buy RVs in one region and sell them in another?\n",
    "\n",
    "Assuming the cost of shipping or driving from one regional market to another.\n",
    "\n",
    "_Eyeballing the data I see that you can profit a few thousand dollars by buying in one region and selling in a nearby one. For example, NYC rvs can be sold in Philadelphia for a \\$3,000 to \\$5,000 profit minus expenses. Same thing holds for Los Angeles RVs being sold in the Bay Area._"
   ]
  }
 ],
 "metadata": {
  "anaconda-cloud": {},
  "kernelspec": {
   "display_name": "Python [conda env:dsi]",
   "language": "python",
   "name": "conda-env-dsi-py"
  },
  "language_info": {
   "codemirror_mode": {
    "name": "ipython",
    "version": 2
   },
   "file_extension": ".py",
   "mimetype": "text/x-python",
   "name": "python",
   "nbconvert_exporter": "python",
   "pygments_lexer": "ipython2",
   "version": "2.7.12"
  }
 },
 "nbformat": 4,
 "nbformat_minor": 0
}
