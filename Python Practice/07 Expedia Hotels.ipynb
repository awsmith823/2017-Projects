{
 "cells": [
  {
   "cell_type": "markdown",
   "metadata": {},
   "source": [
    "## Expedia Hotel Clusters\n",
    "\n",
    "In this notebook I explore models to match expedia booking events to hotel clusters. This challenge was part of a past Kaggle competition\n",
    "\n",
    "Methods Used:\n",
    "* Principal Component Analysis (PCA)\n",
    "* KNN Classifiers\n",
    "* Random Forrest Regressors"
   ]
  },
  {
   "cell_type": "code",
   "execution_count": 1,
   "metadata": {
    "collapsed": true
   },
   "outputs": [],
   "source": [
    "import pandas as pd\n",
    "import numpy as np\n",
    "import seaborn as sns\n",
    "import scipy \n",
    "\n",
    "import random\n",
    "from datetime import datetime\n",
    "\n",
    "import matplotlib\n",
    "import matplotlib.pyplot as plt\n",
    "\n",
    "from sklearn.ensemble import RandomForestClassifier, RandomForestRegressor\n",
    "from sklearn.linear_model import LinearRegression\n",
    "from sklearn.model_selection import cross_val_score, train_test_split\n",
    "from sklearn.neighbors import KNeighborsClassifier\n",
    "\n",
    "\n",
    "from sklearn.decomposition import PCA\n",
    "from sklearn.preprocessing import StandardScaler\n",
    "\n",
    "%config InlineBackend.figure_format = 'retina'\n",
    "%matplotlib inline\n",
    "\n",
    "plt.style.use('fivethirtyeight')"
   ]
  },
  {
   "cell_type": "code",
   "execution_count": 2,
   "metadata": {
    "collapsed": false
   },
   "outputs": [],
   "source": [
    "# Loading in Data\n",
    "f = './Team Project/train.csv' # 4 GB file (training data)\n",
    "kaggle = pd.read_csv(f)\n",
    "\n",
    "f2 = './Team Project/destinations.csv' # 138 MB file (destinations data)\n",
    "destinations = pd.read_csv(f2)\n",
    "\n",
    "# Loading in testing data from kaggle\n",
    "f3 = './Team Project/test.csv' # 277 MB file\n",
    "expedia_test = pd.read_csv(f3)"
   ]
  },
  {
   "cell_type": "code",
   "execution_count": 3,
   "metadata": {
    "collapsed": false
   },
   "outputs": [
    {
     "name": "stdout",
     "output_type": "stream",
     "text": [
      "kaggle_train shape:\n",
      "(37670293, 24)\n",
      "\n",
      "destinations shape:\n",
      "(62106, 150)\n",
      "\n",
      "kaggle_test shape:\n",
      "(2528243, 22)\n"
     ]
    }
   ],
   "source": [
    "print 'kaggle_train shape:\\n', kaggle.shape\n",
    "print \n",
    "print 'destinations shape:\\n', destinations.shape\n",
    "print\n",
    "print 'kaggle_test shape:\\n', expedia_test.shape"
   ]
  },
  {
   "cell_type": "code",
   "execution_count": 4,
   "metadata": {
    "collapsed": false,
    "scrolled": false
   },
   "outputs": [
    {
     "data": {
      "text/html": [
       "<div>\n",
       "<table border=\"1\" class=\"dataframe\">\n",
       "  <thead>\n",
       "    <tr style=\"text-align: right;\">\n",
       "      <th></th>\n",
       "      <th>srch_destination_id</th>\n",
       "      <th>d1</th>\n",
       "      <th>d2</th>\n",
       "      <th>d3</th>\n",
       "      <th>d4</th>\n",
       "      <th>d5</th>\n",
       "      <th>d6</th>\n",
       "      <th>d7</th>\n",
       "      <th>d8</th>\n",
       "      <th>d9</th>\n",
       "      <th>...</th>\n",
       "      <th>d140</th>\n",
       "      <th>d141</th>\n",
       "      <th>d142</th>\n",
       "      <th>d143</th>\n",
       "      <th>d144</th>\n",
       "      <th>d145</th>\n",
       "      <th>d146</th>\n",
       "      <th>d147</th>\n",
       "      <th>d148</th>\n",
       "      <th>d149</th>\n",
       "    </tr>\n",
       "  </thead>\n",
       "  <tbody>\n",
       "    <tr>\n",
       "      <th>0</th>\n",
       "      <td>0</td>\n",
       "      <td>-2.198657</td>\n",
       "      <td>-2.198657</td>\n",
       "      <td>-2.198657</td>\n",
       "      <td>-2.198657</td>\n",
       "      <td>-2.198657</td>\n",
       "      <td>-1.897627</td>\n",
       "      <td>-2.198657</td>\n",
       "      <td>-2.198657</td>\n",
       "      <td>-1.897627</td>\n",
       "      <td>...</td>\n",
       "      <td>-2.198657</td>\n",
       "      <td>-2.198657</td>\n",
       "      <td>-2.198657</td>\n",
       "      <td>-2.198657</td>\n",
       "      <td>-2.198657</td>\n",
       "      <td>-2.198657</td>\n",
       "      <td>-2.198657</td>\n",
       "      <td>-2.198657</td>\n",
       "      <td>-2.198657</td>\n",
       "      <td>-2.198657</td>\n",
       "    </tr>\n",
       "    <tr>\n",
       "      <th>1</th>\n",
       "      <td>1</td>\n",
       "      <td>-2.181690</td>\n",
       "      <td>-2.181690</td>\n",
       "      <td>-2.181690</td>\n",
       "      <td>-2.082564</td>\n",
       "      <td>-2.181690</td>\n",
       "      <td>-2.165028</td>\n",
       "      <td>-2.181690</td>\n",
       "      <td>-2.181690</td>\n",
       "      <td>-2.031597</td>\n",
       "      <td>...</td>\n",
       "      <td>-2.165028</td>\n",
       "      <td>-2.181690</td>\n",
       "      <td>-2.165028</td>\n",
       "      <td>-2.181690</td>\n",
       "      <td>-2.181690</td>\n",
       "      <td>-2.165028</td>\n",
       "      <td>-2.181690</td>\n",
       "      <td>-2.181690</td>\n",
       "      <td>-2.181690</td>\n",
       "      <td>-2.181690</td>\n",
       "    </tr>\n",
       "    <tr>\n",
       "      <th>2</th>\n",
       "      <td>2</td>\n",
       "      <td>-2.183490</td>\n",
       "      <td>-2.224164</td>\n",
       "      <td>-2.224164</td>\n",
       "      <td>-2.189562</td>\n",
       "      <td>-2.105819</td>\n",
       "      <td>-2.075407</td>\n",
       "      <td>-2.224164</td>\n",
       "      <td>-2.118483</td>\n",
       "      <td>-2.140393</td>\n",
       "      <td>...</td>\n",
       "      <td>-2.224164</td>\n",
       "      <td>-2.224164</td>\n",
       "      <td>-2.196379</td>\n",
       "      <td>-2.224164</td>\n",
       "      <td>-2.192009</td>\n",
       "      <td>-2.224164</td>\n",
       "      <td>-2.224164</td>\n",
       "      <td>-2.224164</td>\n",
       "      <td>-2.224164</td>\n",
       "      <td>-2.057548</td>\n",
       "    </tr>\n",
       "  </tbody>\n",
       "</table>\n",
       "<p>3 rows × 150 columns</p>\n",
       "</div>"
      ],
      "text/plain": [
       "   srch_destination_id        d1        d2        d3        d4        d5  \\\n",
       "0                    0 -2.198657 -2.198657 -2.198657 -2.198657 -2.198657   \n",
       "1                    1 -2.181690 -2.181690 -2.181690 -2.082564 -2.181690   \n",
       "2                    2 -2.183490 -2.224164 -2.224164 -2.189562 -2.105819   \n",
       "\n",
       "         d6        d7        d8        d9    ...         d140      d141  \\\n",
       "0 -1.897627 -2.198657 -2.198657 -1.897627    ...    -2.198657 -2.198657   \n",
       "1 -2.165028 -2.181690 -2.181690 -2.031597    ...    -2.165028 -2.181690   \n",
       "2 -2.075407 -2.224164 -2.118483 -2.140393    ...    -2.224164 -2.224164   \n",
       "\n",
       "       d142      d143      d144      d145      d146      d147      d148  \\\n",
       "0 -2.198657 -2.198657 -2.198657 -2.198657 -2.198657 -2.198657 -2.198657   \n",
       "1 -2.165028 -2.181690 -2.181690 -2.165028 -2.181690 -2.181690 -2.181690   \n",
       "2 -2.196379 -2.224164 -2.192009 -2.224164 -2.224164 -2.224164 -2.224164   \n",
       "\n",
       "       d149  \n",
       "0 -2.198657  \n",
       "1 -2.181690  \n",
       "2 -2.057548  \n",
       "\n",
       "[3 rows x 150 columns]"
      ]
     },
     "execution_count": 4,
     "metadata": {},
     "output_type": "execute_result"
    }
   ],
   "source": [
    "destinations.head(3)"
   ]
  },
  {
   "cell_type": "markdown",
   "metadata": {},
   "source": [
    "**PCA on destinations dataframe**"
   ]
  },
  {
   "cell_type": "code",
   "execution_count": 5,
   "metadata": {
    "collapsed": false
   },
   "outputs": [],
   "source": [
    "# normalize the data by taking each feature and subtracting \n",
    "# by its mean and dividing by the standard deviation \n",
    "destinations_norm = (destinations[destinations.columns[1:]] - \n",
    "                     destinations[destinations.columns[1:]].mean(axis=0)) / destinations[destinations.columns[1:]].std(axis=0)"
   ]
  },
  {
   "cell_type": "code",
   "execution_count": 6,
   "metadata": {
    "collapsed": false
   },
   "outputs": [
    {
     "data": {
      "text/html": [
       "<div>\n",
       "<table border=\"1\" class=\"dataframe\">\n",
       "  <thead>\n",
       "    <tr style=\"text-align: right;\">\n",
       "      <th></th>\n",
       "      <th>d1</th>\n",
       "      <th>d2</th>\n",
       "      <th>d3</th>\n",
       "      <th>d4</th>\n",
       "      <th>d5</th>\n",
       "      <th>d6</th>\n",
       "      <th>d7</th>\n",
       "      <th>d8</th>\n",
       "      <th>d9</th>\n",
       "      <th>d10</th>\n",
       "      <th>...</th>\n",
       "      <th>d140</th>\n",
       "      <th>d141</th>\n",
       "      <th>d142</th>\n",
       "      <th>d143</th>\n",
       "      <th>d144</th>\n",
       "      <th>d145</th>\n",
       "      <th>d146</th>\n",
       "      <th>d147</th>\n",
       "      <th>d148</th>\n",
       "      <th>d149</th>\n",
       "    </tr>\n",
       "  </thead>\n",
       "  <tbody>\n",
       "    <tr>\n",
       "      <th>0</th>\n",
       "      <td>-0.123235</td>\n",
       "      <td>0.102212</td>\n",
       "      <td>0.217838</td>\n",
       "      <td>-0.111515</td>\n",
       "      <td>-0.561366</td>\n",
       "      <td>1.086009</td>\n",
       "      <td>0.097105</td>\n",
       "      <td>0.124397</td>\n",
       "      <td>1.062035</td>\n",
       "      <td>-0.154254</td>\n",
       "      <td>...</td>\n",
       "      <td>0.146240</td>\n",
       "      <td>-0.029003</td>\n",
       "      <td>0.098977</td>\n",
       "      <td>0.163955</td>\n",
       "      <td>0.078548</td>\n",
       "      <td>0.122255</td>\n",
       "      <td>0.084036</td>\n",
       "      <td>0.255070</td>\n",
       "      <td>0.249206</td>\n",
       "      <td>0.019150</td>\n",
       "    </tr>\n",
       "    <tr>\n",
       "      <th>1</th>\n",
       "      <td>0.316596</td>\n",
       "      <td>0.515380</td>\n",
       "      <td>0.641039</td>\n",
       "      <td>2.692253</td>\n",
       "      <td>-0.305058</td>\n",
       "      <td>-0.883030</td>\n",
       "      <td>0.533428</td>\n",
       "      <td>0.588246</td>\n",
       "      <td>0.385089</td>\n",
       "      <td>0.321395</td>\n",
       "      <td>...</td>\n",
       "      <td>1.051113</td>\n",
       "      <td>0.254185</td>\n",
       "      <td>0.821863</td>\n",
       "      <td>0.593872</td>\n",
       "      <td>0.486369</td>\n",
       "      <td>1.001682</td>\n",
       "      <td>0.413152</td>\n",
       "      <td>0.701152</td>\n",
       "      <td>0.689109</td>\n",
       "      <td>0.418950</td>\n",
       "    </tr>\n",
       "    <tr>\n",
       "      <th>2</th>\n",
       "      <td>0.269950</td>\n",
       "      <td>-0.518929</td>\n",
       "      <td>-0.418386</td>\n",
       "      <td>0.108139</td>\n",
       "      <td>0.841089</td>\n",
       "      <td>-0.223093</td>\n",
       "      <td>-0.558846</td>\n",
       "      <td>2.316255</td>\n",
       "      <td>-0.164652</td>\n",
       "      <td>-0.869327</td>\n",
       "      <td>...</td>\n",
       "      <td>-0.540102</td>\n",
       "      <td>-0.454736</td>\n",
       "      <td>0.147948</td>\n",
       "      <td>-0.482366</td>\n",
       "      <td>0.238339</td>\n",
       "      <td>-0.544786</td>\n",
       "      <td>-0.410746</td>\n",
       "      <td>-0.415554</td>\n",
       "      <td>-0.412127</td>\n",
       "      <td>3.344201</td>\n",
       "    </tr>\n",
       "    <tr>\n",
       "      <th>3</th>\n",
       "      <td>0.427576</td>\n",
       "      <td>0.619632</td>\n",
       "      <td>0.747822</td>\n",
       "      <td>0.401642</td>\n",
       "      <td>-0.240385</td>\n",
       "      <td>-0.518210</td>\n",
       "      <td>0.643522</td>\n",
       "      <td>0.705285</td>\n",
       "      <td>-0.351691</td>\n",
       "      <td>0.441412</td>\n",
       "      <td>...</td>\n",
       "      <td>1.157332</td>\n",
       "      <td>0.325639</td>\n",
       "      <td>0.555723</td>\n",
       "      <td>0.702350</td>\n",
       "      <td>0.589272</td>\n",
       "      <td>0.677909</td>\n",
       "      <td>0.496196</td>\n",
       "      <td>0.813709</td>\n",
       "      <td>0.800106</td>\n",
       "      <td>0.519828</td>\n",
       "    </tr>\n",
       "    <tr>\n",
       "      <th>4</th>\n",
       "      <td>0.112546</td>\n",
       "      <td>0.367002</td>\n",
       "      <td>0.333801</td>\n",
       "      <td>0.552726</td>\n",
       "      <td>0.138884</td>\n",
       "      <td>-0.084738</td>\n",
       "      <td>0.216663</td>\n",
       "      <td>0.251498</td>\n",
       "      <td>-0.192533</td>\n",
       "      <td>-0.023920</td>\n",
       "      <td>...</td>\n",
       "      <td>0.450339</td>\n",
       "      <td>0.048595</td>\n",
       "      <td>0.246826</td>\n",
       "      <td>0.281758</td>\n",
       "      <td>0.190296</td>\n",
       "      <td>0.475205</td>\n",
       "      <td>0.174218</td>\n",
       "      <td>0.377303</td>\n",
       "      <td>0.369745</td>\n",
       "      <td>0.269401</td>\n",
       "    </tr>\n",
       "  </tbody>\n",
       "</table>\n",
       "<p>5 rows × 149 columns</p>\n",
       "</div>"
      ],
      "text/plain": [
       "         d1        d2        d3        d4        d5        d6        d7  \\\n",
       "0 -0.123235  0.102212  0.217838 -0.111515 -0.561366  1.086009  0.097105   \n",
       "1  0.316596  0.515380  0.641039  2.692253 -0.305058 -0.883030  0.533428   \n",
       "2  0.269950 -0.518929 -0.418386  0.108139  0.841089 -0.223093 -0.558846   \n",
       "3  0.427576  0.619632  0.747822  0.401642 -0.240385 -0.518210  0.643522   \n",
       "4  0.112546  0.367002  0.333801  0.552726  0.138884 -0.084738  0.216663   \n",
       "\n",
       "         d8        d9       d10    ...         d140      d141      d142  \\\n",
       "0  0.124397  1.062035 -0.154254    ...     0.146240 -0.029003  0.098977   \n",
       "1  0.588246  0.385089  0.321395    ...     1.051113  0.254185  0.821863   \n",
       "2  2.316255 -0.164652 -0.869327    ...    -0.540102 -0.454736  0.147948   \n",
       "3  0.705285 -0.351691  0.441412    ...     1.157332  0.325639  0.555723   \n",
       "4  0.251498 -0.192533 -0.023920    ...     0.450339  0.048595  0.246826   \n",
       "\n",
       "       d143      d144      d145      d146      d147      d148      d149  \n",
       "0  0.163955  0.078548  0.122255  0.084036  0.255070  0.249206  0.019150  \n",
       "1  0.593872  0.486369  1.001682  0.413152  0.701152  0.689109  0.418950  \n",
       "2 -0.482366  0.238339 -0.544786 -0.410746 -0.415554 -0.412127  3.344201  \n",
       "3  0.702350  0.589272  0.677909  0.496196  0.813709  0.800106  0.519828  \n",
       "4  0.281758  0.190296  0.475205  0.174218  0.377303  0.369745  0.269401  \n",
       "\n",
       "[5 rows x 149 columns]"
      ]
     },
     "execution_count": 6,
     "metadata": {},
     "output_type": "execute_result"
    }
   ],
   "source": [
    "destinations_norm.head()"
   ]
  },
  {
   "cell_type": "code",
   "execution_count": 7,
   "metadata": {
    "collapsed": false
   },
   "outputs": [],
   "source": [
    "X = destinations_norm[destinations_norm.columns[1:]].values"
   ]
  },
  {
   "cell_type": "code",
   "execution_count": 8,
   "metadata": {
    "collapsed": false
   },
   "outputs": [
    {
     "name": "stdout",
     "output_type": "stream",
     "text": [
      "covariance matrix: (148, 148)\n",
      "[[ 0.9999839   0.60890449  0.37358053 ...,  0.62802468  0.62402453\n",
      "   0.48403543]\n",
      " [ 0.60890449  0.9999839   0.45764101 ...,  0.8996559   0.89191232\n",
      "   0.58745543]\n",
      " [ 0.37358053  0.45764101  0.9999839  ...,  0.42399875  0.41174039\n",
      "   0.38034178]\n",
      " ..., \n",
      " [ 0.62802468  0.8996559   0.42399875 ...,  0.9999839   0.93147533\n",
      "   0.60214423]\n",
      " [ 0.62402453  0.89191232  0.41174039 ...,  0.93147533  0.9999839\n",
      "   0.59138387]\n",
      " [ 0.48403543  0.58745543  0.38034178 ...,  0.60214423  0.59138387\n",
      "   0.9999839 ]]\n",
      "\n",
      "eigenvectors: (148, 148)\n",
      "[[ -7.61208492e-02  -1.06380193e-01  -5.38048962e-02 ...,  -1.10273229e-01\n",
      "   -1.10010477e-01  -7.26257594e-02]\n",
      " [ -3.49394923e-02  -1.33146884e-02  -1.68852392e-01 ...,   1.07735226e-02\n",
      "    1.73613519e-02  -6.98085248e-02]\n",
      " [ -1.76489333e-03  -3.16989690e-03   1.21221319e-01 ...,  -2.47001913e-02\n",
      "   -2.67634678e-02  -7.93390972e-03]\n",
      " ..., \n",
      " [  6.33730408e-04   7.07453498e-03   1.86294215e-03 ...,   1.64355740e-02\n",
      "    8.43615700e-03  -2.70405684e-04]\n",
      " [  1.44268255e-03  -3.45029870e-03   1.53576864e-04 ...,   2.09396105e-04\n",
      "   -4.25711369e-03  -1.42900524e-04]\n",
      " [  7.93421231e-05   1.34611918e-04   6.80155690e-04 ...,   8.85624769e-04\n",
      "    5.22959298e-04  -2.19671606e-04]]\n",
      "\n",
      "eigenvalues: (148,)\n",
      "[ 76.24375276   8.22827346   4.21161081   3.42287923] ...\n",
      "\n",
      "Explained Variance (148,)\n",
      "[ 0.51516879  0.05559734  0.02845729  0.02312793] ...\n",
      "\n",
      "Principal Components (Z) shape: (62106, 148)\n",
      "destinations data shape: (62106, 150)\n"
     ]
    }
   ],
   "source": [
    "# Initialize PCA\n",
    "# Can change n_components to decimal between 0, 1\n",
    "# to keep the components that explain that percentage of variance\n",
    "pca = PCA(n_components=None, copy=True, whiten=False, svd_solver='auto', tol=0.0, iterated_power='auto', random_state=None)\n",
    "\n",
    "pca.fit(X)\n",
    "\n",
    "# Exploring the principal components\n",
    "print 'covariance matrix:', pca.get_covariance().shape\n",
    "print pca.get_covariance()\n",
    "print\n",
    "print 'eigenvectors:', pca.components_.shape\n",
    "print pca.components_\n",
    "print\n",
    "print 'eigenvalues:', pca.explained_variance_.shape\n",
    "print pca.explained_variance_[:4] , '...'\n",
    "print\n",
    "print 'Explained Variance', pca.explained_variance_ratio_.shape\n",
    "print pca.explained_variance_ratio_[:4], '...'\n",
    "print\n",
    "# Transform the data\n",
    "Z = pca.transform(X)\n",
    "print 'Principal Components (Z) shape:', Z.shape\n",
    "print 'destinations data shape:', destinations.shape"
   ]
  },
  {
   "cell_type": "code",
   "execution_count": 9,
   "metadata": {
    "collapsed": false
   },
   "outputs": [
    {
     "data": {
      "image/png": "[encoded data removed]",
      "text/plain": [
       "<matplotlib.figure.Figure at 0x134b88690>"
      ]
     },
     "metadata": {
      "image/png": {
       "height": 413,
       "width": 574
      }
     },
     "output_type": "display_data"
    }
   ],
   "source": [
    "plt.plot(range(len(pca.explained_variance_ratio_)),pca.explained_variance_ratio_, linewidth=3)\n",
    "plt.xlim(0, 7)\n",
    "plt.title('PCA Variane Ratio', fontsize=12)\n",
    "plt.xlabel('Principal Component', fontsize=10)\n",
    "plt.show()"
   ]
  },
  {
   "cell_type": "code",
   "execution_count": 10,
   "metadata": {
    "collapsed": false
   },
   "outputs": [
    {
     "name": "stdout",
     "output_type": "stream",
     "text": [
      "[ 0.51516879  0.05559734  0.02845729  0.02312793  0.01614499]\n",
      "0.638496335655\n"
     ]
    }
   ],
   "source": [
    "print pca.explained_variance_ratio_[:5]\n",
    "print pca.explained_variance_ratio_[:5].sum()"
   ]
  },
  {
   "cell_type": "code",
   "execution_count": 11,
   "metadata": {
    "collapsed": false
   },
   "outputs": [],
   "source": [
    "pca_df = pd.DataFrame(Z).iloc[:, :5]\n",
    "pca_df['srch_destination_id'] = destinations[\"srch_destination_id\"]"
   ]
  },
  {
   "cell_type": "code",
   "execution_count": 12,
   "metadata": {
    "collapsed": false,
    "scrolled": true
   },
   "outputs": [
    {
     "data": {
      "text/html": [
       "<div>\n",
       "<table border=\"1\" class=\"dataframe\">\n",
       "  <thead>\n",
       "    <tr style=\"text-align: right;\">\n",
       "      <th></th>\n",
       "      <th>0</th>\n",
       "      <th>1</th>\n",
       "      <th>2</th>\n",
       "      <th>3</th>\n",
       "      <th>4</th>\n",
       "      <th>srch_destination_id</th>\n",
       "    </tr>\n",
       "  </thead>\n",
       "  <tbody>\n",
       "    <tr>\n",
       "      <th>0</th>\n",
       "      <td>-1.191670</td>\n",
       "      <td>1.448742</td>\n",
       "      <td>-0.713557</td>\n",
       "      <td>-0.468854</td>\n",
       "      <td>1.123818</td>\n",
       "      <td>0</td>\n",
       "    </tr>\n",
       "    <tr>\n",
       "      <th>1</th>\n",
       "      <td>-6.601063</td>\n",
       "      <td>-0.223687</td>\n",
       "      <td>0.619043</td>\n",
       "      <td>-0.929023</td>\n",
       "      <td>-0.027499</td>\n",
       "      <td>1</td>\n",
       "    </tr>\n",
       "    <tr>\n",
       "      <th>2</th>\n",
       "      <td>1.180280</td>\n",
       "      <td>0.240480</td>\n",
       "      <td>0.864941</td>\n",
       "      <td>3.081409</td>\n",
       "      <td>-2.934395</td>\n",
       "      <td>2</td>\n",
       "    </tr>\n",
       "    <tr>\n",
       "      <th>3</th>\n",
       "      <td>-7.347883</td>\n",
       "      <td>-0.373657</td>\n",
       "      <td>-0.044201</td>\n",
       "      <td>-0.685944</td>\n",
       "      <td>0.102526</td>\n",
       "      <td>3</td>\n",
       "    </tr>\n",
       "    <tr>\n",
       "      <th>4</th>\n",
       "      <td>-3.730418</td>\n",
       "      <td>-0.574749</td>\n",
       "      <td>0.397904</td>\n",
       "      <td>0.520545</td>\n",
       "      <td>0.074723</td>\n",
       "      <td>4</td>\n",
       "    </tr>\n",
       "  </tbody>\n",
       "</table>\n",
       "</div>"
      ],
      "text/plain": [
       "          0         1         2         3         4  srch_destination_id\n",
       "0 -1.191670  1.448742 -0.713557 -0.468854  1.123818                    0\n",
       "1 -6.601063 -0.223687  0.619043 -0.929023 -0.027499                    1\n",
       "2  1.180280  0.240480  0.864941  3.081409 -2.934395                    2\n",
       "3 -7.347883 -0.373657 -0.044201 -0.685944  0.102526                    3\n",
       "4 -3.730418 -0.574749  0.397904  0.520545  0.074723                    4"
      ]
     },
     "execution_count": 12,
     "metadata": {},
     "output_type": "execute_result"
    }
   ],
   "source": [
    "pca_df.head()"
   ]
  },
  {
   "cell_type": "markdown",
   "metadata": {},
   "source": [
    "**_...done with PCA..._**"
   ]
  },
  {
   "cell_type": "markdown",
   "metadata": {},
   "source": [
    "** Kaggle-Expedia Data **"
   ]
  },
  {
   "cell_type": "code",
   "execution_count": 13,
   "metadata": {
    "collapsed": false
   },
   "outputs": [
    {
     "data": {
      "text/html": [
       "<div>\n",
       "<table border=\"1\" class=\"dataframe\">\n",
       "  <thead>\n",
       "    <tr style=\"text-align: right;\">\n",
       "      <th></th>\n",
       "      <th>0</th>\n",
       "      <th>1</th>\n",
       "      <th>2</th>\n",
       "    </tr>\n",
       "  </thead>\n",
       "  <tbody>\n",
       "    <tr>\n",
       "      <th>date_time</th>\n",
       "      <td>2014-08-11 07:46:59</td>\n",
       "      <td>2014-08-11 08:22:12</td>\n",
       "      <td>2014-08-11 08:24:33</td>\n",
       "    </tr>\n",
       "    <tr>\n",
       "      <th>site_name</th>\n",
       "      <td>2</td>\n",
       "      <td>2</td>\n",
       "      <td>2</td>\n",
       "    </tr>\n",
       "    <tr>\n",
       "      <th>posa_continent</th>\n",
       "      <td>3</td>\n",
       "      <td>3</td>\n",
       "      <td>3</td>\n",
       "    </tr>\n",
       "    <tr>\n",
       "      <th>user_location_country</th>\n",
       "      <td>66</td>\n",
       "      <td>66</td>\n",
       "      <td>66</td>\n",
       "    </tr>\n",
       "    <tr>\n",
       "      <th>user_location_region</th>\n",
       "      <td>348</td>\n",
       "      <td>348</td>\n",
       "      <td>348</td>\n",
       "    </tr>\n",
       "    <tr>\n",
       "      <th>user_location_city</th>\n",
       "      <td>48862</td>\n",
       "      <td>48862</td>\n",
       "      <td>48862</td>\n",
       "    </tr>\n",
       "    <tr>\n",
       "      <th>orig_destination_distance</th>\n",
       "      <td>2234.26</td>\n",
       "      <td>2234.26</td>\n",
       "      <td>2234.26</td>\n",
       "    </tr>\n",
       "    <tr>\n",
       "      <th>user_id</th>\n",
       "      <td>12</td>\n",
       "      <td>12</td>\n",
       "      <td>12</td>\n",
       "    </tr>\n",
       "    <tr>\n",
       "      <th>is_mobile</th>\n",
       "      <td>0</td>\n",
       "      <td>0</td>\n",
       "      <td>0</td>\n",
       "    </tr>\n",
       "    <tr>\n",
       "      <th>is_package</th>\n",
       "      <td>1</td>\n",
       "      <td>1</td>\n",
       "      <td>0</td>\n",
       "    </tr>\n",
       "    <tr>\n",
       "      <th>channel</th>\n",
       "      <td>9</td>\n",
       "      <td>9</td>\n",
       "      <td>9</td>\n",
       "    </tr>\n",
       "    <tr>\n",
       "      <th>srch_ci</th>\n",
       "      <td>2014-08-27</td>\n",
       "      <td>2014-08-29</td>\n",
       "      <td>2014-08-29</td>\n",
       "    </tr>\n",
       "    <tr>\n",
       "      <th>srch_co</th>\n",
       "      <td>2014-08-31</td>\n",
       "      <td>2014-09-02</td>\n",
       "      <td>2014-09-02</td>\n",
       "    </tr>\n",
       "    <tr>\n",
       "      <th>srch_adults_cnt</th>\n",
       "      <td>2</td>\n",
       "      <td>2</td>\n",
       "      <td>2</td>\n",
       "    </tr>\n",
       "    <tr>\n",
       "      <th>srch_children_cnt</th>\n",
       "      <td>0</td>\n",
       "      <td>0</td>\n",
       "      <td>0</td>\n",
       "    </tr>\n",
       "    <tr>\n",
       "      <th>srch_rm_cnt</th>\n",
       "      <td>1</td>\n",
       "      <td>1</td>\n",
       "      <td>1</td>\n",
       "    </tr>\n",
       "    <tr>\n",
       "      <th>srch_destination_id</th>\n",
       "      <td>8250</td>\n",
       "      <td>8250</td>\n",
       "      <td>8250</td>\n",
       "    </tr>\n",
       "    <tr>\n",
       "      <th>srch_destination_type_id</th>\n",
       "      <td>1</td>\n",
       "      <td>1</td>\n",
       "      <td>1</td>\n",
       "    </tr>\n",
       "    <tr>\n",
       "      <th>is_booking</th>\n",
       "      <td>0</td>\n",
       "      <td>1</td>\n",
       "      <td>0</td>\n",
       "    </tr>\n",
       "    <tr>\n",
       "      <th>cnt</th>\n",
       "      <td>3</td>\n",
       "      <td>1</td>\n",
       "      <td>1</td>\n",
       "    </tr>\n",
       "    <tr>\n",
       "      <th>hotel_continent</th>\n",
       "      <td>2</td>\n",
       "      <td>2</td>\n",
       "      <td>2</td>\n",
       "    </tr>\n",
       "    <tr>\n",
       "      <th>hotel_country</th>\n",
       "      <td>50</td>\n",
       "      <td>50</td>\n",
       "      <td>50</td>\n",
       "    </tr>\n",
       "    <tr>\n",
       "      <th>hotel_market</th>\n",
       "      <td>628</td>\n",
       "      <td>628</td>\n",
       "      <td>628</td>\n",
       "    </tr>\n",
       "    <tr>\n",
       "      <th>hotel_cluster</th>\n",
       "      <td>1</td>\n",
       "      <td>1</td>\n",
       "      <td>1</td>\n",
       "    </tr>\n",
       "  </tbody>\n",
       "</table>\n",
       "</div>"
      ],
      "text/plain": [
       "                                             0                    1  \\\n",
       "date_time                  2014-08-11 07:46:59  2014-08-11 08:22:12   \n",
       "site_name                                    2                    2   \n",
       "posa_continent                               3                    3   \n",
       "user_location_country                       66                   66   \n",
       "user_location_region                       348                  348   \n",
       "user_location_city                       48862                48862   \n",
       "orig_destination_distance              2234.26              2234.26   \n",
       "user_id                                     12                   12   \n",
       "is_mobile                                    0                    0   \n",
       "is_package                                   1                    1   \n",
       "channel                                      9                    9   \n",
       "srch_ci                             2014-08-27           2014-08-29   \n",
       "srch_co                             2014-08-31           2014-09-02   \n",
       "srch_adults_cnt                              2                    2   \n",
       "srch_children_cnt                            0                    0   \n",
       "srch_rm_cnt                                  1                    1   \n",
       "srch_destination_id                       8250                 8250   \n",
       "srch_destination_type_id                     1                    1   \n",
       "is_booking                                   0                    1   \n",
       "cnt                                          3                    1   \n",
       "hotel_continent                              2                    2   \n",
       "hotel_country                               50                   50   \n",
       "hotel_market                               628                  628   \n",
       "hotel_cluster                                1                    1   \n",
       "\n",
       "                                             2  \n",
       "date_time                  2014-08-11 08:24:33  \n",
       "site_name                                    2  \n",
       "posa_continent                               3  \n",
       "user_location_country                       66  \n",
       "user_location_region                       348  \n",
       "user_location_city                       48862  \n",
       "orig_destination_distance              2234.26  \n",
       "user_id                                     12  \n",
       "is_mobile                                    0  \n",
       "is_package                                   0  \n",
       "channel                                      9  \n",
       "srch_ci                             2014-08-29  \n",
       "srch_co                             2014-09-02  \n",
       "srch_adults_cnt                              2  \n",
       "srch_children_cnt                            0  \n",
       "srch_rm_cnt                                  1  \n",
       "srch_destination_id                       8250  \n",
       "srch_destination_type_id                     1  \n",
       "is_booking                                   0  \n",
       "cnt                                          1  \n",
       "hotel_continent                              2  \n",
       "hotel_country                               50  \n",
       "hotel_market                               628  \n",
       "hotel_cluster                                1  "
      ]
     },
     "execution_count": 13,
     "metadata": {},
     "output_type": "execute_result"
    }
   ],
   "source": [
    "kaggle.head(3).T"
   ]
  },
  {
   "cell_type": "code",
   "execution_count": 14,
   "metadata": {
    "collapsed": false
   },
   "outputs": [
    {
     "data": {
      "text/plain": [
       "(1198786,)"
      ]
     },
     "execution_count": 14,
     "metadata": {},
     "output_type": "execute_result"
    }
   ],
   "source": [
    "kaggle.user_id.unique().shape"
   ]
  },
  {
   "cell_type": "code",
   "execution_count": 15,
   "metadata": {
    "collapsed": false
   },
   "outputs": [
    {
     "name": "stdout",
     "output_type": "stream",
     "text": [
      "Full Expedia data: (37670293, 24)\n",
      "Expedia data (is_booking == 1): (3000693, 24)\n"
     ]
    }
   ],
   "source": [
    "# Filter out for only booked info\n",
    "print 'Full Expedia data:', kaggle.shape\n",
    "expedia_train = kaggle[kaggle.is_booking == 1]\n",
    "expedia_train.reset_index(drop=True, inplace=True)\n",
    "print 'Expedia data (is_booking == 1):', expedia_train.shape"
   ]
  },
  {
   "cell_type": "code",
   "execution_count": 16,
   "metadata": {
    "collapsed": true
   },
   "outputs": [],
   "source": [
    "del destinations\n",
    "del destinations_norm\n",
    "del kaggle"
   ]
  },
  {
   "cell_type": "markdown",
   "metadata": {},
   "source": [
    "**Functions to clean Expedia dataset**"
   ]
  },
  {
   "cell_type": "code",
   "execution_count": 17,
   "metadata": {
    "collapsed": false
   },
   "outputs": [],
   "source": [
    "def clean_time_cols(expedia_df):\n",
    "    '''\n",
    "    Input(s): Expedia DataFrame w/o duration column\n",
    "    Output(s): Expedia DataFrame with cleaned datetime columns and duration column\n",
    "    '''\n",
    "    \n",
    "    # Converting date_time columns to datetime\n",
    "    expedia_df.date_time = pd.to_datetime(expedia_df.date_time, errors='coerce')\n",
    "    \n",
    "    # check_in & check_out columns\n",
    "    expedia_df.srch_ci = pd.to_datetime(expedia_df.srch_ci, errors='coerce')\n",
    "    expedia_df.srch_co = pd.to_datetime(expedia_df.srch_co, errors='coerce')\n",
    "        \n",
    "    # duration in days (ints)\n",
    "    expedia_df['duration'] = (expedia_df.srch_co - \n",
    "                             expedia_df.srch_ci).fillna(value='1').apply(lambda x: x.days)\n",
    "\n",
    "    # Setting Negative durations to 0\n",
    "    expedia_df.duration = expedia_df.duration.map(lambda x: 1 if x < 0 else x)\n",
    "    \n",
    "    return expedia_df\n",
    "\n",
    "    \n",
    "def merge_exp_pca(expedia_df, pca_df):\n",
    "    '''\n",
    "    Input(S): Expedia Dataframe & PCA Dataframe\n",
    "    Output(S): Merged Dataframe\n",
    "    '''\n",
    "    # Merge expedia with principal components\n",
    "    expedia_df = pd.merge(left=expedia_df, right=pca_df, how='left', on='srch_destination_id')\n",
    "\n",
    "    # Filling in NaN PCA columns\n",
    "    expedia_df[expedia_df.columns[-5:]] = expedia_df[expedia_df.columns[-5:]].fillna(expedia_df[expedia_df.columns[-5:]].mean())\n",
    "\n",
    "    return expedia_df\n",
    "\n",
    "\n",
    "def distance_cat(dist):\n",
    "    '''\n",
    "    Helper function for orig_destination inputations\n",
    "    Input(s): Distance value from orig_destination_distance (expedia_df)\n",
    "    Output(s): Distance Label based on orig_destination_distance (expedia_df)\n",
    "    '''\n",
    "    if np.isnan(dist):\n",
    "        return np.nan\n",
    "    elif dist <= 2000:\n",
    "        return 1\n",
    "    elif dist <= 6000:\n",
    "        return 2\n",
    "    else:\n",
    "        return 3\n",
    "\n",
    "\n",
    "def knn_impute_y(expedia_df, k=5): \n",
    "    '''\n",
    "    Input(s): Expedia DataFrame w/ orig_dis categories, & category vector (for NaN imputation)\n",
    "    Output(s): Expedia DataFrame - cleaned\n",
    "    '''\n",
    "    \n",
    "    # Mapping numerical value to category\n",
    "    dists = expedia_df.groupby(by='orig_dis_label')['orig_destination_distance'].mean().to_dict()\n",
    "\n",
    "    # Temporary df containing NA values for orig_dis_label\n",
    "    exp_nan = expedia_df.loc[expedia_df.orig_dis_label.isnull(), :] \n",
    "\n",
    "    # Imputing the distance values\n",
    "    exp_nan.orig_dis_label = knn_pred_orig_dis(expedia_df, k=k) # Function for imputing\n",
    "    exp_nan.orig_destination_distance = exp_nan.orig_dis_label.map(dists)\n",
    "\n",
    "    # Concatenating the imputed df with the non-Null df\n",
    "    expedia_clean = pd.concat([expedia_df.loc[~expedia_df.orig_dis_label.isnull(), :], exp_nan], axis=0).reset_index(drop=True)\n",
    "    expedia_clean.drop(labels='orig_dis_label', axis=1, inplace=True) \n",
    "    \n",
    "    return expedia_clean\n",
    "\n",
    "\n",
    "def knn_pred_orig_dis(expedia_df, k=5):\n",
    "    '''\n",
    "    Input(s): Expedia DataFrame w/ orig_dis categories\n",
    "    Process: Inpute orig_dest values using KNN classification\n",
    "    Output(s): y vector of categories for missing orig_dis\n",
    "    '''\n",
    "    # Predictors used for KNN classifier\n",
    "    cols = [u'user_location_country', u'user_location_region', \n",
    "            u'user_location_city', u'hotel_market', u'orig_dis_label']\n",
    "    \n",
    "    # Setting X, y for model (non-NA values to train model)\n",
    "    # Predict on the NA values of orig_distance\n",
    "    X = expedia_df.loc[~expedia_df.orig_dis_label.isnull(), cols[:-1]].values \n",
    "    y = expedia_df.loc[~expedia_df.orig_dis_label.isnull(), cols[-1:]].values\n",
    "    y.resize(y.shape[0])\n",
    "    \n",
    "    # Fitting KNN Model\n",
    "    knn = KNeighborsClassifier(n_neighbors=k, weights='uniform')\n",
    "    knn.fit(X, y)\n",
    "    \n",
    "    # Predicting categories for NA values of\n",
    "    # orig_dis_label which corresponds to orig_destination_distance\n",
    "    y_impute = knn.predict(expedia_df.loc[expedia_df.orig_dis_label.isnull(), cols[:-1]].values)\n",
    "    \n",
    "    return y_impute\n",
    "\n",
    "def plot_duration(expedia_df):\n",
    "    '''\n",
    "    Input(s): Expedia DataFrame w/ duration column\n",
    "    Output(s): Distribution plot of duration\n",
    "    '''\n",
    "    # Plotting the distribution of duration\n",
    "    sns.distplot(expedia_df.duration, bins=50) # expedia_df\n",
    "    plt.title('Length of Stay', fontsize=12) \n",
    "    plt.xlabel('Days', fontsize=10) \n",
    "    plt.ylabel('frequency', fontsize=10)\n",
    "    plt.show()"
   ]
  },
  {
   "cell_type": "code",
   "execution_count": 18,
   "metadata": {
    "collapsed": false
   },
   "outputs": [
    {
     "data": {
      "image/png": "[encoded data removed]",
      "text/plain": [
       "<matplotlib.figure.Figure at 0x10437da90>"
      ]
     },
     "metadata": {
      "image/png": {
       "height": 413,
       "width": 610
      }
     },
     "output_type": "display_data"
    }
   ],
   "source": [
    "# Clean date_time columns from expedia\n",
    "expedia_train = clean_time_cols(expedia_train)\n",
    "\n",
    "# Plotting Duration\n",
    "plot_duration(expedia_train)"
   ]
  },
  {
   "cell_type": "code",
   "execution_count": 19,
   "metadata": {
    "collapsed": true
   },
   "outputs": [],
   "source": [
    "# Merge Principal Components to Expedia Data\n",
    "expedia_train = merge_exp_pca(expedia_train, pca_df)\n",
    "\n",
    "# Apply helper function to create categroy column\n",
    "expedia_train['orig_dis_label'] = expedia_train.orig_destination_distance.map(distance_cat)"
   ]
  },
  {
   "cell_type": "code",
   "execution_count": 20,
   "metadata": {
    "collapsed": false
   },
   "outputs": [
    {
     "data": {
      "image/png": "[encoded data removed]",
      "text/plain": [
       "<matplotlib.figure.Figure at 0x17259c4d0>"
      ]
     },
     "metadata": {
      "image/png": {
       "height": 409,
       "width": 613
      }
     },
     "output_type": "display_data"
    }
   ],
   "source": [
    "# orig_destination_distance distribution\n",
    "sns.distplot(expedia_train.orig_destination_distance.dropna(axis=0)) \n",
    "plt.show()"
   ]
  },
  {
   "cell_type": "code",
   "execution_count": 21,
   "metadata": {
    "collapsed": false
   },
   "outputs": [
    {
     "name": "stderr",
     "output_type": "stream",
     "text": [
      "/Users/Smitty/anaconda/envs/dsi/lib/python2.7/site-packages/pandas/core/generic.py:2701: SettingWithCopyWarning: \n",
      "A value is trying to be set on a copy of a slice from a DataFrame.\n",
      "Try using .loc[row_indexer,col_indexer] = value instead\n",
      "\n",
      "See the caveats in the documentation: http://pandas.pydata.org/pandas-docs/stable/indexing.html#indexing-view-versus-copy\n",
      "  self[name] = value\n"
     ]
    }
   ],
   "source": [
    "# Imputing orig_destination_distance using KNN classification\n",
    "expedia_train = knn_impute_y(expedia_train)"
   ]
  },
  {
   "cell_type": "code",
   "execution_count": 22,
   "metadata": {
    "collapsed": false
   },
   "outputs": [
    {
     "data": {
      "image/png": "[encoded data removed]",
      "text/plain": [
       "<matplotlib.figure.Figure at 0x13eeb2490>"
      ]
     },
     "metadata": {
      "image/png": {
       "height": 409,
       "width": 613
      }
     },
     "output_type": "display_data"
    }
   ],
   "source": [
    "# orig_destination_distance distribution\n",
    "sns.distplot(expedia_train.orig_destination_distance.dropna(axis=0)) \n",
    "plt.show()"
   ]
  },
  {
   "cell_type": "code",
   "execution_count": 23,
   "metadata": {
    "collapsed": false
   },
   "outputs": [
    {
     "data": {
      "text/plain": [
       "date_time                    0\n",
       "site_name                    0\n",
       "posa_continent               0\n",
       "user_location_country        0\n",
       "user_location_region         0\n",
       "user_location_city           0\n",
       "orig_destination_distance    0\n",
       "user_id                      0\n",
       "is_mobile                    0\n",
       "is_package                   0\n",
       "channel                      0\n",
       "srch_ci                      0\n",
       "srch_co                      0\n",
       "srch_adults_cnt              0\n",
       "srch_children_cnt            0\n",
       "srch_rm_cnt                  0\n",
       "srch_destination_id          0\n",
       "srch_destination_type_id     0\n",
       "is_booking                   0\n",
       "cnt                          0\n",
       "hotel_continent              0\n",
       "hotel_country                0\n",
       "hotel_market                 0\n",
       "hotel_cluster                0\n",
       "duration                     0\n",
       "0                            0\n",
       "1                            0\n",
       "2                            0\n",
       "3                            0\n",
       "4                            0\n",
       "dtype: int64"
      ]
     },
     "execution_count": 23,
     "metadata": {},
     "output_type": "execute_result"
    }
   ],
   "source": [
    "expedia_train.isnull().sum()"
   ]
  },
  {
   "cell_type": "code",
   "execution_count": 24,
   "metadata": {
    "collapsed": false
   },
   "outputs": [],
   "source": [
    "# AND NOW THE MODELS FOR PREDICTING CLUSTERS\n",
    "# make appropriate columns for X (predictors) and y (target)\n",
    "drop_cols = ['date_time', 'user_id', 'srch_ci', 'srch_co', 'is_booking', \n",
    "             'hotel_cluster', 'cnt']\n",
    "keep_cols = [x for x in expedia_train.columns if x not in drop_cols]\n",
    "\n",
    "# Design matrix and target\n",
    "X = expedia_train[keep_cols]\n",
    "y = expedia_train.hotel_cluster.values"
   ]
  },
  {
   "cell_type": "code",
   "execution_count": 25,
   "metadata": {
    "collapsed": false
   },
   "outputs": [],
   "source": [
    "# Random Forest Classifier to predict clusters\n",
    "\n",
    "X_train, X_test, y_train, y_test = train_test_split(X, y, test_size=0.3, random_state=1)\n",
    "\n",
    "rfr = RandomForestClassifier(n_estimators=10, n_jobs=2)\n",
    "rfr.fit(X_train,y_train)\n",
    "y_pred = rfr.predict(X_test) "
   ]
  },
  {
   "cell_type": "code",
   "execution_count": 26,
   "metadata": {
    "collapsed": false
   },
   "outputs": [
    {
     "name": "stdout",
     "output_type": "stream",
     "text": [
      "top 5 clusters: 122982\n",
      "y_test samples: 900208\n",
      "baseline acc: 0.136615093401\n"
     ]
    }
   ],
   "source": [
    "# Top 5 hotel_clusters in y_test\n",
    "print 'top 5 clusters:', pd.DataFrame(y_test, columns=['cluster'])['cluster'].value_counts()[:5].sum()\n",
    "print 'y_test samples:', y_test.shape[0]\n",
    "print 'baseline acc:', pd.DataFrame(y_test, columns=['cluster'])['cluster'].value_counts()[:5].sum()/float(y_test.shape[0])"
   ]
  },
  {
   "cell_type": "code",
   "execution_count": 27,
   "metadata": {
    "collapsed": false
   },
   "outputs": [
    {
     "data": {
      "text/plain": [
       "0.20368292661251622"
      ]
     },
     "execution_count": 27,
     "metadata": {},
     "output_type": "execute_result"
    }
   ],
   "source": [
    "# Evaluating Model. However this isn't \n",
    "# the real accuracy\n",
    "rfr.score(X_test,y_test)"
   ]
  },
  {
   "cell_type": "code",
   "execution_count": 28,
   "metadata": {
    "collapsed": false
   },
   "outputs": [
    {
     "data": {
      "text/plain": [
       "[('orig_destination_distance', 0.19958021361993131),\n",
       " ('user_location_city', 0.17696164477976142),\n",
       " ('user_location_region', 0.11490217379860475),\n",
       " ('duration', 0.076160479103645193),\n",
       " ('channel', 0.07536359138381904),\n",
       " ('srch_adults_cnt', 0.053096843915437938),\n",
       " ('user_location_country', 0.034754442254057605),\n",
       " ('srch_children_cnt', 0.032796200464474803),\n",
       " ('site_name', 0.025291885314908207),\n",
       " (0, 0.022094015456439266),\n",
       " (3, 0.02019711306768044),\n",
       " ('is_mobile', 0.019990573439899191),\n",
       " (2, 0.019425791732495964),\n",
       " ('hotel_market', 0.019321027797484912),\n",
       " (1, 0.019023462755897273),\n",
       " ('srch_rm_cnt', 0.018928020930990316),\n",
       " (4, 0.01722989877093415),\n",
       " ('srch_destination_id', 0.016340477290879628),\n",
       " ('posa_continent', 0.010266562274812601),\n",
       " ('is_package', 0.0087089439891484439),\n",
       " ('hotel_continent', 0.0073549921422383646),\n",
       " ('hotel_country', 0.0069108333355400757),\n",
       " ('srch_destination_type_id', 0.00530081238091905)]"
      ]
     },
     "execution_count": 28,
     "metadata": {},
     "output_type": "execute_result"
    }
   ],
   "source": [
    "# Feature importances\n",
    "sorted(zip(X.columns, rfr.feature_importances_), key=lambda x: x[1], reverse=True)"
   ]
  },
  {
   "cell_type": "code",
   "execution_count": 29,
   "metadata": {
    "collapsed": false
   },
   "outputs": [],
   "source": [
    "# predict probabilities to sort top five for each row\n",
    "prob_arr = rfr.predict_proba(X_test)"
   ]
  },
  {
   "cell_type": "code",
   "execution_count": 30,
   "metadata": {
    "collapsed": false
   },
   "outputs": [
    {
     "data": {
      "text/plain": [
       "[(2, 0.20000000000000001),\n",
       " (97, 0.20000000000000001),\n",
       " (25, 0.10000000000000001),\n",
       " (29, 0.10000000000000001),\n",
       " (42, 0.10000000000000001),\n",
       " (59, 0.10000000000000001),\n",
       " (64, 0.10000000000000001),\n",
       " (46, 0.050000000000000003),\n",
       " (82, 0.050000000000000003),\n",
       " (0, 0.0)]"
      ]
     },
     "execution_count": 30,
     "metadata": {},
     "output_type": "execute_result"
    }
   ],
   "source": [
    "# test\n",
    "sorted(zip(rfr.classes_, prob_arr[22]), key=lambda x: x[1], reverse=True)[:10]"
   ]
  },
  {
   "cell_type": "code",
   "execution_count": 31,
   "metadata": {
    "collapsed": false
   },
   "outputs": [
    {
     "name": "stdout",
     "output_type": "stream",
     "text": [
      "417403\n",
      "900208\n"
     ]
    }
   ],
   "source": [
    "# make list of top five for each row\n",
    "preds_5 = []\n",
    "for i in range(len(y_pred)):\n",
    "        preds_5.append([x[0] for x in sorted(zip(rfr.classes_, \n",
    "                                                 prob_arr[i]), key=lambda x: x[1], reverse=True)[:5]])\n",
    "in_5er = 0\n",
    "for i in range(len(preds_5)):\n",
    "    if y_test[i] in preds_5[i]:\n",
    "        in_5er +=1\n",
    "print in_5er\n",
    "print len(preds_5)"
   ]
  },
  {
   "cell_type": "markdown",
   "metadata": {},
   "source": [
    "** Error Analysis **"
   ]
  },
  {
   "cell_type": "code",
   "execution_count": 32,
   "metadata": {
    "collapsed": true
   },
   "outputs": [],
   "source": [
    "tp = np.zeros(100)\n",
    "fp = np.zeros(100)\n",
    "\n",
    "in_5er = 0\n",
    "for i in range(len(preds_5)):\n",
    "    if y_test[i] in preds_5[i]:\n",
    "        in_5er +=1\n",
    "        tp[y_test[i]] += 1\n",
    "    else:\n",
    "        fp[y_test[i]] += 1"
   ]
  },
  {
   "cell_type": "code",
   "execution_count": 33,
   "metadata": {
    "collapsed": false
   },
   "outputs": [],
   "source": [
    "tp_fp = pd.DataFrame(range(100), columns=['hotel_cluster'])\n",
    "tp_fp['TP'] = tp\n",
    "tp_fp['FP'] = fp\n",
    "tp_fp['total'] = tp + fp\n",
    "tp_fp = tp_fp.astype(int)\n",
    "tp_fp['precision'] = tp / (tp + fp)"
   ]
  },
  {
   "cell_type": "code",
   "execution_count": 34,
   "metadata": {
    "collapsed": false
   },
   "outputs": [
    {
     "data": {
      "text/html": [
       "<div>\n",
       "<table border=\"1\" class=\"dataframe\">\n",
       "  <thead>\n",
       "    <tr style=\"text-align: right;\">\n",
       "      <th></th>\n",
       "      <th>hotel_cluster</th>\n",
       "      <th>TP</th>\n",
       "      <th>FP</th>\n",
       "      <th>total</th>\n",
       "      <th>precision</th>\n",
       "    </tr>\n",
       "  </thead>\n",
       "  <tbody>\n",
       "    <tr>\n",
       "      <th>0</th>\n",
       "      <td>0</td>\n",
       "      <td>4165</td>\n",
       "      <td>1596</td>\n",
       "      <td>5761</td>\n",
       "      <td>0.722965</td>\n",
       "    </tr>\n",
       "    <tr>\n",
       "      <th>1</th>\n",
       "      <td>1</td>\n",
       "      <td>10869</td>\n",
       "      <td>648</td>\n",
       "      <td>11517</td>\n",
       "      <td>0.943735</td>\n",
       "    </tr>\n",
       "    <tr>\n",
       "      <th>2</th>\n",
       "      <td>2</td>\n",
       "      <td>7185</td>\n",
       "      <td>6402</td>\n",
       "      <td>13587</td>\n",
       "      <td>0.528814</td>\n",
       "    </tr>\n",
       "    <tr>\n",
       "      <th>3</th>\n",
       "      <td>3</td>\n",
       "      <td>1185</td>\n",
       "      <td>2516</td>\n",
       "      <td>3701</td>\n",
       "      <td>0.320184</td>\n",
       "    </tr>\n",
       "    <tr>\n",
       "      <th>4</th>\n",
       "      <td>4</td>\n",
       "      <td>5319</td>\n",
       "      <td>5282</td>\n",
       "      <td>10601</td>\n",
       "      <td>0.501745</td>\n",
       "    </tr>\n",
       "  </tbody>\n",
       "</table>\n",
       "</div>"
      ],
      "text/plain": [
       "   hotel_cluster     TP    FP  total  precision\n",
       "0              0   4165  1596   5761   0.722965\n",
       "1              1  10869   648  11517   0.943735\n",
       "2              2   7185  6402  13587   0.528814\n",
       "3              3   1185  2516   3701   0.320184\n",
       "4              4   5319  5282  10601   0.501745"
      ]
     },
     "execution_count": 34,
     "metadata": {},
     "output_type": "execute_result"
    }
   ],
   "source": [
    "tp_fp.head()"
   ]
  },
  {
   "cell_type": "code",
   "execution_count": 246,
   "metadata": {
    "collapsed": false
   },
   "outputs": [
    {
     "data": {
      "text/html": [
       "<div>\n",
       "<table border=\"1\" class=\"dataframe\">\n",
       "  <thead>\n",
       "    <tr style=\"text-align: right;\">\n",
       "      <th></th>\n",
       "      <th>hotel_cluster</th>\n",
       "      <th>TP</th>\n",
       "      <th>FP</th>\n",
       "      <th>total</th>\n",
       "      <th>precision</th>\n",
       "    </tr>\n",
       "  </thead>\n",
       "  <tbody>\n",
       "    <tr>\n",
       "      <th>91</th>\n",
       "      <td>91</td>\n",
       "      <td>18802</td>\n",
       "      <td>17281</td>\n",
       "      <td>36083</td>\n",
       "      <td>0.521076</td>\n",
       "    </tr>\n",
       "  </tbody>\n",
       "</table>\n",
       "</div>"
      ],
      "text/plain": [
       "    hotel_cluster     TP     FP  total  precision\n",
       "91             91  18802  17281  36083   0.521076"
      ]
     },
     "execution_count": 246,
     "metadata": {},
     "output_type": "execute_result"
    }
   ],
   "source": [
    "tp_fp.loc[tp_fp.hotel_cluster == 91, :]"
   ]
  },
  {
   "cell_type": "code",
   "execution_count": 60,
   "metadata": {
    "collapsed": false
   },
   "outputs": [],
   "source": [
    "top_10 = tp_fp[['hotel_cluster', 'precision']].sort_values(by='precision', ascending=False).reset_index(drop=True).head(10)\n",
    "bottom_10 = tp_fp[['hotel_cluster', 'precision']].sort_values(by='precision', ascending=False).reset_index(drop=True).tail(10)"
   ]
  },
  {
   "cell_type": "code",
   "execution_count": 61,
   "metadata": {
    "collapsed": false
   },
   "outputs": [
    {
     "data": {
      "text/html": [
       "<div>\n",
       "<table border=\"1\" class=\"dataframe\">\n",
       "  <thead>\n",
       "    <tr style=\"text-align: right;\">\n",
       "      <th></th>\n",
       "      <th>hotel_cluster</th>\n",
       "      <th>precision</th>\n",
       "    </tr>\n",
       "  </thead>\n",
       "  <tbody>\n",
       "    <tr>\n",
       "      <th>0</th>\n",
       "      <td>74</td>\n",
       "      <td>0.971660</td>\n",
       "    </tr>\n",
       "    <tr>\n",
       "      <th>1</th>\n",
       "      <td>1</td>\n",
       "      <td>0.943735</td>\n",
       "    </tr>\n",
       "    <tr>\n",
       "      <th>2</th>\n",
       "      <td>27</td>\n",
       "      <td>0.908313</td>\n",
       "    </tr>\n",
       "    <tr>\n",
       "      <th>3</th>\n",
       "      <td>65</td>\n",
       "      <td>0.885719</td>\n",
       "    </tr>\n",
       "    <tr>\n",
       "      <th>4</th>\n",
       "      <td>80</td>\n",
       "      <td>0.768627</td>\n",
       "    </tr>\n",
       "    <tr>\n",
       "      <th>5</th>\n",
       "      <td>45</td>\n",
       "      <td>0.740236</td>\n",
       "    </tr>\n",
       "    <tr>\n",
       "      <th>6</th>\n",
       "      <td>66</td>\n",
       "      <td>0.728064</td>\n",
       "    </tr>\n",
       "    <tr>\n",
       "      <th>7</th>\n",
       "      <td>0</td>\n",
       "      <td>0.722965</td>\n",
       "    </tr>\n",
       "    <tr>\n",
       "      <th>8</th>\n",
       "      <td>54</td>\n",
       "      <td>0.696010</td>\n",
       "    </tr>\n",
       "    <tr>\n",
       "      <th>9</th>\n",
       "      <td>52</td>\n",
       "      <td>0.680572</td>\n",
       "    </tr>\n",
       "  </tbody>\n",
       "</table>\n",
       "</div>"
      ],
      "text/plain": [
       "   hotel_cluster  precision\n",
       "0             74   0.971660\n",
       "1              1   0.943735\n",
       "2             27   0.908313\n",
       "3             65   0.885719\n",
       "4             80   0.768627\n",
       "5             45   0.740236\n",
       "6             66   0.728064\n",
       "7              0   0.722965\n",
       "8             54   0.696010\n",
       "9             52   0.680572"
      ]
     },
     "execution_count": 61,
     "metadata": {},
     "output_type": "execute_result"
    }
   ],
   "source": [
    "top_10"
   ]
  },
  {
   "cell_type": "code",
   "execution_count": 62,
   "metadata": {
    "collapsed": false
   },
   "outputs": [
    {
     "data": {
      "text/html": [
       "<div>\n",
       "<table border=\"1\" class=\"dataframe\">\n",
       "  <thead>\n",
       "    <tr style=\"text-align: right;\">\n",
       "      <th></th>\n",
       "      <th>hotel_cluster</th>\n",
       "      <th>precision</th>\n",
       "    </tr>\n",
       "  </thead>\n",
       "  <tbody>\n",
       "    <tr>\n",
       "      <th>90</th>\n",
       "      <td>97</td>\n",
       "      <td>0.288874</td>\n",
       "    </tr>\n",
       "    <tr>\n",
       "      <th>91</th>\n",
       "      <td>53</td>\n",
       "      <td>0.283333</td>\n",
       "    </tr>\n",
       "    <tr>\n",
       "      <th>92</th>\n",
       "      <td>84</td>\n",
       "      <td>0.278934</td>\n",
       "    </tr>\n",
       "    <tr>\n",
       "      <th>93</th>\n",
       "      <td>76</td>\n",
       "      <td>0.271873</td>\n",
       "    </tr>\n",
       "    <tr>\n",
       "      <th>94</th>\n",
       "      <td>83</td>\n",
       "      <td>0.270852</td>\n",
       "    </tr>\n",
       "    <tr>\n",
       "      <th>95</th>\n",
       "      <td>89</td>\n",
       "      <td>0.259822</td>\n",
       "    </tr>\n",
       "    <tr>\n",
       "      <th>96</th>\n",
       "      <td>90</td>\n",
       "      <td>0.253620</td>\n",
       "    </tr>\n",
       "    <tr>\n",
       "      <th>97</th>\n",
       "      <td>60</td>\n",
       "      <td>0.252111</td>\n",
       "    </tr>\n",
       "    <tr>\n",
       "      <th>98</th>\n",
       "      <td>86</td>\n",
       "      <td>0.232037</td>\n",
       "    </tr>\n",
       "    <tr>\n",
       "      <th>99</th>\n",
       "      <td>93</td>\n",
       "      <td>0.164404</td>\n",
       "    </tr>\n",
       "  </tbody>\n",
       "</table>\n",
       "</div>"
      ],
      "text/plain": [
       "    hotel_cluster  precision\n",
       "90             97   0.288874\n",
       "91             53   0.283333\n",
       "92             84   0.278934\n",
       "93             76   0.271873\n",
       "94             83   0.270852\n",
       "95             89   0.259822\n",
       "96             90   0.253620\n",
       "97             60   0.252111\n",
       "98             86   0.232037\n",
       "99             93   0.164404"
      ]
     },
     "execution_count": 62,
     "metadata": {},
     "output_type": "execute_result"
    }
   ],
   "source": [
    "bottom_10"
   ]
  },
  {
   "cell_type": "markdown",
   "metadata": {},
   "source": [
    "_The following precision graphs show us that we do a better job predicting the hotel clusters that were least represented in the training data. This must indicate that our model doesn't capture the complexities of the larger hotel clusters such as id:97_"
   ]
  },
  {
   "cell_type": "code",
   "execution_count": 128,
   "metadata": {
    "collapsed": false
   },
   "outputs": [
    {
     "data": {
      "image/png": "[encoded data removed]",
      "text/plain": [
       "<matplotlib.figure.Figure at 0x114dce750>"
      ]
     },
     "metadata": {
      "image/png": {
       "height": 416,
       "width": 772
      }
     },
     "output_type": "display_data"
    }
   ],
   "source": [
    "fig, ax = plt.subplots(1,2, sharey=False, figsize=(8, 4))\n",
    "\n",
    "ax[0].barh(range(10), top_10.precision.sort_values(ascending=True), \n",
    "           height=0.5, align='center', color='darkblue', alpha=0.8)\n",
    "ax[0].set_ylim(-0.5, 9.5)\n",
    "ax[0].set_yticks( range(10))\n",
    "ax[0].set_yticklabels(top_10.hotel_cluster.astype(str)[::-1])\n",
    "\n",
    "ax[0].set_ylabel('Hotel Cluster', fontsize=11)\n",
    "ax[0].set_xlabel('Precision', fontsize=11)\n",
    "ax[0].set_title('Top 10 Cluster Precision', fontsize=13)\n",
    "\n",
    "\n",
    "ax[1].barh(range(10), bottom_10.precision.sort_values(ascending=True), \n",
    "           height=0.5, align='center', color='darkred', alpha=0.8)\n",
    "ax[1].set_ylim(-0.5, 9.5)\n",
    "ax[1].set_xlim(0, 1)\n",
    "ax[1].set_yticks( range(10))\n",
    "ax[1].set_yticklabels(bottom_10.hotel_cluster.astype(str)[::-1])\n",
    "\n",
    "ax[1].set_ylabel('Hotel Cluster', fontsize=11)\n",
    "ax[1].set_xlabel('Precision', fontsize=11)\n",
    "ax[1].set_title('Bottom 10 Cluster Precision', fontsize=13)\n",
    "\n",
    "plt.show()"
   ]
  },
  {
   "cell_type": "code",
   "execution_count": 87,
   "metadata": {
    "collapsed": false
   },
   "outputs": [
    {
     "data": {
      "image/png": "[encoded data removed]",
      "text/plain": [
       "<matplotlib.figure.Figure at 0x119021c10>"
      ]
     },
     "metadata": {
      "image/png": {
       "height": 416,
       "width": 601
      }
     },
     "output_type": "display_data"
    }
   ],
   "source": [
    "bottom_10.precision.sort_values(ascending=True).plot(kind='barh')\n",
    "plt.yticks( range(10),  bottom_10.hotel_cluster.astype(str)[::-1])\n",
    "plt.ylabel('Hotel Cluster', fontsize=11)\n",
    "plt.xlabel('Precision', fontsize=11)\n",
    "plt.title('Bottom 10 Cluster Precision', fontsize=13)\n",
    "plt.show()"
   ]
  },
  {
   "cell_type": "code",
   "execution_count": 79,
   "metadata": {
    "collapsed": false
   },
   "outputs": [
    {
     "data": {
      "image/png": "[encoded data removed]",
      "text/plain": [
       "<matplotlib.figure.Figure at 0x115d87690>"
      ]
     },
     "metadata": {
      "image/png": {
       "height": 416,
       "width": 598
      }
     },
     "output_type": "display_data"
    }
   ],
   "source": [
    "top_10.precision.sort_values(ascending=True).plot(kind='barh')\n",
    "plt.yticks( range(10),  top_10.hotel_cluster.astype(str)[::-1])\n",
    "plt.ylabel('Hotel Cluster', fontsize=11)\n",
    "plt.xlabel('Precision', fontsize=11)\n",
    "plt.title('Top 10 Cluster Precision', fontsize=13)\n",
    "plt.show()"
   ]
  },
  {
   "cell_type": "code",
   "execution_count": 129,
   "metadata": {
    "collapsed": false
   },
   "outputs": [
    {
     "name": "stdout",
     "output_type": "stream",
     "text": [
      "mean precision 0.46156298139\n"
     ]
    }
   ],
   "source": [
    "print 'mean precision', tp_fp.precision.mean()"
   ]
  },
  {
   "cell_type": "code",
   "execution_count": 131,
   "metadata": {
    "collapsed": false
   },
   "outputs": [
    {
     "data": {
      "text/html": [
       "<div>\n",
       "<table border=\"1\" class=\"dataframe\">\n",
       "  <thead>\n",
       "    <tr style=\"text-align: right;\">\n",
       "      <th></th>\n",
       "      <th>hotel_cluster</th>\n",
       "      <th>TP</th>\n",
       "      <th>FP</th>\n",
       "      <th>total</th>\n",
       "      <th>precision</th>\n",
       "    </tr>\n",
       "  </thead>\n",
       "  <tbody>\n",
       "    <tr>\n",
       "      <th>97</th>\n",
       "      <td>97</td>\n",
       "      <td>2560</td>\n",
       "      <td>6302</td>\n",
       "      <td>8862</td>\n",
       "      <td>0.288874</td>\n",
       "    </tr>\n",
       "  </tbody>\n",
       "</table>\n",
       "</div>"
      ],
      "text/plain": [
       "    hotel_cluster    TP    FP  total  precision\n",
       "97             97  2560  6302   8862   0.288874"
      ]
     },
     "execution_count": 131,
     "metadata": {},
     "output_type": "execute_result"
    }
   ],
   "source": [
    "tp_fp.loc[tp_fp.hotel_cluster == 97, :]"
   ]
  },
  {
   "cell_type": "code",
   "execution_count": 132,
   "metadata": {
    "collapsed": false
   },
   "outputs": [],
   "source": [
    "drop_cols = [u'date_time', u'user_id', u'srch_ci', u'srch_co', \n",
    "            u'is_booking', u'cnt']\n",
    "\n",
    "keep_cols = [x for x in expedia_train.columns if x not in drop_cols]"
   ]
  },
  {
   "cell_type": "code",
   "execution_count": 133,
   "metadata": {
    "collapsed": false,
    "scrolled": true
   },
   "outputs": [],
   "source": [
    "cluster_means = expedia_train[keep_cols].groupby(by='hotel_cluster').mean()"
   ]
  },
  {
   "cell_type": "code",
   "execution_count": 134,
   "metadata": {
    "collapsed": false
   },
   "outputs": [
    {
     "data": {
      "text/html": [
       "<div>\n",
       "<table border=\"1\" class=\"dataframe\">\n",
       "  <thead>\n",
       "    <tr style=\"text-align: right;\">\n",
       "      <th></th>\n",
       "      <th>site_name</th>\n",
       "      <th>posa_continent</th>\n",
       "      <th>user_location_country</th>\n",
       "      <th>user_location_region</th>\n",
       "      <th>user_location_city</th>\n",
       "      <th>orig_destination_distance</th>\n",
       "      <th>is_mobile</th>\n",
       "      <th>is_package</th>\n",
       "      <th>channel</th>\n",
       "      <th>srch_adults_cnt</th>\n",
       "      <th>...</th>\n",
       "      <th>srch_destination_type_id</th>\n",
       "      <th>hotel_continent</th>\n",
       "      <th>hotel_country</th>\n",
       "      <th>hotel_market</th>\n",
       "      <th>duration</th>\n",
       "      <th>0</th>\n",
       "      <th>1</th>\n",
       "      <th>2</th>\n",
       "      <th>3</th>\n",
       "      <th>4</th>\n",
       "    </tr>\n",
       "    <tr>\n",
       "      <th>hotel_cluster</th>\n",
       "      <th></th>\n",
       "      <th></th>\n",
       "      <th></th>\n",
       "      <th></th>\n",
       "      <th></th>\n",
       "      <th></th>\n",
       "      <th></th>\n",
       "      <th></th>\n",
       "      <th></th>\n",
       "      <th></th>\n",
       "      <th></th>\n",
       "      <th></th>\n",
       "      <th></th>\n",
       "      <th></th>\n",
       "      <th></th>\n",
       "      <th></th>\n",
       "      <th></th>\n",
       "      <th></th>\n",
       "      <th></th>\n",
       "      <th></th>\n",
       "      <th></th>\n",
       "    </tr>\n",
       "  </thead>\n",
       "  <tbody>\n",
       "    <tr>\n",
       "      <th>0</th>\n",
       "      <td>6.161180</td>\n",
       "      <td>2.886722</td>\n",
       "      <td>82.166745</td>\n",
       "      <td>282.345660</td>\n",
       "      <td>27190.614500</td>\n",
       "      <td>1800.246443</td>\n",
       "      <td>0.114891</td>\n",
       "      <td>0.322931</td>\n",
       "      <td>6.081760</td>\n",
       "      <td>2.042752</td>\n",
       "      <td>...</td>\n",
       "      <td>2.595725</td>\n",
       "      <td>2.414209</td>\n",
       "      <td>50.261195</td>\n",
       "      <td>564.105217</td>\n",
       "      <td>3.392781</td>\n",
       "      <td>19.691583</td>\n",
       "      <td>6.047726</td>\n",
       "      <td>3.382814</td>\n",
       "      <td>1.121558</td>\n",
       "      <td>-2.082251</td>\n",
       "    </tr>\n",
       "    <tr>\n",
       "      <th>1</th>\n",
       "      <td>6.802341</td>\n",
       "      <td>2.851886</td>\n",
       "      <td>90.634200</td>\n",
       "      <td>291.787906</td>\n",
       "      <td>27977.842913</td>\n",
       "      <td>1337.032335</td>\n",
       "      <td>0.100572</td>\n",
       "      <td>0.366892</td>\n",
       "      <td>6.222809</td>\n",
       "      <td>2.039818</td>\n",
       "      <td>...</td>\n",
       "      <td>2.501977</td>\n",
       "      <td>2.000000</td>\n",
       "      <td>50.000000</td>\n",
       "      <td>627.978804</td>\n",
       "      <td>3.007490</td>\n",
       "      <td>42.229555</td>\n",
       "      <td>4.077685</td>\n",
       "      <td>-10.096090</td>\n",
       "      <td>-3.069127</td>\n",
       "      <td>0.590741</td>\n",
       "    </tr>\n",
       "    <tr>\n",
       "      <th>2</th>\n",
       "      <td>12.793563</td>\n",
       "      <td>2.489513</td>\n",
       "      <td>86.315681</td>\n",
       "      <td>362.885118</td>\n",
       "      <td>28610.741560</td>\n",
       "      <td>2812.026408</td>\n",
       "      <td>0.092487</td>\n",
       "      <td>0.169704</td>\n",
       "      <td>6.122473</td>\n",
       "      <td>1.846144</td>\n",
       "      <td>...</td>\n",
       "      <td>2.661680</td>\n",
       "      <td>4.106758</td>\n",
       "      <td>89.264033</td>\n",
       "      <td>431.888115</td>\n",
       "      <td>2.370281</td>\n",
       "      <td>9.490663</td>\n",
       "      <td>-3.394572</td>\n",
       "      <td>1.651160</td>\n",
       "      <td>0.344499</td>\n",
       "      <td>0.522753</td>\n",
       "    </tr>\n",
       "    <tr>\n",
       "      <th>3</th>\n",
       "      <td>12.033513</td>\n",
       "      <td>2.501007</td>\n",
       "      <td>84.781761</td>\n",
       "      <td>301.247160</td>\n",
       "      <td>27751.580440</td>\n",
       "      <td>2608.347983</td>\n",
       "      <td>0.079433</td>\n",
       "      <td>0.090470</td>\n",
       "      <td>6.094256</td>\n",
       "      <td>1.832917</td>\n",
       "      <td>...</td>\n",
       "      <td>2.954161</td>\n",
       "      <td>3.722388</td>\n",
       "      <td>95.690164</td>\n",
       "      <td>772.799243</td>\n",
       "      <td>2.623943</td>\n",
       "      <td>5.327781</td>\n",
       "      <td>-1.628510</td>\n",
       "      <td>1.284962</td>\n",
       "      <td>0.278285</td>\n",
       "      <td>0.380214</td>\n",
       "    </tr>\n",
       "    <tr>\n",
       "      <th>4</th>\n",
       "      <td>7.886566</td>\n",
       "      <td>2.868892</td>\n",
       "      <td>97.248504</td>\n",
       "      <td>300.774649</td>\n",
       "      <td>28019.011549</td>\n",
       "      <td>1266.065872</td>\n",
       "      <td>0.098626</td>\n",
       "      <td>0.091517</td>\n",
       "      <td>6.347214</td>\n",
       "      <td>1.852651</td>\n",
       "      <td>...</td>\n",
       "      <td>3.450982</td>\n",
       "      <td>2.178510</td>\n",
       "      <td>74.614431</td>\n",
       "      <td>605.068420</td>\n",
       "      <td>1.982719</td>\n",
       "      <td>15.412141</td>\n",
       "      <td>-1.585289</td>\n",
       "      <td>-0.070677</td>\n",
       "      <td>0.912580</td>\n",
       "      <td>-0.886691</td>\n",
       "    </tr>\n",
       "  </tbody>\n",
       "</table>\n",
       "<p>5 rows × 23 columns</p>\n",
       "</div>"
      ],
      "text/plain": [
       "               site_name  posa_continent  user_location_country  \\\n",
       "hotel_cluster                                                     \n",
       "0               6.161180        2.886722              82.166745   \n",
       "1               6.802341        2.851886              90.634200   \n",
       "2              12.793563        2.489513              86.315681   \n",
       "3              12.033513        2.501007              84.781761   \n",
       "4               7.886566        2.868892              97.248504   \n",
       "\n",
       "               user_location_region  user_location_city  \\\n",
       "hotel_cluster                                             \n",
       "0                        282.345660        27190.614500   \n",
       "1                        291.787906        27977.842913   \n",
       "2                        362.885118        28610.741560   \n",
       "3                        301.247160        27751.580440   \n",
       "4                        300.774649        28019.011549   \n",
       "\n",
       "               orig_destination_distance  is_mobile  is_package   channel  \\\n",
       "hotel_cluster                                                               \n",
       "0                            1800.246443   0.114891    0.322931  6.081760   \n",
       "1                            1337.032335   0.100572    0.366892  6.222809   \n",
       "2                            2812.026408   0.092487    0.169704  6.122473   \n",
       "3                            2608.347983   0.079433    0.090470  6.094256   \n",
       "4                            1266.065872   0.098626    0.091517  6.347214   \n",
       "\n",
       "               srch_adults_cnt    ...     srch_destination_type_id  \\\n",
       "hotel_cluster                     ...                                \n",
       "0                     2.042752    ...                     2.595725   \n",
       "1                     2.039818    ...                     2.501977   \n",
       "2                     1.846144    ...                     2.661680   \n",
       "3                     1.832917    ...                     2.954161   \n",
       "4                     1.852651    ...                     3.450982   \n",
       "\n",
       "               hotel_continent  hotel_country  hotel_market  duration  \\\n",
       "hotel_cluster                                                           \n",
       "0                     2.414209      50.261195    564.105217  3.392781   \n",
       "1                     2.000000      50.000000    627.978804  3.007490   \n",
       "2                     4.106758      89.264033    431.888115  2.370281   \n",
       "3                     3.722388      95.690164    772.799243  2.623943   \n",
       "4                     2.178510      74.614431    605.068420  1.982719   \n",
       "\n",
       "                       0         1          2         3         4  \n",
       "hotel_cluster                                                      \n",
       "0              19.691583  6.047726   3.382814  1.121558 -2.082251  \n",
       "1              42.229555  4.077685 -10.096090 -3.069127  0.590741  \n",
       "2               9.490663 -3.394572   1.651160  0.344499  0.522753  \n",
       "3               5.327781 -1.628510   1.284962  0.278285  0.380214  \n",
       "4              15.412141 -1.585289  -0.070677  0.912580 -0.886691  \n",
       "\n",
       "[5 rows x 23 columns]"
      ]
     },
     "execution_count": 134,
     "metadata": {},
     "output_type": "execute_result"
    }
   ],
   "source": [
    "cluster_means.head()"
   ]
  },
  {
   "cell_type": "code",
   "execution_count": 135,
   "metadata": {
    "collapsed": false
   },
   "outputs": [],
   "source": [
    "ss = StandardScaler()\n",
    "cluster_norm = ss.fit_transform(cluster_means)"
   ]
  },
  {
   "cell_type": "code",
   "execution_count": 136,
   "metadata": {
    "collapsed": false
   },
   "outputs": [
    {
     "data": {
      "text/plain": [
       "(100, 23)"
      ]
     },
     "execution_count": 136,
     "metadata": {},
     "output_type": "execute_result"
    }
   ],
   "source": [
    "cluster_norm.shape"
   ]
  },
  {
   "cell_type": "code",
   "execution_count": 137,
   "metadata": {
    "collapsed": false,
    "scrolled": false
   },
   "outputs": [],
   "source": [
    "import numpy as np\n",
    "from sklearn.neighbors import NearestNeighbors"
   ]
  },
  {
   "cell_type": "code",
   "execution_count": 138,
   "metadata": {
    "collapsed": false
   },
   "outputs": [
    {
     "data": {
      "text/plain": [
       "NearestNeighbors(algorithm='auto', leaf_size=30, metric='minkowski',\n",
       "         metric_params=None, n_jobs=1, n_neighbors=5, p=2, radius=1.0)"
      ]
     },
     "execution_count": 138,
     "metadata": {},
     "output_type": "execute_result"
    }
   ],
   "source": [
    "neigh = NearestNeighbors(n_neighbors=5, radius=1.0)\n",
    "neigh.fit(cluster_norm)"
   ]
  },
  {
   "cell_type": "code",
   "execution_count": 139,
   "metadata": {
    "collapsed": false
   },
   "outputs": [],
   "source": [
    "X_test_norm = ss.fit_transform(X_test)"
   ]
  },
  {
   "cell_type": "code",
   "execution_count": 140,
   "metadata": {
    "collapsed": false
   },
   "outputs": [
    {
     "data": {
      "text/plain": [
       "(900208, 23)"
      ]
     },
     "execution_count": 140,
     "metadata": {},
     "output_type": "execute_result"
    }
   ],
   "source": [
    "X_test_norm.shape"
   ]
  },
  {
   "cell_type": "code",
   "execution_count": 141,
   "metadata": {
    "collapsed": false
   },
   "outputs": [],
   "source": [
    "# Run this when expedia test data is clean\n",
    "knn_pred = neigh.kneighbors(X_test_norm, n_neighbors=5, return_distance=False)"
   ]
  },
  {
   "cell_type": "code",
   "execution_count": 142,
   "metadata": {
    "collapsed": false
   },
   "outputs": [
    {
     "data": {
      "text/plain": [
       "(900208, 5)"
      ]
     },
     "execution_count": 142,
     "metadata": {},
     "output_type": "execute_result"
    }
   ],
   "source": [
    "knn_pred.shape"
   ]
  },
  {
   "cell_type": "code",
   "execution_count": 144,
   "metadata": {
    "collapsed": false
   },
   "outputs": [
    {
     "data": {
      "text/plain": [
       "array([47,  9, 18, 55, 45, 44, 93, 23, 18, 48])"
      ]
     },
     "execution_count": 144,
     "metadata": {},
     "output_type": "execute_result"
    }
   ],
   "source": [
    "y_test[:10]"
   ]
  },
  {
   "cell_type": "markdown",
   "metadata": {},
   "source": [
    "_Precision after normalizing went from 37k / 900k to 160k / 900k_"
   ]
  },
  {
   "cell_type": "code",
   "execution_count": 145,
   "metadata": {
    "collapsed": false
   },
   "outputs": [
    {
     "name": "stdout",
     "output_type": "stream",
     "text": [
      "159786\n",
      "900208\n"
     ]
    }
   ],
   "source": [
    "in_5er = 0\n",
    "for i in range(knn_pred.shape[0]):\n",
    "    if y_test[i] in knn_pred[i]:\n",
    "        in_5er +=1\n",
    "print in_5er\n",
    "print knn_pred.shape[0]"
   ]
  },
  {
   "cell_type": "code",
   "execution_count": 146,
   "metadata": {
    "collapsed": false
   },
   "outputs": [
    {
     "data": {
      "text/plain": [
       "array([[47, 16, 48, 33, 13],\n",
       "       [77, 32, 42, 13, 50],\n",
       "       [15, 76, 14, 83, 89],\n",
       "       [10, 55, 83, 37, 15],\n",
       "       [45, 24, 88,  1, 79]])"
      ]
     },
     "execution_count": 146,
     "metadata": {},
     "output_type": "execute_result"
    }
   ],
   "source": [
    "knn_pred[:5]"
   ]
  },
  {
   "cell_type": "markdown",
   "metadata": {},
   "source": [
    "Plan:\n",
    "\n",
    "Add signals as features to the dataset and then predict"
   ]
  },
  {
   "cell_type": "code",
   "execution_count": 181,
   "metadata": {
    "collapsed": false
   },
   "outputs": [],
   "source": [
    "# Applying Nearest Neigbors to add similar clusters as features\n",
    "# First normalizing the data\n",
    "\n",
    "keep_cols = [x for x in expedia_train.columns if (x not in drop_cols) & (x != 'hotel_cluster')]\n",
    "\n",
    "X_all_obs = ss.fit_transform(expedia_train[keep_cols])"
   ]
  },
  {
   "cell_type": "code",
   "execution_count": 182,
   "metadata": {
    "collapsed": false
   },
   "outputs": [
    {
     "data": {
      "text/plain": [
       "(3000693, 23)"
      ]
     },
     "execution_count": 182,
     "metadata": {},
     "output_type": "execute_result"
    }
   ],
   "source": [
    "X_all_obs.shape"
   ]
  },
  {
   "cell_type": "code",
   "execution_count": 183,
   "metadata": {
    "collapsed": false
   },
   "outputs": [],
   "source": [
    "knn_pred = neigh.kneighbors(X_all_obs, n_neighbors=5, return_distance=False)"
   ]
  },
  {
   "cell_type": "code",
   "execution_count": 184,
   "metadata": {
    "collapsed": false
   },
   "outputs": [
    {
     "data": {
      "text/plain": [
       "(3000693, 5)"
      ]
     },
     "execution_count": 184,
     "metadata": {},
     "output_type": "execute_result"
    }
   ],
   "source": [
    "knn_pred.shape"
   ]
  },
  {
   "cell_type": "code",
   "execution_count": 187,
   "metadata": {
    "collapsed": false
   },
   "outputs": [
    {
     "data": {
      "text/plain": [
       "(3000693,)"
      ]
     },
     "execution_count": 187,
     "metadata": {},
     "output_type": "execute_result"
    }
   ],
   "source": [
    "knn_pred[:,0]"
   ]
  },
  {
   "cell_type": "code",
   "execution_count": 189,
   "metadata": {
    "collapsed": false
   },
   "outputs": [],
   "source": [
    "# GOAL: ADD columns of similar clusters to dataset for each observation\n",
    "expedia_data = expedia_train[keep_cols]"
   ]
  },
  {
   "cell_type": "code",
   "execution_count": 194,
   "metadata": {
    "collapsed": false
   },
   "outputs": [
    {
     "name": "stderr",
     "output_type": "stream",
     "text": [
      "/Users/Smitty/anaconda/envs/dsi/lib/python2.7/site-packages/ipykernel/__main__.py:2: SettingWithCopyWarning: \n",
      "A value is trying to be set on a copy of a slice from a DataFrame.\n",
      "Try using .loc[row_indexer,col_indexer] = value instead\n",
      "\n",
      "See the caveats in the documentation: http://pandas.pydata.org/pandas-docs/stable/indexing.html#indexing-view-versus-copy\n",
      "  from ipykernel import kernelapp as app\n"
     ]
    }
   ],
   "source": [
    "for i in range(5):\n",
    "    expedia_data['sim_clus_%s' % i] = knn_pred[:, i]"
   ]
  },
  {
   "cell_type": "code",
   "execution_count": 197,
   "metadata": {
    "collapsed": false
   },
   "outputs": [
    {
     "data": {
      "text/plain": [
       "Index([                u'site_name',            u'posa_continent',\n",
       "           u'user_location_country',      u'user_location_region',\n",
       "              u'user_location_city', u'orig_destination_distance',\n",
       "                       u'is_mobile',                u'is_package',\n",
       "                         u'channel',           u'srch_adults_cnt',\n",
       "               u'srch_children_cnt',               u'srch_rm_cnt',\n",
       "             u'srch_destination_id',  u'srch_destination_type_id',\n",
       "                 u'hotel_continent',             u'hotel_country',\n",
       "                    u'hotel_market',                  u'duration',\n",
       "                                  0,                            1,\n",
       "                                  2,                            3,\n",
       "                                  4,                u'sim_clus_0',\n",
       "                      u'sim_clus_1',                u'sim_clus_2',\n",
       "                      u'sim_clus_3',                u'sim_clus_4'],\n",
       "      dtype='object')"
      ]
     },
     "execution_count": 197,
     "metadata": {},
     "output_type": "execute_result"
    }
   ],
   "source": [
    "# New Data\n",
    "expedia_data.columns"
   ]
  },
  {
   "cell_type": "code",
   "execution_count": 204,
   "metadata": {
    "collapsed": false
   },
   "outputs": [
    {
     "data": {
      "text/plain": [
       "(3000693, 28)"
      ]
     },
     "execution_count": 204,
     "metadata": {},
     "output_type": "execute_result"
    }
   ],
   "source": [
    "expedia_data.shape"
   ]
  },
  {
   "cell_type": "code",
   "execution_count": 203,
   "metadata": {
    "collapsed": true
   },
   "outputs": [],
   "source": [
    "# Design matrix and target\n",
    "X = expedia_data\n",
    "y = expedia_train.hotel_cluster.values"
   ]
  },
  {
   "cell_type": "code",
   "execution_count": 205,
   "metadata": {
    "collapsed": true
   },
   "outputs": [],
   "source": [
    "# Random Forest Classifier to predict clusters\n",
    "\n",
    "X_train, X_test, y_train, y_test = train_test_split(X, y, test_size=0.3, random_state=1)\n",
    "\n",
    "rfr = RandomForestClassifier(n_estimators=10, n_jobs=2)\n",
    "rfr.fit(X_train,y_train)\n",
    "y_pred = rfr.predict(X_test) "
   ]
  },
  {
   "cell_type": "code",
   "execution_count": 208,
   "metadata": {
    "collapsed": false
   },
   "outputs": [
    {
     "name": "stdout",
     "output_type": "stream",
     "text": [
      "top 5 clusters: 122982\n",
      "y_test samples: 900208\n",
      "baseline acc: 0.136615093401\n"
     ]
    }
   ],
   "source": [
    "# Top 5 hotel_clusters in y_test\n",
    "print 'top 5 clusters:', pd.DataFrame(y_test, columns=['cluster'])['cluster'].value_counts()[:5].sum()\n",
    "print 'y_test samples:', y_test.shape[0]\n",
    "print 'baseline acc:', pd.DataFrame(y_test, columns=['cluster'])['cluster'].value_counts()[:5].sum()/float(y_test.shape[0])"
   ]
  },
  {
   "cell_type": "code",
   "execution_count": 209,
   "metadata": {
    "collapsed": false
   },
   "outputs": [
    {
     "data": {
      "text/plain": [
       "0.19257882622682757"
      ]
     },
     "execution_count": 209,
     "metadata": {},
     "output_type": "execute_result"
    }
   ],
   "source": [
    "# Evaluating Model. However this isn't \n",
    "# the real accuracy\n",
    "rfr.score(X_test,y_test)"
   ]
  },
  {
   "cell_type": "code",
   "execution_count": 210,
   "metadata": {
    "collapsed": false
   },
   "outputs": [
    {
     "data": {
      "text/plain": [
       "[('orig_destination_distance', 0.14547388069265793),\n",
       " ('user_location_city', 0.11573571305464432),\n",
       " ('user_location_region', 0.07768530543813898),\n",
       " ('sim_clus_4', 0.072161135097086271),\n",
       " ('sim_clus_3', 0.066525969063064128),\n",
       " ('sim_clus_2', 0.060541404251822674),\n",
       " ('duration', 0.054726585287192805),\n",
       " ('sim_clus_1', 0.052385214552040461),\n",
       " ('channel', 0.043000957016981603),\n",
       " ('sim_clus_0', 0.03928587907981089),\n",
       " ('srch_adults_cnt', 0.032681773902138771),\n",
       " (0, 0.022753661252060436),\n",
       " ('user_location_country', 0.022710078324116267),\n",
       " (1, 0.019425218198581101),\n",
       " ('hotel_market', 0.019003521213215548),\n",
       " ('srch_children_cnt', 0.018688648692069189),\n",
       " (2, 0.018530979017984374),\n",
       " (3, 0.017755898401715656),\n",
       " (4, 0.017352362327889968),\n",
       " ('site_name', 0.016970994426961202),\n",
       " ('srch_destination_id', 0.015035965543320044),\n",
       " ('srch_rm_cnt', 0.010369452281792001),\n",
       " ('is_mobile', 0.0093586769810603213),\n",
       " ('hotel_country', 0.0076035960659079846),\n",
       " ('posa_continent', 0.0067120553908937928),\n",
       " ('is_package', 0.0064147800668248878),\n",
       " ('hotel_continent', 0.005806023006246692),\n",
       " ('srch_destination_type_id', 0.0053042713737816985)]"
      ]
     },
     "execution_count": 210,
     "metadata": {},
     "output_type": "execute_result"
    }
   ],
   "source": [
    "# Feature importances\n",
    "sorted(zip(X.columns, rfr.feature_importances_), key=lambda x: x[1], reverse=True)"
   ]
  },
  {
   "cell_type": "code",
   "execution_count": 211,
   "metadata": {
    "collapsed": true
   },
   "outputs": [],
   "source": [
    "# predict probabilities to sort top five for each row\n",
    "prob_arr = rfr.predict_proba(X_test)"
   ]
  },
  {
   "cell_type": "code",
   "execution_count": 212,
   "metadata": {
    "collapsed": false
   },
   "outputs": [
    {
     "data": {
      "text/plain": [
       "[(29, 0.29999999999999999),\n",
       " (64, 0.20000000000000001),\n",
       " (2, 0.10000000000000001),\n",
       " (11, 0.10000000000000001),\n",
       " (30, 0.10000000000000001),\n",
       " (42, 0.10000000000000001),\n",
       " (97, 0.10000000000000001),\n",
       " (0, 0.0),\n",
       " (1, 0.0),\n",
       " (3, 0.0)]"
      ]
     },
     "execution_count": 212,
     "metadata": {},
     "output_type": "execute_result"
    }
   ],
   "source": [
    "# test\n",
    "sorted(zip(rfr.classes_, prob_arr[22]), key=lambda x: x[1], reverse=True)[:10]"
   ]
  },
  {
   "cell_type": "code",
   "execution_count": 213,
   "metadata": {
    "collapsed": false
   },
   "outputs": [
    {
     "name": "stdout",
     "output_type": "stream",
     "text": [
      "401697\n",
      "900208\n"
     ]
    }
   ],
   "source": [
    "# make list of top five for each row\n",
    "preds_5 = []\n",
    "for i in range(len(y_pred)):\n",
    "        preds_5.append([x[0] for x in sorted(zip(rfr.classes_, \n",
    "                                                 prob_arr[i]), key=lambda x: x[1], reverse=True)[:5]])\n",
    "in_5er = 0\n",
    "for i in range(len(preds_5)):\n",
    "    if y_test[i] in preds_5[i]:\n",
    "        in_5er +=1\n",
    "print in_5er\n",
    "print len(preds_5)"
   ]
  },
  {
   "cell_type": "markdown",
   "metadata": {},
   "source": [
    "______"
   ]
  },
  {
   "cell_type": "markdown",
   "metadata": {
    "collapsed": true
   },
   "source": [
    "** Testing Model on Test Data **"
   ]
  },
  {
   "cell_type": "code",
   "execution_count": 214,
   "metadata": {
    "collapsed": false
   },
   "outputs": [
    {
     "data": {
      "text/html": [
       "<div>\n",
       "<table border=\"1\" class=\"dataframe\">\n",
       "  <thead>\n",
       "    <tr style=\"text-align: right;\">\n",
       "      <th></th>\n",
       "      <th>id</th>\n",
       "      <th>date_time</th>\n",
       "      <th>site_name</th>\n",
       "      <th>posa_continent</th>\n",
       "      <th>user_location_country</th>\n",
       "      <th>user_location_region</th>\n",
       "      <th>user_location_city</th>\n",
       "      <th>orig_destination_distance</th>\n",
       "      <th>user_id</th>\n",
       "      <th>is_mobile</th>\n",
       "      <th>...</th>\n",
       "      <th>srch_ci</th>\n",
       "      <th>srch_co</th>\n",
       "      <th>srch_adults_cnt</th>\n",
       "      <th>srch_children_cnt</th>\n",
       "      <th>srch_rm_cnt</th>\n",
       "      <th>srch_destination_id</th>\n",
       "      <th>srch_destination_type_id</th>\n",
       "      <th>hotel_continent</th>\n",
       "      <th>hotel_country</th>\n",
       "      <th>hotel_market</th>\n",
       "    </tr>\n",
       "  </thead>\n",
       "  <tbody>\n",
       "    <tr>\n",
       "      <th>0</th>\n",
       "      <td>0</td>\n",
       "      <td>2015-09-03 17:09:54</td>\n",
       "      <td>2</td>\n",
       "      <td>3</td>\n",
       "      <td>66</td>\n",
       "      <td>174</td>\n",
       "      <td>37449</td>\n",
       "      <td>5539.0567</td>\n",
       "      <td>1</td>\n",
       "      <td>1</td>\n",
       "      <td>...</td>\n",
       "      <td>2016-05-19</td>\n",
       "      <td>2016-05-23</td>\n",
       "      <td>2</td>\n",
       "      <td>0</td>\n",
       "      <td>1</td>\n",
       "      <td>12243</td>\n",
       "      <td>6</td>\n",
       "      <td>6</td>\n",
       "      <td>204</td>\n",
       "      <td>27</td>\n",
       "    </tr>\n",
       "    <tr>\n",
       "      <th>1</th>\n",
       "      <td>1</td>\n",
       "      <td>2015-09-24 17:38:35</td>\n",
       "      <td>2</td>\n",
       "      <td>3</td>\n",
       "      <td>66</td>\n",
       "      <td>174</td>\n",
       "      <td>37449</td>\n",
       "      <td>5873.2923</td>\n",
       "      <td>1</td>\n",
       "      <td>1</td>\n",
       "      <td>...</td>\n",
       "      <td>2016-05-12</td>\n",
       "      <td>2016-05-15</td>\n",
       "      <td>2</td>\n",
       "      <td>0</td>\n",
       "      <td>1</td>\n",
       "      <td>14474</td>\n",
       "      <td>7</td>\n",
       "      <td>6</td>\n",
       "      <td>204</td>\n",
       "      <td>1540</td>\n",
       "    </tr>\n",
       "    <tr>\n",
       "      <th>2</th>\n",
       "      <td>2</td>\n",
       "      <td>2015-06-07 15:53:02</td>\n",
       "      <td>2</td>\n",
       "      <td>3</td>\n",
       "      <td>66</td>\n",
       "      <td>142</td>\n",
       "      <td>17440</td>\n",
       "      <td>3975.9776</td>\n",
       "      <td>20</td>\n",
       "      <td>0</td>\n",
       "      <td>...</td>\n",
       "      <td>2015-07-26</td>\n",
       "      <td>2015-07-27</td>\n",
       "      <td>4</td>\n",
       "      <td>0</td>\n",
       "      <td>1</td>\n",
       "      <td>11353</td>\n",
       "      <td>1</td>\n",
       "      <td>2</td>\n",
       "      <td>50</td>\n",
       "      <td>699</td>\n",
       "    </tr>\n",
       "  </tbody>\n",
       "</table>\n",
       "<p>3 rows × 22 columns</p>\n",
       "</div>"
      ],
      "text/plain": [
       "   id            date_time  site_name  posa_continent  user_location_country  \\\n",
       "0   0  2015-09-03 17:09:54          2               3                     66   \n",
       "1   1  2015-09-24 17:38:35          2               3                     66   \n",
       "2   2  2015-06-07 15:53:02          2               3                     66   \n",
       "\n",
       "   user_location_region  user_location_city  orig_destination_distance  \\\n",
       "0                   174               37449                  5539.0567   \n",
       "1                   174               37449                  5873.2923   \n",
       "2                   142               17440                  3975.9776   \n",
       "\n",
       "   user_id  is_mobile      ...          srch_ci     srch_co srch_adults_cnt  \\\n",
       "0        1          1      ...       2016-05-19  2016-05-23               2   \n",
       "1        1          1      ...       2016-05-12  2016-05-15               2   \n",
       "2       20          0      ...       2015-07-26  2015-07-27               4   \n",
       "\n",
       "  srch_children_cnt  srch_rm_cnt  srch_destination_id  \\\n",
       "0                 0            1                12243   \n",
       "1                 0            1                14474   \n",
       "2                 0            1                11353   \n",
       "\n",
       "   srch_destination_type_id  hotel_continent  hotel_country  hotel_market  \n",
       "0                         6                6            204            27  \n",
       "1                         7                6            204          1540  \n",
       "2                         1                2             50           699  \n",
       "\n",
       "[3 rows x 22 columns]"
      ]
     },
     "execution_count": 214,
     "metadata": {},
     "output_type": "execute_result"
    }
   ],
   "source": [
    "expedia_test.head(3)"
   ]
  },
  {
   "cell_type": "code",
   "execution_count": 215,
   "metadata": {
    "collapsed": true
   },
   "outputs": [],
   "source": [
    "# Clean date_time columns from expedia\n",
    "expedia_test = clean_time_cols(expedia_test)\n",
    "\n",
    "# Merge Principal Components to Expedia Data\n",
    "expedia_test = merge_exp_pca(expedia_test, pca_df)\n",
    "\n",
    "# Apply helper function to create categroy column\n",
    "expedia_test['orig_dis_label'] = expedia_test.orig_destination_distance.map(distance_cat)\n",
    "\n",
    "# Imputing orig_destination_distance using KNN classification\n",
    "expedia_test = knn_impute_y(expedia_test)"
   ]
  },
  {
   "cell_type": "code",
   "execution_count": 216,
   "metadata": {
    "collapsed": false
   },
   "outputs": [
    {
     "data": {
      "text/plain": [
       "id                            0\n",
       "date_time                     0\n",
       "site_name                     0\n",
       "posa_continent                0\n",
       "user_location_country         0\n",
       "user_location_region          0\n",
       "user_location_city            0\n",
       "orig_destination_distance     0\n",
       "user_id                       0\n",
       "is_mobile                     0\n",
       "is_package                    0\n",
       "channel                       0\n",
       "srch_ci                      22\n",
       "srch_co                      17\n",
       "srch_adults_cnt               0\n",
       "srch_children_cnt             0\n",
       "srch_rm_cnt                   0\n",
       "srch_destination_id           0\n",
       "srch_destination_type_id      0\n",
       "hotel_continent               0\n",
       "hotel_country                 0\n",
       "hotel_market                  0\n",
       "duration                      0\n",
       "0                             0\n",
       "1                             0\n",
       "2                             0\n",
       "3                             0\n",
       "4                             0\n",
       "dtype: int64"
      ]
     },
     "execution_count": 216,
     "metadata": {},
     "output_type": "execute_result"
    }
   ],
   "source": [
    "expedia_test.isnull().sum()"
   ]
  },
  {
   "cell_type": "code",
   "execution_count": 217,
   "metadata": {
    "collapsed": false
   },
   "outputs": [],
   "source": [
    "expedia_test.sort_values('id', inplace=True)"
   ]
  },
  {
   "cell_type": "code",
   "execution_count": 219,
   "metadata": {
    "collapsed": false
   },
   "outputs": [
    {
     "data": {
      "text/html": [
       "<div>\n",
       "<table border=\"1\" class=\"dataframe\">\n",
       "  <thead>\n",
       "    <tr style=\"text-align: right;\">\n",
       "      <th></th>\n",
       "      <th>id</th>\n",
       "      <th>date_time</th>\n",
       "      <th>site_name</th>\n",
       "    </tr>\n",
       "  </thead>\n",
       "  <tbody>\n",
       "    <tr>\n",
       "      <th>29</th>\n",
       "      <td>45</td>\n",
       "      <td>2015-03-03 20:34:57</td>\n",
       "      <td>2</td>\n",
       "    </tr>\n",
       "    <tr>\n",
       "      <th>30</th>\n",
       "      <td>46</td>\n",
       "      <td>2015-08-14 19:52:56</td>\n",
       "      <td>2</td>\n",
       "    </tr>\n",
       "    <tr>\n",
       "      <th>31</th>\n",
       "      <td>47</td>\n",
       "      <td>2015-11-03 19:52:22</td>\n",
       "      <td>2</td>\n",
       "    </tr>\n",
       "    <tr>\n",
       "      <th>32</th>\n",
       "      <td>48</td>\n",
       "      <td>2015-10-12 15:12:49</td>\n",
       "      <td>2</td>\n",
       "    </tr>\n",
       "    <tr>\n",
       "      <th>33</th>\n",
       "      <td>49</td>\n",
       "      <td>2015-05-28 22:00:01</td>\n",
       "      <td>2</td>\n",
       "    </tr>\n",
       "  </tbody>\n",
       "</table>\n",
       "</div>"
      ],
      "text/plain": [
       "    id           date_time  site_name\n",
       "29  45 2015-03-03 20:34:57          2\n",
       "30  46 2015-08-14 19:52:56          2\n",
       "31  47 2015-11-03 19:52:22          2\n",
       "32  48 2015-10-12 15:12:49          2\n",
       "33  49 2015-05-28 22:00:01          2"
      ]
     },
     "execution_count": 219,
     "metadata": {},
     "output_type": "execute_result"
    }
   ],
   "source": [
    "expedia_test.iloc[45:50, :3]"
   ]
  },
  {
   "cell_type": "code",
   "execution_count": 220,
   "metadata": {
    "collapsed": true
   },
   "outputs": [],
   "source": [
    "# AND NOW THE MODELS FOR PREDICTING CLUSTERS\n",
    "# make appropriate columns for X (predictors) and y (target)\n",
    "test_ids = expedia_test['id'].values\n",
    "drop_cols = ['id', 'date_time', 'user_id', 'srch_ci', 'srch_co', 'is_booking', 'hotel_cluster']\n",
    "keep_cols = [x for x in expedia_test.columns if x not in drop_cols]\n",
    "\n",
    "# Design matrix\n",
    "X_test = expedia_test[keep_cols]"
   ]
  },
  {
   "cell_type": "code",
   "execution_count": 223,
   "metadata": {
    "collapsed": false
   },
   "outputs": [],
   "source": [
    "X_test_norm = ss.fit_transform(X_test)\n",
    "knn_pred = neigh.kneighbors(X_test_norm, n_neighbors=5, return_distance=False)"
   ]
  },
  {
   "cell_type": "code",
   "execution_count": 224,
   "metadata": {
    "collapsed": false
   },
   "outputs": [
    {
     "name": "stderr",
     "output_type": "stream",
     "text": [
      "/Users/Smitty/anaconda/envs/dsi/lib/python2.7/site-packages/ipykernel/__main__.py:2: SettingWithCopyWarning: \n",
      "A value is trying to be set on a copy of a slice from a DataFrame.\n",
      "Try using .loc[row_indexer,col_indexer] = value instead\n",
      "\n",
      "See the caveats in the documentation: http://pandas.pydata.org/pandas-docs/stable/indexing.html#indexing-view-versus-copy\n",
      "  from ipykernel import kernelapp as app\n"
     ]
    }
   ],
   "source": [
    "for i in range(5):\n",
    "    X_test['sim_clus_%s' % i] = knn_pred[:, i]"
   ]
  },
  {
   "cell_type": "code",
   "execution_count": 225,
   "metadata": {
    "collapsed": false
   },
   "outputs": [
    {
     "data": {
      "text/plain": [
       "(2528243, 28)"
      ]
     },
     "execution_count": 225,
     "metadata": {},
     "output_type": "execute_result"
    }
   ],
   "source": [
    "X_test.shape"
   ]
  },
  {
   "cell_type": "code",
   "execution_count": 228,
   "metadata": {
    "collapsed": false
   },
   "outputs": [],
   "source": [
    "# Run model on testt data\n",
    "y_pred = rfr.predict(X_test)\n",
    "\n",
    "# predict probabilities to sort top five for each row\n",
    "prob_arr = rfr.predict_proba(X_test)"
   ]
  },
  {
   "cell_type": "code",
   "execution_count": 229,
   "metadata": {
    "collapsed": false
   },
   "outputs": [
    {
     "name": "stdout",
     "output_type": "stream",
     "text": [
      "y_hat len: (2528243,)\n",
      "Prob. Matrx: (2528243, 100)\n"
     ]
    }
   ],
   "source": [
    "print 'y_hat len:', y_pred.shape\n",
    "print 'Prob. Matrx:', prob_arr.shape"
   ]
  },
  {
   "cell_type": "code",
   "execution_count": 231,
   "metadata": {
    "collapsed": false
   },
   "outputs": [],
   "source": [
    "# make list of top five for each row\n",
    "preds_5 = []\n",
    "for i in range(len(y_pred)):\n",
    "        preds_5.append([x[0] for x in sorted(zip(rfr.classes_, \n",
    "                                                 prob_arr[i]), key=lambda x: x[1], reverse=True)[:5]])"
   ]
  },
  {
   "cell_type": "code",
   "execution_count": 232,
   "metadata": {
    "collapsed": false
   },
   "outputs": [
    {
     "data": {
      "text/plain": [
       "[[55, 72, 91, 2, 20],\n",
       " [11, 22, 64, 16, 58],\n",
       " [0, 28, 23, 40, 50],\n",
       " [45, 24, 79, 1, 19],\n",
       " [6, 77, 7, 19, 47],\n",
       " [32, 28, 39, 48, 0],\n",
       " [33, 41, 95, 13, 25],\n",
       " [21, 3, 28, 39, 49],\n",
       " [45, 48, 79, 19, 54],\n",
       " [55, 34, 4, 7, 17]]"
      ]
     },
     "execution_count": 232,
     "metadata": {},
     "output_type": "execute_result"
    }
   ],
   "source": [
    "preds_5[:10]"
   ]
  },
  {
   "cell_type": "code",
   "execution_count": 233,
   "metadata": {
    "collapsed": false
   },
   "outputs": [
    {
     "data": {
      "text/plain": [
       "array([      0,       1,       2, ..., 2528240, 2528241, 2528242])"
      ]
     },
     "execution_count": 233,
     "metadata": {},
     "output_type": "execute_result"
    }
   ],
   "source": [
    "test_ids"
   ]
  },
  {
   "cell_type": "markdown",
   "metadata": {},
   "source": [
    "**Submission Formatting**"
   ]
  },
  {
   "cell_type": "code",
   "execution_count": 234,
   "metadata": {
    "collapsed": true
   },
   "outputs": [],
   "source": [
    "fin_df = pd.DataFrame(preds_5)\n",
    "fin_df['id'] = test_ids"
   ]
  },
  {
   "cell_type": "code",
   "execution_count": 235,
   "metadata": {
    "collapsed": false
   },
   "outputs": [
    {
     "data": {
      "text/html": [
       "<div>\n",
       "<table border=\"1\" class=\"dataframe\">\n",
       "  <thead>\n",
       "    <tr style=\"text-align: right;\">\n",
       "      <th></th>\n",
       "      <th>id</th>\n",
       "      <th>0</th>\n",
       "      <th>1</th>\n",
       "      <th>2</th>\n",
       "      <th>3</th>\n",
       "      <th>4</th>\n",
       "    </tr>\n",
       "  </thead>\n",
       "  <tbody>\n",
       "    <tr>\n",
       "      <th>0</th>\n",
       "      <td>0</td>\n",
       "      <td>55</td>\n",
       "      <td>72</td>\n",
       "      <td>91</td>\n",
       "      <td>2</td>\n",
       "      <td>20</td>\n",
       "    </tr>\n",
       "    <tr>\n",
       "      <th>1</th>\n",
       "      <td>1</td>\n",
       "      <td>11</td>\n",
       "      <td>22</td>\n",
       "      <td>64</td>\n",
       "      <td>16</td>\n",
       "      <td>58</td>\n",
       "    </tr>\n",
       "    <tr>\n",
       "      <th>2</th>\n",
       "      <td>2</td>\n",
       "      <td>0</td>\n",
       "      <td>28</td>\n",
       "      <td>23</td>\n",
       "      <td>40</td>\n",
       "      <td>50</td>\n",
       "    </tr>\n",
       "    <tr>\n",
       "      <th>3</th>\n",
       "      <td>3</td>\n",
       "      <td>45</td>\n",
       "      <td>24</td>\n",
       "      <td>79</td>\n",
       "      <td>1</td>\n",
       "      <td>19</td>\n",
       "    </tr>\n",
       "    <tr>\n",
       "      <th>4</th>\n",
       "      <td>4</td>\n",
       "      <td>6</td>\n",
       "      <td>77</td>\n",
       "      <td>7</td>\n",
       "      <td>19</td>\n",
       "      <td>47</td>\n",
       "    </tr>\n",
       "  </tbody>\n",
       "</table>\n",
       "</div>"
      ],
      "text/plain": [
       "   id   0   1   2   3   4\n",
       "0   0  55  72  91   2  20\n",
       "1   1  11  22  64  16  58\n",
       "2   2   0  28  23  40  50\n",
       "3   3  45  24  79   1  19\n",
       "4   4   6  77   7  19  47"
      ]
     },
     "execution_count": 235,
     "metadata": {},
     "output_type": "execute_result"
    }
   ],
   "source": [
    "fin_df = fin_df[['id', 0, 1, 2, 3, 4]]\n",
    "fin_df.head()"
   ]
  },
  {
   "cell_type": "code",
   "execution_count": 236,
   "metadata": {
    "collapsed": false
   },
   "outputs": [],
   "source": [
    "sub_1 = pd.DataFrame(fin_df.iloc[:, 1:].applymap(str).apply(lambda x: ' '.join(x), axis=1), \n",
    "                     columns=['hotel_cluster'])"
   ]
  },
  {
   "cell_type": "code",
   "execution_count": 237,
   "metadata": {
    "collapsed": false
   },
   "outputs": [],
   "source": [
    "sub_1['id'] = test_ids\n",
    "sub_1 = sub_1[['id', 'hotel_cluster']]"
   ]
  },
  {
   "cell_type": "code",
   "execution_count": 238,
   "metadata": {
    "collapsed": false
   },
   "outputs": [
    {
     "data": {
      "text/html": [
       "<div>\n",
       "<table border=\"1\" class=\"dataframe\">\n",
       "  <thead>\n",
       "    <tr style=\"text-align: right;\">\n",
       "      <th></th>\n",
       "      <th>id</th>\n",
       "      <th>hotel_cluster</th>\n",
       "    </tr>\n",
       "  </thead>\n",
       "  <tbody>\n",
       "    <tr>\n",
       "      <th>0</th>\n",
       "      <td>0</td>\n",
       "      <td>55 72 91 2 20</td>\n",
       "    </tr>\n",
       "    <tr>\n",
       "      <th>1</th>\n",
       "      <td>1</td>\n",
       "      <td>11 22 64 16 58</td>\n",
       "    </tr>\n",
       "    <tr>\n",
       "      <th>2</th>\n",
       "      <td>2</td>\n",
       "      <td>0 28 23 40 50</td>\n",
       "    </tr>\n",
       "    <tr>\n",
       "      <th>3</th>\n",
       "      <td>3</td>\n",
       "      <td>45 24 79 1 19</td>\n",
       "    </tr>\n",
       "    <tr>\n",
       "      <th>4</th>\n",
       "      <td>4</td>\n",
       "      <td>6 77 7 19 47</td>\n",
       "    </tr>\n",
       "  </tbody>\n",
       "</table>\n",
       "</div>"
      ],
      "text/plain": [
       "   id   hotel_cluster\n",
       "0   0   55 72 91 2 20\n",
       "1   1  11 22 64 16 58\n",
       "2   2   0 28 23 40 50\n",
       "3   3   45 24 79 1 19\n",
       "4   4    6 77 7 19 47"
      ]
     },
     "execution_count": 238,
     "metadata": {},
     "output_type": "execute_result"
    }
   ],
   "source": [
    "sub_1.head()"
   ]
  },
  {
   "cell_type": "code",
   "execution_count": 239,
   "metadata": {
    "collapsed": false
   },
   "outputs": [],
   "source": [
    "sub_1.to_csv('final_sub_2', sep=',', index=False)"
   ]
  }
 ],
 "metadata": {
  "anaconda-cloud": {},
  "kernelspec": {
   "display_name": "Python [conda env:dsi]",
   "language": "python",
   "name": "conda-env-dsi-py"
  },
  "language_info": {
   "codemirror_mode": {
    "name": "ipython",
    "version": 2
   },
   "file_extension": ".py",
   "mimetype": "text/x-python",
   "name": "python",
   "nbconvert_exporter": "python",
   "pygments_lexer": "ipython2",
   "version": "2.7.12"
  }
 },
 "nbformat": 4,
 "nbformat_minor": 1
}
