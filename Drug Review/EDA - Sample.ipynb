{
 "cells": [
  {
   "cell_type": "markdown",
   "metadata": {},
   "source": [
    "# Pharma Drug Reviews\n",
    "\n",
    "Below is a walk through of how we go about \n",
    "* Reading in the review data\n",
    "* Transforming the reviews from a 1-10 scale, to an NPS scale\n",
    "* Cleaning the drugName & conditions\n",
    "* Cleaning and tokenizing the reviews\n",
    "\n",
    "_Going from a 1-10 scale to an NPS scale is benefitial because NPS is an industry metric that's simpler for communication purposes (i.e detractor, neutral, promoter), and I don't believe there to be much differene between a 5-rating and a 6-rating...both of these signal the same thing. For modeling, it'll be simpler to use our training data to learn patterns to predict 3-classes instead of 10._"
   ]
  },
  {
   "cell_type": "markdown",
   "metadata": {},
   "source": [
    "###  Import Modules /  Packages"
   ]
  },
  {
   "cell_type": "code",
   "execution_count": 1,
   "metadata": {},
   "outputs": [],
   "source": [
    "import os\n",
    "import numpy as np\n",
    "import pandas as pd\n",
    "pd.options.display.max_columns = 10\n",
    "\n",
    "# constants\n",
    "import settings\n",
    "# import UDFs\n",
    "from utils import *\n",
    "\n",
    "import matplotlib.pyplot as plt\n",
    "\n",
    "# style.use('fivethirtyeight')\n",
    "%matplotlib inline\n",
    "%config InlineBackend.figure_format = 'retina'"
   ]
  },
  {
   "cell_type": "markdown",
   "metadata": {},
   "source": [
    "### Read in Data"
   ]
  },
  {
   "cell_type": "code",
   "execution_count": 2,
   "metadata": {},
   "outputs": [
    {
     "data": {
      "text/html": [
       "<div>\n",
       "<style scoped>\n",
       "    .dataframe tbody tr th:only-of-type {\n",
       "        vertical-align: middle;\n",
       "    }\n",
       "\n",
       "    .dataframe tbody tr th {\n",
       "        vertical-align: top;\n",
       "    }\n",
       "\n",
       "    .dataframe thead th {\n",
       "        text-align: right;\n",
       "    }\n",
       "</style>\n",
       "<table border=\"1\" class=\"dataframe\">\n",
       "  <thead>\n",
       "    <tr style=\"text-align: right;\">\n",
       "      <th></th>\n",
       "      <th>drugName</th>\n",
       "      <th>condition</th>\n",
       "      <th>review</th>\n",
       "      <th>rating</th>\n",
       "    </tr>\n",
       "  </thead>\n",
       "  <tbody>\n",
       "    <tr>\n",
       "      <th>0</th>\n",
       "      <td>Valsartan</td>\n",
       "      <td>Left Ventricular Dysfunction</td>\n",
       "      <td>\"It has no side effect, I take it in combinati...</td>\n",
       "      <td>9.0</td>\n",
       "    </tr>\n",
       "    <tr>\n",
       "      <th>1</th>\n",
       "      <td>Guanfacine</td>\n",
       "      <td>ADHD</td>\n",
       "      <td>\"My son is halfway through his fourth week of ...</td>\n",
       "      <td>8.0</td>\n",
       "    </tr>\n",
       "    <tr>\n",
       "      <th>2</th>\n",
       "      <td>Lybrel</td>\n",
       "      <td>Birth Control</td>\n",
       "      <td>\"I used to take another oral contraceptive, wh...</td>\n",
       "      <td>5.0</td>\n",
       "    </tr>\n",
       "    <tr>\n",
       "      <th>3</th>\n",
       "      <td>Ortho Evra</td>\n",
       "      <td>Birth Control</td>\n",
       "      <td>\"This is my first time using any form of birth...</td>\n",
       "      <td>8.0</td>\n",
       "    </tr>\n",
       "    <tr>\n",
       "      <th>4</th>\n",
       "      <td>Buprenorphine / naloxone</td>\n",
       "      <td>Opiate Dependence</td>\n",
       "      <td>\"Suboxone has completely turned my life around...</td>\n",
       "      <td>9.0</td>\n",
       "    </tr>\n",
       "  </tbody>\n",
       "</table>\n",
       "</div>"
      ],
      "text/plain": [
       "                   drugName                     condition  \\\n",
       "0                 Valsartan  Left Ventricular Dysfunction   \n",
       "1                Guanfacine                          ADHD   \n",
       "2                    Lybrel                 Birth Control   \n",
       "3                Ortho Evra                 Birth Control   \n",
       "4  Buprenorphine / naloxone             Opiate Dependence   \n",
       "\n",
       "                                              review  rating  \n",
       "0  \"It has no side effect, I take it in combinati...     9.0  \n",
       "1  \"My son is halfway through his fourth week of ...     8.0  \n",
       "2  \"I used to take another oral contraceptive, wh...     5.0  \n",
       "3  \"This is my first time using any form of birth...     8.0  \n",
       "4  \"Suboxone has completely turned my life around...     9.0  "
      ]
     },
     "execution_count": 2,
     "metadata": {},
     "output_type": "execute_result"
    }
   ],
   "source": [
    "# Read in Raw Data\n",
    "data = pd.read_csv(\n",
    "    os.path.join(settings.DATA_DIR_RAW, settings.TRAIN_RAW),\n",
    "    sep='\\t',\n",
    ")\n",
    "\n",
    "# columns of interest\n",
    "columns = [\n",
    "    \"drugName\",\n",
    "    \"condition\",\n",
    "    \"review\",\n",
    "    \"rating\",\n",
    "]\n",
    "\n",
    "data = data[columns]\n",
    "data.head()"
   ]
  },
  {
   "cell_type": "code",
   "execution_count": 3,
   "metadata": {},
   "outputs": [
    {
     "name": "stdout",
     "output_type": "stream",
     "text": [
      "<class 'pandas.core.frame.DataFrame'>\n",
      "RangeIndex: 161297 entries, 0 to 161296\n",
      "Data columns (total 4 columns):\n",
      " #   Column     Non-Null Count   Dtype  \n",
      "---  ------     --------------   -----  \n",
      " 0   drugName   161297 non-null  object \n",
      " 1   condition  160398 non-null  object \n",
      " 2   review     161297 non-null  object \n",
      " 3   rating     161297 non-null  float64\n",
      "dtypes: float64(1), object(3)\n",
      "memory usage: 4.9+ MB\n"
     ]
    }
   ],
   "source": [
    "data.info()"
   ]
  },
  {
   "cell_type": "markdown",
   "metadata": {},
   "source": [
    "### Ratings Distribution"
   ]
  },
  {
   "cell_type": "code",
   "execution_count": 4,
   "metadata": {},
   "outputs": [
    {
     "name": "stdout",
     "output_type": "stream",
     "text": [
      "Ratings\n"
     ]
    },
    {
     "data": {
      "text/html": [
       "<div>\n",
       "<style scoped>\n",
       "    .dataframe tbody tr th:only-of-type {\n",
       "        vertical-align: middle;\n",
       "    }\n",
       "\n",
       "    .dataframe tbody tr th {\n",
       "        vertical-align: top;\n",
       "    }\n",
       "\n",
       "    .dataframe thead th {\n",
       "        text-align: right;\n",
       "    }\n",
       "</style>\n",
       "<table border=\"1\" class=\"dataframe\">\n",
       "  <thead>\n",
       "    <tr style=\"text-align: right;\">\n",
       "      <th></th>\n",
       "      <th>count</th>\n",
       "      <th>pct</th>\n",
       "    </tr>\n",
       "  </thead>\n",
       "  <tbody>\n",
       "    <tr>\n",
       "      <th>1.0</th>\n",
       "      <td>21619</td>\n",
       "      <td>0.134032</td>\n",
       "    </tr>\n",
       "    <tr>\n",
       "      <th>2.0</th>\n",
       "      <td>6931</td>\n",
       "      <td>0.042970</td>\n",
       "    </tr>\n",
       "    <tr>\n",
       "      <th>3.0</th>\n",
       "      <td>6513</td>\n",
       "      <td>0.040379</td>\n",
       "    </tr>\n",
       "    <tr>\n",
       "      <th>4.0</th>\n",
       "      <td>5012</td>\n",
       "      <td>0.031073</td>\n",
       "    </tr>\n",
       "    <tr>\n",
       "      <th>5.0</th>\n",
       "      <td>8013</td>\n",
       "      <td>0.049679</td>\n",
       "    </tr>\n",
       "    <tr>\n",
       "      <th>6.0</th>\n",
       "      <td>6343</td>\n",
       "      <td>0.039325</td>\n",
       "    </tr>\n",
       "    <tr>\n",
       "      <th>7.0</th>\n",
       "      <td>9456</td>\n",
       "      <td>0.058625</td>\n",
       "    </tr>\n",
       "    <tr>\n",
       "      <th>8.0</th>\n",
       "      <td>18890</td>\n",
       "      <td>0.117113</td>\n",
       "    </tr>\n",
       "    <tr>\n",
       "      <th>9.0</th>\n",
       "      <td>27531</td>\n",
       "      <td>0.170685</td>\n",
       "    </tr>\n",
       "    <tr>\n",
       "      <th>10.0</th>\n",
       "      <td>50989</td>\n",
       "      <td>0.316119</td>\n",
       "    </tr>\n",
       "  </tbody>\n",
       "</table>\n",
       "</div>"
      ],
      "text/plain": [
       "      count       pct\n",
       "1.0   21619  0.134032\n",
       "2.0    6931  0.042970\n",
       "3.0    6513  0.040379\n",
       "4.0    5012  0.031073\n",
       "5.0    8013  0.049679\n",
       "6.0    6343  0.039325\n",
       "7.0    9456  0.058625\n",
       "8.0   18890  0.117113\n",
       "9.0   27531  0.170685\n",
       "10.0  50989  0.316119"
      ]
     },
     "execution_count": 4,
     "metadata": {},
     "output_type": "execute_result"
    }
   ],
   "source": [
    "print('Ratings')\n",
    "\n",
    "ratings_summary = pd.concat(\n",
    "    [\n",
    "        data['rating'].value_counts(normalize=False).rename('count'), \n",
    "        data['rating'].value_counts(normalize=True).rename('pct'),\n",
    "    ], \n",
    "    axis=1\n",
    ").sort_index()\n",
    "\n",
    "ratings_summary"
   ]
  },
  {
   "cell_type": "markdown",
   "metadata": {},
   "source": [
    "Makes more sense to predict something like `NPS Rating` (standard industry metric)\n",
    "\n",
    "```\n",
    " -----------------------\n",
    "| NPS Score |   Rating  |\n",
    "|-----------|-----------|\n",
    "|    -1     |   1 - 6   |\n",
    "|-----------|-----------|\n",
    "|     0     |   7 - 8   |\n",
    "|-----------|-----------|\n",
    "|    +1     |   9 - 10  |\n",
    " -----------------------\n",
    "```\n"
   ]
  },
  {
   "cell_type": "code",
   "execution_count": 5,
   "metadata": {},
   "outputs": [
    {
     "name": "stdout",
     "output_type": "stream",
     "text": [
      "NPS Ratings\n"
     ]
    },
    {
     "data": {
      "text/html": [
       "<div>\n",
       "<style scoped>\n",
       "    .dataframe tbody tr th:only-of-type {\n",
       "        vertical-align: middle;\n",
       "    }\n",
       "\n",
       "    .dataframe tbody tr th {\n",
       "        vertical-align: top;\n",
       "    }\n",
       "\n",
       "    .dataframe thead th {\n",
       "        text-align: right;\n",
       "    }\n",
       "</style>\n",
       "<table border=\"1\" class=\"dataframe\">\n",
       "  <thead>\n",
       "    <tr style=\"text-align: right;\">\n",
       "      <th></th>\n",
       "      <th>count</th>\n",
       "      <th>pct</th>\n",
       "    </tr>\n",
       "  </thead>\n",
       "  <tbody>\n",
       "    <tr>\n",
       "      <th>-1</th>\n",
       "      <td>54431</td>\n",
       "      <td>0.337458</td>\n",
       "    </tr>\n",
       "    <tr>\n",
       "      <th>0</th>\n",
       "      <td>28346</td>\n",
       "      <td>0.175738</td>\n",
       "    </tr>\n",
       "    <tr>\n",
       "      <th>1</th>\n",
       "      <td>78520</td>\n",
       "      <td>0.486804</td>\n",
       "    </tr>\n",
       "  </tbody>\n",
       "</table>\n",
       "</div>"
      ],
      "text/plain": [
       "    count       pct\n",
       "-1  54431  0.337458\n",
       " 0  28346  0.175738\n",
       " 1  78520  0.486804"
      ]
     },
     "execution_count": 5,
     "metadata": {},
     "output_type": "execute_result"
    }
   ],
   "source": [
    "data['nps_rating'] = data['rating'].apply(nps_transformation)\n",
    "\n",
    "print('NPS Ratings')\n",
    "\n",
    "nps_summary = pd.concat(\n",
    "    [\n",
    "        data['nps_rating'].value_counts(normalize=False).rename('count'), \n",
    "        data['nps_rating'].value_counts(normalize=True).rename('pct'),\n",
    "    ], \n",
    "    axis=1\n",
    ").sort_index()\n",
    "\n",
    "nps_summary"
   ]
  },
  {
   "cell_type": "markdown",
   "metadata": {},
   "source": [
    "### Plot Ratings"
   ]
  },
  {
   "cell_type": "code",
   "execution_count": 6,
   "metadata": {},
   "outputs": [
    {
     "data": {
      "image/png": "[encoded data removed]",
      "text/plain": [
       "<Figure size 864x288 with 2 Axes>"
      ]
     },
     "metadata": {
      "image/png": {
       "height": 279,
       "width": 854
      },
      "needs_background": "light"
     },
     "output_type": "display_data"
    }
   ],
   "source": [
    "fig, ax  = plt.subplots(1,2, figsize=(12,4))\n",
    "\n",
    "ax[0].bar(\n",
    "    x=ratings_summary.index, \n",
    "    height=ratings_summary['count'].values / 10_000,\n",
    "    color='darkblue',\n",
    ")\n",
    "\n",
    "ax[0].set_xticks(ratings_summary.index)\n",
    "ax[0].set_xlabel('Rating')\n",
    "ax[0].set_ylabel(r'$10^{4}\\;\\:Reviews$')\n",
    "ax[0].set_title('Ratings Distribution')\n",
    "ax[0].grid()\n",
    "\n",
    "ax[1].bar(\n",
    "    x=nps_summary.index, \n",
    "    height=nps_summary['count'].values / 10_000,\n",
    "    color='darkblue',\n",
    ")\n",
    "\n",
    "ax[1].set_xticks(nps_summary.index)\n",
    "ax[1].set_xlabel('NPS Rating')\n",
    "ax[1].set_ylabel(r'$10^{4}\\;\\:Reviews$')\n",
    "ax[1].set_title('NPS Ratings Distribution')\n",
    "ax[1].grid()\n",
    "\n",
    "plt.tight_layout()\n",
    "plt.show()"
   ]
  },
  {
   "cell_type": "markdown",
   "metadata": {},
   "source": [
    "### Clean Conditions & Drug Names\n",
    "\n",
    "_Conditions: Some of which are NaN, others are clearly resulting from data collection errors_\n",
    "\n",
    "_Drugs: Just need to remove non-characters_"
   ]
  },
  {
   "cell_type": "code",
   "execution_count": 7,
   "metadata": {},
   "outputs": [
    {
     "name": "stdout",
     "output_type": "stream",
     "text": [
      "Error Conditions\n"
     ]
    },
    {
     "data": {
      "text/plain": [
       "60725     23</span> users found this comment helpful.\n",
       "4509                                              NaN\n",
       "154000                                            Gas\n",
       "34030      0</span> users found this comment helpful.\n",
       "91979                                             NaN\n",
       "Name: condition, dtype: object"
      ]
     },
     "execution_count": 7,
     "metadata": {},
     "output_type": "execute_result"
    }
   ],
   "source": [
    "condition_error = 'found this comment helpful'\n",
    "mask = data['condition'].apply(lambda c: (pd.isnull(c) or (condition_error in c) or (len(c) < 4)))\n",
    "\n",
    "print('Error Conditions')\n",
    "data.loc[mask, 'condition'].sample(5, random_state=settings.RAND_STATE)"
   ]
  },
  {
   "cell_type": "code",
   "execution_count": 8,
   "metadata": {},
   "outputs": [],
   "source": [
    "default_condition = 'Condition Unknown'\n",
    "\n",
    "# Use default_condition as a replacement when applicable\n",
    "f = lambda cond: \\\n",
    "    default_condition if \\\n",
    "    (pd.isnull(cond) or (condition_error in cond) or (len(cond) < 4)) \\\n",
    "    else cond\n",
    "\n",
    "# Apply the above lambda func & remove non characters\n",
    "data['condition'] = data['condition'].apply(f).apply(remove_non_characters)\n",
    "\n",
    "# Remove non-characters from drugName\n",
    "data['drugName'] = data['drugName'].apply(remove_non_characters)"
   ]
  },
  {
   "cell_type": "markdown",
   "metadata": {},
   "source": [
    "### Sample Data"
   ]
  },
  {
   "cell_type": "code",
   "execution_count": 9,
   "metadata": {},
   "outputs": [
    {
     "data": {
      "text/html": [
       "<div>\n",
       "<style scoped>\n",
       "    .dataframe tbody tr th:only-of-type {\n",
       "        vertical-align: middle;\n",
       "    }\n",
       "\n",
       "    .dataframe tbody tr th {\n",
       "        vertical-align: top;\n",
       "    }\n",
       "\n",
       "    .dataframe thead th {\n",
       "        text-align: right;\n",
       "    }\n",
       "</style>\n",
       "<table border=\"1\" class=\"dataframe\">\n",
       "  <thead>\n",
       "    <tr style=\"text-align: right;\">\n",
       "      <th></th>\n",
       "      <th>drugName</th>\n",
       "      <th>condition</th>\n",
       "      <th>review</th>\n",
       "      <th>rating</th>\n",
       "      <th>nps_rating</th>\n",
       "    </tr>\n",
       "  </thead>\n",
       "  <tbody>\n",
       "    <tr>\n",
       "      <th>0</th>\n",
       "      <td>Prempro</td>\n",
       "      <td>Postmenopausal Symptoms</td>\n",
       "      <td>\"I had a heavy painful period and was clotty. ...</td>\n",
       "      <td>2.0</td>\n",
       "      <td>-1</td>\n",
       "    </tr>\n",
       "    <tr>\n",
       "      <th>1</th>\n",
       "      <td>Desogestrel ethinyl estradiol</td>\n",
       "      <td>Birth Control</td>\n",
       "      <td>\"Apri made me sick to my stomach everyday and ...</td>\n",
       "      <td>1.0</td>\n",
       "      <td>-1</td>\n",
       "    </tr>\n",
       "    <tr>\n",
       "      <th>2</th>\n",
       "      <td>Ethinyl estradiol levonorgestrel</td>\n",
       "      <td>Condition Unknown</td>\n",
       "      <td>\"I&amp;#039;ve been taking Alesse during my course...</td>\n",
       "      <td>10.0</td>\n",
       "      <td>1</td>\n",
       "    </tr>\n",
       "    <tr>\n",
       "      <th>3</th>\n",
       "      <td>Varenicline</td>\n",
       "      <td>Smoking Cessation</td>\n",
       "      <td>\"I was up to 1 1/2 - 2 large packs of cigarett...</td>\n",
       "      <td>10.0</td>\n",
       "      <td>1</td>\n",
       "    </tr>\n",
       "    <tr>\n",
       "      <th>4</th>\n",
       "      <td>Yaz</td>\n",
       "      <td>Acne</td>\n",
       "      <td>\"I&amp;#039;m 19 years old, and I&amp;#039;ve been tak...</td>\n",
       "      <td>4.0</td>\n",
       "      <td>-1</td>\n",
       "    </tr>\n",
       "  </tbody>\n",
       "</table>\n",
       "</div>"
      ],
      "text/plain": [
       "                           drugName                condition  \\\n",
       "0                           Prempro  Postmenopausal Symptoms   \n",
       "1     Desogestrel ethinyl estradiol            Birth Control   \n",
       "2  Ethinyl estradiol levonorgestrel        Condition Unknown   \n",
       "3                       Varenicline        Smoking Cessation   \n",
       "4                               Yaz                     Acne   \n",
       "\n",
       "                                              review  rating  nps_rating  \n",
       "0  \"I had a heavy painful period and was clotty. ...     2.0          -1  \n",
       "1  \"Apri made me sick to my stomach everyday and ...     1.0          -1  \n",
       "2  \"I&#039;ve been taking Alesse during my course...    10.0           1  \n",
       "3  \"I was up to 1 1/2 - 2 large packs of cigarett...    10.0           1  \n",
       "4  \"I&#039;m 19 years old, and I&#039;ve been tak...     4.0          -1  "
      ]
     },
     "execution_count": 9,
     "metadata": {},
     "output_type": "execute_result"
    }
   ],
   "source": [
    "sample_data = data.sample(100).reset_index(drop=True)\n",
    "sample_data.head()"
   ]
  },
  {
   "cell_type": "markdown",
   "metadata": {},
   "source": [
    "### Pre-Process Drug Reviews"
   ]
  },
  {
   "cell_type": "code",
   "execution_count": 10,
   "metadata": {},
   "outputs": [],
   "source": [
    "# SUMMARIZE RAW REVIEW (LENGTH, STOP WORDS, UPPERCASE WORDS)\n",
    "sample_data['review_length'] = sample_data['review'].apply(get_document_length)\n",
    "sample_data['stop_words'] = sample_data['review'].apply(get_num_stop_words)\n",
    "sample_data['uppercase_words'] = sample_data['review'].apply(count_uppercase_words)\n",
    "\n",
    "# CREATE CLEAN_REVIEW COLUMN\n",
    "sample_data['clean_review'] = sample_data['review']\n",
    "\n",
    "# CLEAN REVIEW (REMOVE STOP WORDS, EMAILS, DATES, ETC...)\n",
    "sample_data['clean_review'] = sample_data['clean_review'].apply(clean_document)"
   ]
  },
  {
   "cell_type": "markdown",
   "metadata": {},
   "source": [
    "### Print Sample(s)"
   ]
  },
  {
   "cell_type": "code",
   "execution_count": 11,
   "metadata": {},
   "outputs": [],
   "source": [
    "masked_index = sample_data.sample(2, random_state=settings.RAND_STATE).index\n",
    "\n",
    "def summarize_review(review, drug, condition, rating, clean_review):\n",
    "    idx = masked_index[0]\n",
    "    print('Drug: {}'.format(drug))\n",
    "    print('Condition: {}'.format(condition))\n",
    "    print('\\nReview (Rating: {})'.format(int(rating)))\n",
    "    print(len('Review')*'-')\n",
    "    print(review)\n",
    "    print('\\nClean Review')\n",
    "    print(len('Clean Review')*'-')\n",
    "    print(clean_review)\n",
    "    print('\\nClean Review Tokens')\n",
    "    print(len('Clean Review Tokens')*'-')\n",
    "    print(np.array(clean_review.split()))"
   ]
  },
  {
   "cell_type": "code",
   "execution_count": 12,
   "metadata": {},
   "outputs": [
    {
     "name": "stdout",
     "output_type": "stream",
     "text": [
      "Drug: Gabapentin\n",
      "Condition: Restless Legs Syndrome\n",
      "\n",
      "Review (Rating: 9)\n",
      "------\n",
      "\"This medicine has been life changing! I was always told my rls is in my head and not real. It&#039;s just me being worried or nervous. Thankfully, I asked my dr. She told me, it&#039;s very real and asked my symptoms. They matched perfectly with all rls symptoms. I take Gabapentin before bed. It takes about 30 minutes to kick in, but when it does, I&#039;m able to relax and sleep. When I get out of bed in the morning, my legs don&#039;t ache because I&#039;m no longer moving them all night. Please seek medical help if you are struggling with rls. This medicine might not be for you, but whatever medicine works is worth it!!\"\n",
      "\n",
      "Clean Review\n",
      "------------\n",
      "this medicine been life changing always told head real just being worried nervous thankfully asked told very real asked symptoms they matched perfectly with symptoms take gabapentin before takes about minutes kick when does able relax sleep when morning legs ache because longer moving them night please seek medical help struggling with this medicine might whatever medicine works worth\n",
      "\n",
      "Clean Review Tokens\n",
      "-------------------\n",
      "['this' 'medicine' 'been' 'life' 'changing' 'always' 'told' 'head' 'real'\n",
      " 'just' 'being' 'worried' 'nervous' 'thankfully' 'asked' 'told' 'very'\n",
      " 'real' 'asked' 'symptoms' 'they' 'matched' 'perfectly' 'with' 'symptoms'\n",
      " 'take' 'gabapentin' 'before' 'takes' 'about' 'minutes' 'kick' 'when'\n",
      " 'does' 'able' 'relax' 'sleep' 'when' 'morning' 'legs' 'ache' 'because'\n",
      " 'longer' 'moving' 'them' 'night' 'please' 'seek' 'medical' 'help'\n",
      " 'struggling' 'with' 'this' 'medicine' 'might' 'whatever' 'medicine'\n",
      " 'works' 'worth']\n"
     ]
    }
   ],
   "source": [
    "idx = masked_index[0]\n",
    "\n",
    "summarize_review(\n",
    "    review = sample_data.loc[idx, 'review'], \n",
    "    drug = sample_data.loc[idx, 'drugName'], \n",
    "    condition = sample_data.loc[idx, 'condition'], \n",
    "    rating = sample_data.loc[idx, 'rating'],\n",
    "    clean_review = sample_data.loc[idx, 'clean_review'],\n",
    ")"
   ]
  },
  {
   "cell_type": "code",
   "execution_count": 13,
   "metadata": {},
   "outputs": [
    {
     "name": "stdout",
     "output_type": "stream",
     "text": [
      "Drug: Ethinyl estradiol norgestrel\n",
      "Condition: Birth Control\n",
      "\n",
      "Review (Rating: 7)\n",
      "------\n",
      "\"I have tried a few types of birth control pills before this, but Lo/Ovral has been very effective as far as period control is concerned.  I usually skip the week of placebos and jump straight into the next pack to avoid having periods altogether, and this is the only birth control pill that doesn&#039;t cause breakthrough bleeding as a result. It has been an effective contraceptive.\"\n",
      "\n",
      "Clean Review\n",
      "------------\n",
      "have tried types birth control pills before this ovral been very effective period control concerned usually skip week placebos jump straight into next pack avoid having periods altogether this only birth control pill that doesn cause breakthrough bleeding result been effective contraceptive\n",
      "\n",
      "Clean Review Tokens\n",
      "-------------------\n",
      "['have' 'tried' 'types' 'birth' 'control' 'pills' 'before' 'this' 'ovral'\n",
      " 'been' 'very' 'effective' 'period' 'control' 'concerned' 'usually' 'skip'\n",
      " 'week' 'placebos' 'jump' 'straight' 'into' 'next' 'pack' 'avoid' 'having'\n",
      " 'periods' 'altogether' 'this' 'only' 'birth' 'control' 'pill' 'that'\n",
      " 'doesn' 'cause' 'breakthrough' 'bleeding' 'result' 'been' 'effective'\n",
      " 'contraceptive']\n"
     ]
    }
   ],
   "source": [
    "idx = masked_index[1]\n",
    "\n",
    "summarize_review(\n",
    "    review = sample_data.loc[idx, 'review'], \n",
    "    drug = sample_data.loc[idx, 'drugName'], \n",
    "    condition = sample_data.loc[idx, 'condition'],\n",
    "    rating = sample_data.loc[idx, 'rating'],\n",
    "    clean_review = sample_data.loc[idx, 'clean_review'],\n",
    ")"
   ]
  }
 ],
 "metadata": {
  "kernelspec": {
   "display_name": "Python 3",
   "language": "python",
   "name": "python3"
  },
  "language_info": {
   "codemirror_mode": {
    "name": "ipython",
    "version": 3
   },
   "file_extension": ".py",
   "mimetype": "text/x-python",
   "name": "python",
   "nbconvert_exporter": "python",
   "pygments_lexer": "ipython3",
   "version": "3.7.4"
  }
 },
 "nbformat": 4,
 "nbformat_minor": 2
}
