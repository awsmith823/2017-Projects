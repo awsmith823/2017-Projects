{
 "cells": [
  {
   "cell_type": "markdown",
   "metadata": {},
   "source": [
    "<img src=\"http://imgur.com/1ZcRyrc.png\" style=\"float: left; margin: 15px; height: 80px\">\n",
    "\n",
    "# Project 1\n",
    "\n",
    "### Building \"Pokemon Stay\"\n",
    "\n",
    "---\n",
    "\n",
    "After reading the gushing praise for Pokemon Go you decide to download it and try it out for yourself. Yet a couple hours of play later you find yourself disappointed by the fact that you _actually_ have to move around outside.\n",
    "\n",
    "Though just a beginner programmer, you decide to make your own iteration on the genre: \"Pokemon Stay\". In this version players still need to move, but just from website to website. Pokemon gyms are now popular cyber-destinations, and catching pokemon in the \"wild\" simply requires browsing the internet for hours in the comfort of your home. \n",
    "\n",
    "---\n",
    "\n",
    "#### Package imports \n",
    "\n",
    "The `pprint` package below is the only package imported here, and it's not even strictly required to do any of the project. Printing python variables and objects with pprint can help to format them in a \"prettier\" way."
   ]
  },
  {
   "cell_type": "code",
   "execution_count": 1,
   "metadata": {
    "collapsed": true
   },
   "outputs": [],
   "source": [
    "from pprint import pprint\n",
    "import random"
   ]
  },
  {
   "cell_type": "markdown",
   "metadata": {},
   "source": [
    "<img src=\"http://imgur.com/l5NasQj.png\" style=\"float: left; margin: 25px 15px 0px 0px; height: 25px\">\n",
    "\n",
    "## 1. Defining a player\n",
    "\n",
    "---\n",
    "\n",
    "The player variables are:\n",
    "\n",
    "    player_id : id code unique to each player (integer)\n",
    "    player_name : entered name of the player (string)\n",
    "    time_played : number of time played the game in minutes (float)\n",
    "    player_pokemon: the player's captured pokemon (dictionary)\n",
    "    gyms_visited: ids of the gyms that a player has visited (list)\n",
    "    \n",
    "Create a player. The dictionary and list variables should just be defined as empty at this point."
   ]
  },
  {
   "cell_type": "code",
   "execution_count": 2,
   "metadata": {
    "collapsed": false
   },
   "outputs": [],
   "source": [
    "player = 'Will Smith'\n",
    "player_pokemon = {}\n",
    "gyms_visited = []"
   ]
  },
  {
   "cell_type": "markdown",
   "metadata": {},
   "source": [
    "<img src=\"http://imgur.com/l5NasQj.png\" style=\"float: left; margin: 25px 15px 0px 0px; height: 25px\">\n",
    "\n",
    "## 2. Defining \"gym\" locations\n",
    "\n",
    "---\n",
    "\n",
    "As the sole programmer, Pokemon Stay will have to start small. To begin, there will be 10 different gym location websites on the internet. The gym locations are:\n",
    "\n",
    "    1. 'reddit.com'\n",
    "    2. 'amazon.com'\n",
    "    3. 'twitter.com'\n",
    "    4. 'linkedin.com'\n",
    "    5. 'ebay.com'\n",
    "    6. 'netflix.com'\n",
    "    7. 'udacity.com'\n",
    "    8. 'stackoverflow.com'\n",
    "    9. 'github.com'\n",
    "    10. 'quora.com'\n",
    "\n",
    "1. Set up a list of all the gym locations. This will be a list of strings.\n",
    "2. Append two of these locations to your player's list of visited gyms.\n",
    "3. Print the list."
   ]
  },
  {
   "cell_type": "code",
   "execution_count": 3,
   "metadata": {
    "collapsed": false
   },
   "outputs": [
    {
     "name": "stdout",
     "output_type": "stream",
     "text": [
      "['amazon.com', 'netflix.com']\n"
     ]
    }
   ],
   "source": [
    "# Example output:\n",
    "# \n",
    "# ['amazon.com', 'ebay.com']\n",
    "pokemon_gyms = ['reddit.com', 'amazon.com', 'twitter.com', 'linkedin.com', 'ebay.com', 'netflix.com', 'udacity.com', 'stackoverflow.com', 'github.com', 'quora.com']\n",
    "gyms_visited.extend(random.sample(pokemon_gyms, 2))\n",
    "\n",
    "print(gyms_visited)"
   ]
  },
  {
   "cell_type": "markdown",
   "metadata": {},
   "source": [
    "<img src=\"http://imgur.com/l5NasQj.png\" style=\"float: left; margin: 25px 15px 0px 0px; height: 25px\">\n",
    "\n",
    "## 3. Create a pokedex\n",
    "\n",
    "---\n",
    "\n",
    "We also need to create some pokemon to catch. Each pokemon will be defined by these variables:\n",
    "\n",
    "    pokemon_id : unique identifier for each pokemon (integer)\n",
    "    name : the name of the pokemon (string)\n",
    "    type : the category of pokemon (string)\n",
    "    hp : base hitpoints (integer)\n",
    "    attack : base attack (integer)\n",
    "    defense : base defense (integer)\n",
    "    special_attack : base special attack (integer)\n",
    "    special_defense : base sepecial defense (integer)\n",
    "    speed : base speed (integer)\n",
    "\n",
    "We are only going to create 3 different pokemon with these `pokemon_id` and `pokemon_name` values:\n",
    "\n",
    "    1 : 'charmander'\n",
    "    2 : 'squirtle'\n",
    "    3 : 'bulbasaur'\n",
    "\n",
    "Create a dictionary that will contain the pokemon. The keys of the dictionary will be the `pokemon_id` and the values will themselves dictionaries that contain the other pokemon variables. The structure of the pokedex dictionary will start like so:\n",
    "     \n",
    "     {\n",
    "         1: {\n",
    "                 'name':'charmander',\n",
    "                 'type':'fire',\n",
    "                 ...\n",
    "                 \n",
    "The `type` of charmander, squirtle, and bulbasaur should be `'fire'`, `'water'`, and `'poison'` respectively. The other values are up to you, make them anything you like!\n",
    "\n",
    "Print the pokedex dictionary with the 3 pokemon."
   ]
  },
  {
   "cell_type": "code",
   "execution_count": 4,
   "metadata": {
    "collapsed": true
   },
   "outputs": [],
   "source": [
    "pokedex = {\n",
    "    1: {\n",
    "        'name':'charmander',\n",
    "        'type': 'fire',\n",
    "        'hp': 45,\n",
    "        'attack': 12,\n",
    "        'defense': 10,\n",
    "        'special_attack': 15,\n",
    "        'special_defense': 13,\n",
    "        'speed': 7\n",
    "    },\n",
    "    \n",
    "    2: {\n",
    "        'name':'squirtle',\n",
    "        'type': 'water',\n",
    "        'hp': 37,\n",
    "        'attack': 8,\n",
    "        'defense': 14,\n",
    "        'special_attack': 14,\n",
    "        'special_defense': 17,\n",
    "        'speed': 5\n",
    "    },\n",
    "    \n",
    "    3: {\n",
    "        'name':'bulbasaur',\n",
    "        'type': 'poison',\n",
    "        'hp': 35,\n",
    "        'attack': 9,\n",
    "        'defense': 11,\n",
    "        'special_attack': 12,\n",
    "        'special_defense': 13,\n",
    "        'speed': 11\n",
    "    }\n",
    "}"
   ]
  },
  {
   "cell_type": "code",
   "execution_count": 5,
   "metadata": {
    "collapsed": false
   },
   "outputs": [
    {
     "name": "stdout",
     "output_type": "stream",
     "text": [
      "{1: {'attack': 12,\n",
      "     'defense': 10,\n",
      "     'hp': 45,\n",
      "     'name': 'charmander',\n",
      "     'special_attack': 15,\n",
      "     'special_defense': 13,\n",
      "     'speed': 7,\n",
      "     'type': 'fire'},\n",
      " 2: {'attack': 8,\n",
      "     'defense': 14,\n",
      "     'hp': 37,\n",
      "     'name': 'squirtle',\n",
      "     'special_attack': 14,\n",
      "     'special_defense': 17,\n",
      "     'speed': 5,\n",
      "     'type': 'water'},\n",
      " 3: {'attack': 9,\n",
      "     'defense': 11,\n",
      "     'hp': 35,\n",
      "     'name': 'bulbasaur',\n",
      "     'special_attack': 12,\n",
      "     'special_defense': 13,\n",
      "     'speed': 11,\n",
      "     'type': 'poison'}}\n"
     ]
    }
   ],
   "source": [
    "pprint(pokedex)"
   ]
  },
  {
   "cell_type": "markdown",
   "metadata": {},
   "source": [
    "<img src=\"http://imgur.com/l5NasQj.png\" style=\"float: left; margin: 25px 15px 0px 0px; height: 25px\">\n",
    "\n",
    "## 4. Create a data structure for players\n",
    "\n",
    "---\n",
    "\n",
    "### 4.1 \n",
    "\n",
    "In order to maintain a database of multiple players, create a dictionary that keeps track of players indexed by `player_id`. \n",
    "\n",
    "The keys of the dictionary will be `player_id` and values will be dictionaries containing each player's variables (from question 1). **The values in the player's dictionary will be the variables you assigned in question 1.**\n",
    "\n",
    "Construct the `players` dictionary and insert the player that you defined in question 1, then print `players`."
   ]
  },
  {
   "cell_type": "code",
   "execution_count": 6,
   "metadata": {
    "collapsed": false
   },
   "outputs": [
    {
     "name": "stdout",
     "output_type": "stream",
     "text": [
      "{1: {'gyms_visited': ['amazon.com', 'netflix.com'],\n",
      "     'player_name': 'Will Smith',\n",
      "     'player_pokemon': {},\n",
      "     'time_played': 0.0}}\n"
     ]
    }
   ],
   "source": [
    "players = {\n",
    "    1: {\n",
    "        'player_name':'Will Smith',\n",
    "        'time_played': 0.0,\n",
    "        'gyms_visited': gyms_visited,\n",
    "        'player_pokemon': {}\n",
    "    }\n",
    "}\n",
    "\n",
    "pprint(players)"
   ]
  },
  {
   "cell_type": "markdown",
   "metadata": {},
   "source": [
    "---\n",
    "\n",
    "### 4.2\n",
    "\n",
    "Create a new player with `player_id = 2` in the `players` dictionary. Leave the `'player_pokemon'` dictionary empty. Append `'stackoverflow.com'` and `'github.com'` to the `'gyms_visited'` list for player 2.\n",
    "\n",
    "The `'player_name'` and `'time_played'` values are up to you, but must be a string and float, respectively.\n",
    "\n",
    "Remember, the player_id is the key for the player in the players dictionary.\n",
    "\n",
    "Print the `players` dictionary with the new player inserted."
   ]
  },
  {
   "cell_type": "code",
   "execution_count": 7,
   "metadata": {
    "collapsed": false
   },
   "outputs": [],
   "source": [
    "# No example output. \n",
    "players[2] = {\n",
    "    'player_name': 'John Doe',\n",
    "    'time_played': 45.5,\n",
    "    'gyms_visited': [],\n",
    "    'player_pokemon': {}\n",
    "}\n",
    "players[2]['gyms_visited'].append('stackoverflow.com')\n",
    "players[2]['gyms_visited'].append('github.com')"
   ]
  },
  {
   "cell_type": "code",
   "execution_count": 8,
   "metadata": {
    "collapsed": false
   },
   "outputs": [
    {
     "name": "stdout",
     "output_type": "stream",
     "text": [
      "{1: {'gyms_visited': ['amazon.com', 'netflix.com'],\n",
      "     'player_name': 'Will Smith',\n",
      "     'player_pokemon': {},\n",
      "     'time_played': 0.0},\n",
      " 2: {'gyms_visited': ['stackoverflow.com', 'github.com'],\n",
      "     'player_name': 'John Doe',\n",
      "     'player_pokemon': {},\n",
      "     'time_played': 45.5}}\n"
     ]
    }
   ],
   "source": [
    "pprint(players)"
   ]
  },
  {
   "cell_type": "markdown",
   "metadata": {},
   "source": [
    "<img src=\"http://imgur.com/l5NasQj.png\" style=\"float: left; margin: 25px 15px 0px 0px; height: 25px\">\n",
    "\n",
    "## 5. Add captured pokemon for each player\n",
    "\n",
    "---\n",
    "\n",
    "The `'player_pokemon'` keyed dictionaries for each player keep track of which of the pokemon each player has.\n",
    "\n",
    "The keys of the `'player_pokemon'` dictionaries are the pokemon ids that correspond to the ids in the `pokedex` dictionary you created earlier. The values are integers specifying the stats for the pokemon.\n",
    "\n",
    "Give player 1 a squirtle. Give player 2 charmander and a bulbasaur.\n",
    "\n",
    "Print the players dictionary after adding the pokemon for each player.\n"
   ]
  },
  {
   "cell_type": "code",
   "execution_count": 6,
   "metadata": {
    "collapsed": false
   },
   "outputs": [],
   "source": [
    "# Example output from print:\n",
    "#\n",
    "# {1: {'gyms_visited': ['amazon.com', 'ebay.com'],\n",
    "#      'player_name': 'Ash',\n",
    "#      'player_pokemon': {2: ...squirtle dictionary...},\n",
    "#      'time_played': 0.0},\n",
    "#  2: {'gyms_visited': ['stackoverflow.com', 'github.com'],\n",
    "#      'player_name': 'Brock',\n",
    "#      'player_pokemon': {1: ...charmander dictionary..., 3: ...bulbasaur dictionary...},\n",
    "#      'time_played': 10.0}}"
   ]
  },
  {
   "cell_type": "code",
   "execution_count": 9,
   "metadata": {
    "collapsed": false
   },
   "outputs": [],
   "source": [
    "players[1]['player_pokemon'].update({2: pokedex[2]})\n",
    "players[2]['player_pokemon'].update({1: pokedex[1], 3: pokedex[3]})"
   ]
  },
  {
   "cell_type": "code",
   "execution_count": 10,
   "metadata": {
    "collapsed": false
   },
   "outputs": [
    {
     "name": "stdout",
     "output_type": "stream",
     "text": [
      "{1: {'gyms_visited': ['amazon.com', 'netflix.com'],\n",
      "     'player_name': 'Will Smith',\n",
      "     'player_pokemon': {2: {'attack': 8,\n",
      "                            'defense': 14,\n",
      "                            'hp': 37,\n",
      "                            'name': 'squirtle',\n",
      "                            'special_attack': 14,\n",
      "                            'special_defense': 17,\n",
      "                            'speed': 5,\n",
      "                            'type': 'water'}},\n",
      "     'time_played': 0.0},\n",
      " 2: {'gyms_visited': ['stackoverflow.com', 'github.com'],\n",
      "     'player_name': 'John Doe',\n",
      "     'player_pokemon': {1: {'attack': 12,\n",
      "                            'defense': 10,\n",
      "                            'hp': 45,\n",
      "                            'name': 'charmander',\n",
      "                            'special_attack': 15,\n",
      "                            'special_defense': 13,\n",
      "                            'speed': 7,\n",
      "                            'type': 'fire'},\n",
      "                        3: {'attack': 9,\n",
      "                            'defense': 11,\n",
      "                            'hp': 35,\n",
      "                            'name': 'bulbasaur',\n",
      "                            'special_attack': 12,\n",
      "                            'special_defense': 13,\n",
      "                            'speed': 11,\n",
      "                            'type': 'poison'}},\n",
      "     'time_played': 45.5}}\n"
     ]
    }
   ],
   "source": [
    "pprint(players)"
   ]
  },
  {
   "cell_type": "markdown",
   "metadata": {},
   "source": [
    "<img src=\"http://imgur.com/l5NasQj.png\" style=\"float: left; margin: 25px 15px 0px 0px; height: 25px\">\n",
    "\n",
    "## 6. What gyms have players visited?\n",
    "\n",
    "---\n",
    "\n",
    "Write a for-loop that:\n",
    "\n",
    "1. Iterates through the `pokemon_gyms` list of gym locations you defined before.\n",
    "2. For each gym, iterate through each player in the `players` dictionary with a second, internal for-loop.\n",
    "3. If the player has visited the gym, print out \"[player] has visited [gym location].\", filling in [player] and [gym location] with the current player's name and current gym location."
   ]
  },
  {
   "cell_type": "code",
   "execution_count": 7,
   "metadata": {
    "collapsed": false
   },
   "outputs": [],
   "source": [
    "# Example output:\n",
    "#\n",
    "# Ash has visited amazon.com.\n",
    "# Ash has visited ebay.com.\n",
    "# Ash has visited amazon.com.\n",
    "# Brock has visited stackoverflow.com.\n",
    "# Brock has visited github.com."
   ]
  },
  {
   "cell_type": "code",
   "execution_count": 11,
   "metadata": {
    "collapsed": false
   },
   "outputs": [
    {
     "name": "stdout",
     "output_type": "stream",
     "text": [
      "Will Smith has visited amazon.com\n",
      "Will Smith has visited netflix.com\n",
      "John Doe has visited stackoverflow.com\n",
      "John Doe has visited github.com\n"
     ]
    }
   ],
   "source": [
    "for gym in pokemon_gyms:\n",
    "    for player in players.values():\n",
    "        if gym in player['gyms_visited']:\n",
    "            print \"{} has visited {}\".format(player['player_name'], gym)"
   ]
  },
  {
   "cell_type": "markdown",
   "metadata": {},
   "source": [
    "<img src=\"http://imgur.com/l5NasQj.png\" style=\"float: left; margin: 25px 15px 0px 0px; height: 25px\">\n",
    "\n",
    "## 7. Calculate player \"power\".\n",
    "\n",
    "---\n",
    "\n",
    "Define a function that will calculate a player's \"power\". Player power is defined as the sum of the base statistics all of their pokemon.\n",
    "\n",
    "Your function will:\n",
    "\n",
    "1. Accept the `players` dictionary, `pokedex` dictionary, and a player_id as arguments.\n",
    "2. For the specified player_id, look up that player's pokemon and their level(s).\n",
    "3. Find and aggregate the attack and defense values for each of the player's pokemon from the `pokedex` dictionary.\n",
    "4. Print \"[player name]'s power is [player power].\", where the player power is the sum of the base statistics for all of their pokemon.\n",
    "5. Return the player's power value.\n",
    "\n",
    "Print out the pokemon power for each of your players."
   ]
  },
  {
   "cell_type": "code",
   "execution_count": 8,
   "metadata": {
    "collapsed": true
   },
   "outputs": [],
   "source": [
    "# Example output:\n",
    "#\n",
    "# Ash's power is 57.\n",
    "# 57\n",
    "# Brock's power is 119.\n",
    "# 119\n",
    "\n",
    "# 'attack', 'defense', 'hp', 'special_attack', 'special_defense', 'speed'\n",
    "# players.values()[1]['player_pokemon'][3]['attack']"
   ]
  },
  {
   "cell_type": "code",
   "execution_count": 12,
   "metadata": {
    "collapsed": false
   },
   "outputs": [],
   "source": [
    "def poke_pwr(poke_dict):\n",
    "    pdex_pwr_dict = {}\n",
    "    for poke_info in poke_dict.items():\n",
    "        pwr = sum(filter(lambda x: type(x) is int, poke_info[1].values()))\n",
    "        pdex_pwr_dict[poke_info[0]] = pwr\n",
    "    return pdex_pwr_dict"
   ]
  },
  {
   "cell_type": "code",
   "execution_count": 13,
   "metadata": {
    "collapsed": false
   },
   "outputs": [
    {
     "data": {
      "text/plain": [
       "{1: 102, 2: 95, 3: 91}"
      ]
     },
     "execution_count": 13,
     "metadata": {},
     "output_type": "execute_result"
    }
   ],
   "source": [
    "poke_pwr(pokedex)"
   ]
  },
  {
   "cell_type": "code",
   "execution_count": 14,
   "metadata": {
    "collapsed": false
   },
   "outputs": [],
   "source": [
    "def player_power(player_dict, pokedex_dict, player_id):\n",
    "    # Check if player exists\n",
    "    if player_id not in player_dict:\n",
    "        return 'No record of Player {}'.format(player_id)\n",
    "    \n",
    "    # Define pokemon's power dict, player's name & pokemon keys\n",
    "    poke_power_dict = poke_pwr(pokedex_dict)\n",
    "    player_name = player_dict[player_id]['player_name']\n",
    "    player_poke_keys = player_dict[player_id]['player_pokemon'].keys()\n",
    "    \n",
    "    # Iterate and sum player's poke power\n",
    "    player_pwr = sum([poke_power_dict[key] for key in player_poke_keys])\n",
    "    \n",
    "    # Print and return outputs    \n",
    "    print '{}\\'s power is {}'.format(player_name, player_pwr)\n",
    "    return player_pwr"
   ]
  },
  {
   "cell_type": "code",
   "execution_count": 15,
   "metadata": {
    "collapsed": false
   },
   "outputs": [
    {
     "name": "stdout",
     "output_type": "stream",
     "text": [
      "John Doe's power is 193\n"
     ]
    },
    {
     "data": {
      "text/plain": [
       "193"
      ]
     },
     "execution_count": 15,
     "metadata": {},
     "output_type": "execute_result"
    }
   ],
   "source": [
    "player_power(players, pokedex, player_id=2)  "
   ]
  },
  {
   "cell_type": "markdown",
   "metadata": {
    "collapsed": true
   },
   "source": [
    "<img src=\"http://imgur.com/GCAf1UX.png\" style=\"float: left; margin: 25px 15px 0px 0px; height: 25px\">\n",
    "\n",
    "## 8. Load a pokedex file containing all the pokemon\n",
    "\n",
    "---\n",
    "\n",
    "### 8.1\n",
    "\n",
    "Now we have access to the raw base stats on all of the pokemon, scraped from the web.\n",
    "\n",
    "The provided code below loads information from a comma separated value (csv) file. You need to parse this string into a more useable format. The format of the string is:\n",
    "\n",
    "- Rows are separated by newline characters: \\n\n",
    "- Columns are separated by commas: ,\n",
    "- All cells in the csv are double quoted. Ex: \"PokedexNumber\" is the first cell of the first row.\n",
    "\n",
    "Using for-loops, create a list of lists where each list within the overall list is a row of the csv/matrix, and each element in that list is a cell in that row. Additional criteria:\n",
    "\n",
    "1. Quotes are removed from each cell item.\n",
    "2. Numeric column values are converted to floats.\n",
    "3. There are some cells that are empty and have no information. For these cells put a -1 value in place.\n",
    "\n",
    "The first three lists in your pokedex list should look like so:\n",
    "\n",
    "    ['PokedexNumber', 'Name', 'Type', 'Total', 'HP', 'Attack', 'Defense', 'SpecialAttack', 'SpecialDefense', 'Speed']\n",
    "    [1.0, 'Bulbasaur', 'GrassPoison', 318.0, 45.0, 49.0, 49.0, 65.0, 65.0, 45.0]\n",
    "    [2.0, 'Ivysaur', 'GrassPoison', 405.0, 60.0, 62.0, 63.0, 80.0, 80.0, 60.0]"
   ]
  },
  {
   "cell_type": "code",
   "execution_count": 16,
   "metadata": {
    "collapsed": false
   },
   "outputs": [],
   "source": [
    "# Code to read in pokedex info\n",
    "raw_pd = ''\n",
    "pokedex_file = '/Users/Smitty/Desktop/DSI-SF-5/datasets/pokemon/pokedex_basic.csv'\n",
    "with open(pokedex_file, 'r') as f:\n",
    "    raw_pd = f.read()\n",
    "    raw_pd_list = raw_pd.split('\\n') \n",
    "    pd_mtrx = []\n",
    "    for row in raw_pd_list:\n",
    "        row = row.replace('\\\"','').split(',')\n",
    "        for idx, element in enumerate(row):\n",
    "            if element == '':\n",
    "                row[idx] = -1\n",
    "            else:\n",
    "                try:\n",
    "                    row[idx] = float(element)\n",
    "                except (TypeError, ValueError):\n",
    "                    pass\n",
    "        pd_mtrx.append(row)\n",
    "    pd_mtrx = filter(lambda x: len(x) is len(pd_mtrx[0]), pd_mtrx)"
   ]
  },
  {
   "cell_type": "code",
   "execution_count": 17,
   "metadata": {
    "collapsed": false
   },
   "outputs": [
    {
     "data": {
      "text/plain": [
       "[['PokedexNumber',\n",
       "  'Name',\n",
       "  'Type',\n",
       "  'Total',\n",
       "  'HP',\n",
       "  'Attack',\n",
       "  'Defense',\n",
       "  'SpecialAttack',\n",
       "  'SpecialDefense',\n",
       "  'Speed'],\n",
       " [1.0, 'Bulbasaur', 'GrassPoison', 318.0, 45.0, 49.0, 49.0, 65.0, 65.0, 45.0],\n",
       " [2.0, 'Ivysaur', 'GrassPoison', 405.0, 60.0, 62.0, 63.0, 80.0, 80.0, 60.0],\n",
       " [3.0, 'Venusaur', 'GrassPoison', 525.0, 80.0, 82.0, 83.0, 100.0, 100.0, 80.0]]"
      ]
     },
     "execution_count": 17,
     "metadata": {},
     "output_type": "execute_result"
    }
   ],
   "source": [
    "pd_mtrx[:4]"
   ]
  },
  {
   "cell_type": "code",
   "execution_count": 10,
   "metadata": {
    "collapsed": false
   },
   "outputs": [],
   "source": [
    "# Example output (first 3 sublists):\n",
    "#\n",
    "# ['PokedexNumber', 'Name', 'Type', 'Total', 'HP', 'Attack', 'Defense', 'SpecialAttack', 'SpecialDefense', 'Speed']\n",
    "# [1.0, 'Bulbasaur', 'GrassPoison', 318.0, 45.0, 49.0, 49.0, 65.0, 65.0, 45.0]\n",
    "# [2.0, 'Ivysaur', 'GrassPoison', 405.0, 60.0, 62.0, 63.0, 80.0, 80.0, 60.0]"
   ]
  },
  {
   "cell_type": "markdown",
   "metadata": {},
   "source": [
    "<img src=\"http://imgur.com/gGrau8s.png\" style=\"float: left; margin: 25px 15px 0px 0px; height: 25px\">\n",
    "\n",
    "### 8.2 Parse the raw pokedex with list comprehensions\n",
    "\n",
    "---\n",
    "\n",
    "Perform the same parsing as above, but **using only a single list comprehension** instead of for loops. You may have nested list comprehensions within the main list comprehension! The output should be exactly the same."
   ]
  },
  {
   "cell_type": "code",
   "execution_count": 18,
   "metadata": {
    "collapsed": false
   },
   "outputs": [
    {
     "data": {
      "text/plain": [
       "[1.0, 'Bulbasaur', 'GrassPoison', 318.0, 45.0, 49.0, 49.0, 65.0, 65.0, 45.0]"
      ]
     },
     "execution_count": 18,
     "metadata": {},
     "output_type": "execute_result"
    }
   ],
   "source": [
    "def str_to_float(list_arg):\n",
    "    for idx, element in enumerate(list_arg):\n",
    "        try:\n",
    "            list_arg[idx] = float(element)\n",
    "        except (TypeError, ValueError):\n",
    "            pass\n",
    "    return list_arg\n",
    "\n",
    "str_to_float(['1.0', 'Bulbasaur', 'GrassPoison', '318.0', '45.0', '49.0', '49.0', '65.0', '65.0', '45.0'])"
   ]
  },
  {
   "cell_type": "code",
   "execution_count": 19,
   "metadata": {
    "collapsed": false
   },
   "outputs": [],
   "source": [
    "raw_pd = ''\n",
    "pokedex_file = '/Users/Smitty/Desktop/DSI-SF-5/datasets/pokemon/pokedex_basic.csv'\n",
    "with open(pokedex_file, 'r') as f:\n",
    "    raw_pd = f.read() \n",
    "    pd_mtrx = [str_to_float(row) for row in [row.replace('\\\"','').split(',') for row in raw_pd.split('\\n')]]\n",
    "    pd_mtrx = filter(lambda x: len(x) is len(pd_mtrx[0]), pd_mtrx)"
   ]
  },
  {
   "cell_type": "code",
   "execution_count": 20,
   "metadata": {
    "collapsed": false
   },
   "outputs": [
    {
     "data": {
      "text/plain": [
       "[['PokedexNumber',\n",
       "  'Name',\n",
       "  'Type',\n",
       "  'Total',\n",
       "  'HP',\n",
       "  'Attack',\n",
       "  'Defense',\n",
       "  'SpecialAttack',\n",
       "  'SpecialDefense',\n",
       "  'Speed'],\n",
       " [1.0, 'Bulbasaur', 'GrassPoison', 318.0, 45.0, 49.0, 49.0, 65.0, 65.0, 45.0],\n",
       " [2.0, 'Ivysaur', 'GrassPoison', 405.0, 60.0, 62.0, 63.0, 80.0, 80.0, 60.0],\n",
       " [3.0, 'Venusaur', 'GrassPoison', 525.0, 80.0, 82.0, 83.0, 100.0, 100.0, 80.0]]"
      ]
     },
     "execution_count": 20,
     "metadata": {},
     "output_type": "execute_result"
    }
   ],
   "source": [
    "pd_mtrx[:4]"
   ]
  },
  {
   "cell_type": "code",
   "execution_count": 11,
   "metadata": {
    "collapsed": false
   },
   "outputs": [],
   "source": [
    "# Example output (first 3 sublists):\n",
    "#\n",
    "# ['PokedexNumber', 'Name', 'Type', 'Total', 'HP', 'Attack', 'Defense', 'SpecialAttack', 'SpecialDefense', 'Speed']\n",
    "# [1.0, 'Bulbasaur', 'GrassPoison', 318.0, 45.0, 49.0, 49.0, 65.0, 65.0, 45.0]\n",
    "# [2.0, 'Ivysaur', 'GrassPoison', 405.0, 60.0, 62.0, 63.0, 80.0, 80.0, 60.0]\n",
    "\n",
    "# Use map(fnx with lambda x:, iterable)"
   ]
  },
  {
   "cell_type": "markdown",
   "metadata": {},
   "source": [
    "<img src=\"http://imgur.com/GCAf1UX.png\" style=\"float: left; margin: 25px 15px 0px 0px; height: 25px\">\n",
    "\n",
    "## 9. Write a function to generate the full pokedex\n",
    "\n",
    "---\n",
    "\n",
    "Write a function that recreates the pokedex you made before, but with the data read in from the full pokemon file. The `PokedexNumber` should be used as the `pokemon_id` key values for the dictionary of pokemon.\n",
    "\n",
    "Your function should:\n",
    "\n",
    "1. Take the parsed pokedex information you created above as an argument.\n",
    "2. Return a dictionary in the same format as your original pokedex you created before containing the information from the parsed full pokedex file.\n",
    "\n",
    "To test the function, print out the pokemon with id = 100."
   ]
  },
  {
   "cell_type": "code",
   "execution_count": 21,
   "metadata": {
    "collapsed": false
   },
   "outputs": [],
   "source": [
    "## Start with function to organize each row \n",
    "def poke_info(poke_record):\n",
    "    record_dict = {'Attack': poke_record[5], 'Defense': poke_record[6], \n",
    "                   'HP': poke_record[4], 'Name': poke_record[1], \n",
    "                   'SpecialAttack': poke_record[7], 'SpecialDefense': poke_record[8], \n",
    "                   'Speed': poke_record[9], 'Total': poke_record[3], 'Type': poke_record[2]}\n",
    "    return record_dict\n",
    "\n",
    "## Fnx to pass full data into dict ##\n",
    "\n",
    "def full_pokedex(parsed_pd):\n",
    "    full_pdex = {}\n",
    "    for row in parsed_pd:\n",
    "        if type(row[0]) is float:\n",
    "            full_pdex[int(row[0])] = poke_info(row)\n",
    "        else:\n",
    "            pass\n",
    "    return full_pdex"
   ]
  },
  {
   "cell_type": "code",
   "execution_count": 12,
   "metadata": {
    "collapsed": false
   },
   "outputs": [],
   "source": [
    "# Example output:\n",
    "#\n",
    "# {'Attack': 30.0,\n",
    "#  'Defense': 50.0,\n",
    "#  'HP': 40.0,\n",
    "#  'Name': 'Voltorb',\n",
    "#  'SpecialAttack': 55.0,\n",
    "#  'SpecialDefense': 55.0,\n",
    "#  'Speed': 100.0,\n",
    "#  'Total': 330.0,\n",
    "#  'Type': 'Electric'}"
   ]
  },
  {
   "cell_type": "markdown",
   "metadata": {},
   "source": [
    "<img src=\"http://imgur.com/GCAf1UX.png\" style=\"float: left; margin: 25px 15px 0px 0px; height: 25px\">\n",
    "\n",
    "## 10. Write a function to generate a \"filtered\" pokedex\n",
    "---\n",
    "Your function should:\n",
    "1. Take the parsed pokedex information you created above as an argument.\n",
    "1. Take a dictionary as a parameter with keys matching the features of the Pokedex, filtering by exact match for string type values, and/or filter continuous variables specified value that is greater than or equal to the dictionary key parameter.\n",
    "1. Return multiple elements from the Pokedex\n",
    "\n",
    "Example:\n",
    "\n",
    "```python\n",
    "\n",
    "# Only filter based on parameters passed\n",
    "filter_options = {\n",
    "    'Attack':   25,\n",
    "    'Defense':  30,\n",
    "    'Type':     'Electric'\n",
    "}\n",
    "\n",
    "# Return records with attack >= 24, defense >= 30, and type == \"Electric\"\n",
    "# Also anticipate that other paramters can also be passed such as \"SpecialAttack\", \"Speed\", etc.\n",
    "filtered_pokedex(pokedex_data, filter=filter_options)\n",
    "\n",
    "# Example output:\n",
    "# [{'Attack': 30.0,\n",
    "#  'Defense': 50.0,\n",
    "#  'HP': 40.0,\n",
    "#  'Name': 'Voltorb',\n",
    "#  'SpecialAttack': 55.0,\n",
    "#  'SpecialDefense': 55.0,\n",
    "#  'Speed': 100.0,\n",
    "#  'Total': 330.0,\n",
    "#  'Type': 'Electric'},\n",
    "#  {'Attack': 30.0,\n",
    "#  'Defense': 33.0,\n",
    "#  'HP': 32.0,\n",
    "#  'Name': 'Pikachu',\n",
    "#  'SpecialAttack': 55.0,\n",
    "#  'SpecialDefense': 55.0,\n",
    "#  'Speed': 100.0,\n",
    "#  'Total': 330.0,\n",
    "#  'Type': 'Electric'},\n",
    "#  ... etc\n",
    "#  ]\n",
    "\n",
    "```\n",
    "\n"
   ]
  },
  {
   "cell_type": "code",
   "execution_count": 23,
   "metadata": {
    "collapsed": false
   },
   "outputs": [],
   "source": [
    "filter_options = {\n",
    "    'Attack':   25,\n",
    "    'Defense':  30,\n",
    "    'Type':     'Electric'\n",
    "}"
   ]
  },
  {
   "cell_type": "code",
   "execution_count": 24,
   "metadata": {
    "collapsed": false
   },
   "outputs": [],
   "source": [
    "def filt_pokedex(parsed_pd, param_dict):\n",
    "    full_pokedex_dict = full_pokedex(parsed_pd)\n",
    "    filtered_pokedex = []\n",
    "    \n",
    "    # Creat list of tuples holding the different criteria and their index\n",
    "    index_list = []\n",
    "    for key, val in param_dict.items():\n",
    "        for idx, item in enumerate(parsed_pd[0]):\n",
    "            if key == item:\n",
    "                index_list.append((idx, val))\n",
    "\n",
    "    for row in parsed_pd:\n",
    "        count = 0\n",
    "        for item in index_list:\n",
    "            cond_key, cond_val = item\n",
    "            if (type(cond_val) is str) and (row[cond_key] == cond_val):\n",
    "                count += 1\n",
    "                if count == len(index_list): \n",
    "                    filtered_pokedex.append(full_pokedex_dict[int(row[0])])\n",
    "            elif (type(cond_val) is int) and (row[cond_key] >= cond_val):\n",
    "                count += 1\n",
    "                if count == len(index_list):\n",
    "                    filtered_pokedex.append(full_pokedex_dict[int(row[0])])\n",
    "    return filtered_pokedex"
   ]
  },
  {
   "cell_type": "code",
   "execution_count": 25,
   "metadata": {
    "collapsed": false
   },
   "outputs": [
    {
     "data": {
      "text/plain": [
       "[{'Attack': 55.0,\n",
       "  'Defense': 40.0,\n",
       "  'HP': 35.0,\n",
       "  'Name': 'Pikachu',\n",
       "  'SpecialAttack': 50.0,\n",
       "  'SpecialDefense': 50.0,\n",
       "  'Speed': 90.0,\n",
       "  'Total': 320.0,\n",
       "  'Type': 'Electric'},\n",
       " {'Attack': 90.0,\n",
       "  'Defense': 55.0,\n",
       "  'HP': 60.0,\n",
       "  'Name': 'Raichu',\n",
       "  'SpecialAttack': 90.0,\n",
       "  'SpecialDefense': 80.0,\n",
       "  'Speed': 110.0,\n",
       "  'Total': 485.0,\n",
       "  'Type': 'Electric'},\n",
       " {'Attack': 30.0,\n",
       "  'Defense': 50.0,\n",
       "  'HP': 40.0,\n",
       "  'Name': 'Voltorb',\n",
       "  'SpecialAttack': 55.0,\n",
       "  'SpecialDefense': 55.0,\n",
       "  'Speed': 100.0,\n",
       "  'Total': 330.0,\n",
       "  'Type': 'Electric'},\n",
       " {'Attack': 50.0,\n",
       "  'Defense': 70.0,\n",
       "  'HP': 60.0,\n",
       "  'Name': 'Electrode',\n",
       "  'SpecialAttack': 80.0,\n",
       "  'SpecialDefense': 80.0,\n",
       "  'Speed': 140.0,\n",
       "  'Total': 480.0,\n",
       "  'Type': 'Electric'},\n",
       " {'Attack': 83.0,\n",
       "  'Defense': 57.0,\n",
       "  'HP': 65.0,\n",
       "  'Name': 'Electabuzz',\n",
       "  'SpecialAttack': 95.0,\n",
       "  'SpecialDefense': 85.0,\n",
       "  'Speed': 105.0,\n",
       "  'Total': 490.0,\n",
       "  'Type': 'Electric'},\n",
       " {'Attack': 65.0,\n",
       "  'Defense': 60.0,\n",
       "  'HP': 65.0,\n",
       "  'Name': 'Jolteon',\n",
       "  'SpecialAttack': 110.0,\n",
       "  'SpecialDefense': 95.0,\n",
       "  'Speed': 130.0,\n",
       "  'Total': 525.0,\n",
       "  'Type': 'Electric'},\n",
       " {'Attack': 40.0,\n",
       "  'Defense': 40.0,\n",
       "  'HP': 55.0,\n",
       "  'Name': 'Mareep',\n",
       "  'SpecialAttack': 65.0,\n",
       "  'SpecialDefense': 45.0,\n",
       "  'Speed': 35.0,\n",
       "  'Total': 280.0,\n",
       "  'Type': 'Electric'},\n",
       " {'Attack': 55.0,\n",
       "  'Defense': 55.0,\n",
       "  'HP': 70.0,\n",
       "  'Name': 'Flaaffy',\n",
       "  'SpecialAttack': 80.0,\n",
       "  'SpecialDefense': 60.0,\n",
       "  'Speed': 45.0,\n",
       "  'Total': 365.0,\n",
       "  'Type': 'Electric'},\n",
       " {'Attack': 95.0,\n",
       "  'Defense': 105.0,\n",
       "  'HP': 90.0,\n",
       "  'Name': 'AmpharosMega Ampharos',\n",
       "  'SpecialAttack': 165.0,\n",
       "  'SpecialDefense': 110.0,\n",
       "  'Speed': 45.0,\n",
       "  'Total': 610.0,\n",
       "  'Type': 'ElectricDragon'},\n",
       " {'Attack': 63.0,\n",
       "  'Defense': 37.0,\n",
       "  'HP': 45.0,\n",
       "  'Name': 'Elekid',\n",
       "  'SpecialAttack': 65.0,\n",
       "  'SpecialDefense': 55.0,\n",
       "  'Speed': 95.0,\n",
       "  'Total': 360.0,\n",
       "  'Type': 'Electric'},\n",
       " {'Attack': 85.0,\n",
       "  'Defense': 75.0,\n",
       "  'HP': 90.0,\n",
       "  'Name': 'Raikou',\n",
       "  'SpecialAttack': 115.0,\n",
       "  'SpecialDefense': 100.0,\n",
       "  'Speed': 115.0,\n",
       "  'Total': 580.0,\n",
       "  'Type': 'Electric'},\n",
       " {'Attack': 45.0,\n",
       "  'Defense': 40.0,\n",
       "  'HP': 40.0,\n",
       "  'Name': 'Electrike',\n",
       "  'SpecialAttack': 65.0,\n",
       "  'SpecialDefense': 40.0,\n",
       "  'Speed': 65.0,\n",
       "  'Total': 295.0,\n",
       "  'Type': 'Electric'},\n",
       " {'Attack': 75.0,\n",
       "  'Defense': 80.0,\n",
       "  'HP': 70.0,\n",
       "  'Name': 'ManectricMega Manectric',\n",
       "  'SpecialAttack': 135.0,\n",
       "  'SpecialDefense': 80.0,\n",
       "  'Speed': 135.0,\n",
       "  'Total': 575.0,\n",
       "  'Type': 'Electric'},\n",
       " {'Attack': 75.0,\n",
       "  'Defense': 80.0,\n",
       "  'HP': 70.0,\n",
       "  'Name': 'ManectricMega Manectric',\n",
       "  'SpecialAttack': 135.0,\n",
       "  'SpecialDefense': 80.0,\n",
       "  'Speed': 135.0,\n",
       "  'Total': 575.0,\n",
       "  'Type': 'Electric'},\n",
       " {'Attack': 50.0,\n",
       "  'Defense': 40.0,\n",
       "  'HP': 60.0,\n",
       "  'Name': 'Plusle',\n",
       "  'SpecialAttack': 85.0,\n",
       "  'SpecialDefense': 75.0,\n",
       "  'Speed': 95.0,\n",
       "  'Total': 405.0,\n",
       "  'Type': 'Electric'},\n",
       " {'Attack': 40.0,\n",
       "  'Defense': 50.0,\n",
       "  'HP': 60.0,\n",
       "  'Name': 'Minun',\n",
       "  'SpecialAttack': 75.0,\n",
       "  'SpecialDefense': 85.0,\n",
       "  'Speed': 95.0,\n",
       "  'Total': 405.0,\n",
       "  'Type': 'Electric'},\n",
       " {'Attack': 65.0,\n",
       "  'Defense': 34.0,\n",
       "  'HP': 45.0,\n",
       "  'Name': 'Shinx',\n",
       "  'SpecialAttack': 40.0,\n",
       "  'SpecialDefense': 34.0,\n",
       "  'Speed': 45.0,\n",
       "  'Total': 263.0,\n",
       "  'Type': 'Electric'},\n",
       " {'Attack': 85.0,\n",
       "  'Defense': 49.0,\n",
       "  'HP': 60.0,\n",
       "  'Name': 'Luxio',\n",
       "  'SpecialAttack': 60.0,\n",
       "  'SpecialDefense': 49.0,\n",
       "  'Speed': 60.0,\n",
       "  'Total': 363.0,\n",
       "  'Type': 'Electric'},\n",
       " {'Attack': 120.0,\n",
       "  'Defense': 79.0,\n",
       "  'HP': 80.0,\n",
       "  'Name': 'Luxray',\n",
       "  'SpecialAttack': 95.0,\n",
       "  'SpecialDefense': 79.0,\n",
       "  'Speed': 70.0,\n",
       "  'Total': 523.0,\n",
       "  'Type': 'Electric'},\n",
       " {'Attack': 45.0,\n",
       "  'Defense': 70.0,\n",
       "  'HP': 60.0,\n",
       "  'Name': 'Pachirisu',\n",
       "  'SpecialAttack': 45.0,\n",
       "  'SpecialDefense': 90.0,\n",
       "  'Speed': 95.0,\n",
       "  'Total': 405.0,\n",
       "  'Type': 'Electric'},\n",
       " {'Attack': 123.0,\n",
       "  'Defense': 67.0,\n",
       "  'HP': 75.0,\n",
       "  'Name': 'Electivire',\n",
       "  'SpecialAttack': 95.0,\n",
       "  'SpecialDefense': 85.0,\n",
       "  'Speed': 95.0,\n",
       "  'Total': 540.0,\n",
       "  'Type': 'Electric'},\n",
       " {'Attack': 60.0,\n",
       "  'Defense': 32.0,\n",
       "  'HP': 45.0,\n",
       "  'Name': 'Blitzle',\n",
       "  'SpecialAttack': 50.0,\n",
       "  'SpecialDefense': 32.0,\n",
       "  'Speed': 76.0,\n",
       "  'Total': 295.0,\n",
       "  'Type': 'Electric'},\n",
       " {'Attack': 100.0,\n",
       "  'Defense': 63.0,\n",
       "  'HP': 75.0,\n",
       "  'Name': 'Zebstrika',\n",
       "  'SpecialAttack': 80.0,\n",
       "  'SpecialDefense': 63.0,\n",
       "  'Speed': 116.0,\n",
       "  'Total': 497.0,\n",
       "  'Type': 'Electric'},\n",
       " {'Attack': 55.0,\n",
       "  'Defense': 40.0,\n",
       "  'HP': 35.0,\n",
       "  'Name': 'Tynamo',\n",
       "  'SpecialAttack': 45.0,\n",
       "  'SpecialDefense': 40.0,\n",
       "  'Speed': 60.0,\n",
       "  'Total': 275.0,\n",
       "  'Type': 'Electric'},\n",
       " {'Attack': 85.0,\n",
       "  'Defense': 70.0,\n",
       "  'HP': 65.0,\n",
       "  'Name': 'Eelektrik',\n",
       "  'SpecialAttack': 75.0,\n",
       "  'SpecialDefense': 70.0,\n",
       "  'Speed': 40.0,\n",
       "  'Total': 405.0,\n",
       "  'Type': 'Electric'},\n",
       " {'Attack': 115.0,\n",
       "  'Defense': 80.0,\n",
       "  'HP': 85.0,\n",
       "  'Name': 'Eelektross',\n",
       "  'SpecialAttack': 105.0,\n",
       "  'SpecialDefense': 80.0,\n",
       "  'Speed': 50.0,\n",
       "  'Total': 515.0,\n",
       "  'Type': 'Electric'}]"
      ]
     },
     "execution_count": 25,
     "metadata": {},
     "output_type": "execute_result"
    }
   ],
   "source": [
    "filt_pokedex(pd_mtrx, filter_options)"
   ]
  },
  {
   "cell_type": "code",
   "execution_count": null,
   "metadata": {
    "collapsed": true
   },
   "outputs": [],
   "source": []
  }
 ],
 "metadata": {
  "anaconda-cloud": {},
  "kernelspec": {
   "display_name": "Python [default]",
   "language": "python",
   "name": "python2"
  },
  "language_info": {
   "codemirror_mode": {
    "name": "ipython",
    "version": 2
   },
   "file_extension": ".py",
   "mimetype": "text/x-python",
   "name": "python",
   "nbconvert_exporter": "python",
   "pygments_lexer": "ipython2",
   "version": "2.7.12"
  }
 },
 "nbformat": 4,
 "nbformat_minor": 0
}
