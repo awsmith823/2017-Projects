{
 "cells": [
  {
   "cell_type": "markdown",
   "metadata": {},
   "source": [
    "### Background\n",
    "\n",
    "The Garífuna are a mix of West/Central African, Arawak, and Carib ancestry. Garifuna is a language widely spoken in villages of Garifuna people on the coasts of Central America. Today, the global population of Garifunas stands at upwards of **300,000** people, many of whom live in the U.S. and Canada.\n",
    "\n",
    "This project an attempt at language preservation by:\n",
    "1. Digitizing existing physical dictionaries (**Tesseract OCR** – Optical Character Recognition)\n",
    "2. Building a \"flexible\" Search Engine (**Whoosh**)\n",
    "> When exact matches are not found, the search engine should return suggestions"
   ]
  },
  {
   "cell_type": "code",
   "execution_count": 1,
   "metadata": {},
   "outputs": [],
   "source": [
    "# Install packages\n",
    "import os\n",
    "import pandas as pd\n",
    "# constants\n",
    "import settings"
   ]
  },
  {
   "cell_type": "markdown",
   "metadata": {},
   "source": [
    "### Extract Text From Images (Batch)"
   ]
  },
  {
   "cell_type": "code",
   "execution_count": 2,
   "metadata": {},
   "outputs": [],
   "source": [
    "# run script from CLI\n",
    "! python3 batch_ocr.py"
   ]
  },
  {
   "cell_type": "code",
   "execution_count": 3,
   "metadata": {},
   "outputs": [
    {
     "data": {
      "text/html": [
       "<div>\n",
       "<style scoped>\n",
       "    .dataframe tbody tr th:only-of-type {\n",
       "        vertical-align: middle;\n",
       "    }\n",
       "\n",
       "    .dataframe tbody tr th {\n",
       "        vertical-align: top;\n",
       "    }\n",
       "\n",
       "    .dataframe thead th {\n",
       "        text-align: right;\n",
       "    }\n",
       "</style>\n",
       "<table border=\"1\" class=\"dataframe\">\n",
       "  <thead>\n",
       "    <tr style=\"text-align: right;\">\n",
       "      <th></th>\n",
       "      <th>English</th>\n",
       "      <th>Garifuna</th>\n",
       "      <th>Spanish</th>\n",
       "    </tr>\n",
       "  </thead>\n",
       "  <tbody>\n",
       "    <tr>\n",
       "      <th>0</th>\n",
       "      <td>chaotic, adj</td>\n",
       "      <td>urouhabuti (u-rou-ha-bu-ti), adj</td>\n",
       "      <td>caotico, adj</td>\n",
       "    </tr>\n",
       "    <tr>\n",
       "      <th>1</th>\n",
       "      <td>chapel, n</td>\n",
       "      <td>ligilisi (li-gi-li-si), n</td>\n",
       "      <td>capilla, n</td>\n",
       "    </tr>\n",
       "    <tr>\n",
       "      <th>2</th>\n",
       "      <td>character, n</td>\n",
       "      <td>usa (u-sa), n</td>\n",
       "      <td>caracter, n</td>\n",
       "    </tr>\n",
       "    <tr>\n",
       "      <th>3</th>\n",
       "      <td>characteristic, n</td>\n",
       "      <td>luruyeri (lu-ru-ye-ri), n</td>\n",
       "      <td>caracteristica, n</td>\n",
       "    </tr>\n",
       "    <tr>\n",
       "      <th>4</th>\n",
       "      <td>charancaco, n</td>\n",
       "      <td>wagagan (wa-ga-gan), n</td>\n",
       "      <td>charancaco, n</td>\n",
       "    </tr>\n",
       "  </tbody>\n",
       "</table>\n",
       "</div>"
      ],
      "text/plain": [
       "             English                          Garifuna            Spanish\n",
       "0       chaotic, adj  urouhabuti (u-rou-ha-bu-ti), adj       caotico, adj\n",
       "1          chapel, n         ligilisi (li-gi-li-si), n         capilla, n\n",
       "2       character, n                     usa (u-sa), n        caracter, n\n",
       "3  characteristic, n         luruyeri (lu-ru-ye-ri), n  caracteristica, n\n",
       "4      charancaco, n            wagagan (wa-ga-gan), n      charancaco, n"
      ]
     },
     "execution_count": 3,
     "metadata": {},
     "output_type": "execute_result"
    }
   ],
   "source": [
    "# read in DataFrame\n",
    "data = pd.read_csv(\n",
    "    os.path.join(settings.DIR_DATA, settings.DATA_FNAME_SEP_TUP[0]), \n",
    "    sep=settings.DATA_FNAME_SEP_TUP[1],\n",
    ")\n",
    "\n",
    "data.head()"
   ]
  },
  {
   "cell_type": "markdown",
   "metadata": {},
   "source": [
    "### Populate Whoosh Search Engine"
   ]
  },
  {
   "cell_type": "code",
   "execution_count": 4,
   "metadata": {},
   "outputs": [],
   "source": [
    "# from CLI\n",
    "! python3 create_and_load_schema_ix.py"
   ]
  },
  {
   "cell_type": "code",
   "execution_count": 5,
   "metadata": {},
   "outputs": [],
   "source": [
    "from whoosh.index import open_dir"
   ]
  },
  {
   "cell_type": "code",
   "execution_count": 6,
   "metadata": {},
   "outputs": [
    {
     "data": {
      "text/plain": [
       "['chaotic, adj | urouhabuti (u-rou-ha-bu-ti), adj | caotico, adj',\n",
       " 'chapel, n | ligilisi (li-gi-li-si), n | capilla, n',\n",
       " 'character, n | usa (u-sa), n | caracter, n',\n",
       " 'characteristic, n | luruyeri (lu-ru-ye-ri), n | caracteristica, n',\n",
       " 'charancaco, n | wagagan (wa-ga-gan), n | charancaco, n']"
      ]
     },
     "execution_count": 6,
     "metadata": {},
     "output_type": "execute_result"
    }
   ],
   "source": [
    "# get schema index\n",
    "ix = open_dir(settings.DIR_SCHEMA)\n",
    "\n",
    "# get all docs (generator)\n",
    "all_docs = ix.searcher().documents() \n",
    "# list\n",
    "dict_output = [doc[\"output\"] for doc in all_docs]\n",
    "dict_output[:5]"
   ]
  },
  {
   "cell_type": "markdown",
   "metadata": {},
   "source": [
    "### SEARCH"
   ]
  },
  {
   "cell_type": "code",
   "execution_count": 7,
   "metadata": {},
   "outputs": [
    {
     "name": "stdout",
     "output_type": "stream",
     "text": [
      "    English            Garifuna       Spanish\r\n",
      "0  child, n  irahd (i-ra-hu), n  nifio (a), n\r\n",
      "1  child, n  irahd (i-ra-hu), n      nifio, n\r\n"
     ]
    }
   ],
   "source": [
    "# Example 1: Successful search\n",
    "! python3 translator.py --t \"child\" --lang \"english\""
   ]
  },
  {
   "cell_type": "code",
   "execution_count": 8,
   "metadata": {},
   "outputs": [
    {
     "name": "stdout",
     "output_type": "stream",
     "text": [
      "No search results found for: 'chil'\r\n",
      "\r\n",
      "Try:\r\n",
      "- 'child'\r\n",
      "- 'chili'\r\n",
      "- 'chill'\r\n",
      "- 'chin'\r\n",
      "- 'chip'\r\n"
     ]
    }
   ],
   "source": [
    "# Example 2: Unsuccesful Search – Suggestions\n",
    "! python3 translator.py --t \"chil\" --lang \"english\""
   ]
  },
  {
   "cell_type": "code",
   "execution_count": 9,
   "metadata": {},
   "outputs": [
    {
     "name": "stdout",
     "output_type": "stream",
     "text": [
      "supported language(s): ['english', 'garifuna', 'spanish']\r\n"
     ]
    }
   ],
   "source": [
    "# Example 3: Incorrect Language\n",
    "! python3 translator.py --t \"chil\" --lang \"\""
   ]
  },
  {
   "cell_type": "code",
   "execution_count": 10,
   "metadata": {},
   "outputs": [
    {
     "name": "stdout",
     "output_type": "stream",
     "text": [
      "No search results found for: an\r\n"
     ]
    }
   ],
   "source": [
    "# Example 3: Nothing Found\n",
    "! python3 translator.py --t \"an\" --lang \"english\""
   ]
  }
 ],
 "metadata": {
  "kernelspec": {
   "display_name": "Python 3",
   "language": "python",
   "name": "python3"
  },
  "language_info": {
   "codemirror_mode": {
    "name": "ipython",
    "version": 3
   },
   "file_extension": ".py",
   "mimetype": "text/x-python",
   "name": "python",
   "nbconvert_exporter": "python",
   "pygments_lexer": "ipython3",
   "version": "3.7.7"
  }
 },
 "nbformat": 4,
 "nbformat_minor": 4
}
