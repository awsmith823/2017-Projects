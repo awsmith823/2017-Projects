{
 "cells": [
  {
   "cell_type": "markdown",
   "metadata": {},
   "source": [
    "#### TASK: Parse XML dump and write info to a dataframe\n",
    "_In this notebook we extract chemical data from an XML dump (scrapped from Wikipedia) and store it in a more usable format (e.g DataFrame, Dictionary)._ Structually we want to go from:\n",
    "\n",
    "> **&lt;title>** Sodium chloride **<\\title>**\n",
    ">\n",
    "> **&lt;text>** _Seciton1={{Chembox Identifiers [...] Section8={{Chembox Related_ **<\\text>**\n",
    "\n",
    "_to:_\n",
    "> chemical formula, property, value, units \n",
    ">\n",
    "> [ (NaCl, Molar mass, 58.44, g mol^-1) , (NaCl, Density, 2.17, g cm^-3) , etc... ]\n",
    "\n",
    "#### STEPS\n",
    "\n",
    "    For each Chemical in XML File:\n",
    "    * Store the chemical name\n",
    "    * Identify the sections in the chemical text\n",
    "    * Extract each section's text \n",
    "    * Extract and store the info from each section's text\n",
    "    * If section2, do something hackey to extract chemical formula and store\n",
    "    * Clean! Clean! Clean!"
   ]
  },
  {
   "cell_type": "code",
   "execution_count": 1,
   "metadata": {},
   "outputs": [],
   "source": [
    "import re\n",
    "import csv\n",
    "import json\n",
    "import pandas as pd\n",
    "\n",
    "from process_chembox_xml import chemical_dict_to_csv, parse_xml_get_elements\n",
    "from chembox import ChemBox"
   ]
  },
  {
   "cell_type": "markdown",
   "metadata": {},
   "source": [
    "### Read in the XML File\n",
    "\n",
    "> _Store (Chemical, DOM Element) in dictionary_\n",
    ">\n",
    "> _The Document Object Model (DOM): The DOM is a standard tree representation for XML data._"
   ]
  },
  {
   "cell_type": "code",
   "execution_count": 2,
   "metadata": {},
   "outputs": [],
   "source": [
    "FILE_NAME_IN = 'data/wiki_chembox.xml'\n",
    "FILE_NAME_OUT_CSV = 'data/chembox_data.csv'\n",
    "FILE_NAME_OUT_JSON = 'data/chembox_data.json'"
   ]
  },
  {
   "cell_type": "code",
   "execution_count": 3,
   "metadata": {},
   "outputs": [
    {
     "name": "stdout",
     "output_type": "stream",
     "text": [
      "Sample\n"
     ]
    },
    {
     "data": {
      "text/plain": [
       "{'Aluminium antimonide': <DOM Element: text at 0x11a576b90>,\n",
       " 'Aluminium arsenate': <DOM Element: text at 0x11a57c690>,\n",
       " 'Aluminium arsenide': <DOM Element: text at 0x11a580190>}"
      ]
     },
     "execution_count": 3,
     "metadata": {},
     "output_type": "execute_result"
    }
   ],
   "source": [
    "# Parse the file\n",
    "chembox_dict = parse_xml_get_elements(FILE_NAME_IN)\n",
    "\n",
    "print('Sample')\n",
    "dict(list(chembox_dict.items())[:3])"
   ]
  },
  {
   "cell_type": "markdown",
   "metadata": {},
   "source": [
    "### Extract Chemical Properties (Iteratively)"
   ]
  },
  {
   "cell_type": "code",
   "execution_count": 4,
   "metadata": {},
   "outputs": [],
   "source": [
    "# Iterate through chemical names and \n",
    "# extract their data\n",
    "for chemical in chembox_dict.keys():\n",
    "    \n",
    "    dom_element = chembox_dict[chemical]\n",
    "    \n",
    "    # Instantiate class\n",
    "    chembox = ChemBox(\n",
    "        chemical_dom_element = dom_element\n",
    "    )\n",
    "    \n",
    "    # Store chemical data in dict\n",
    "    chembox_dict[chemical] = chembox.get_chemical_data()"
   ]
  },
  {
   "cell_type": "code",
   "execution_count": 5,
   "metadata": {},
   "outputs": [
    {
     "name": "stdout",
     "output_type": "stream",
     "text": [
      "674 chemicals in this dataset\n",
      "117 have no available data\n"
     ]
    }
   ],
   "source": [
    "# Summarize data\n",
    "null_data = []\n",
    "for k, v in chembox_dict.items():\n",
    "    if not v:\n",
    "        null_data.append(k)\n",
    "\n",
    "summary_str = '{:,} chemicals in this dataset\\n{:,} have no available data'\n",
    "print(summary_str.format(len(chembox_dict), len(null_data)))"
   ]
  },
  {
   "cell_type": "markdown",
   "metadata": {},
   "source": [
    "_**Sample from XML (Some properties are listed without values)**_"
   ]
  },
  {
   "cell_type": "code",
   "execution_count": 6,
   "metadata": {},
   "outputs": [
    {
     "name": "stdout",
     "output_type": "stream",
     "text": [
      "{{chembox\n",
      "| Verifiedfields = changed\n",
      "| Watchedfields = changed\n",
      "| verifiedrevid = 470637657\n",
      "| Name = Zirconium(IV) tungstate\n",
      "| ImageFile = ZrW2O8 opaque polyhedra.svg\n",
      "| ImageName = Zirconium(IV) tungstate\n",
      "| OtherNames = zirconium tungsten oxide\n",
      "|Section1={{Chembox Identifiers\n",
      "| CASNo_Ref = {{cascite|changed|??}}\n",
      "| CASNo = 16853-74-0\n",
      "  }}\n",
      "|Section2={{Chembox Properties\n",
      "| Formula = Zr(WO<sub>4</sub>)<sub>2</sub>\n",
      "| MolarMass = 586.92 g/mol\n",
      "| Appearance = white powder\n",
      "| Density = 5.09 g/cm<sup>3</sup>, solid\n",
      "| Solubility = negligible\n",
      "| MeltingPt = \n",
      "| BoilingPt = \n",
      "  }}\n",
      "|Section7={{Chembox Hazards\n",
      "| ExternalSDS = [https://web.archive.org/web/20100201192127/http://www.espi-metals.com/msds's/zirconiumtungstate.pdf MSDS]\n",
      "| EUClass = not listed\n",
      "| NFPA-H = 2\n",
      "| NFPA-R = 0\n",
      "| NFPA-F = 0\n",
      "  }}\n",
      "}}\n",
      "\n",
      "'''Zirconium tungstate''' ({{Zirconium}}({{Tungsten}}{{Oxygen|4}})<sub>2</sub>) is a metal [[oxide]] with unusual properties. The phase formed at ambient pressure by reaction of [[zirconia|ZrO<sub>2</sub>]] and [[tungsten oxide|WO<sub>3</sub>]] is a [[metastable]] [[cubic phase]], which has ''[[negative thermal expansion]]'' characteristics, namely it shrinks over a wide range of temperatures when heated.<ref>{{cite journal|title=Negative Thermal Expansi\n"
     ]
    }
   ],
   "source": [
    "print(chembox.get_text_data_from_element_TagName()[:1_250])"
   ]
  },
  {
   "cell_type": "markdown",
   "metadata": {},
   "source": [
    "_**Taking the data and storing it in the dictionary (see below) makes it much easier to use**_"
   ]
  },
  {
   "cell_type": "code",
   "execution_count": 7,
   "metadata": {},
   "outputs": [
    {
     "name": "stdout",
     "output_type": "stream",
     "text": [
      "Zirconium tungstate \n",
      " ---------------\n"
     ]
    },
    {
     "data": {
      "text/plain": [
       "{'CASNo_Ref': {'Value': '{{cascite|changed|??}}'},\n",
       " 'CASNo': {'Value': '16853-74-0'},\n",
       " 'Formula': 'Zr(WO4)2',\n",
       " 'MolarMass': {'Value': '586.92', 'Unit': 'g/mol'},\n",
       " 'Appearance': {'Value': 'white powder'},\n",
       " 'Density': {'Value': '5.09', 'Unit': 'g/cm3, solid'},\n",
       " 'Solubility': {'Value': 'negligible'},\n",
       " 'ExternalSDS': {'Value': \"[https://web.archive.org/web/20100201192127/http://www.espi-metals.com/msds's/zirconiumtungstate.pdf MSDS]\"},\n",
       " 'EUClass': {'Value': 'not listed'},\n",
       " 'NFPA-H': {'Value': '2'},\n",
       " 'NFPA-R': {'Value': '0'},\n",
       " 'NFPA-F': {'Value': '0'}}"
      ]
     },
     "execution_count": 7,
     "metadata": {},
     "output_type": "execute_result"
    }
   ],
   "source": [
    "print(chemical, '\\n', 15*'-')\n",
    "chembox_dict[chemical]"
   ]
  },
  {
   "cell_type": "markdown",
   "metadata": {},
   "source": [
    "_**We can also store the data in a csv / DataFrame (see below)**_"
   ]
  },
  {
   "cell_type": "code",
   "execution_count": 8,
   "metadata": {},
   "outputs": [],
   "source": [
    "# Save data to csv\n",
    "chemical_dict_to_csv(\n",
    "    chemDict = chembox_dict,\n",
    "    filename = FILE_NAME_OUT_CSV,\n",
    ")\n",
    "\n",
    "# Save data as json\n",
    "with open(FILE_NAME_OUT_JSON, 'w') as f:\n",
    "    json.dump(chembox_dict, f, indent=4, sort_keys=True)"
   ]
  },
  {
   "cell_type": "code",
   "execution_count": 9,
   "metadata": {},
   "outputs": [
    {
     "data": {
      "text/html": [
       "<div>\n",
       "<style scoped>\n",
       "    .dataframe tbody tr th:only-of-type {\n",
       "        vertical-align: middle;\n",
       "    }\n",
       "\n",
       "    .dataframe tbody tr th {\n",
       "        vertical-align: top;\n",
       "    }\n",
       "\n",
       "    .dataframe thead th {\n",
       "        text-align: right;\n",
       "    }\n",
       "</style>\n",
       "<table border=\"1\" class=\"dataframe\">\n",
       "  <thead>\n",
       "    <tr style=\"text-align: right;\">\n",
       "      <th></th>\n",
       "      <th>Name</th>\n",
       "      <th>Formula</th>\n",
       "      <th>Property</th>\n",
       "      <th>Value</th>\n",
       "      <th>Unit</th>\n",
       "    </tr>\n",
       "  </thead>\n",
       "  <tbody>\n",
       "    <tr>\n",
       "      <th>110</th>\n",
       "      <td>Disulfur dichloride</td>\n",
       "      <td>S2Cl2</td>\n",
       "      <td>MeltingPtC</td>\n",
       "      <td>−80</td>\n",
       "      <td>NaN</td>\n",
       "    </tr>\n",
       "    <tr>\n",
       "      <th>25</th>\n",
       "      <td>Sodium thiocyanate</td>\n",
       "      <td>NaSCN</td>\n",
       "      <td>MolarMass</td>\n",
       "      <td>81.072</td>\n",
       "      <td>g/mol</td>\n",
       "    </tr>\n",
       "    <tr>\n",
       "      <th>70</th>\n",
       "      <td>Perchloric acid</td>\n",
       "      <td>HClO4</td>\n",
       "      <td>MeltingPtC</td>\n",
       "      <td>-17</td>\n",
       "      <td>NaN</td>\n",
       "    </tr>\n",
       "    <tr>\n",
       "      <th>14</th>\n",
       "      <td>Sodium thiocyanate</td>\n",
       "      <td>NaSCN</td>\n",
       "      <td>SMILES</td>\n",
       "      <td>[Na+].[S-]C#N</td>\n",
       "      <td>NaN</td>\n",
       "    </tr>\n",
       "    <tr>\n",
       "      <th>53</th>\n",
       "      <td>Perchloric acid</td>\n",
       "      <td>HClO4</td>\n",
       "      <td>SMILES</td>\n",
       "      <td>OCl(=O)(=O)=O</td>\n",
       "      <td>NaN</td>\n",
       "    </tr>\n",
       "    <tr>\n",
       "      <th>68</th>\n",
       "      <td>Perchloric acid</td>\n",
       "      <td>HClO4</td>\n",
       "      <td>Density</td>\n",
       "      <td>1.768</td>\n",
       "      <td>g/cm3</td>\n",
       "    </tr>\n",
       "    <tr>\n",
       "      <th>108</th>\n",
       "      <td>Disulfur dichloride</td>\n",
       "      <td>S2Cl2</td>\n",
       "      <td>MolarMass</td>\n",
       "      <td>135.04&amp;nbsp;g/mol</td>\n",
       "      <td>NaN</td>\n",
       "    </tr>\n",
       "    <tr>\n",
       "      <th>28</th>\n",
       "      <td>Sodium thiocyanate</td>\n",
       "      <td>NaSCN</td>\n",
       "      <td>MeltingPtC</td>\n",
       "      <td>287</td>\n",
       "      <td>NaN</td>\n",
       "    </tr>\n",
       "    <tr>\n",
       "      <th>111</th>\n",
       "      <td>Disulfur dichloride</td>\n",
       "      <td>S2Cl2</td>\n",
       "      <td>BoilingPtC</td>\n",
       "      <td>137.1</td>\n",
       "      <td>NaN</td>\n",
       "    </tr>\n",
       "    <tr>\n",
       "      <th>72</th>\n",
       "      <td>Perchloric acid</td>\n",
       "      <td>HClO4</td>\n",
       "      <td>BoilingPtC</td>\n",
       "      <td>203</td>\n",
       "      <td>NaN</td>\n",
       "    </tr>\n",
       "    <tr>\n",
       "      <th>27</th>\n",
       "      <td>Sodium thiocyanate</td>\n",
       "      <td>NaSCN</td>\n",
       "      <td>Density</td>\n",
       "      <td>1.735</td>\n",
       "      <td>g/cm3</td>\n",
       "    </tr>\n",
       "    <tr>\n",
       "      <th>65</th>\n",
       "      <td>Perchloric acid</td>\n",
       "      <td>HClO4</td>\n",
       "      <td>MolarMass</td>\n",
       "      <td>100.46</td>\n",
       "      <td>g/mol</td>\n",
       "    </tr>\n",
       "    <tr>\n",
       "      <th>105</th>\n",
       "      <td>Disulfur dichloride</td>\n",
       "      <td>S2Cl2</td>\n",
       "      <td>SMILES</td>\n",
       "      <td>ClSSCl</td>\n",
       "      <td>NaN</td>\n",
       "    </tr>\n",
       "    <tr>\n",
       "      <th>113</th>\n",
       "      <td>Disulfur dichloride</td>\n",
       "      <td>S2Cl2</td>\n",
       "      <td>VaporPressure</td>\n",
       "      <td>7</td>\n",
       "      <td>mmHg (20&amp;nbsp;°C)</td>\n",
       "    </tr>\n",
       "    <tr>\n",
       "      <th>29</th>\n",
       "      <td>Sodium thiocyanate</td>\n",
       "      <td>NaSCN</td>\n",
       "      <td>BoilingPtC</td>\n",
       "      <td>307</td>\n",
       "      <td>NaN</td>\n",
       "    </tr>\n",
       "  </tbody>\n",
       "</table>\n",
       "</div>"
      ],
      "text/plain": [
       "                    Name Formula       Property              Value  \\\n",
       "110  Disulfur dichloride   S2Cl2     MeltingPtC                −80   \n",
       "25    Sodium thiocyanate   NaSCN      MolarMass             81.072   \n",
       "70       Perchloric acid   HClO4     MeltingPtC                -17   \n",
       "14    Sodium thiocyanate   NaSCN         SMILES      [Na+].[S-]C#N   \n",
       "53       Perchloric acid   HClO4         SMILES      OCl(=O)(=O)=O   \n",
       "68       Perchloric acid   HClO4        Density              1.768   \n",
       "108  Disulfur dichloride   S2Cl2      MolarMass  135.04&nbsp;g/mol   \n",
       "28    Sodium thiocyanate   NaSCN     MeltingPtC                287   \n",
       "111  Disulfur dichloride   S2Cl2     BoilingPtC              137.1   \n",
       "72       Perchloric acid   HClO4     BoilingPtC                203   \n",
       "27    Sodium thiocyanate   NaSCN        Density              1.735   \n",
       "65       Perchloric acid   HClO4      MolarMass             100.46   \n",
       "105  Disulfur dichloride   S2Cl2         SMILES             ClSSCl   \n",
       "113  Disulfur dichloride   S2Cl2  VaporPressure                  7   \n",
       "29    Sodium thiocyanate   NaSCN     BoilingPtC                307   \n",
       "\n",
       "                  Unit  \n",
       "110                NaN  \n",
       "25               g/mol  \n",
       "70                 NaN  \n",
       "14                 NaN  \n",
       "53                 NaN  \n",
       "68               g/cm3  \n",
       "108                NaN  \n",
       "28                 NaN  \n",
       "111                NaN  \n",
       "72                 NaN  \n",
       "27               g/cm3  \n",
       "65               g/mol  \n",
       "105                NaN  \n",
       "113  mmHg (20&nbsp;°C)  \n",
       "29                 NaN  "
      ]
     },
     "execution_count": 9,
     "metadata": {},
     "output_type": "execute_result"
    }
   ],
   "source": [
    "df = pd.read_csv('sample_chembox_data.csv')\n",
    "\n",
    "# Sample Data\n",
    "sample_props = [\n",
    "    'BoilingPtC',\n",
    "    'DeltaHf',\n",
    "    'Density',\n",
    "    'Entropy',\n",
    "    'MeltingPtC',\n",
    "    'MolarMass',\n",
    "    'SMILES',\n",
    "    'VaporPressure',\n",
    "]\n",
    "\n",
    "df[df['Property'].isin(sample_props)].sample(15)"
   ]
  }
 ],
 "metadata": {
  "anaconda-cloud": {},
  "kernelspec": {
   "display_name": "Python 3",
   "language": "python",
   "name": "python3"
  },
  "language_info": {
   "codemirror_mode": {
    "name": "ipython",
    "version": 3
   },
   "file_extension": ".py",
   "mimetype": "text/x-python",
   "name": "python",
   "nbconvert_exporter": "python",
   "pygments_lexer": "ipython3",
   "version": "3.7.4"
  }
 },
 "nbformat": 4,
 "nbformat_minor": 2
}
