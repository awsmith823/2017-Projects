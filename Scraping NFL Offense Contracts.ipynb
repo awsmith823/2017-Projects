{
 "cells": [
  {
   "cell_type": "markdown",
   "metadata": {},
   "source": [
    "_Scraping NFL offense contract data_"
   ]
  },
  {
   "cell_type": "code",
   "execution_count": 1,
   "metadata": {
    "collapsed": true
   },
   "outputs": [],
   "source": [
    "# PREPARE REQUIRED LIBRARIES\n",
    "from scrapy.selector import Selector\n",
    "from scrapy.http import HtmlResponse\n",
    "from bs4 import BeautifulSoup\n",
    "import requests\n",
    "\n",
    "import pandas as pd\n",
    "import numpy as np\n",
    "import matplotlib.pyplot as plt\n",
    "%config InlineBackend.figure_format = 'retina'"
   ]
  },
  {
   "cell_type": "code",
   "execution_count": 2,
   "metadata": {
    "collapsed": false
   },
   "outputs": [
    {
     "data": {
      "text/plain": [
       "<Response [200]>"
      ]
     },
     "execution_count": 2,
     "metadata": {},
     "output_type": "execute_result"
    }
   ],
   "source": [
    "# URL & REQUEST\n",
    "url = 'http://www.spotrac.com/nfl/contracts/offense'\n",
    "response = requests.get(url)\n",
    "response"
   ]
  },
  {
   "cell_type": "code",
   "execution_count": 3,
   "metadata": {
    "collapsed": true
   },
   "outputs": [],
   "source": [
    "# # XPATH AND EXTRACT\n",
    "\n",
    "header = ['PLAYER', 'POS', 'TEAM', 'AGE', 'YRS', 'DOLLARS', 'AVERAGE', \n",
    "          'GUARANTEED AT SIGNING', 'PRACTICAL GUARANTEES', '% GTEED', 'FREE AGENT']\n",
    "\n",
    "xpath_expression = \"//td[@class='player']/a/text()\"\n",
    "players = Selector(text=response.text).xpath(xpath_expression).extract()\n",
    "\n",
    "xpath_expression = \"//td[@class='center small'][1]/text()\"\n",
    "position = Selector(text=response.text).xpath(xpath_expression).extract()\n",
    "\n",
    "xpath_expression = \"//td[@class='center small'][2]/text()\"\n",
    "team = Selector(text=response.text).xpath(xpath_expression).extract()\n",
    "\n",
    "xpath_expression = \"//td[@class='center small xs-hide']/text()\"\n",
    "age = Selector(text=response.text).xpath(xpath_expression).extract()\n",
    "\n",
    "xpath_expression = \"//td[@class='center small'][3]/text()\"\n",
    "years = Selector(text=response.text).xpath(xpath_expression).extract()\n",
    "\n",
    "xpath_expression = \"//td[@class='right']/span[@class='cap']/text()\"\n",
    "dollars = Selector(text=response.text).xpath(xpath_expression).extract()\n",
    "\n",
    "xpath_expression = \"//td[@class='right xs-hide'][1]/text()\"\n",
    "average = Selector(text=response.text).xpath(xpath_expression).extract()\n",
    "\n",
    "xpath_expression = \"//td[@class='right xs-hide'][2]/text()\"\n",
    "guaranteed_sign = Selector(text=response.text).xpath(xpath_expression).extract()\n",
    "\n",
    "xpath_expression = \"//td[@class='right xs-hide'][3]/text()\"\n",
    "guaranteed_pract = Selector(text=response.text).xpath(xpath_expression).extract()\n",
    "\n",
    "xpath_expression = \"//td[@class='center xs-hide'][1]/text()\"\n",
    "prcnt_guaranteed = Selector(text=response.text).xpath(xpath_expression).extract()\n",
    "\n",
    "xpath_expression = \"//td[@class='center xs-hide'][2]/text()\"\n",
    "free_agent_yr = Selector(text=response.text).xpath(xpath_expression).extract()"
   ]
  },
  {
   "cell_type": "code",
   "execution_count": 4,
   "metadata": {
    "collapsed": false
   },
   "outputs": [
    {
     "data": {
      "text/html": [
       "<div>\n",
       "<table border=\"1\" class=\"dataframe\">\n",
       "  <thead>\n",
       "    <tr style=\"text-align: right;\">\n",
       "      <th></th>\n",
       "      <th>PLAYER</th>\n",
       "      <th>POS</th>\n",
       "      <th>TEAM</th>\n",
       "      <th>AGE</th>\n",
       "      <th>YRS</th>\n",
       "      <th>DOLLARS</th>\n",
       "      <th>AVERAGE</th>\n",
       "      <th>GUARANTEED AT SIGNING</th>\n",
       "      <th>PRACTICAL GUARANTEES</th>\n",
       "      <th>% GTEED</th>\n",
       "      <th>FREE AGENT</th>\n",
       "    </tr>\n",
       "  </thead>\n",
       "  <tbody>\n",
       "    <tr>\n",
       "      <th>0</th>\n",
       "      <td>Andrew Luck</td>\n",
       "      <td>QB</td>\n",
       "      <td>IND</td>\n",
       "      <td>27</td>\n",
       "      <td>5</td>\n",
       "      <td>$122,970,000</td>\n",
       "      <td>$24,594,000</td>\n",
       "      <td>$44,000,000</td>\n",
       "      <td>$87,000,000</td>\n",
       "      <td>70.75%</td>\n",
       "      <td>2022</td>\n",
       "    </tr>\n",
       "    <tr>\n",
       "      <th>1</th>\n",
       "      <td>Aaron Rodgers</td>\n",
       "      <td>QB</td>\n",
       "      <td>GB</td>\n",
       "      <td>33</td>\n",
       "      <td>5</td>\n",
       "      <td>$110,000,000</td>\n",
       "      <td>$22,000,000</td>\n",
       "      <td>$33,250,000</td>\n",
       "      <td>$54,000,000</td>\n",
       "      <td>49.09%</td>\n",
       "      <td>2020</td>\n",
       "    </tr>\n",
       "    <tr>\n",
       "      <th>2</th>\n",
       "      <td>Cam Newton</td>\n",
       "      <td>QB</td>\n",
       "      <td>CAR</td>\n",
       "      <td>27</td>\n",
       "      <td>5</td>\n",
       "      <td>$103,800,000</td>\n",
       "      <td>$20,760,000</td>\n",
       "      <td>$41,000,000</td>\n",
       "      <td>$60,000,000</td>\n",
       "      <td>57.80%</td>\n",
       "      <td>2021</td>\n",
       "    </tr>\n",
       "    <tr>\n",
       "      <th>3</th>\n",
       "      <td>Matt Ryan</td>\n",
       "      <td>QB</td>\n",
       "      <td>ATL</td>\n",
       "      <td>31</td>\n",
       "      <td>5</td>\n",
       "      <td>$103,750,000</td>\n",
       "      <td>$20,750,000</td>\n",
       "      <td>$30,000,000</td>\n",
       "      <td>$42,000,000</td>\n",
       "      <td>40.48%</td>\n",
       "      <td>2019</td>\n",
       "    </tr>\n",
       "    <tr>\n",
       "      <th>4</th>\n",
       "      <td>Tyron Smith</td>\n",
       "      <td>LT</td>\n",
       "      <td>DAL</td>\n",
       "      <td>26</td>\n",
       "      <td>8</td>\n",
       "      <td>$97,600,000</td>\n",
       "      <td>$12,200,000</td>\n",
       "      <td>$22,118,013</td>\n",
       "      <td>$22,118,013</td>\n",
       "      <td>22.66%</td>\n",
       "      <td>2024</td>\n",
       "    </tr>\n",
       "  </tbody>\n",
       "</table>\n",
       "</div>"
      ],
      "text/plain": [
       "          PLAYER POS TEAM AGE YRS       DOLLARS      AVERAGE  \\\n",
       "0    Andrew Luck  QB  IND  27   5  $122,970,000  $24,594,000   \n",
       "1  Aaron Rodgers  QB   GB  33   5  $110,000,000  $22,000,000   \n",
       "2     Cam Newton  QB  CAR  27   5  $103,800,000  $20,760,000   \n",
       "3      Matt Ryan  QB  ATL  31   5  $103,750,000  $20,750,000   \n",
       "4    Tyron Smith  LT  DAL  26   8   $97,600,000  $12,200,000   \n",
       "\n",
       "  GUARANTEED AT SIGNING PRACTICAL GUARANTEES % GTEED FREE AGENT  \n",
       "0           $44,000,000          $87,000,000  70.75%       2022  \n",
       "1           $33,250,000          $54,000,000  49.09%       2020  \n",
       "2           $41,000,000          $60,000,000  57.80%       2021  \n",
       "3           $30,000,000          $42,000,000  40.48%       2019  \n",
       "4           $22,118,013          $22,118,013  22.66%       2024  "
      ]
     },
     "execution_count": 4,
     "metadata": {},
     "output_type": "execute_result"
    }
   ],
   "source": [
    "data = zip(players, position, team, age, years, dollars, average, \n",
    "           guaranteed_sign, guaranteed_pract, prcnt_guaranteed, free_agent_yr)\n",
    "\n",
    "contract_data = pd.DataFrame(data, columns=header)\n",
    "\n",
    "contract_data.head()"
   ]
  },
  {
   "cell_type": "code",
   "execution_count": 6,
   "metadata": {
    "collapsed": false
   },
   "outputs": [
    {
     "data": {
      "text/html": [
       "<div>\n",
       "<table border=\"1\" class=\"dataframe\">\n",
       "  <thead>\n",
       "    <tr style=\"text-align: right;\">\n",
       "      <th></th>\n",
       "      <th>PLAYER</th>\n",
       "      <th>POS</th>\n",
       "      <th>TEAM</th>\n",
       "      <th>AGE</th>\n",
       "      <th>YRS</th>\n",
       "      <th>DOLLARS</th>\n",
       "      <th>AVERAGE</th>\n",
       "      <th>GUARANTEED AT SIGNING</th>\n",
       "      <th>PRACTICAL GUARANTEES</th>\n",
       "      <th>% GTEED</th>\n",
       "      <th>FREE AGENT</th>\n",
       "    </tr>\n",
       "  </thead>\n",
       "  <tbody>\n",
       "    <tr>\n",
       "      <th>1039</th>\n",
       "      <td>Herb Waters</td>\n",
       "      <td>WR</td>\n",
       "      <td>GB</td>\n",
       "      <td>24</td>\n",
       "      <td>1</td>\n",
       "      <td>$465,000</td>\n",
       "      <td>$465,000</td>\n",
       "      <td>-</td>\n",
       "      <td>-</td>\n",
       "      <td>-</td>\n",
       "      <td>2018</td>\n",
       "    </tr>\n",
       "    <tr>\n",
       "      <th>1040</th>\n",
       "      <td>C.J. Ham</td>\n",
       "      <td>RB</td>\n",
       "      <td>MIN</td>\n",
       "      <td>23</td>\n",
       "      <td>1</td>\n",
       "      <td>$450,000</td>\n",
       "      <td>$450,000</td>\n",
       "      <td>-</td>\n",
       "      <td>-</td>\n",
       "      <td>-</td>\n",
       "      <td>2019</td>\n",
       "    </tr>\n",
       "    <tr>\n",
       "      <th>1041</th>\n",
       "      <td>Brandon Cottom</td>\n",
       "      <td>RB</td>\n",
       "      <td>SEA</td>\n",
       "      <td>24</td>\n",
       "      <td>1</td>\n",
       "      <td>$450,000</td>\n",
       "      <td>$450,000</td>\n",
       "      <td>-</td>\n",
       "      <td>-</td>\n",
       "      <td>-</td>\n",
       "      <td>2018</td>\n",
       "    </tr>\n",
       "    <tr>\n",
       "      <th>1042</th>\n",
       "      <td>Maurice Harris</td>\n",
       "      <td>WR</td>\n",
       "      <td>WAS</td>\n",
       "      <td>24</td>\n",
       "      <td>1</td>\n",
       "      <td>$450,000</td>\n",
       "      <td>$450,000</td>\n",
       "      <td>-</td>\n",
       "      <td>-</td>\n",
       "      <td>-</td>\n",
       "      <td>2019</td>\n",
       "    </tr>\n",
       "    <tr>\n",
       "      <th>1043</th>\n",
       "      <td>Shane Wynn</td>\n",
       "      <td>WR</td>\n",
       "      <td>JAC</td>\n",
       "      <td>24</td>\n",
       "      <td>1</td>\n",
       "      <td>$450,000</td>\n",
       "      <td>$450,000</td>\n",
       "      <td>-</td>\n",
       "      <td>-</td>\n",
       "      <td>-</td>\n",
       "      <td>2018</td>\n",
       "    </tr>\n",
       "  </tbody>\n",
       "</table>\n",
       "</div>"
      ],
      "text/plain": [
       "              PLAYER POS TEAM AGE YRS   DOLLARS   AVERAGE  \\\n",
       "1039     Herb Waters  WR   GB  24   1  $465,000  $465,000   \n",
       "1040        C.J. Ham  RB  MIN  23   1  $450,000  $450,000   \n",
       "1041  Brandon Cottom  RB  SEA  24   1  $450,000  $450,000   \n",
       "1042  Maurice Harris  WR  WAS  24   1  $450,000  $450,000   \n",
       "1043      Shane Wynn  WR  JAC  24   1  $450,000  $450,000   \n",
       "\n",
       "     GUARANTEED AT SIGNING PRACTICAL GUARANTEES % GTEED FREE AGENT  \n",
       "1039                     -                    -       -       2018  \n",
       "1040                     -                    -       -       2019  \n",
       "1041                     -                    -       -       2018  \n",
       "1042                     -                    -       -       2019  \n",
       "1043                     -                    -       -       2018  "
      ]
     },
     "execution_count": 6,
     "metadata": {},
     "output_type": "execute_result"
    }
   ],
   "source": [
    "contract_data.tail()"
   ]
  },
  {
   "cell_type": "code",
   "execution_count": 5,
   "metadata": {
    "collapsed": false
   },
   "outputs": [
    {
     "data": {
      "text/plain": [
       "PLAYER                   object\n",
       "POS                      object\n",
       "TEAM                     object\n",
       "AGE                      object\n",
       "YRS                      object\n",
       "DOLLARS                  object\n",
       "AVERAGE                  object\n",
       "GUARANTEED AT SIGNING    object\n",
       "PRACTICAL GUARANTEES     object\n",
       "% GTEED                  object\n",
       "FREE AGENT               object\n",
       "dtype: object"
      ]
     },
     "execution_count": 5,
     "metadata": {},
     "output_type": "execute_result"
    }
   ],
   "source": [
    "contract_data.dtypes"
   ]
  },
  {
   "cell_type": "code",
   "execution_count": null,
   "metadata": {
    "collapsed": true
   },
   "outputs": [],
   "source": [
    "# contract_data.to_csv(\"2017_NFL_Contracts.csv\")"
   ]
  }
 ],
 "metadata": {
  "anaconda-cloud": {},
  "kernelspec": {
   "display_name": "Python [conda env:dsi]",
   "language": "python",
   "name": "conda-env-dsi-py"
  },
  "language_info": {
   "codemirror_mode": {
    "name": "ipython",
    "version": 2
   },
   "file_extension": ".py",
   "mimetype": "text/x-python",
   "name": "python",
   "nbconvert_exporter": "python",
   "pygments_lexer": "ipython2",
   "version": "2.7.12"
  }
 },
 "nbformat": 4,
 "nbformat_minor": 2
}
